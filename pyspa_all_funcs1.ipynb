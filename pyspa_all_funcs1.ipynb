{
  "nbformat": 4,
  "nbformat_minor": 0,
  "metadata": {
    "colab": {
      "provenance": [],
      "toc_visible": true,
      "collapsed_sections": [
        "O-WJsl1ipJeV",
        "vkLs5dzoFpPQ"
      ]
    },
    "kernelspec": {
      "name": "python3",
      "display_name": "Python 3"
    },
    "language_info": {
      "name": "python"
    }
  },
  "cells": [
    {
      "cell_type": "markdown",
      "source": [
        "# 1-createDataFrame()\n",
        "- a df is a distributed collection of data organized into named columns.\n",
        "- It is equivalent to a table in a relational database."
      ],
      "metadata": {
        "id": "G1Iiq2Ggy3lY"
      }
    },
    {
      "cell_type": "code",
      "execution_count": 8,
      "metadata": {
        "id": "AdTvbFH8kIR2",
        "colab": {
          "base_uri": "https://localhost:8080/",
          "height": 219
        },
        "outputId": "eac2b541-d569-4a8a-d31d-67348bc41d78"
      },
      "outputs": [
        {
          "output_type": "execute_result",
          "data": {
            "text/plain": [
              "<pyspark.sql.session.SparkSession at 0x7d52002750d0>"
            ],
            "text/html": [
              "\n",
              "            <div>\n",
              "                <p><b>SparkSession - in-memory</b></p>\n",
              "                \n",
              "        <div>\n",
              "            <p><b>SparkContext</b></p>\n",
              "\n",
              "            <p><a href=\"http://9ea70742e13e:4040\">Spark UI</a></p>\n",
              "\n",
              "            <dl>\n",
              "              <dt>Version</dt>\n",
              "                <dd><code>v3.1.1</code></dd>\n",
              "              <dt>Master</dt>\n",
              "                <dd><code>local[*]</code></dd>\n",
              "              <dt>AppName</dt>\n",
              "                <dd><code>read_write</code></dd>\n",
              "            </dl>\n",
              "        </div>\n",
              "        \n",
              "            </div>\n",
              "        "
            ]
          },
          "metadata": {},
          "execution_count": 8
        }
      ],
      "source": [
        "!apt-get install openjdk-8-jdk-headless -qq > /dev/null\n",
        "!wget -q http://archive.apache.org/dist/spark/spark-3.1.1/spark-3.1.1-bin-hadoop3.2.tgz\n",
        "!tar xf spark-3.1.1-bin-hadoop3.2.tgz\n",
        "!pip install -q findspark\n",
        "import os\n",
        "os.environ[\"JAVA_HOME\"] = \"/usr/lib/jvm/java-8-openjdk-amd64\"\n",
        "os.environ[\"SPARK_HOME\"] = \"/content/spark-3.1.1-bin-hadoop3.2\"\n",
        "import findspark\n",
        "findspark.init()\n",
        "from pyspark.sql import SparkSession\n",
        "spark = SparkSession.builder.appName(\"read_write\").getOrCreate()\n",
        "spark\n",
        "# some csv files, uncomment to download\n",
        "#!wget -q https://sample-videos.com/csv/Sample-Spreadsheet-1000-rows.csv\n",
        "#!wget -q https://www.stats.govt.nz/assets/Uploads/Business-operations-survey/Business-operations-survey-2022/Download-data/business-operations-survey-2022-information-and-communications-technology.csv"
      ]
    },
    {
      "cell_type": "code",
      "source": [
        "spark.version"
      ],
      "metadata": {
        "colab": {
          "base_uri": "https://localhost:8080/",
          "height": 35
        },
        "id": "gVe6M89VMo1B",
        "outputId": "a43d8314-a3d0-4e11-cc10-2c09874c4974"
      },
      "execution_count": 9,
      "outputs": [
        {
          "output_type": "execute_result",
          "data": {
            "text/plain": [
              "'3.1.1'"
            ],
            "application/vnd.google.colaboratory.intrinsic+json": {
              "type": "string"
            }
          },
          "metadata": {},
          "execution_count": 9
        }
      ]
    },
    {
      "cell_type": "code",
      "source": [
        "#/content/drive/MyDrive/ff.csv\n",
        "spark.version"
      ],
      "metadata": {
        "id": "_RwDgNUuy7YY",
        "colab": {
          "base_uri": "https://localhost:8080/",
          "height": 35
        },
        "outputId": "8fc69ec6-6890-4bac-9581-daed124ffecc"
      },
      "execution_count": 5,
      "outputs": [
        {
          "output_type": "execute_result",
          "data": {
            "text/plain": [
              "'3.1.1'"
            ],
            "application/vnd.google.colaboratory.intrinsic+json": {
              "type": "string"
            }
          },
          "metadata": {},
          "execution_count": 5
        }
      ]
    },
    {
      "cell_type": "code",
      "source": [
        "import datetime\n",
        "print(datetime)"
      ],
      "metadata": {
        "id": "3OA7oNIGKwAT"
      },
      "execution_count": null,
      "outputs": []
    },
    {
      "cell_type": "code",
      "source": [
        "from pyspark.sql import SparkSession\n",
        "from pyspark.sql.types import *\n",
        "from pyspark.sql.functions import *\n",
        "import pyspark.sql.functions as func"
      ],
      "metadata": {
        "id": "Etjn0GP9zigF"
      },
      "execution_count": null,
      "outputs": []
    },
    {
      "cell_type": "code",
      "source": [
        "#type(spark)   #pyspark.sql.session.SparkSession\n",
        "#dir(spark)  # 'dir' shows all the things we can do with spark.\n",
        "#type(spark.createDataFrame) # a method\n",
        "help(spark.createDataFrame) # use help to get info about keywords"
      ],
      "metadata": {
        "id": "wpMGCxZnN-t-"
      },
      "execution_count": null,
      "outputs": []
    },
    {
      "cell_type": "code",
      "source": [
        "!wget -q https://sample-videos.com/csv/Sample-Spreadsheet-1000-rows.csv\n",
        "!mv Sample-Spreadsheet-1000-rows.csv unk.csv # renaming it"
      ],
      "metadata": {
        "id": "cJ26bELNOizy"
      },
      "execution_count": null,
      "outputs": []
    },
    {
      "cell_type": "code",
      "source": [],
      "metadata": {
        "id": "54gt3YHoq-4j"
      },
      "execution_count": null,
      "outputs": []
    },
    {
      "cell_type": "markdown",
      "source": [
        "/content/unk.csv"
      ],
      "metadata": {
        "id": "7x9E8NMfN2Ia"
      }
    },
    {
      "cell_type": "code",
      "source": [
        "# method ((1))\n",
        "data =[(1,'hero',4.5),(2,'villain',5.0),(3,'cam',3.4)]\n",
        "schema = ['id','job','level']\n",
        "hdf = spark.createDataFrame(data=data,schema=schema)\n",
        "hdf.show()\n",
        "hdf.printSchema()"
      ],
      "metadata": {
        "colab": {
          "base_uri": "https://localhost:8080/"
        },
        "id": "jIY9A6x0SjUb",
        "outputId": "41c6c60d-3b80-49ce-9fd8-14ac7976674b"
      },
      "execution_count": null,
      "outputs": [
        {
          "output_type": "stream",
          "name": "stdout",
          "text": [
            "+---+-------+-----+\n",
            "| id|    job|level|\n",
            "+---+-------+-----+\n",
            "|  1|   hero|  4.5|\n",
            "|  2|villain|  5.0|\n",
            "|  3|    cam|  3.4|\n",
            "+---+-------+-----+\n",
            "\n",
            "root\n",
            " |-- id: long (nullable = true)\n",
            " |-- job: string (nullable = true)\n",
            " |-- level: double (nullable = true)\n",
            "\n"
          ]
        }
      ]
    },
    {
      "cell_type": "code",
      "source": [
        "# method ((2))\n",
        "dat = [\n",
        "      {'id':1,'name':'sai'},\n",
        "      {'id':2,'name':'julia'},\n",
        "      {'id':3,'name':'roani'}\n",
        "]\n",
        "ddf = spark.createDataFrame(data=dat)\n",
        "ddf.show()\n",
        "ddf.printSchema()"
      ],
      "metadata": {
        "colab": {
          "base_uri": "https://localhost:8080/"
        },
        "id": "MYrHBURvT4As",
        "outputId": "9a170563-b9c6-4689-a852-359ff76337ee"
      },
      "execution_count": null,
      "outputs": [
        {
          "output_type": "stream",
          "name": "stdout",
          "text": [
            "+---+-----+\n",
            "| id| name|\n",
            "+---+-----+\n",
            "|  1|  sai|\n",
            "|  2|julia|\n",
            "|  3|roani|\n",
            "+---+-----+\n",
            "\n",
            "root\n",
            " |-- id: long (nullable = true)\n",
            " |-- name: string (nullable = true)\n",
            "\n"
          ]
        }
      ]
    },
    {
      "cell_type": "markdown",
      "source": [
        "# read-writing data to csv file"
      ],
      "metadata": {
        "id": "Jd52sfd6ZCS-"
      }
    },
    {
      "cell_type": "code",
      "source": [
        "# method ((3))\n",
        "# creating schema (another way)\n",
        "# to use StrucType, we must import pyspark.sql.types library\n",
        "mysc = StructType([\\\n",
        "                   StructField('userid',IntegerType(),True),\n",
        "                   StructField('name',StringType(),True),\n",
        "                   StructField('age',IntegerType(),True),\n",
        "                   StructField('friends',StringType(),True),\n",
        "                   ])"
      ],
      "metadata": {
        "id": "WU65p2J60DS4"
      },
      "execution_count": null,
      "outputs": []
    },
    {
      "cell_type": "code",
      "source": [
        "# reading data from a csv file\n",
        "people = spark.read.format('csv')\\\n",
        "              .schema(mysc)\\\n",
        "              .option('path','/content/ff.csv').load()\n",
        "#or\n",
        "#peop = spark.read.csv('/content/ff.csv',header=False)\n"
      ],
      "metadata": {
        "id": "4uE4NTm31CuT"
      },
      "execution_count": null,
      "outputs": []
    },
    {
      "cell_type": "code",
      "source": [
        "p = people"
      ],
      "metadata": {
        "id": "j2beEtg51W2u"
      },
      "execution_count": null,
      "outputs": []
    },
    {
      "cell_type": "code",
      "source": [
        "o = people.select(p.userid,p.name,p.age,p.friends)\\\n",
        "          .where(p.age > 30).withColumn('insertstmp',func.current_timestamp())\\\n",
        "          .orderBy(p.userid).cache()"
      ],
      "metadata": {
        "id": "bmuLciNd1aw5"
      },
      "execution_count": null,
      "outputs": []
    },
    {
      "cell_type": "code",
      "source": [
        "o.show(6)"
      ],
      "metadata": {
        "colab": {
          "base_uri": "https://localhost:8080/"
        },
        "id": "WlpqCHSG1_od",
        "outputId": "6f56de65-d14c-44d0-b311-f4cbf4212ff3"
      },
      "execution_count": null,
      "outputs": [
        {
          "output_type": "stream",
          "name": "stdout",
          "text": [
            "+------+------+---+-------+--------------------+\n",
            "|userid|  name|age|friends|          insertstmp|\n",
            "+------+------+---+-------+--------------------+\n",
            "|     0|  Will| 33|    385|2023-10-14 11:00:...|\n",
            "|     2|  Hugh| 55|    221|2023-10-14 11:00:...|\n",
            "|     3|Deanna| 40|    465|2023-10-14 11:00:...|\n",
            "|     4| Quark| 68|     21|2023-10-14 11:00:...|\n",
            "|     5|Weyoun| 59|    318|2023-10-14 11:00:...|\n",
            "|     6|Gowron| 37|    220|2023-10-14 11:00:...|\n",
            "+------+------+---+-------+--------------------+\n",
            "only showing top 6 rows\n",
            "\n"
          ]
        }
      ]
    },
    {
      "cell_type": "code",
      "source": [
        "# now write data and creates data partition based on age for optimization\n",
        "o.write.format('orc').mode('overwrite')\\\n",
        "       .option('path','file:///content/xxyz')\\\n",
        "       .partitionBy('age').save()"
      ],
      "metadata": {
        "id": "ur9B9jsI2EXC"
      },
      "execution_count": null,
      "outputs": []
    },
    {
      "cell_type": "code",
      "source": [
        "p.createOrReplaceTempView('pp')"
      ],
      "metadata": {
        "id": "62xkT6Ln2mMC"
      },
      "execution_count": null,
      "outputs": []
    },
    {
      "cell_type": "code",
      "source": [
        "spark.sql('''select * from pp where age between 65 and 69 order by friends desc''').show()"
      ],
      "metadata": {
        "colab": {
          "base_uri": "https://localhost:8080/"
        },
        "id": "Pqt9Vs0H3JOo",
        "outputId": "3722b424-ebd7-4f40-d3c1-d3c182dcd267"
      },
      "execution_count": null,
      "outputs": [
        {
          "output_type": "stream",
          "name": "stdout",
          "text": [
            "+------+--------+---+-------+\n",
            "|userid|    name|age|friends|\n",
            "+------+--------+---+-------+\n",
            "|    62|   Keiko| 69|      9|\n",
            "|   254|    Ezri| 67|     79|\n",
            "|   116|     Ben| 69|     75|\n",
            "|   233|  Gowron| 67|     70|\n",
            "|   266|Jean-Luc| 66|    496|\n",
            "|    99|   Keiko| 69|    491|\n",
            "|   170|Jean-Luc| 68|    490|\n",
            "|   232|    Worf| 68|    481|\n",
            "|   397|   Quark| 69|    470|\n",
            "|    80|   Dukat| 67|    445|\n",
            "|   283|   Dukat| 65|    443|\n",
            "|   159|  Kasidy| 67|    438|\n",
            "|   487|   Brunt| 69|    431|\n",
            "|   365|   Brunt| 65|    430|\n",
            "|   428| Lwaxana| 68|    423|\n",
            "|   249|   Nerys| 66|     41|\n",
            "|    85|   Quark| 66|    383|\n",
            "|   396|   Keiko| 67|     38|\n",
            "|    97|   Nerys| 69|    361|\n",
            "|   384|  Martok| 67|    355|\n",
            "+------+--------+---+-------+\n",
            "only showing top 20 rows\n",
            "\n"
          ]
        }
      ]
    },
    {
      "cell_type": "markdown",
      "source": [
        "# 2-creating DataFrames\n",
        "- with explicit schema\n",
        "- wiht RDD\n",
        "- with CSV file"
      ],
      "metadata": {
        "id": "LVwwRxoeJqgk"
      }
    },
    {
      "cell_type": "code",
      "source": [
        "from datetime import datetime, date\n",
        "import pandas as pd\n",
        "from pyspark.sql import Row"
      ],
      "metadata": {
        "id": "O8m0rKQRKEPm"
      },
      "execution_count": null,
      "outputs": []
    },
    {
      "cell_type": "code",
      "source": [
        "# method ((3))\n",
        "# creating df with explicit schema and data\n",
        "edf = spark.createDataFrame([\n",
        "    (1,'sai',23,'M',date(2001,3,8),26199.23),\n",
        "    (2,'joyboy',19,'M',date(2000,9,9),1000.99),\n",
        "    (3,'sanji',28,\"M\",date(1999,8,7),16000.22)\n",
        "], schema = 'id long,name string,age long,gender string,dob date,bounty double')"
      ],
      "metadata": {
        "id": "4bQtPmPv3UlW"
      },
      "execution_count": null,
      "outputs": []
    },
    {
      "cell_type": "code",
      "source": [
        "edf.show()"
      ],
      "metadata": {
        "colab": {
          "base_uri": "https://localhost:8080/"
        },
        "id": "ox4YAAzULREj",
        "outputId": "bd6afad9-2507-406e-a53a-7dd11cc6588c"
      },
      "execution_count": null,
      "outputs": [
        {
          "output_type": "stream",
          "name": "stdout",
          "text": [
            "+---+------+---+------+----------+--------+\n",
            "| id|  name|age|gender|       dob|  bounty|\n",
            "+---+------+---+------+----------+--------+\n",
            "|  1|   sai| 23|     M|2001-03-08|26199.23|\n",
            "|  2|joyboy| 19|     M|2000-09-09| 1000.99|\n",
            "|  3| sanji| 28|     M|1999-08-07|16000.22|\n",
            "+---+------+---+------+----------+--------+\n",
            "\n"
          ]
        }
      ]
    },
    {
      "cell_type": "code",
      "source": [
        "edf.printSchema() # to see the schema structure"
      ],
      "metadata": {
        "colab": {
          "base_uri": "https://localhost:8080/"
        },
        "id": "uwkwoGCiLnYD",
        "outputId": "da97c1e0-d6e8-41bf-fd43-d40bf3ec5f05"
      },
      "execution_count": null,
      "outputs": [
        {
          "output_type": "stream",
          "name": "stdout",
          "text": [
            "root\n",
            " |-- id: long (nullable = true)\n",
            " |-- name: string (nullable = true)\n",
            " |-- age: long (nullable = true)\n",
            " |-- gender: string (nullable = true)\n",
            " |-- dob: date (nullable = true)\n",
            " |-- bounty: double (nullable = true)\n",
            "\n"
          ]
        }
      ]
    },
    {
      "cell_type": "code",
      "source": [
        "edf.dtypes # gives cols and it's datatypes"
      ],
      "metadata": {
        "colab": {
          "base_uri": "https://localhost:8080/"
        },
        "id": "MeLclJHPNXZR",
        "outputId": "78114d94-2a0e-414c-9b95-e5beee30a9fc"
      },
      "execution_count": null,
      "outputs": [
        {
          "output_type": "execute_result",
          "data": {
            "text/plain": [
              "[('id', 'int'),\n",
              " ('name', 'string'),\n",
              " ('age', 'int'),\n",
              " ('gender', 'string'),\n",
              " ('dob', 'date'),\n",
              " ('bounty', 'float')]"
            ]
          },
          "metadata": {},
          "execution_count": 41
        }
      ]
    },
    {
      "cell_type": "code",
      "source": [
        "# trying to change bigint type to int and double to floattype\n",
        "# using withColumn\n",
        "edf = edf\\\n",
        "          .withColumn('id',edf['id'].cast('integer'))\\\n",
        "          .withColumn('age',edf['age'].cast('integer'))\\\n",
        "          .withColumn('bounty',edf['bounty'].cast('float'))\\\n",
        "          .withColumn('gender',edf['gender'].cast('boolean'))\n",
        "edf.dtypes # for multiple cols and single cols\n"
      ],
      "metadata": {
        "colab": {
          "base_uri": "https://localhost:8080/"
        },
        "id": "lH8-sZtrNuBZ",
        "outputId": "63a2816d-419d-4637-ab1e-5c935b39a37b"
      },
      "execution_count": null,
      "outputs": [
        {
          "output_type": "execute_result",
          "data": {
            "text/plain": [
              "[('id', 'int'),\n",
              " ('name', 'string'),\n",
              " ('age', 'int'),\n",
              " ('gender', 'boolean'),\n",
              " ('dob', 'date'),\n",
              " ('bounty', 'float')]"
            ]
          },
          "metadata": {},
          "execution_count": 45
        }
      ]
    },
    {
      "cell_type": "code",
      "source": [
        "edf.printSchema()"
      ],
      "metadata": {
        "colab": {
          "base_uri": "https://localhost:8080/"
        },
        "id": "S1RwhnYgUtJF",
        "outputId": "736d047c-c2c5-4801-b689-e23d232ccfef"
      },
      "execution_count": null,
      "outputs": [
        {
          "output_type": "stream",
          "name": "stdout",
          "text": [
            "root\n",
            " |-- id: integer (nullable = true)\n",
            " |-- name: string (nullable = true)\n",
            " |-- age: integer (nullable = true)\n",
            " |-- gender: boolean (nullable = true)\n",
            " |-- dob: date (nullable = true)\n",
            " |-- bounty: float (nullable = true)\n",
            "\n"
          ]
        }
      ]
    },
    {
      "cell_type": "code",
      "source": [
        "edf.select('id','name').show(2)"
      ],
      "metadata": {
        "colab": {
          "base_uri": "https://localhost:8080/"
        },
        "id": "w78av3nlL7l3",
        "outputId": "40f024e4-ecdd-4561-81b9-da3e6d2019c6"
      },
      "execution_count": null,
      "outputs": [
        {
          "output_type": "stream",
          "name": "stdout",
          "text": [
            "+---+------+\n",
            "| id|  name|\n",
            "+---+------+\n",
            "|  1|   sai|\n",
            "|  2|joyboy|\n",
            "+---+------+\n",
            "only showing top 2 rows\n",
            "\n"
          ]
        }
      ]
    },
    {
      "cell_type": "code",
      "source": [
        "#- WITH RDD\n",
        "rdd = spark.sparkContext.parallelize([\n",
        "    (1, 4., 'GFG1', date(2000, 8, 1), datetime(2000, 8, 1, 12, 0)),\n",
        "    (2, 8., 'GFG2', date(2000, 6, 2), datetime(2000, 6, 2, 12, 0)),\n",
        "    (3, 5., 'GFG3', date(2000, 5, 3), datetime(2000, 5, 3, 12, 0))\n",
        "])\n",
        "rdf = spark.createDataFrame(rdd, schema=['a', 'b', 'c', 'd', 'e'])\n",
        "rdf.printSchema()"
      ],
      "metadata": {
        "colab": {
          "base_uri": "https://localhost:8080/"
        },
        "id": "VXG-Liv0MGJR",
        "outputId": "b34b2a36-d5ff-46f9-c3cf-2f180af5e1d9"
      },
      "execution_count": null,
      "outputs": [
        {
          "output_type": "stream",
          "name": "stdout",
          "text": [
            "root\n",
            " |-- a: long (nullable = true)\n",
            " |-- b: double (nullable = true)\n",
            " |-- c: string (nullable = true)\n",
            " |-- d: date (nullable = true)\n",
            " |-- e: timestamp (nullable = true)\n",
            "\n"
          ]
        }
      ]
    },
    {
      "cell_type": "code",
      "source": [
        "rdf = rdf.withColumn('b',rdf['b'].cast('float'))\\\n",
        "         .withColumn('a',rdf['a'].cast('integer'))\n",
        "rdf.printSchema()"
      ],
      "metadata": {
        "colab": {
          "base_uri": "https://localhost:8080/"
        },
        "id": "mahKjvS-MT2E",
        "outputId": "27fd946f-2763-44ec-c639-53e744d1828a"
      },
      "execution_count": null,
      "outputs": [
        {
          "output_type": "stream",
          "name": "stdout",
          "text": [
            "root\n",
            " |-- a: integer (nullable = true)\n",
            " |-- b: float (nullable = true)\n",
            " |-- c: string (nullable = true)\n",
            " |-- d: date (nullable = true)\n",
            " |-- e: timestamp (nullable = true)\n",
            "\n"
          ]
        }
      ]
    },
    {
      "cell_type": "code",
      "source": [
        "rdf.show(2)"
      ],
      "metadata": {
        "colab": {
          "base_uri": "https://localhost:8080/"
        },
        "id": "lC6CIhPanS1A",
        "outputId": "70169cb1-6828-4e03-d7d2-f89acda51d9f"
      },
      "execution_count": null,
      "outputs": [
        {
          "output_type": "stream",
          "name": "stdout",
          "text": [
            "+---+---+----+----------+-------------------+\n",
            "|  a|  b|   c|         d|                  e|\n",
            "+---+---+----+----------+-------------------+\n",
            "|  1|4.0|GFG1|2000-08-01|2000-08-01 12:00:00|\n",
            "|  2|8.0|GFG2|2000-06-02|2000-06-02 12:00:00|\n",
            "+---+---+----+----------+-------------------+\n",
            "only showing top 2 rows\n",
            "\n"
          ]
        }
      ]
    },
    {
      "cell_type": "markdown",
      "source": [
        " - with csv file creating a DF"
      ],
      "metadata": {
        "id": "Ob8EeUORYObJ"
      }
    },
    {
      "cell_type": "code",
      "source": [
        "# using sampledata provided by spark itself\n",
        "# file path - /content/sample_data/california_housing_train.csv"
      ],
      "metadata": {
        "colab": {
          "base_uri": "https://localhost:8080/"
        },
        "id": "X6JWHH9fMavG",
        "outputId": "0cc524fd-a21d-467a-d028-c37351ef8180"
      },
      "execution_count": null,
      "outputs": [
        {
          "output_type": "execute_result",
          "data": {
            "text/plain": [
              "Column<'id'>"
            ]
          },
          "metadata": {},
          "execution_count": 15
        }
      ]
    },
    {
      "cell_type": "code",
      "source": [
        "cdf = spark.createDataFrame(pd.read_csv('/content/sample_data/california_housing_train.csv'))\n",
        "cdf.printSchema()"
      ],
      "metadata": {
        "colab": {
          "base_uri": "https://localhost:8080/"
        },
        "id": "Tyv1HAE6MgNy",
        "outputId": "3262370e-1b11-4acc-a987-57857e937286"
      },
      "execution_count": null,
      "outputs": [
        {
          "output_type": "stream",
          "name": "stderr",
          "text": [
            "/content/spark-3.1.1-bin-hadoop3.2/python/pyspark/sql/pandas/conversion.py:331: FutureWarning: iteritems is deprecated and will be removed in a future version. Use .items instead.\n",
            "  for column, series in pdf.iteritems():\n"
          ]
        },
        {
          "output_type": "stream",
          "name": "stdout",
          "text": [
            "root\n",
            " |-- longitude: double (nullable = true)\n",
            " |-- latitude: double (nullable = true)\n",
            " |-- housing_median_age: double (nullable = true)\n",
            " |-- total_rooms: double (nullable = true)\n",
            " |-- total_bedrooms: double (nullable = true)\n",
            " |-- population: double (nullable = true)\n",
            " |-- households: double (nullable = true)\n",
            " |-- median_income: double (nullable = true)\n",
            " |-- median_house_value: double (nullable = true)\n",
            "\n"
          ]
        }
      ]
    },
    {
      "cell_type": "code",
      "source": [
        "cdf.show(2)"
      ],
      "metadata": {
        "colab": {
          "base_uri": "https://localhost:8080/"
        },
        "id": "EuUnjlVqY0DU",
        "outputId": "0d7744b9-4e05-4b18-f941-5f47e60fd6b7"
      },
      "execution_count": null,
      "outputs": [
        {
          "output_type": "stream",
          "name": "stdout",
          "text": [
            "+---------+--------+------------------+-----------+--------------+----------+----------+-------------+------------------+\n",
            "|longitude|latitude|housing_median_age|total_rooms|total_bedrooms|population|households|median_income|median_house_value|\n",
            "+---------+--------+------------------+-----------+--------------+----------+----------+-------------+------------------+\n",
            "|  -114.31|   34.19|              15.0|     5612.0|        1283.0|    1015.0|     472.0|       1.4936|           66900.0|\n",
            "|  -114.47|    34.4|              19.0|     7650.0|        1901.0|    1129.0|     463.0|         1.82|           80100.0|\n",
            "+---------+--------+------------------+-----------+--------------+----------+----------+-------------+------------------+\n",
            "only showing top 2 rows\n",
            "\n"
          ]
        }
      ]
    },
    {
      "cell_type": "markdown",
      "source": [
        "-  another way of reading csv files and creating a DF"
      ],
      "metadata": {
        "id": "sc3rmrPXZ06d"
      }
    },
    {
      "cell_type": "code",
      "source": [
        "ccdf = spark.read.csv('/content/sample_data/mnist_train_small.csv',header = True)\n",
        "ccdf.printSchema()"
      ],
      "metadata": {
        "id": "bFiYsszVZ38B"
      },
      "execution_count": null,
      "outputs": []
    },
    {
      "cell_type": "code",
      "source": [],
      "metadata": {
        "id": "fHg2TqUSbQkc"
      },
      "execution_count": null,
      "outputs": []
    },
    {
      "cell_type": "markdown",
      "source": [
        "# withColumn\n"
      ],
      "metadata": {
        "id": "lXXsEnQvrvVe"
      }
    },
    {
      "cell_type": "code",
      "source": [
        "# from google.colab import drive\n",
        "# drive.mount('/content/drive')"
      ],
      "metadata": {
        "id": "OESmkUlUryoS"
      },
      "execution_count": null,
      "outputs": []
    },
    {
      "cell_type": "code",
      "source": [
        "sc = ('id integer, name string, age integer, frnds integer')"
      ],
      "metadata": {
        "id": "3P-zA_1RsSIK"
      },
      "execution_count": null,
      "outputs": []
    },
    {
      "cell_type": "code",
      "source": [
        "dff = spark.read.csv('/content/drive/MyDrive/ocsv/ff.csv',schema = sc)"
      ],
      "metadata": {
        "id": "8v7RiCJ0r-yX"
      },
      "execution_count": null,
      "outputs": []
    },
    {
      "cell_type": "code",
      "source": [
        "dff.dtypes"
      ],
      "metadata": {
        "colab": {
          "base_uri": "https://localhost:8080/"
        },
        "id": "PNs2W3lrsrVp",
        "outputId": "52a14db2-988b-451a-8e38-3768c93e0f98"
      },
      "execution_count": null,
      "outputs": [
        {
          "output_type": "execute_result",
          "data": {
            "text/plain": [
              "[('id', 'int'), ('name', 'string'), ('age', 'int'), ('frnds', 'int')]"
            ]
          },
          "metadata": {},
          "execution_count": 70
        }
      ]
    },
    {
      "cell_type": "code",
      "source": [
        "dff.printSchema()\n",
        "dff.show(2)"
      ],
      "metadata": {
        "colab": {
          "base_uri": "https://localhost:8080/"
        },
        "id": "otaNIrmsstnQ",
        "outputId": "4895d082-2e20-453f-d359-1c239026da7d"
      },
      "execution_count": null,
      "outputs": [
        {
          "output_type": "stream",
          "name": "stdout",
          "text": [
            "root\n",
            " |-- id: integer (nullable = true)\n",
            " |-- name: string (nullable = true)\n",
            " |-- age: integer (nullable = true)\n",
            " |-- frnds: integer (nullable = true)\n",
            "\n",
            "+---+--------+---+-----+\n",
            "| id|    name|age|frnds|\n",
            "+---+--------+---+-----+\n",
            "|  0|    Will| 33|  385|\n",
            "|  1|Jean-Luc| 26|    2|\n",
            "+---+--------+---+-----+\n",
            "only showing top 2 rows\n",
            "\n"
          ]
        }
      ]
    },
    {
      "cell_type": "code",
      "source": [
        "# col renaming\n",
        "df1 = dff.withColumnRenamed('frnds','fcirlce')"
      ],
      "metadata": {
        "id": "FGE40X3nsxR5"
      },
      "execution_count": null,
      "outputs": []
    },
    {
      "cell_type": "code",
      "source": [
        "df1.printSchema()"
      ],
      "metadata": {
        "colab": {
          "base_uri": "https://localhost:8080/"
        },
        "id": "sF2GPz8otGv8",
        "outputId": "4f618b6e-5d8f-45fd-e528-bdea3aed0781"
      },
      "execution_count": null,
      "outputs": [
        {
          "output_type": "stream",
          "name": "stdout",
          "text": [
            "root\n",
            " |-- id: integer (nullable = true)\n",
            " |-- name: string (nullable = true)\n",
            " |-- age: integer (nullable = true)\n",
            " |-- fcirlce: integer (nullable = true)\n",
            "\n"
          ]
        }
      ]
    },
    {
      "cell_type": "code",
      "source": [
        "# adding a new column with hardcoded data into cols\n",
        "from pyspark.sql.functions import lit # lit is must\n",
        "dfu = df1.withColumn('state',lit(\"AP\"))\n",
        "dfu.show(5)"
      ],
      "metadata": {
        "colab": {
          "base_uri": "https://localhost:8080/"
        },
        "id": "wKQ2O55ytJnt",
        "outputId": "dc9deebc-6489-4351-989f-85104f1cb9f2"
      },
      "execution_count": null,
      "outputs": [
        {
          "output_type": "stream",
          "name": "stdout",
          "text": [
            "+---+--------+---+-------+-----+\n",
            "| id|    name|age|fcirlce|state|\n",
            "+---+--------+---+-------+-----+\n",
            "|  0|    Will| 33|    385|   AP|\n",
            "|  1|Jean-Luc| 26|      2|   AP|\n",
            "|  2|    Hugh| 55|    221|   AP|\n",
            "|  3|  Deanna| 40|    465|   AP|\n",
            "|  4|   Quark| 68|     21|   AP|\n",
            "+---+--------+---+-------+-----+\n",
            "only showing top 5 rows\n",
            "\n"
          ]
        }
      ]
    },
    {
      "cell_type": "code",
      "source": [
        "# creating a copied col with new data\n",
        "dfc = df1.withColumn('age_af_3yrs',col('age')+ 3)"
      ],
      "metadata": {
        "id": "gJ-aQObBt_wO"
      },
      "execution_count": null,
      "outputs": []
    },
    {
      "cell_type": "code",
      "source": [
        "print('after')\n",
        "dfc.show(2)"
      ],
      "metadata": {
        "colab": {
          "base_uri": "https://localhost:8080/"
        },
        "id": "ommetXT5vC8l",
        "outputId": "34a559d0-5395-41b6-f4fe-cdc54f76fbb8"
      },
      "execution_count": null,
      "outputs": [
        {
          "output_type": "stream",
          "name": "stdout",
          "text": [
            "after\n",
            "+---+--------+---+-------+-----------+\n",
            "| id|    name|age|fcirlce|age_af_3yrs|\n",
            "+---+--------+---+-------+-----------+\n",
            "|  0|    Will| 33|    385|         36|\n",
            "|  1|Jean-Luc| 26|      2|         29|\n",
            "+---+--------+---+-------+-----------+\n",
            "only showing top 2 rows\n",
            "\n"
          ]
        }
      ]
    },
    {
      "cell_type": "code",
      "source": [
        "#now dropping that ageaf3yrs col\n",
        "dfc = dfc.drop('age_af_3yrs')\n",
        "dfc.show(3)"
      ],
      "metadata": {
        "colab": {
          "base_uri": "https://localhost:8080/"
        },
        "id": "tjcJHx8SznM8",
        "outputId": "e1cef8fb-8e24-4e7c-cb39-e7b570bc6e83"
      },
      "execution_count": null,
      "outputs": [
        {
          "output_type": "stream",
          "name": "stdout",
          "text": [
            "+---+--------+---+-------+\n",
            "| id|    name|age|fcirlce|\n",
            "+---+--------+---+-------+\n",
            "|  0|    Will| 33|    385|\n",
            "|  1|Jean-Luc| 26|      2|\n",
            "|  2|    Hugh| 55|    221|\n",
            "+---+--------+---+-------+\n",
            "only showing top 3 rows\n",
            "\n"
          ]
        }
      ]
    },
    {
      "cell_type": "markdown",
      "source": [
        "# expression withColumn"
      ],
      "metadata": {
        "id": "HmWFiieI0Nu1"
      }
    },
    {
      "cell_type": "code",
      "source": [
        "dfc.show(5)"
      ],
      "metadata": {
        "colab": {
          "base_uri": "https://localhost:8080/"
        },
        "id": "PjWjQzRj0Sit",
        "outputId": "53c9ba46-fdd4-48eb-c78c-677bd1d1aae4"
      },
      "execution_count": null,
      "outputs": [
        {
          "output_type": "stream",
          "name": "stdout",
          "text": [
            "+---+--------+---+-------+\n",
            "| id|    name|age|fcirlce|\n",
            "+---+--------+---+-------+\n",
            "|  0|    Will| 33|    385|\n",
            "|  1|Jean-Luc| 26|      2|\n",
            "|  2|    Hugh| 55|    221|\n",
            "|  3|  Deanna| 40|    465|\n",
            "|  4|   Quark| 68|     21|\n",
            "+---+--------+---+-------+\n",
            "only showing top 5 rows\n",
            "\n"
          ]
        }
      ]
    },
    {
      "cell_type": "code",
      "source": [
        "dfj =dfc.withColumn('age*fcircle',expr('age * 2'))\n",
        "dfj.show(5)"
      ],
      "metadata": {
        "id": "104jRlpg0Vd7"
      },
      "execution_count": null,
      "outputs": []
    },
    {
      "cell_type": "code",
      "source": [
        "dfc = dfc.withColumn('bg',when(col('fcircle') >= 150))"
      ],
      "metadata": {
        "id": "9KGLkozO1F45"
      },
      "execution_count": null,
      "outputs": []
    },
    {
      "cell_type": "markdown",
      "source": [
        "- reading a json file"
      ],
      "metadata": {
        "id": "obIcbJ0exw1C"
      }
    },
    {
      "cell_type": "code",
      "source": [
        "jdf = spark.read.json('/content/sample_data/anscombe.json',multiLine=True)\n",
        "jdf.show(6)\n",
        "jdf.printSchema()"
      ],
      "metadata": {
        "id": "XBVNv1XvwlId"
      },
      "execution_count": null,
      "outputs": []
    },
    {
      "cell_type": "code",
      "source": [
        "jdf.withColumn('both')"
      ],
      "metadata": {
        "id": "zIn0iPRaxlWr"
      },
      "execution_count": null,
      "outputs": []
    },
    {
      "cell_type": "markdown",
      "source": [
        "# practice"
      ],
      "metadata": {
        "id": "-Tus9f1CaVHk"
      }
    },
    {
      "cell_type": "code",
      "source": [
        "# reading a csv\n",
        "# some csv files, uncomment to download\n",
        "#!wget -q https://sample-videos.com/csv/Sample-Spreadsheet-1000-rows.csv\n",
        "#!wget -q https://www.stats.govt.nz/assets/Uploads/Business-operations-survey/Business-operations-survey-2022/Download-data/business-operations-survey-2022-information-and-communications-technology.csv\n",
        "\n",
        "mysc = StructType([\\\n",
        "                   StructField('id',IntegerType(),True),\n",
        "                   StructField('product',StringType(),True),\n",
        "                   StructField('uname',StringType(),True),\n",
        "                   StructField('price',IntegerType(),True),\n",
        "                   StructField('raw_price',FloatType(),True),\n",
        "                   StructField('tax',FloatType(),True),\n",
        "                   StructField('city',StringType(),True),\n",
        "                   StructField('product_type',StringType(),True),\n",
        "                   StructField('sar_value',DoubleType(),True),\n",
        "                   ])"
      ],
      "metadata": {
        "id": "CzS-Hy5taWgK"
      },
      "execution_count": null,
      "outputs": []
    },
    {
      "cell_type": "code",
      "source": [
        "#mschema = schema = ['id','products','user','price','raw price','tax','city','type','sar value']\n",
        "\n",
        "sdf = spark.read.csv('/content/unk.csv',schema=mysc,header=False)\n",
        "sdf.show(n=5,truncate=False)\n",
        "sdf.printSchema()"
      ],
      "metadata": {
        "colab": {
          "base_uri": "https://localhost:8080/"
        },
        "id": "ao5lxQ6odqKU",
        "outputId": "aa85bc2b-6371-4799-e3d1-607883e883ba"
      },
      "execution_count": null,
      "outputs": [
        {
          "output_type": "stream",
          "name": "stdout",
          "text": [
            "+---+------------------------------------------------------+------------------+-----+---------+------+-----+------------+---------+\n",
            "|id |product                                               |uname             |price|raw_price|tax   |city |product_type|sar_value|\n",
            "+---+------------------------------------------------------+------------------+-----+---------+------+-----+------------+---------+\n",
            "|1  |Eldon Base for stackable storage shelf, platinum      |Muhammed MacIntyre|3    |-213.25  |38.94 |35   |Nunavut     |null     |\n",
            "|2  |\"1.7 Cubic Foot Compact \"\"Cube\"\" Office Refrigerators\"|Barry French      |293  |457.81   |208.16|68.02|Nunavut     |null     |\n",
            "|3  |Cardinal Slant-D� Ring Binder, Heavy Gauge Vinyl      |Barry French      |293  |46.71    |8.69  |2.99 |Nunavut     |null     |\n",
            "|4  |R380                                                  |Clay Rozendal     |483  |1198.97  |195.99|3.99 |Nunavut     |null     |\n",
            "|5  |Holmes HEPA Air Purifier                              |Carlos Soltero    |515  |30.94    |21.78 |5.94 |Nunavut     |null     |\n",
            "+---+------------------------------------------------------+------------------+-----+---------+------+-----+------------+---------+\n",
            "only showing top 5 rows\n",
            "\n",
            "root\n",
            " |-- id: integer (nullable = true)\n",
            " |-- product: string (nullable = true)\n",
            " |-- uname: string (nullable = true)\n",
            " |-- price: integer (nullable = true)\n",
            " |-- raw_price: float (nullable = true)\n",
            " |-- tax: float (nullable = true)\n",
            " |-- city: string (nullable = true)\n",
            " |-- product_type: string (nullable = true)\n",
            " |-- sar_value: double (nullable = true)\n",
            "\n"
          ]
        }
      ]
    },
    {
      "cell_type": "code",
      "source": [
        "dd=sdf.drop('sar_value')"
      ],
      "metadata": {
        "id": "LT_798wAarfP"
      },
      "execution_count": null,
      "outputs": []
    },
    {
      "cell_type": "code",
      "source": [
        "dd.printSchema()"
      ],
      "metadata": {
        "id": "FUMu5ck_cRuD"
      },
      "execution_count": null,
      "outputs": []
    },
    {
      "cell_type": "code",
      "source": [
        "dd = dd.withColumn('non_taxable',when(dd['raw_price'] < 250, \"NO tax\").otherwise('TAXABLE'))\n",
        "dd.show(n=8,truncate=False)"
      ],
      "metadata": {
        "colab": {
          "base_uri": "https://localhost:8080/"
        },
        "id": "NVq_5bzPsRKf",
        "outputId": "d4d04107-eb50-4b52-890d-466c2435b5ec"
      },
      "execution_count": null,
      "outputs": [
        {
          "output_type": "stream",
          "name": "stdout",
          "text": [
            "+---+------------------------------------------------------+------------------+-----+---------+------+-----+------------+-----------+\n",
            "|id |product                                               |uname             |price|raw_price|tax   |city |product_type|non_taxable|\n",
            "+---+------------------------------------------------------+------------------+-----+---------+------+-----+------------+-----------+\n",
            "|1  |Eldon Base for stackable storage shelf, platinum      |Muhammed MacIntyre|3    |-213.25  |38.94 |35   |Nunavut     |NO tax     |\n",
            "|2  |\"1.7 Cubic Foot Compact \"\"Cube\"\" Office Refrigerators\"|Barry French      |293  |457.81   |208.16|68.02|Nunavut     |TAXABLE    |\n",
            "|3  |Cardinal Slant-D� Ring Binder, Heavy Gauge Vinyl      |Barry French      |293  |46.71    |8.69  |2.99 |Nunavut     |NO tax     |\n",
            "|4  |R380                                                  |Clay Rozendal     |483  |1198.97  |195.99|3.99 |Nunavut     |TAXABLE    |\n",
            "|5  |Holmes HEPA Air Purifier                              |Carlos Soltero    |515  |30.94    |21.78 |5.94 |Nunavut     |NO tax     |\n",
            "|6  |G.E. Longer-Life Indoor Recessed Floodlight Bulbs     |Carlos Soltero    |515  |4.43     |6.64  |4.95 |Nunavut     |NO tax     |\n",
            "|7  |Angle-D Binders with Locking Rings, Label Holders     |Carl Jackson      |613  |-54.04   |7.3   |7.72 |Nunavut     |NO tax     |\n",
            "|8  |SAFCO Mobile Desk Side File, Wire Frame               |Carl Jackson      |613  |127.7    |42.76 |6.22 |Nunavut     |NO tax     |\n",
            "+---+------------------------------------------------------+------------------+-----+---------+------+-----+------------+-----------+\n",
            "only showing top 8 rows\n",
            "\n"
          ]
        }
      ]
    },
    {
      "cell_type": "code",
      "source": [
        "dd = dd.drop('city','product_type')"
      ],
      "metadata": {
        "id": "ujVuGb_jtveQ"
      },
      "execution_count": null,
      "outputs": []
    },
    {
      "cell_type": "code",
      "source": [
        "ds = dd.withColumn('wholeprice',dd['price'] + dd['raw_price'])\n",
        "ds.show(5)"
      ],
      "metadata": {
        "colab": {
          "base_uri": "https://localhost:8080/"
        },
        "id": "VTB3CSFFt5kk",
        "outputId": "4c5d01a6-09e5-4b24-ab00-0d9514fa80fe"
      },
      "execution_count": null,
      "outputs": [
        {
          "output_type": "stream",
          "name": "stdout",
          "text": [
            "+---+--------------------+------------------+-----+---------+------+-----------+----------+\n",
            "| id|             product|             uname|price|raw_price|   tax|non_taxable|wholeprice|\n",
            "+---+--------------------+------------------+-----+---------+------+-----------+----------+\n",
            "|  1|Eldon Base for st...|Muhammed MacIntyre|    3|  -213.25| 38.94|     NO tax|   -210.25|\n",
            "|  2|\"1.7 Cubic Foot C...|      Barry French|  293|   457.81|208.16|    TAXABLE|    750.81|\n",
            "|  3|Cardinal Slant-D�...|      Barry French|  293|    46.71|  8.69|     NO tax|    339.71|\n",
            "|  4|                R380|     Clay Rozendal|  483|  1198.97|195.99|    TAXABLE|   1681.97|\n",
            "|  5|Holmes HEPA Air P...|    Carlos Soltero|  515|    30.94| 21.78|     NO tax|    545.94|\n",
            "+---+--------------------+------------------+-----+---------+------+-----------+----------+\n",
            "only showing top 5 rows\n",
            "\n"
          ]
        }
      ]
    },
    {
      "cell_type": "code",
      "source": [
        "# removing negative raw_price from df\n",
        "ds = ds.filter(col('raw_price') >= 0)\n",
        "ds.count()\n",
        "ds.show(4)"
      ],
      "metadata": {
        "colab": {
          "base_uri": "https://localhost:8080/"
        },
        "id": "MjClLYYFvf7L",
        "outputId": "ef6ab1d2-45a7-42ac-83d9-8c723cfaab92"
      },
      "execution_count": null,
      "outputs": [
        {
          "output_type": "stream",
          "name": "stdout",
          "text": [
            "+---+--------------------+--------------+-----+---------+------+-----------+----------+\n",
            "| id|             product|         uname|price|raw_price|   tax|non_taxable|wholeprice|\n",
            "+---+--------------------+--------------+-----+---------+------+-----------+----------+\n",
            "|  2|\"1.7 Cubic Foot C...|  Barry French|  293|   457.81|208.16|    TAXABLE|    750.81|\n",
            "|  3|Cardinal Slant-D�...|  Barry French|  293|    46.71|  8.69|     NO tax|    339.71|\n",
            "|  4|                R380| Clay Rozendal|  483|  1198.97|195.99|    TAXABLE|   1681.97|\n",
            "|  5|Holmes HEPA Air P...|Carlos Soltero|  515|    30.94| 21.78|     NO tax|    545.94|\n",
            "+---+--------------------+--------------+-----+---------+------+-----------+----------+\n",
            "only showing top 4 rows\n",
            "\n"
          ]
        }
      ]
    },
    {
      "cell_type": "code",
      "source": [
        "# adding new tax col to df\n",
        "ds = ds.withColumn('newTax',\\\n",
        "                   when(col('raw_price') > 200, col('raw_price') * 1.2)\\\n",
        "                   .when(col('raw_price') > 120, col('raw_price') * 0.8)\\\n",
        "                   .when(col('raw_price') > 50,col('raw_price') * 0.2)\\\n",
        "                   .otherwise(col('raw_price')))\n",
        "ds.show(10)"
      ],
      "metadata": {
        "colab": {
          "base_uri": "https://localhost:8080/"
        },
        "id": "1gx8Nuncv7qF",
        "outputId": "71c8ae96-fa89-4fe4-b6f7-6d69d7e3665b"
      },
      "execution_count": null,
      "outputs": [
        {
          "output_type": "stream",
          "name": "stdout",
          "text": [
            "+---+--------------------+----------------+-----+---------+------+-----------+----------+------------------+\n",
            "| id|             product|           uname|price|raw_price|   tax|non_taxable|wholeprice|            newTax|\n",
            "+---+--------------------+----------------+-----+---------+------+-----------+----------+------------------+\n",
            "|  2|\"1.7 Cubic Foot C...|    Barry French|  293|   457.81|208.16|    TAXABLE|    750.81| 549.3719970703124|\n",
            "|  3|Cardinal Slant-D�...|    Barry French|  293|    46.71|  8.69|     NO tax|    339.71|46.709999084472656|\n",
            "|  4|                R380|   Clay Rozendal|  483|  1198.97|195.99|    TAXABLE|   1681.97|  1438.76396484375|\n",
            "|  5|Holmes HEPA Air P...|  Carlos Soltero|  515|    30.94| 21.78|     NO tax|    545.94|30.940000534057617|\n",
            "|  6|G.E. Longer-Life ...|  Carlos Soltero|  515|     4.43|  6.64|     NO tax|    519.43| 4.429999828338623|\n",
            "|  8|SAFCO Mobile Desk...|    Carl Jackson|  613|    127.7| 42.76|     NO tax|     740.7|102.15999755859376|\n",
            "| 13|Holmes HEPA Air P...|     Carlos Daly|  868|   134.72| 21.78|     NO tax|   1002.72| 107.7760009765625|\n",
            "| 14|DS/HD IBM Formatt...|     Carlos Daly|  868|   114.46| 47.98|     NO tax|    982.46|22.891999816894533|\n",
            "| 16|Ultra Commercial ...| Neola Schneider|  995|   782.91| 39.89|    TAXABLE| 1777.9099| 939.4919677734374|\n",
            "| 17|\"#10-4 1/8\"\" x 9 ...|Allen Rosenblatt|  998|     93.8| 15.74|     NO tax|    1091.8|18.760000610351565|\n",
            "+---+--------------------+----------------+-----+---------+------+-----------+----------+------------------+\n",
            "only showing top 10 rows\n",
            "\n"
          ]
        }
      ]
    },
    {
      "cell_type": "code",
      "source": [
        "ds = ds.drop('price','tax')"
      ],
      "metadata": {
        "id": "0TMQQRErzZCO"
      },
      "execution_count": null,
      "outputs": []
    },
    {
      "cell_type": "code",
      "source": [
        "daa = ds.withColumn('newTax',substring(col('newTax'),1,8))\n",
        "daa.show(5)"
      ],
      "metadata": {
        "colab": {
          "base_uri": "https://localhost:8080/"
        },
        "id": "IwAHXb7szphd",
        "outputId": "d35523ab-fc16-4a2d-c63b-2029fb0ccd6c"
      },
      "execution_count": null,
      "outputs": [
        {
          "output_type": "stream",
          "name": "stdout",
          "text": [
            "+---+--------------------+--------------+---------+-----------+----------+--------+\n",
            "| id|             product|         uname|raw_price|non_taxable|wholeprice|  newTax|\n",
            "+---+--------------------+--------------+---------+-----------+----------+--------+\n",
            "|  2|\"1.7 Cubic Foot C...|  Barry French|   457.81|    TAXABLE|    750.81|549.3719|\n",
            "|  3|Cardinal Slant-D�...|  Barry French|    46.71|     NO tax|    339.71|46.70999|\n",
            "|  4|                R380| Clay Rozendal|  1198.97|    TAXABLE|   1681.97|1438.763|\n",
            "|  5|Holmes HEPA Air P...|Carlos Soltero|    30.94|     NO tax|    545.94|30.94000|\n",
            "|  6|G.E. Longer-Life ...|Carlos Soltero|     4.43|     NO tax|    519.43|4.429999|\n",
            "+---+--------------------+--------------+---------+-----------+----------+--------+\n",
            "only showing top 5 rows\n",
            "\n"
          ]
        }
      ]
    },
    {
      "cell_type": "code",
      "source": [
        "# pattern finding with 'like'"
      ],
      "metadata": {
        "id": "LKG2eYV60n3M"
      },
      "execution_count": null,
      "outputs": []
    },
    {
      "cell_type": "markdown",
      "source": [
        "# user defined StructType"
      ],
      "metadata": {
        "id": "eqXcoTAwjf14"
      }
    },
    {
      "cell_type": "code",
      "source": [
        "# creating user defined to structtype to store\n",
        "# name ->(fname,lname)\n",
        "data = [(1,('roronoa','zoro'),100000),\n",
        "        (2,('monkey D','Luffy'),400000)]\n",
        "\n",
        "#name structtype\n",
        "StructName=StructType([\n",
        "                       StructField('fname',StringType()),\n",
        "                       StructField('lname',StringType())])\n",
        "schema = StructType([\n",
        "                      StructField('id',IntegerType()),\n",
        "                      StructField('name',StructName),\n",
        "                      StructField('bounty',IntegerType())\n",
        "])"
      ],
      "metadata": {
        "id": "1EInK2rbfoCE"
      },
      "execution_count": null,
      "outputs": []
    },
    {
      "cell_type": "code",
      "source": [
        "usdf=spark.createDataFrame(data=data,schema=schema)\n",
        "usdf.show()\n",
        "usdf.printSchema()"
      ],
      "metadata": {
        "colab": {
          "base_uri": "https://localhost:8080/"
        },
        "id": "5__Ywh0SlUec",
        "outputId": "ffa57cf8-ffeb-469a-9b92-1fec4e7cf483"
      },
      "execution_count": null,
      "outputs": [
        {
          "output_type": "stream",
          "name": "stdout",
          "text": [
            "+---+-----------------+------+\n",
            "| id|             name|bounty|\n",
            "+---+-----------------+------+\n",
            "|  1|  {roronoa, zoro}|100000|\n",
            "|  2|{monkey D, Luffy}|400000|\n",
            "+---+-----------------+------+\n",
            "\n",
            "root\n",
            " |-- id: integer (nullable = true)\n",
            " |-- name: struct (nullable = true)\n",
            " |    |-- fname: string (nullable = true)\n",
            " |    |-- lname: string (nullable = true)\n",
            " |-- bounty: integer (nullable = true)\n",
            "\n"
          ]
        }
      ]
    },
    {
      "cell_type": "code",
      "source": [
        "print(200)"
      ],
      "metadata": {
        "colab": {
          "base_uri": "https://localhost:8080/"
        },
        "id": "mTR5wkr8lnOo",
        "outputId": "2b8cf114-48c0-4765-9f05-b285c212c430"
      },
      "execution_count": null,
      "outputs": [
        {
          "output_type": "stream",
          "name": "stdout",
          "text": [
            "200\n"
          ]
        }
      ]
    },
    {
      "cell_type": "code",
      "source": [],
      "metadata": {
        "id": "fesbz0nLqpnn"
      },
      "execution_count": null,
      "outputs": []
    },
    {
      "cell_type": "markdown",
      "source": [
        "# filter() function\n",
        "- In PySpark, you can use the filter() function to filter rows from a DataFrame based on a given condition.\n",
        "- The condition is defined using various functions and operators available in PySpark."
      ],
      "metadata": {
        "id": "CblJrTsSpxuI"
      }
    },
    {
      "cell_type": "code",
      "source": [
        "fdf = spark.read.csv('/content/od.csv',header=True)\n",
        "fdf.show(3)\n",
        "fdf.printSchema()"
      ],
      "metadata": {
        "colab": {
          "base_uri": "https://localhost:8080/"
        },
        "id": "dywqraFFsxIn",
        "outputId": "532325ed-9fed-4ec9-8221-22caeb6a8e7d"
      },
      "execution_count": null,
      "outputs": [
        {
          "output_type": "stream",
          "name": "stdout",
          "text": [
            "+---+-----+-----+---+--------+-------------------+\n",
            "| id| name|float|age|    time|          timestamp|\n",
            "+---+-----+-----+---+--------+-------------------+\n",
            "|  1| John|23.45| 30|12:45:00|2023-10-13 08:30:45|\n",
            "|  2|Alice|45.67| 25|09:15:00|2023-10-12 14:20:30|\n",
            "|  3|  Bob|12.34| 35|15:30:00|2023-10-11 20:15:00|\n",
            "+---+-----+-----+---+--------+-------------------+\n",
            "only showing top 3 rows\n",
            "\n",
            "root\n",
            " |-- id: string (nullable = true)\n",
            " |-- name: string (nullable = true)\n",
            " |-- float: string (nullable = true)\n",
            " |-- age: string (nullable = true)\n",
            " |-- time: string (nullable = true)\n",
            " |-- timestamp: string (nullable = true)\n",
            "\n"
          ]
        }
      ]
    },
    {
      "cell_type": "code",
      "source": [
        "fdf=fdf.withColumn('id',fdf['id'].cast('integer'))\\\n",
        "       .withColumn('age',fdf['age'].cast('integer'))\\\n",
        "       .withColumn('live_age',fdf['float'].cast('float'))\\\n",
        "       .withColumn('timestamp',fdf['timestamp'].cast('timestamp'))\n",
        "fdf.printSchema() #couldn't change time datatype since time hasn't have a datatype"
      ],
      "metadata": {
        "colab": {
          "base_uri": "https://localhost:8080/"
        },
        "id": "JYZe02u7tB9v",
        "outputId": "0b20b748-27a6-4ffb-a91e-c944a8edb63a"
      },
      "execution_count": null,
      "outputs": [
        {
          "output_type": "stream",
          "name": "stdout",
          "text": [
            "root\n",
            " |-- id: integer (nullable = true)\n",
            " |-- name: string (nullable = true)\n",
            " |-- float: string (nullable = true)\n",
            " |-- age: integer (nullable = true)\n",
            " |-- time: string (nullable = true)\n",
            " |-- timestamp: timestamp (nullable = true)\n",
            " |-- live_age: float (nullable = true)\n",
            "\n"
          ]
        }
      ]
    },
    {
      "cell_type": "code",
      "source": [
        "fdf.show(5)"
      ],
      "metadata": {
        "colab": {
          "base_uri": "https://localhost:8080/"
        },
        "id": "BYxkKe_7tm5q",
        "outputId": "6e6fa85d-5ac5-4a36-93af-2ab895fdc3aa"
      },
      "execution_count": null,
      "outputs": [
        {
          "output_type": "stream",
          "name": "stdout",
          "text": [
            "+---+-----+-----+---+--------+-------------------+--------+\n",
            "| id| name|float|age|    time|          timestamp|live_age|\n",
            "+---+-----+-----+---+--------+-------------------+--------+\n",
            "|  1| John|23.45| 30|12:45:00|2023-10-13 08:30:45|   23.45|\n",
            "|  2|Alice|45.67| 25|09:15:00|2023-10-12 14:20:30|   45.67|\n",
            "|  3|  Bob|12.34| 35|15:30:00|2023-10-11 20:15:00|   12.34|\n",
            "|  4| Ella|56.78| 42|14:20:00|2023-10-10 10:45:15|   56.78|\n",
            "|  5|David|34.56| 28|11:05:00|2023-10-09 17:10:45|   34.56|\n",
            "+---+-----+-----+---+--------+-------------------+--------+\n",
            "only showing top 5 rows\n",
            "\n"
          ]
        }
      ]
    },
    {
      "cell_type": "code",
      "source": [
        "fdf = fdf.drop('float','time')"
      ],
      "metadata": {
        "id": "T-wAFGyCvW4m"
      },
      "execution_count": null,
      "outputs": []
    },
    {
      "cell_type": "code",
      "source": [
        "fdf.show(3)"
      ],
      "metadata": {
        "colab": {
          "base_uri": "https://localhost:8080/"
        },
        "id": "ZFxyL9OOv5pk",
        "outputId": "67f8c437-7f73-495d-8cfd-c89eff711478"
      },
      "execution_count": null,
      "outputs": [
        {
          "output_type": "stream",
          "name": "stdout",
          "text": [
            "+---+-----+---+-------------------+--------+\n",
            "| id| name|age|          timestamp|live_age|\n",
            "+---+-----+---+-------------------+--------+\n",
            "|  1| John| 30|2023-10-13 08:30:45|   23.45|\n",
            "|  2|Alice| 25|2023-10-12 14:20:30|   45.67|\n",
            "|  3|  Bob| 35|2023-10-11 20:15:00|   12.34|\n",
            "+---+-----+---+-------------------+--------+\n",
            "only showing top 3 rows\n",
            "\n"
          ]
        }
      ]
    },
    {
      "cell_type": "code",
      "source": [
        "# filter -> age >=35 AND timestamp < '2023-10-11 20:15:00'\n",
        "age_df = fdf.filter((fdf['age'] >= 35) & (fdf['timestamp'] < '2023-10-11 20:15:00'))\n",
        "age_df.show()"
      ],
      "metadata": {
        "colab": {
          "base_uri": "https://localhost:8080/"
        },
        "id": "xUDQ7i13v7o3",
        "outputId": "81465542-11c5-4a0e-a3d6-e86963019e81"
      },
      "execution_count": null,
      "outputs": [
        {
          "output_type": "stream",
          "name": "stdout",
          "text": [
            "+---+-------+---+-------------------+--------+\n",
            "| id|   name|age|          timestamp|live_age|\n",
            "+---+-------+---+-------------------+--------+\n",
            "|  4|   Ella| 42|2023-10-10 10:45:15|   56.78|\n",
            "|  6|  Sarah| 55|2023-10-08 12:05:30|    78.9|\n",
            "|  8| Olivia| 39|2023-10-06 16:40:45|   67.43|\n",
            "| 12|William| 48|2023-10-02 09:20:30|   42.12|\n",
            "| 14|  James| 41|2023-09-30 21:10:45|   50.98|\n",
            "| 16| Samuel| 36|2023-09-28 07:40:00|    61.8|\n",
            "| 18| Oliver| 45|2023-09-26 19:35:45|   53.76|\n",
            "+---+-------+---+-------------------+--------+\n",
            "\n"
          ]
        }
      ]
    },
    {
      "cell_type": "code",
      "source": [
        "# now filtering with string operators\n",
        "ssdf = fdf.filter(col('name').contains('li'))\n",
        "ssdf.show()"
      ],
      "metadata": {
        "colab": {
          "base_uri": "https://localhost:8080/"
        },
        "id": "ZWKvNdGxwneA",
        "outputId": "cae9cc32-ed45-41e0-c5e4-05bb89489cf0"
      },
      "execution_count": null,
      "outputs": [
        {
          "output_type": "stream",
          "name": "stdout",
          "text": [
            "+---+-------+---+-------------------+--------+\n",
            "| id|   name|age|          timestamp|live_age|\n",
            "+---+-------+---+-------------------+--------+\n",
            "|  2|  Alice| 25|2023-10-12 14:20:30|   45.67|\n",
            "|  8| Olivia| 39|2023-10-06 16:40:45|   67.43|\n",
            "| 12|William| 48|2023-10-02 09:20:30|   42.12|\n",
            "| 18| Oliver| 45|2023-09-26 19:35:45|   53.76|\n",
            "+---+-------+---+-------------------+--------+\n",
            "\n"
          ]
        }
      ]
    },
    {
      "cell_type": "code",
      "source": [
        "# substring\n",
        "ssdf = ssdf.withColumn('odate',substring(ssdf['timestamp'],1,11))\n",
        "ssdf.show()"
      ],
      "metadata": {
        "colab": {
          "base_uri": "https://localhost:8080/"
        },
        "id": "EbBKdZy0yg12",
        "outputId": "8cdfe905-3909-46c3-f6ed-a9d8a4b25e3c"
      },
      "execution_count": null,
      "outputs": [
        {
          "output_type": "stream",
          "name": "stdout",
          "text": [
            "+---+-------+---+-------------------+--------+-----------+\n",
            "| id|   name|age|          timestamp|live_age|      odate|\n",
            "+---+-------+---+-------------------+--------+-----------+\n",
            "|  2|  Alice| 25|2023-10-12 14:20:30|   45.67|2023-10-12 |\n",
            "|  8| Olivia| 39|2023-10-06 16:40:45|   67.43|2023-10-06 |\n",
            "| 12|William| 48|2023-10-02 09:20:30|   42.12|2023-10-02 |\n",
            "| 18| Oliver| 45|2023-09-26 19:35:45|   53.76|2023-09-26 |\n",
            "+---+-------+---+-------------------+--------+-----------+\n",
            "\n"
          ]
        }
      ]
    },
    {
      "cell_type": "code",
      "source": [
        "ssdf = ssdf.withColumn('odate',ssdf['odate'].cast('date'))\n",
        "ssdf.printSchema()\n",
        "# now odate's datatype is 'date'"
      ],
      "metadata": {
        "colab": {
          "base_uri": "https://localhost:8080/"
        },
        "id": "_ppKQqR0z3Mq",
        "outputId": "5c0d22aa-a053-4362-86f1-41c91be147fd"
      },
      "execution_count": null,
      "outputs": [
        {
          "output_type": "stream",
          "name": "stdout",
          "text": [
            "root\n",
            " |-- id: integer (nullable = true)\n",
            " |-- name: string (nullable = true)\n",
            " |-- age: integer (nullable = true)\n",
            " |-- timestamp: timestamp (nullable = true)\n",
            " |-- live_age: float (nullable = true)\n",
            " |-- odate: date (nullable = true)\n",
            "\n"
          ]
        }
      ]
    },
    {
      "cell_type": "code",
      "source": [
        "ssdf.select('id','name','age').show()"
      ],
      "metadata": {
        "colab": {
          "base_uri": "https://localhost:8080/"
        },
        "id": "RMPQ58ijxzC3",
        "outputId": "a2dacd01-85c8-4147-8071-13cfe60847ab"
      },
      "execution_count": null,
      "outputs": [
        {
          "output_type": "stream",
          "name": "stdout",
          "text": [
            "+---+-------+---+\n",
            "| id|   name|age|\n",
            "+---+-------+---+\n",
            "|  2|  Alice| 25|\n",
            "|  8| Olivia| 39|\n",
            "| 12|William| 48|\n",
            "| 18| Oliver| 45|\n",
            "+---+-------+---+\n",
            "\n"
          ]
        }
      ]
    },
    {
      "cell_type": "code",
      "source": [
        "# using like and filter\n",
        "fdf = fdf.filter(col('name').like('%vi%'))\n",
        "fdf.show()"
      ],
      "metadata": {
        "colab": {
          "base_uri": "https://localhost:8080/"
        },
        "id": "PWY3bbWPx8p8",
        "outputId": "ab7a3002-3453-43da-aa19-d904cb1950cd"
      },
      "execution_count": null,
      "outputs": [
        {
          "output_type": "stream",
          "name": "stdout",
          "text": [
            "+---+------+---+-------------------+--------+\n",
            "| id|  name|age|          timestamp|live_age|\n",
            "+---+------+---+-------------------+--------+\n",
            "|  5| David| 28|2023-10-09 17:10:45|   34.56|\n",
            "|  8|Olivia| 39|2023-10-06 16:40:45|   67.43|\n",
            "+---+------+---+-------------------+--------+\n",
            "\n"
          ]
        }
      ]
    },
    {
      "cell_type": "code",
      "source": [
        "# another way of like and filter\n",
        "a_df = age_df.filter(age_df.name.like('%e%'))\n",
        "#a_df = age_df.filter(age_df['name'].like(\"%ce%\")) both works fine\n",
        "a_df.show()"
      ],
      "metadata": {
        "colab": {
          "base_uri": "https://localhost:8080/"
        },
        "id": "vcVVOZGw1Bzl",
        "outputId": "d4110e64-f6f5-4af7-d85b-69c87d9ff810"
      },
      "execution_count": null,
      "outputs": [
        {
          "output_type": "stream",
          "name": "stdout",
          "text": [
            "+---+------+---+-------------------+--------+\n",
            "| id|  name|age|          timestamp|live_age|\n",
            "+---+------+---+-------------------+--------+\n",
            "| 14| James| 41|2023-09-30 21:10:45|   50.98|\n",
            "| 16|Samuel| 36|2023-09-28 07:40:00|    61.8|\n",
            "| 18|Oliver| 45|2023-09-26 19:35:45|   53.76|\n",
            "+---+------+---+-------------------+--------+\n",
            "\n"
          ]
        }
      ]
    },
    {
      "cell_type": "code",
      "source": [],
      "metadata": {
        "id": "oUIyuHl91YDs"
      },
      "execution_count": null,
      "outputs": []
    },
    {
      "cell_type": "markdown",
      "source": [
        "# groupBy()\n",
        "-The groupBy() transformation in PySpark is used to group rows of a DataFrame based on one or more columns, allowing you to perform various aggregation and summary operations on each group."
      ],
      "metadata": {
        "id": "U2F7y8B-Xwm6"
      }
    },
    {
      "cell_type": "code",
      "source": [
        "!wget -q https://github.com/datablist/sample-csv-files/raw/main/files/people/people-100.csv\n",
        "!mv people-100.csv people.csv"
      ],
      "metadata": {
        "id": "NssGk0rLYXee"
      },
      "execution_count": null,
      "outputs": []
    },
    {
      "cell_type": "code",
      "source": [
        "#gdf = spark.read.csv('/content/people.csv',header=True)\n",
        "gdf.show(2,truncate=False)"
      ],
      "metadata": {
        "colab": {
          "base_uri": "https://localhost:8080/"
        },
        "id": "Ach4ho1kYhyZ",
        "outputId": "5664d3c4-bbee-4bf9-87d1-8f2829d577c0"
      },
      "execution_count": null,
      "outputs": [
        {
          "output_type": "stream",
          "name": "stdout",
          "text": [
            "+-----+---------------+----------+---------+------+---------------------+----------------------+-------------+---------------+\n",
            "|Index|User Id        |First Name|Last Name|Sex   |Email                |Phone                 |Date of birth|Job Title      |\n",
            "+-----+---------------+----------+---------+------+---------------------+----------------------+-------------+---------------+\n",
            "|1    |88F7B33d2bcf9f5|Shelby    |Terrell  |Male  |elijah57@example.net |001-084-906-7849x73518|1945-10-26   |Games developer|\n",
            "|2    |f90cD3E76f1A9b9|Phillip   |Summers  |Female|bethany14@example.com|214.112.6044x4913     |1910-03-24   |Phytotherapist |\n",
            "+-----+---------------+----------+---------+------+---------------------+----------------------+-------------+---------------+\n",
            "only showing top 2 rows\n",
            "\n"
          ]
        }
      ]
    },
    {
      "cell_type": "code",
      "source": [
        "gdf = gdf.withColumn('index',gdf['index'].cast('integer'))\\\n",
        "         .withColumn('date of birth',gdf['date of birth'].cast('date'))\n",
        "gdf.printSchema()"
      ],
      "metadata": {
        "colab": {
          "base_uri": "https://localhost:8080/"
        },
        "id": "uSmmMpZjbv7Q",
        "outputId": "78909b4d-ca88-4f48-f294-1d5404d8fc57"
      },
      "execution_count": null,
      "outputs": [
        {
          "output_type": "stream",
          "name": "stdout",
          "text": [
            "root\n",
            " |-- index: integer (nullable = true)\n",
            " |-- User Id: string (nullable = true)\n",
            " |-- First Name: string (nullable = true)\n",
            " |-- Last Name: string (nullable = true)\n",
            " |-- Sex: string (nullable = true)\n",
            " |-- Email: string (nullable = true)\n",
            " |-- Phone: string (nullable = true)\n",
            " |-- date of birth: date (nullable = true)\n",
            " |-- Job Title: string (nullable = true)\n",
            "\n"
          ]
        }
      ]
    },
    {
      "cell_type": "code",
      "source": [
        "# applying aggregation funcs to groups of rows, such as sum, count,avg,min,max\n",
        "\n",
        "godf = gdf.groupBy('sex')\n",
        "co = godf.count()\n",
        "co.show() # returns how many male and females\n"
      ],
      "metadata": {
        "colab": {
          "base_uri": "https://localhost:8080/"
        },
        "id": "qaMWjuwNYmig",
        "outputId": "65f9bbb0-7990-4f30-b9a0-036c192b2e31"
      },
      "execution_count": null,
      "outputs": [
        {
          "output_type": "stream",
          "name": "stdout",
          "text": [
            "+------+-----+\n",
            "|   sex|count|\n",
            "+------+-----+\n",
            "|Female|   53|\n",
            "|  Male|   47|\n",
            "+------+-----+\n",
            "\n"
          ]
        }
      ]
    },
    {
      "cell_type": "code",
      "source": [
        "# !mv /content/drive/MyDrive/ocsv/original.csv /content/ori.csv"
      ],
      "metadata": {
        "id": "r01Q-UvoiUed"
      },
      "execution_count": null,
      "outputs": []
    },
    {
      "cell_type": "code",
      "source": [
        "dodf = gdf.groupBy('date of birth')\n",
        "dateof = dodf.count()\n",
        "dateof.show() #no one has same dob :)"
      ],
      "metadata": {
        "id": "9piObDdWbtTP"
      },
      "execution_count": null,
      "outputs": []
    },
    {
      "cell_type": "code",
      "source": [
        "#sum\n",
        "sumdf = gdf.groupBy('job title')\n",
        "samejobs = sumdf.sum('index') # sums the index\n",
        "samejobs.show()"
      ],
      "metadata": {
        "colab": {
          "base_uri": "https://localhost:8080/"
        },
        "id": "Osn6hW_Rc6xk",
        "outputId": "2b7bcb2d-e1ef-49c5-8967-cf1dddc2802f"
      },
      "execution_count": null,
      "outputs": [
        {
          "output_type": "stream",
          "name": "stdout",
          "text": [
            "+--------------------+----------+\n",
            "|           job title|sum(index)|\n",
            "+--------------------+----------+\n",
            "|English as a seco...|        72|\n",
            "|  Petroleum engineer|        60|\n",
            "|Conservator, furn...|        92|\n",
            "|          Counsellor|        27|\n",
            "|      Hydrogeologist|         8|\n",
            "|      Police officer|        98|\n",
            "|IT sales professi...|       100|\n",
            "|Education officer...|        50|\n",
            "|Accountant, chart...|        84|\n",
            "|Accounting techni...|        42|\n",
            "|   Recycling officer|        28|\n",
            "|     Games developer|         1|\n",
            "|                Make|        44|\n",
            "|     Physiotherapist|        52|\n",
            "|       Archaeologist|        58|\n",
            "|Scientist, clinic...|        54|\n",
            "|        Neurosurgeon|        63|\n",
            "|Teacher, adult ed...|        19|\n",
            "|             Curator|        61|\n",
            "|              Lawyer|         9|\n",
            "+--------------------+----------+\n",
            "only showing top 20 rows\n",
            "\n"
          ]
        }
      ]
    },
    {
      "cell_type": "code",
      "source": [
        "# groupby multiple cols\n",
        "mgdf = gdf.groupBy('last name')\n",
        "cc = mgdf.count()\n",
        "cc.show()"
      ],
      "metadata": {
        "colab": {
          "base_uri": "https://localhost:8080/"
        },
        "id": "rTQcsBSSg1ZO",
        "outputId": "33f0f09c-ed83-486d-cc63-c9f25a4de39c"
      },
      "execution_count": null,
      "outputs": [
        {
          "output_type": "stream",
          "name": "stdout",
          "text": [
            "+----------+-----+\n",
            "| last name|count|\n",
            "+----------+-----+\n",
            "|      Rich|    1|\n",
            "|    Conway|    1|\n",
            "|     Rocha|    1|\n",
            "|     Brady|    1|\n",
            "|   Watkins|    1|\n",
            "|    Levine|    1|\n",
            "|   Sweeney|    1|\n",
            "|   Farrell|    1|\n",
            "|   Schmidt|    1|\n",
            "|      Hull|    1|\n",
            "|      Pugh|    1|\n",
            "|Cunningham|    1|\n",
            "|    Barnes|    2|\n",
            "|     Nixon|    1|\n",
            "|     Hardy|    1|\n",
            "|    Knight|    1|\n",
            "|    Briggs|    1|\n",
            "|     Haney|    1|\n",
            "|    Norton|    1|\n",
            "|   Bernard|    1|\n",
            "+----------+-----+\n",
            "only showing top 20 rows\n",
            "\n"
          ]
        }
      ]
    },
    {
      "cell_type": "markdown",
      "source": [
        "# groupBy() - part 2"
      ],
      "metadata": {
        "id": "pJdfGu1gji6o"
      }
    },
    {
      "cell_type": "code",
      "source": [
        "g2df = spark.read.csv('ori.csv',header=True)\n",
        "g2df.printSchema()\n",
        "g2df.show(n=5,truncate=False)"
      ],
      "metadata": {
        "colab": {
          "base_uri": "https://localhost:8080/"
        },
        "id": "QnW1aaPWhFg9",
        "outputId": "be6d7c12-b74f-422c-acd1-d0f40d013cbf"
      },
      "execution_count": null,
      "outputs": [
        {
          "output_type": "stream",
          "name": "stdout",
          "text": [
            "root\n",
            " |-- id: string (nullable = true)\n",
            " |-- first_name: string (nullable = true)\n",
            " |-- last_name: string (nullable = true)\n",
            " |-- gender: string (nullable = true)\n",
            " |-- City: string (nullable = true)\n",
            " |-- JobTitle: string (nullable = true)\n",
            " |-- Salary: string (nullable = true)\n",
            " |-- Latitude: string (nullable = true)\n",
            " |-- Longitude: string (nullable = true)\n",
            "\n",
            "+---+----------+----------+------+-------------+----------------------------+---------+----------+-----------+\n",
            "|id |first_name|last_name |gender|City         |JobTitle                    |Salary   |Latitude  |Longitude  |\n",
            "+---+----------+----------+------+-------------+----------------------------+---------+----------+-----------+\n",
            "|1  |Melinde   |Shilburne |Female|Nowa Ruda    |Assistant Professor         |$57438.18|50.5774075|16.4967184 |\n",
            "|2  |Kimberly  |Von Welden|Female|Bulgan       |Programmer II               |$62846.60|48.8231572|103.5218199|\n",
            "|3  |Alvera    |Di Boldi  |Female|null         |null                        |$57576.52|39.9947462|116.3397725|\n",
            "|4  |Shannon   |O'Griffin |Male  |Divnomorskoye|Budget/Accounting Analyst II|$61489.23|44.5047212|38.1300171 |\n",
            "|5  |Sherwood  |Macieja   |Male  |Mytishchi    |VP Sales                    |$63863.09|null      |37.6489954 |\n",
            "+---+----------+----------+------+-------------+----------------------------+---------+----------+-----------+\n",
            "only showing top 5 rows\n",
            "\n"
          ]
        }
      ]
    },
    {
      "cell_type": "code",
      "source": [
        "subs = g2df.withColumn('salary',substring(g2df['salary'], 2,9))\n",
        "subs.show() # removing $ symbol from salary col"
      ],
      "metadata": {
        "colab": {
          "base_uri": "https://localhost:8080/"
        },
        "id": "eNO4d4h8j185",
        "outputId": "759a6eab-4029-402c-d200-7c07db37d0a6"
      },
      "execution_count": null,
      "outputs": [
        {
          "output_type": "stream",
          "name": "stdout",
          "text": [
            "+---+----------+----------+------+---------------+--------------------+--------+----------+-----------+\n",
            "| id|first_name| last_name|gender|           City|            JobTitle|  salary|  Latitude|  Longitude|\n",
            "+---+----------+----------+------+---------------+--------------------+--------+----------+-----------+\n",
            "|  1|   Melinde| Shilburne|Female|      Nowa Ruda| Assistant Professor|57438.18|50.5774075| 16.4967184|\n",
            "|  2|  Kimberly|Von Welden|Female|         Bulgan|       Programmer II|62846.60|48.8231572|103.5218199|\n",
            "|  3|    Alvera|  Di Boldi|Female|           null|                null|57576.52|39.9947462|116.3397725|\n",
            "|  4|   Shannon| O'Griffin|  Male|  Divnomorskoye|Budget/Accounting...|61489.23|44.5047212| 38.1300171|\n",
            "|  5|  Sherwood|   Macieja|  Male|      Mytishchi|            VP Sales|63863.09|      null| 37.6489954|\n",
            "|  6|     Maris|      Folk|Female|Kinsealy-Drinan|      Civil Engineer|30101.16|53.4266145| -6.1644997|\n",
            "|  7|     Masha|    Divers|Female|         Dachun|                null|25090.87| 24.879416| 118.930111|\n",
            "|  8|   Goddart|     Flear|  Male|      Trélissac|Desktop Support T...|46116.36|45.1905186|  0.7423124|\n",
            "|  9|      Roth|O'Cannavan|  Male|         Heitan|VP Product Manage...|73697.10| 32.027934| 106.657113|\n",
            "| 10|      Bran|   Trahear|  Male|       Arbeláez|Mechanical System...|68098.42|  4.272793| -74.416014|\n",
            "| 11|    Kylynn|   Lockart|Female|       El Cardo|Nuclear Power Eng...|13604.63|     -5.85|-79.8833329|\n",
            "| 12|       Rey|    Meharg|Female|    Wangqingtuo|Systems Administr...|73423.70| 39.172378| 116.931607|\n",
            "| 13|      Kerr|    Braden|  Male|      Sułkowice|Compensation Analyst|33432.99|49.8151822| 19.3771749|\n",
            "| 14|    Mickie| Whanstall|  Male|    Springfield|Assistant Media P...|50838.53|42.1014803|-72.5766759|\n",
            "| 15|    Kaspar|     Pally|  Male|         Chrást|  Analyst Programmer|40163.03|49.7923299| 13.4915324|\n",
            "| 16|    Norbie|    Gwyllt|  Male|         Xijiao|              Editor|32492.73|43.4945737|  5.8978018|\n",
            "| 17|    Claude|    Briant|Female|      Mieścisko|Research Assistan...|51862.48|52.7441662| 17.3278637|\n",
            "| 18|     Thain|    Habbon|  Male| Foros do Trapo|     Design Engineer|42135.67| 38.696249| -8.7098337|\n",
            "| 19|  Tiffanie|  Pattison|Female|    Jabungsisir|Senior Financial ...|91925.08|-7.7232567|113.4686802|\n",
            "| 20|    Ettore|  Gerriets|  Male|          Pedra| Staff Accountant IV|73921.33|40.7172049| -8.3625148|\n",
            "+---+----------+----------+------+---------------+--------------------+--------+----------+-----------+\n",
            "only showing top 20 rows\n",
            "\n"
          ]
        }
      ]
    },
    {
      "cell_type": "code",
      "source": [
        "wrr = subs.write.csv('noriginal.csv')\n",
        "# creating new csv and writing clean data into it"
      ],
      "metadata": {
        "id": "eKUgDc1rkX3D"
      },
      "execution_count": null,
      "outputs": []
    },
    {
      "cell_type": "code",
      "source": [
        "# coping and renaming new csv file into drive/ocsv folder\n",
        "!cp /content/noriginal.csv/part-00000-53416394-42cc-4ba9-a847-d9cc38bfbdc3-c000.csv /content/drive/MyDrive/ocsv/noriginal.csv\n"
      ],
      "metadata": {
        "id": "3AvfLZ6ak0CO"
      },
      "execution_count": null,
      "outputs": []
    },
    {
      "cell_type": "code",
      "source": [
        "# reading csv file from drive and creating df\n",
        "subs = spark.read.csv('/content/drive/MyDrive/ocsv/noriginal.csv',header=True)\n",
        "subs.printSchema()"
      ],
      "metadata": {
        "colab": {
          "base_uri": "https://localhost:8080/"
        },
        "id": "TfKpQfqiarQ7",
        "outputId": "3eec4bc3-2404-4d0b-a955-792bead00841"
      },
      "execution_count": null,
      "outputs": [
        {
          "output_type": "stream",
          "name": "stdout",
          "text": [
            "root\n",
            " |-- id: string (nullable = true)\n",
            " |-- fname: string (nullable = true)\n",
            " |-- lname: string (nullable = true)\n",
            " |-- gender: string (nullable = true)\n",
            " |-- city: string (nullable = true)\n",
            " |-- jobtitle: string (nullable = true)\n",
            " |-- salary: string (nullable = true)\n",
            " |-- latitude: string (nullable = true)\n",
            " |-- longitude: string (nullable = true)\n",
            "\n"
          ]
        }
      ]
    },
    {
      "cell_type": "code",
      "source": [
        "subs = subs.withColumn('id',subs['id'].cast('integer'))\\\n",
        "           .withColumn('salary',subs['salary'].cast(\"float\"))\\\n",
        "           .withColumn('latitude',subs['latitude'].cast(\"float\"))\\\n",
        "           .withColumn('longitude',subs['longitude'].cast(\"float\"))\n",
        "subs.dtypes"
      ],
      "metadata": {
        "colab": {
          "base_uri": "https://localhost:8080/"
        },
        "id": "LsARSnPAmKnp",
        "outputId": "a6e7c703-13c4-46d9-8548-b467ef72b355"
      },
      "execution_count": null,
      "outputs": [
        {
          "output_type": "execute_result",
          "data": {
            "text/plain": [
              "[('id', 'int'),\n",
              " ('fname', 'string'),\n",
              " ('lname', 'string'),\n",
              " ('gender', 'string'),\n",
              " ('city', 'string'),\n",
              " ('jobtitle', 'string'),\n",
              " ('salary', 'float'),\n",
              " ('latitude', 'float'),\n",
              " ('longitude', 'float')]"
            ]
          },
          "metadata": {},
          "execution_count": 23
        }
      ]
    },
    {
      "cell_type": "code",
      "source": [
        "# # now using 'subs' df to work on groupBy()\n",
        "gsubs = subs.groupBy('jobtitle')\n",
        "gsum = gsubs.sum('salary')\n",
        "gsum.show(truncate=False) # sum of all their salaries grouped by jobtitles"
      ],
      "metadata": {
        "colab": {
          "base_uri": "https://localhost:8080/"
        },
        "id": "eD7G_NE-mXyG",
        "outputId": "b29734c1-5d1f-4168-b5a8-397eb197be70"
      },
      "execution_count": null,
      "outputs": [
        {
          "output_type": "stream",
          "name": "stdout",
          "text": [
            "+-----------------------------+----------------+\n",
            "|jobtitle                     |sum(salary)     |\n",
            "+-----------------------------+----------------+\n",
            "|Systems Administrator II     |264525.69921875 |\n",
            "|Media Manager III            |140905.0703125  |\n",
            "|Recruiting Manager           |367391.685546875|\n",
            "|Geologist III                |133739.40234375 |\n",
            "|Geologist II                 |86587.73046875  |\n",
            "|Database Administrator IV    |52018.4609375   |\n",
            "|Financial Analyst            |629598.33203125 |\n",
            "|Analyst Programmer           |374490.921875   |\n",
            "|Software Engineer II         |74782.640625    |\n",
            "|Accountant IV                |165464.49609375 |\n",
            "|Product Engineer             |622904.2734375  |\n",
            "|Software Test Engineer II    |356046.427734375|\n",
            "|Safety Technician III        |29421.529296875 |\n",
            "|Junior Executive             |391575.3046875  |\n",
            "|Systems Administrator III    |154118.4375     |\n",
            "|Human Resources Assistant III|162527.759765625|\n",
            "|VP Marketing                 |364954.279296875|\n",
            "|Environmental Tech           |356207.224609375|\n",
            "|Mechanical Systems Engineer  |908308.5        |\n",
            "|Assistant Professor          |490887.2421875  |\n",
            "+-----------------------------+----------------+\n",
            "only showing top 20 rows\n",
            "\n"
          ]
        }
      ]
    },
    {
      "cell_type": "code",
      "source": [
        "gcount = gsubs.count()\n",
        "gcount.show()"
      ],
      "metadata": {
        "id": "m2RLNJHzoGpX"
      },
      "execution_count": null,
      "outputs": []
    },
    {
      "cell_type": "code",
      "source": [
        "# finding avg sal of each jobtitle\n",
        "gavg = gsubs.avg('salary')\n",
        "gavg.show()"
      ],
      "metadata": {
        "id": "uRizNH_1pHR8"
      },
      "execution_count": null,
      "outputs": []
    },
    {
      "cell_type": "code",
      "source": [
        "#avg,max and min salary of each jobtitle\n",
        "masal = gsubs.max('salary')\n",
        "masal.show(truncate=False)\n",
        "#Systems Administrator II     94859.08"
      ],
      "metadata": {
        "id": "N0PtuVpZqIsH"
      },
      "execution_count": null,
      "outputs": []
    },
    {
      "cell_type": "code",
      "source": [
        "fsubs = subs.filter((subs['jobtitle'] == 'Systems Administrator II'))\n",
        "fsubs.show(truncate=False)"
      ],
      "metadata": {
        "colab": {
          "base_uri": "https://localhost:8080/"
        },
        "id": "zRaET4lRrpVV",
        "outputId": "ecfa93ed-cf22-4656-a4b2-cdc136c2f844"
      },
      "execution_count": null,
      "outputs": [
        {
          "output_type": "stream",
          "name": "stdout",
          "text": [
            "+---+----------+-----------+------+--------------+------------------------+--------+---------+-----------+\n",
            "|id |first_name|last_name  |gender|City          |JobTitle                |salary  |latitude |longitude  |\n",
            "+---+----------+-----------+------+--------------+------------------------+--------+---------+-----------+\n",
            "|185|Lezlie    |Tregea     |Female|El Salitre    |Systems Administrator II|94859.08|20.098057|-101.502785|\n",
            "|881|Frieda    |Castelluzzi|Female|Calebasses    |Systems Administrator II|77236.36|-20.11743|57.556107  |\n",
            "|956|Kinny     |Salmen     |Male  |Cergy-Pontoise|Systems Administrator II|62163.8 |49.039078|2.074954   |\n",
            "|961|Faun      |Jamieson   |Female|Bestala       |Systems Administrator II|30266.46|-8.245185|114.97245  |\n",
            "+---+----------+-----------+------+--------------+------------------------+--------+---------+-----------+\n",
            "\n"
          ]
        }
      ]
    },
    {
      "cell_type": "code",
      "source": [
        "# min salary\n",
        "minsal = gsubs.min('salary')\n",
        "minsal.show(truncate=False) # works fine"
      ],
      "metadata": {
        "id": "nG7tuxU9tdob"
      },
      "execution_count": null,
      "outputs": []
    },
    {
      "cell_type": "code",
      "source": [
        "# now finding all in 1 step\n",
        "gaggdf = gsubs.agg(max('salary'),min('salary'),avg('salary'),mean('salary'),sum('salary'))\n",
        "gaggdf.show()"
      ],
      "metadata": {
        "colab": {
          "base_uri": "https://localhost:8080/"
        },
        "id": "7yBeo4QXueck",
        "outputId": "f1879bbd-c061-47ad-8b9a-1489ee4262e1"
      },
      "execution_count": null,
      "outputs": [
        {
          "output_type": "stream",
          "name": "stdout",
          "text": [
            "+--------------------+-----------+-----------+------------------+------------------+----------------+\n",
            "|            jobtitle|max(salary)|min(salary)|       avg(salary)|       avg(salary)|     sum(salary)|\n",
            "+--------------------+-----------+-----------+------------------+------------------+----------------+\n",
            "|Systems Administr...|   94859.08|   30266.46|  66131.4248046875|  66131.4248046875| 264525.69921875|\n",
            "|   Media Manager III|   70306.29|   18453.02|46968.356770833336|46968.356770833336|  140905.0703125|\n",
            "|  Recruiting Manager|   97121.81|   31690.72|61231.947591145836|61231.947591145836|367391.685546875|\n",
            "|       Geologist III|   95247.14|   17134.96|    44579.80078125|    44579.80078125| 133739.40234375|\n",
            "|        Geologist II|   47990.34|   38597.39|   43293.865234375|   43293.865234375|  86587.73046875|\n",
            "|Database Administ...|   52018.46|   52018.46|     52018.4609375|     52018.4609375|   52018.4609375|\n",
            "|   Financial Analyst|   93817.51|   26980.55|   62959.833203125|   62959.833203125| 629598.33203125|\n",
            "|  Analyst Programmer|   74349.58|   16987.33|     37449.0921875|     37449.0921875|   374490.921875|\n",
            "|Software Engineer II|   74782.64|   74782.64|      74782.640625|      74782.640625|    74782.640625|\n",
            "|       Accountant IV|   99944.05|   65520.45|   82732.248046875|   82732.248046875| 165464.49609375|\n",
            "|    Product Engineer|   97140.86|   24608.84|    62290.42734375|    62290.42734375|  622904.2734375|\n",
            "|Software Test Eng...|   85459.88|   24315.72|  59341.0712890625|  59341.0712890625|356046.427734375|\n",
            "|Safety Technician...|   29421.53|   29421.53|   29421.529296875|   29421.529296875| 29421.529296875|\n",
            "|    Junior Executive|   94513.32|   34173.94|    65262.55078125|    65262.55078125|  391575.3046875|\n",
            "|Systems Administr...|   93902.37|   60216.07|       77059.21875|       77059.21875|     154118.4375|\n",
            "|Human Resources A...|   56333.77|   25091.42| 40631.93994140625| 40631.93994140625|162527.759765625|\n",
            "|        VP Marketing|   92910.72|   26039.31|60825.713216145836|60825.713216145836|364954.279296875|\n",
            "|  Environmental Tech|   94374.57|   11014.99|59367.870768229164|59367.870768229164|356207.224609375|\n",
            "|Mechanical System...|   95218.39|   42634.28|         75692.375|         75692.375|        908308.5|\n",
            "| Assistant Professor|   94224.48|   19415.08|    49088.72421875|    49088.72421875|  490887.2421875|\n",
            "+--------------------+-----------+-----------+------------------+------------------+----------------+\n",
            "only showing top 20 rows\n",
            "\n"
          ]
        }
      ]
    },
    {
      "cell_type": "code",
      "source": [
        "subs.show(5,truncate=False)"
      ],
      "metadata": {
        "colab": {
          "base_uri": "https://localhost:8080/"
        },
        "id": "jyWzbuRbu5ZW",
        "outputId": "8afbaa91-c44a-4b66-c249-f921d912750f"
      },
      "execution_count": null,
      "outputs": [
        {
          "output_type": "stream",
          "name": "stdout",
          "text": [
            "+---+--------+----------+------+-------------+----------------------------+--------+---------+----------+\n",
            "|id |fname   |lname     |gender|city         |jobtitle                    |salary  |latitude |longitude |\n",
            "+---+--------+----------+------+-------------+----------------------------+--------+---------+----------+\n",
            "|1  |Melinde |Shilburne |Female|Nowa Ruda    |Assistant Professor         |57438.18|50.577408|16.496717 |\n",
            "|2  |Kimberly|Von Welden|Female|Bulgan       |Programmer II               |62846.6 |48.82316 |103.52182 |\n",
            "|3  |Alvera  |Di Boldi  |Female|null         |null                        |57576.52|39.994747|116.339775|\n",
            "|4  |Shannon |O'Griffin |Male  |Divnomorskoye|Budget/Accounting Analyst II|61489.23|44.504723|38.130016 |\n",
            "|5  |Sherwood|Macieja   |Male  |Mytishchi    |VP Sales                    |63863.09|null     |37.648994 |\n",
            "+---+--------+----------+------+-------------+----------------------------+--------+---------+----------+\n",
            "only showing top 5 rows\n",
            "\n"
          ]
        }
      ]
    },
    {
      "cell_type": "code",
      "source": [
        "fsubs = subs.groupBy('jobtitle')\n",
        "sor = fsubs.count()\n",
        "sss = sor.sort('count',ascending=False)\n",
        "sss.show()"
      ],
      "metadata": {
        "colab": {
          "base_uri": "https://localhost:8080/"
        },
        "id": "i27CON5Kh7Zg",
        "outputId": "b8e57a82-1a76-4fb9-ba5d-eb45c353eedc"
      },
      "execution_count": null,
      "outputs": [
        {
          "output_type": "stream",
          "name": "stdout",
          "text": [
            "+--------------------+-----+\n",
            "|            jobtitle|count|\n",
            "+--------------------+-----+\n",
            "|Programmer Analyst I|    1|\n",
            "|Research Assistant I|    1|\n",
            "|Account Represent...|    1|\n",
            "|Database Administ...|    1|\n",
            "|         Engineer II|    1|\n",
            "|    Health Coach III|    1|\n",
            "|Budget/Accounting...|    1|\n",
            "|     Media Manager I|    1|\n",
            "|        Geologist IV|    1|\n",
            "|Office Assistant III|    1|\n",
            "|Programmer Analys...|    1|\n",
            "|Computer Systems ...|    1|\n",
            "|Safety Technician...|    1|\n",
            "|Safety Technician II|    1|\n",
            "|Database Administ...|    1|\n",
            "|Database Administ...|    1|\n",
            "| Safety Technician I|    1|\n",
            "|Software Test Eng...|    1|\n",
            "|      Statistician I|    1|\n",
            "|Software Engineer II|    1|\n",
            "+--------------------+-----+\n",
            "only showing top 20 rows\n",
            "\n"
          ]
        }
      ]
    },
    {
      "cell_type": "code",
      "source": [
        "# sorting a df based on salary range\n",
        "sortdf = subs.sort('salary',ascending=True)\n",
        "sortdf.show()"
      ],
      "metadata": {
        "id": "QY5cYKQUiyGp"
      },
      "execution_count": null,
      "outputs": []
    },
    {
      "cell_type": "code",
      "source": [
        "#using alias()\n",
        "fullname = subs.select(col('city').alias('ncity'))\n",
        "fullname.show()"
      ],
      "metadata": {
        "colab": {
          "base_uri": "https://localhost:8080/"
        },
        "id": "iPZ0vYf_jbLW",
        "outputId": "235cf209-2b4a-498b-b8cb-094bed70c67d"
      },
      "execution_count": null,
      "outputs": [
        {
          "output_type": "stream",
          "name": "stdout",
          "text": [
            "+---------------+\n",
            "|          ncity|\n",
            "+---------------+\n",
            "|      Nowa Ruda|\n",
            "|         Bulgan|\n",
            "|           null|\n",
            "|  Divnomorskoye|\n",
            "|      Mytishchi|\n",
            "|Kinsealy-Drinan|\n",
            "|         Dachun|\n",
            "|      Trélissac|\n",
            "|         Heitan|\n",
            "|       Arbeláez|\n",
            "|       El Cardo|\n",
            "|    Wangqingtuo|\n",
            "|      Sułkowice|\n",
            "|    Springfield|\n",
            "|         Chrást|\n",
            "|         Xijiao|\n",
            "|      Mieścisko|\n",
            "| Foros do Trapo|\n",
            "|    Jabungsisir|\n",
            "|          Pedra|\n",
            "+---------------+\n",
            "only showing top 20 rows\n",
            "\n"
          ]
        }
      ]
    },
    {
      "cell_type": "code",
      "source": [],
      "metadata": {
        "id": "IB3iml9hm-OW"
      },
      "execution_count": null,
      "outputs": []
    },
    {
      "cell_type": "markdown",
      "source": [
        "# YT df.na.drop()"
      ],
      "metadata": {
        "id": "A1Mi6LICCvlL"
      }
    },
    {
      "cell_type": "code",
      "source": [
        "ytdf = spark.read.csv('/content/drive/MyDrive/ocsv/nall.csv',header=True,inferSchema=True)\n",
        "ytdf.printSchema() #inferSchema"
      ],
      "metadata": {
        "colab": {
          "base_uri": "https://localhost:8080/"
        },
        "id": "O5DY473yC00p",
        "outputId": "ca79291d-85ac-41c4-9d29-e54e002a3c0d"
      },
      "execution_count": null,
      "outputs": [
        {
          "output_type": "stream",
          "name": "stdout",
          "text": [
            "root\n",
            " |-- id: integer (nullable = true)\n",
            " |-- name: string (nullable = true)\n",
            " |-- department: string (nullable = true)\n",
            " |-- salary: integer (nullable = true)\n",
            " |-- gender: string (nullable = true)\n",
            "\n"
          ]
        }
      ]
    },
    {
      "cell_type": "code",
      "source": [
        "ytdf.show()"
      ],
      "metadata": {
        "colab": {
          "base_uri": "https://localhost:8080/"
        },
        "id": "hjauF_72C9nH",
        "outputId": "bac2280c-1288-427b-b5de-0cead5293f4a"
      },
      "execution_count": null,
      "outputs": [
        {
          "output_type": "stream",
          "name": "stdout",
          "text": [
            "+---+-------+----------+------+------+\n",
            "| id|   name|department|salary|gender|\n",
            "+---+-------+----------+------+------+\n",
            "|  1|   John|       Doe| 50000|  Male|\n",
            "|  2|   Jane|     Smith|  null|Female|\n",
            "|  3| Robert|      null| 65000|  null|\n",
            "|  4|   Mary|   Johnson| 56000|Female|\n",
            "|  5|Michael|      null| 75000|  Male|\n",
            "|  6|  Susan|      null| 50000|Female|\n",
            "|  7|  David|    Miller|  null|  Male|\n",
            "|  8|  Linda|  Williams| 72000|  null|\n",
            "|  9|William|  Anderson|  null|  Male|\n",
            "| 10|  Emily|      null| 55000|Female|\n",
            "+---+-------+----------+------+------+\n",
            "\n"
          ]
        }
      ]
    },
    {
      "cell_type": "code",
      "source": [
        "# na.drop(how='any') -> If 'any', drop a row if it contains any nulls.\n",
        "# na.drop(how='all')If 'all', drop a row only if all its values are null.\n",
        "# thresh: int, optional\n",
        "nadf=ytdf.na.drop(how='any')\n",
        "nadf.show()"
      ],
      "metadata": {
        "colab": {
          "base_uri": "https://localhost:8080/"
        },
        "id": "jJlTtfU7DKJr",
        "outputId": "e73f4e64-844d-4bd5-905e-85975ed35b42"
      },
      "execution_count": null,
      "outputs": [
        {
          "output_type": "stream",
          "name": "stdout",
          "text": [
            "+---+----+----------+------+------+\n",
            "| id|name|department|salary|gender|\n",
            "+---+----+----------+------+------+\n",
            "|  1|John|       Doe| 50000|  Male|\n",
            "|  4|Mary|   Johnson| 56000|Female|\n",
            "+---+----+----------+------+------+\n",
            "\n"
          ]
        }
      ]
    },
    {
      "cell_type": "code",
      "source": [
        "nalldf = ytdf.na.drop(how='all')\n",
        "nalldf.show() #drops only if all row vals are null otherwise not effect"
      ],
      "metadata": {
        "colab": {
          "base_uri": "https://localhost:8080/"
        },
        "id": "fo1IS_bZIAYv",
        "outputId": "95e424e8-1c68-43ff-8a5b-98da058018a2"
      },
      "execution_count": null,
      "outputs": [
        {
          "output_type": "stream",
          "name": "stdout",
          "text": [
            "+---+-------+----------+------+------+\n",
            "| id|   name|department|salary|gender|\n",
            "+---+-------+----------+------+------+\n",
            "|  1|   John|       Doe| 50000|  Male|\n",
            "|  2|   Jane|     Smith|  null|Female|\n",
            "|  3| Robert|      null| 65000|  null|\n",
            "|  4|   Mary|   Johnson| 56000|Female|\n",
            "|  5|Michael|      null| 75000|  Male|\n",
            "|  6|  Susan|      null| 50000|Female|\n",
            "|  7|  David|    Miller|  null|  Male|\n",
            "|  8|  Linda|  Williams| 72000|  null|\n",
            "|  9|William|  Anderson|  null|  Male|\n",
            "| 10|  Emily|      null| 55000|Female|\n",
            "+---+-------+----------+------+------+\n",
            "\n"
          ]
        }
      ]
    },
    {
      "cell_type": "code",
      "source": [
        "nallth=nalldf.na.drop(how='any',thresh=3)\n",
        "nallth.show()"
      ],
      "metadata": {
        "colab": {
          "base_uri": "https://localhost:8080/"
        },
        "id": "FNYTFIClIRfn",
        "outputId": "9a7f316f-400f-44d5-adc7-08bca725d3ae"
      },
      "execution_count": null,
      "outputs": [
        {
          "output_type": "stream",
          "name": "stdout",
          "text": [
            "+---+-------+----------+------+------+\n",
            "| id|   name|department|salary|gender|\n",
            "+---+-------+----------+------+------+\n",
            "|  1|   John|       Doe| 50000|  Male|\n",
            "|  2|   Jane|     Smith|  null|Female|\n",
            "|  3| Robert|      null| 65000|  null|\n",
            "|  4|   Mary|   Johnson| 56000|Female|\n",
            "|  5|Michael|      null| 75000|  Male|\n",
            "|  6|  Susan|      null| 50000|Female|\n",
            "|  7|  David|    Miller|  null|  Male|\n",
            "|  8|  Linda|  Williams| 72000|  null|\n",
            "|  9|William|  Anderson|  null|  Male|\n",
            "| 10|  Emily|      null| 55000|Female|\n",
            "+---+-------+----------+------+------+\n",
            "\n"
          ]
        }
      ]
    },
    {
      "cell_type": "code",
      "source": [
        "#subset takes col name input and dels that row when col has null value\n",
        "nadsubs = ytdf.na.drop(how='any',subset=['department'])\n",
        "nadsubs.show() # returns null-less dept col"
      ],
      "metadata": {
        "colab": {
          "base_uri": "https://localhost:8080/"
        },
        "id": "2r-KUYdfJAi3",
        "outputId": "304b2e77-228c-44fd-fce3-c542dfe4b83d"
      },
      "execution_count": null,
      "outputs": [
        {
          "output_type": "stream",
          "name": "stdout",
          "text": [
            "+---+-------+----------+------+------+\n",
            "| id|   name|department|salary|gender|\n",
            "+---+-------+----------+------+------+\n",
            "|  1|   John|       Doe| 50000|  Male|\n",
            "|  2|   Jane|     Smith|  null|Female|\n",
            "|  4|   Mary|   Johnson| 56000|Female|\n",
            "|  7|  David|    Miller|  null|  Male|\n",
            "|  8|  Linda|  Williams| 72000|  null|\n",
            "|  9|William|  Anderson|  null|  Male|\n",
            "+---+-------+----------+------+------+\n",
            "\n"
          ]
        }
      ]
    },
    {
      "cell_type": "code",
      "source": [
        "# filling the null vals at all cols & rows\n",
        "alnulldf = ytdf.na.fill('no-null')\n",
        "alnulldf.show()"
      ],
      "metadata": {
        "colab": {
          "base_uri": "https://localhost:8080/"
        },
        "id": "IadvYwIsJxPl",
        "outputId": "850510bd-87c0-4428-9fc6-9b56568c5a53"
      },
      "execution_count": null,
      "outputs": [
        {
          "output_type": "stream",
          "name": "stdout",
          "text": [
            "+---+-------+----------+------+-------+\n",
            "| id|   name|department|salary| gender|\n",
            "+---+-------+----------+------+-------+\n",
            "|  1|   John|       Doe| 50000|   Male|\n",
            "|  2|   Jane|     Smith|  null| Female|\n",
            "|  3| Robert|   no-null| 65000|no-null|\n",
            "|  4|   Mary|   Johnson| 56000| Female|\n",
            "|  5|Michael|   no-null| 75000|   Male|\n",
            "|  6|  Susan|   no-null| 50000| Female|\n",
            "|  7|  David|    Miller|  null|   Male|\n",
            "|  8|  Linda|  Williams| 72000|no-null|\n",
            "|  9|William|  Anderson|  null|   Male|\n",
            "| 10|  Emily|   no-null| 55000| Female|\n",
            "+---+-------+----------+------+-------+\n",
            "\n"
          ]
        }
      ]
    },
    {
      "cell_type": "code",
      "source": [
        "# fill at specific cols\n",
        "spenuldf = ytdf.na.fill('NA',['gender'])\n",
        "spenuldf.show() # fills NA at gender nulls"
      ],
      "metadata": {
        "colab": {
          "base_uri": "https://localhost:8080/"
        },
        "id": "785ivKXQLX3v",
        "outputId": "9cdf44be-aa5a-49b8-9d58-bd65bf8e75a1"
      },
      "execution_count": null,
      "outputs": [
        {
          "output_type": "stream",
          "name": "stdout",
          "text": [
            "+---+-------+----------+------+------+\n",
            "| id|   name|department|salary|gender|\n",
            "+---+-------+----------+------+------+\n",
            "|  1|   John|       Doe| 50000|  Male|\n",
            "|  2|   Jane|     Smith|  null|Female|\n",
            "|  3| Robert|      null| 65000|    NA|\n",
            "|  4|   Mary|   Johnson| 56000|Female|\n",
            "|  5|Michael|      null| 75000|  Male|\n",
            "|  6|  Susan|      null| 50000|Female|\n",
            "|  7|  David|    Miller|  null|  Male|\n",
            "|  8|  Linda|  Williams| 72000|    NA|\n",
            "|  9|William|  Anderson|  null|  Male|\n",
            "| 10|  Emily|      null| 55000|Female|\n",
            "+---+-------+----------+------+------+\n",
            "\n"
          ]
        }
      ]
    },
    {
      "cell_type": "code",
      "source": [],
      "metadata": {
        "id": "M0P-o-spMQfZ"
      },
      "execution_count": null,
      "outputs": []
    },
    {
      "cell_type": "markdown",
      "source": [
        "# Filtering\n",
        "\n",
        "\n",
        "*   PySpark filter() function is used to create a new DataFrame by filtering the elements from an existing DataFrame based on the given condition or SQL expression. It is similar to Python’s filter() function but operates on distributed datasets. It is analogous to the SQL WHERE clause and allows you to apply filtering criteria to DataFrame rows.\n",
        "\n",
        "* Alternatively, if you have a background in SQL, you can opt to use the where() function instead of filter(). Both functions work identically. They generate a new DataFrame containing only the rows that satisfy the specified condition.\n",
        "  \n",
        "\n"
      ],
      "metadata": {
        "id": "O-WJsl1ipJeV"
      }
    },
    {
      "cell_type": "code",
      "source": [
        "# Imports\n",
        "from pyspark.sql import SparkSession\n",
        "from pyspark.sql.types import StructType,StructField\n",
        "from pyspark.sql.types import StringType, IntegerType, ArrayType"
      ],
      "metadata": {
        "id": "QUYrHD5HpgCS"
      },
      "execution_count": null,
      "outputs": []
    },
    {
      "cell_type": "code",
      "source": [
        "\n",
        "# Create data\n",
        "data = [\n",
        "    ((\"James\",\"\",\"Smith\"),[\"Java\",\"Scala\",\"C++\"],\"OH\",\"M\"),\n",
        "    ((\"Anna\",\"Rose\",\"\"),[\"Spark\",\"Java\",\"C++\"],\"NY\",\"F\"),\n",
        "    ((\"Julia\",\"\",\"Williams\"),[\"CSharp\",\"VB\"],\"OH\",\"F\"),\n",
        "    ((\"Maria\",\"Anne\",\"Jones\"),[\"CSharp\",\"VB\"],\"NY\",\"M\"),\n",
        "    ((\"Jen\",\"Mary\",\"Brown\"),[\"CSharp\",\"VB\"],\"NY\",\"M\"),\n",
        "    ((\"Mike\",\"Mary\",\"Williams\"),[\"Python\",\"VB\"],\"OH\",\"N\"),\n",
        "    ((\"sam\",\"garu\",\"\"),[\"scala\",\"Go\"],\"FU\",\"N\"),\n",
        "    ((\"\",\"Mary\",\"Jane\"),[\"Swift\",\"UK\",\"Shell\"],\"AP\",\"N\")\n",
        " ]\n",
        "\n",
        "# Create schema\n",
        "schema = StructType([\n",
        "     StructField('name', StructType([\n",
        "        StructField('firstname', StringType(), True),\n",
        "        StructField('middlename', StringType(), True),\n",
        "         StructField('lastname', StringType(), True)\n",
        "     ])),\n",
        "     StructField('languages', ArrayType(StringType()), True),\n",
        "     StructField('state', StringType(), True),\n",
        "     StructField('gender', StringType(), True)\n",
        " ])\n",
        "\n",
        "# Create dataframe\n",
        "adf = spark.createDataFrame(data = data, schema = schema)\n",
        "adf.printSchema()\n",
        "adf.show(3,truncate=False)"
      ],
      "metadata": {
        "colab": {
          "base_uri": "https://localhost:8080/"
        },
        "id": "C2pGBYpLpnrv",
        "outputId": "cdd5eff7-e272-4d15-a5f4-68488f6f4a63"
      },
      "execution_count": null,
      "outputs": [
        {
          "output_type": "stream",
          "name": "stdout",
          "text": [
            "root\n",
            " |-- name: struct (nullable = true)\n",
            " |    |-- firstname: string (nullable = true)\n",
            " |    |-- middlename: string (nullable = true)\n",
            " |    |-- lastname: string (nullable = true)\n",
            " |-- languages: array (nullable = true)\n",
            " |    |-- element: string (containsNull = true)\n",
            " |-- state: string (nullable = true)\n",
            " |-- gender: string (nullable = true)\n",
            "\n",
            "+-------------------+------------------+-----+------+\n",
            "|name               |languages         |state|gender|\n",
            "+-------------------+------------------+-----+------+\n",
            "|{James, , Smith}   |[Java, Scala, C++]|OH   |M     |\n",
            "|{Anna, Rose, }     |[Spark, Java, C++]|NY   |F     |\n",
            "|{Julia, , Williams}|[CSharp, VB]      |OH   |F     |\n",
            "+-------------------+------------------+-----+------+\n",
            "only showing top 3 rows\n",
            "\n"
          ]
        }
      ]
    },
    {
      "cell_type": "code",
      "source": [
        "# filtering with multiple conditions at a time &,|,\n",
        "adf.filter((adf['state']=='OH') & (adf['gender']=='N')).show(truncate=False)"
      ],
      "metadata": {
        "colab": {
          "base_uri": "https://localhost:8080/"
        },
        "id": "UL14r1HkqRT6",
        "outputId": "58515fdb-c890-4e44-9294-4452791b224b"
      },
      "execution_count": null,
      "outputs": [
        {
          "output_type": "stream",
          "name": "stdout",
          "text": [
            "+----------------------+------------+-----+------+\n",
            "|name                  |languages   |state|gender|\n",
            "+----------------------+------------+-----+------+\n",
            "|{Mike, Mary, Williams}|[Python, VB]|OH   |N     |\n",
            "+----------------------+------------+-----+------+\n",
            "\n"
          ]
        }
      ]
    },
    {
      "cell_type": "code",
      "source": [
        "# can apply multiple filters and select() at a time\n",
        "# Another expression\n",
        "adf.filter(~(adf.state == \"NY\")) \\\n",
        "    .filter(adf['gender']!= \"N\")\\\n",
        "    .select(adf.name,adf.state,adf.gender) \\\n",
        "    .show(truncate=False)"
      ],
      "metadata": {
        "colab": {
          "base_uri": "https://localhost:8080/"
        },
        "id": "1sQJdO9mqzHK",
        "outputId": "93774c5f-ab6a-4c62-9644-ec1abbb4ad67"
      },
      "execution_count": null,
      "outputs": [
        {
          "output_type": "stream",
          "name": "stdout",
          "text": [
            "+-------------------+-----+------+\n",
            "|name               |state|gender|\n",
            "+-------------------+-----+------+\n",
            "|{James, , Smith}   |OH   |M     |\n",
            "|{Julia, , Williams}|OH   |F     |\n",
            "+-------------------+-----+------+\n",
            "\n"
          ]
        }
      ]
    },
    {
      "cell_type": "code",
      "source": [],
      "metadata": {
        "id": "-L8qzYA59Xvf"
      },
      "execution_count": null,
      "outputs": []
    },
    {
      "cell_type": "code",
      "source": [
        "# Using col() Function\n",
        "'''You can also use the col() function to refer to the column name.\n",
        "In order to use this first, you need to import from pyspark.sql.functions import col'''\n",
        "# Using SQL col() function\n",
        "from pyspark.sql.functions import col\n",
        "adf.filter(col(\"state\") == \"OH\") \\\n",
        "    .show(truncate=False)"
      ],
      "metadata": {
        "colab": {
          "base_uri": "https://localhost:8080/"
        },
        "id": "b7vAKzAUsT4p",
        "outputId": "16931aa6-2b10-419e-dd24-9839ac1babcd"
      },
      "execution_count": null,
      "outputs": [
        {
          "output_type": "stream",
          "name": "stdout",
          "text": [
            "+----------------------+------------------+-----+------+\n",
            "|name                  |languages         |state|gender|\n",
            "+----------------------+------------------+-----+------+\n",
            "|{James, , Smith}      |[Java, Scala, C++]|OH   |M     |\n",
            "|{Julia, , Williams}   |[CSharp, VB]      |OH   |F     |\n",
            "|{Mike, Mary, Williams}|[Python, VB]      |OH   |N     |\n",
            "+----------------------+------------------+-----+------+\n",
            "\n"
          ]
        }
      ]
    },
    {
      "cell_type": "code",
      "source": [
        "adf.show(truncate=False)"
      ],
      "metadata": {
        "colab": {
          "base_uri": "https://localhost:8080/"
        },
        "id": "UupRCBIJtyGX",
        "outputId": "0d769935-264d-4a52-901e-a7116038fbcb"
      },
      "execution_count": null,
      "outputs": [
        {
          "output_type": "stream",
          "name": "stdout",
          "text": [
            "+----------------------+------------------+-----+------+\n",
            "|name                  |languages         |state|gender|\n",
            "+----------------------+------------------+-----+------+\n",
            "|{James, , Smith}      |[Java, Scala, C++]|OH   |M     |\n",
            "|{Anna, Rose, }        |[Spark, Java, C++]|NY   |F     |\n",
            "|{Julia, , Williams}   |[CSharp, VB]      |OH   |F     |\n",
            "|{Maria, Anne, Jones}  |[CSharp, VB]      |NY   |M     |\n",
            "|{Jen, Mary, Brown}    |[CSharp, VB]      |NY   |M     |\n",
            "|{Mike, Mary, Williams}|[Python, VB]      |OH   |N     |\n",
            "|{sam, garu, }         |[scala, Go]       |FU   |N     |\n",
            "|{, Mary, Jane}        |[Swift, UK, Shell]|AP   |N     |\n",
            "+----------------------+------------------+-----+------+\n",
            "\n"
          ]
        }
      ]
    },
    {
      "cell_type": "code",
      "source": [
        "# Using SQL Expression, '==', !=, <>\n",
        "adf.filter(\"gender == 'M'\").show()"
      ],
      "metadata": {
        "colab": {
          "base_uri": "https://localhost:8080/"
        },
        "id": "46nfjcQfs-vP",
        "outputId": "dd54cb33-a2ea-48bc-fef2-df6ba17b96a2"
      },
      "execution_count": null,
      "outputs": [
        {
          "output_type": "stream",
          "name": "stdout",
          "text": [
            "+--------------------+------------------+-----+------+\n",
            "|                name|         languages|state|gender|\n",
            "+--------------------+------------------+-----+------+\n",
            "|    {James, , Smith}|[Java, Scala, C++]|   OH|     M|\n",
            "|{Maria, Anne, Jones}|      [CSharp, VB]|   NY|     M|\n",
            "|  {Jen, Mary, Brown}|      [CSharp, VB]|   NY|     M|\n",
            "+--------------------+------------------+-----+------+\n",
            "\n"
          ]
        }
      ]
    },
    {
      "cell_type": "code",
      "source": [
        "#Filter Based on List Values\n",
        "''' The isin() function from the Python Column class allows you to filter a DataFrame based on whether the values in a particular column match any\n",
        "of the values in a specified list. And, to check not isin() you have to use the not operator (~)'''\n",
        "# Filter IS IN List values\n",
        "li=[\"OH\",\"FU\",\"AP\"]\n",
        "adf.filter(adf.state.isin(li)).show()"
      ],
      "metadata": {
        "colab": {
          "base_uri": "https://localhost:8080/"
        },
        "id": "c3OLhXtqtHod",
        "outputId": "9f9a550a-6394-4353-adef-ed97c37820dd"
      },
      "execution_count": null,
      "outputs": [
        {
          "output_type": "stream",
          "name": "stdout",
          "text": [
            "+--------------------+------------------+-----+------+\n",
            "|                name|         languages|state|gender|\n",
            "+--------------------+------------------+-----+------+\n",
            "|    {James, , Smith}|[Java, Scala, C++]|   OH|     M|\n",
            "| {Julia, , Williams}|      [CSharp, VB]|   OH|     F|\n",
            "|{Mike, Mary, Will...|      [Python, VB]|   OH|     N|\n",
            "|       {sam, garu, }|       [scala, Go]|   FU|     N|\n",
            "|      {, Mary, Jane}|[Swift, UK, Shell]|   AP|     N|\n",
            "+--------------------+------------------+-----+------+\n",
            "\n"
          ]
        }
      ]
    },
    {
      "cell_type": "code",
      "source": [
        "#  Filter Based on Starts With, Ends With, Contains\n",
        "adf.filter(adf.state.startswith(\"O\")).show()"
      ],
      "metadata": {
        "colab": {
          "base_uri": "https://localhost:8080/"
        },
        "id": "-dSu7G9dtpbV",
        "outputId": "67c4297c-c5e5-4336-c0b4-aec046e39f20"
      },
      "execution_count": null,
      "outputs": [
        {
          "output_type": "stream",
          "name": "stdout",
          "text": [
            "+--------------------+------------------+-----+------+\n",
            "|                name|         languages|state|gender|\n",
            "+--------------------+------------------+-----+------+\n",
            "|    {James, , Smith}|[Java, Scala, C++]|   OH|     M|\n",
            "| {Julia, , Williams}|      [CSharp, VB]|   OH|     F|\n",
            "|{Mike, Mary, Will...|      [Python, VB]|   OH|     N|\n",
            "+--------------------+------------------+-----+------+\n",
            "\n"
          ]
        }
      ]
    },
    {
      "cell_type": "code",
      "source": [
        "# Filtering Array column\n",
        "''' To filter DataFrame rows based on the presence of a value within an\n",
        " array-type column, you can employ the first syntax. The following example\n",
        "  uses array_contains() from PySpark SQL functions. This function examines whether a value is contained within an array.\n",
        "   If the value is found, it returns true; otherwise, it returns false.'''\n",
        "\n",
        "# Using array_contains()\n",
        "from pyspark.sql.functions import array_contains\n",
        "adf.filter(array_contains(adf.languages,\"Java\")) \\\n",
        "    .show(truncate=False)\n"
      ],
      "metadata": {
        "colab": {
          "base_uri": "https://localhost:8080/"
        },
        "id": "OSfxgTgluOR9",
        "outputId": "9f84b1bc-d1e4-43a0-c3db-275a8c4bebde"
      },
      "execution_count": null,
      "outputs": [
        {
          "output_type": "stream",
          "name": "stdout",
          "text": [
            "+----------------+------------------+-----+------+\n",
            "|name            |languages         |state|gender|\n",
            "+----------------+------------------+-----+------+\n",
            "|{James, , Smith}|[Java, Scala, C++]|OH   |M     |\n",
            "|{Anna, Rose, }  |[Spark, Java, C++]|NY   |F     |\n",
            "+----------------+------------------+-----+------+\n",
            "\n"
          ]
        }
      ]
    },
    {
      "cell_type": "code",
      "source": [
        "# arrays and lists\n",
        "adf.filter(array_containsns(adf.languages,[\"Java\",\"VB\",\"Go\"]))\\\n",
        "   .show(truncate=False)\n",
        "   #not working need to check"
      ],
      "metadata": {
        "id": "3o6RXDb_wO5t"
      },
      "execution_count": null,
      "outputs": []
    },
    {
      "cell_type": "code",
      "source": [
        "# Filtering on Nested Struct columns\n",
        "#In case your DataFrame consists of nested struct columns, you can use any of the above syntaxes to filter the rows based on the nested column.\n",
        "adf.printSchema()"
      ],
      "metadata": {
        "colab": {
          "base_uri": "https://localhost:8080/"
        },
        "id": "upJXefDj3A9K",
        "outputId": "b2c0b2dc-3032-49e7-add6-da13c4d1aced"
      },
      "execution_count": null,
      "outputs": [
        {
          "output_type": "stream",
          "name": "stdout",
          "text": [
            "root\n",
            " |-- name: struct (nullable = true)\n",
            " |    |-- firstname: string (nullable = true)\n",
            " |    |-- middlename: string (nullable = true)\n",
            " |    |-- lastname: string (nullable = true)\n",
            " |-- languages: array (nullable = true)\n",
            " |    |-- element: string (containsNull = true)\n",
            " |-- state: string (nullable = true)\n",
            " |-- gender: string (nullable = true)\n",
            "\n"
          ]
        }
      ]
    },
    {
      "cell_type": "code",
      "source": [
        "adf.filter((adf.name.firstname==\"Rose\") | (~(adf.name.middlename==\"Anne\"))) \\\n",
        "   .show(truncate=False)"
      ],
      "metadata": {
        "id": "HiHfCTJY36l0"
      },
      "execution_count": null,
      "outputs": []
    },
    {
      "cell_type": "code",
      "source": [
        "adf.select('*').show(truncate=False)"
      ],
      "metadata": {
        "colab": {
          "base_uri": "https://localhost:8080/"
        },
        "id": "3C-YCwLH9z0r",
        "outputId": "76a82da1-b397-4c7a-c1cc-0efcf3e061da"
      },
      "execution_count": null,
      "outputs": [
        {
          "output_type": "stream",
          "name": "stdout",
          "text": [
            "+----------------------+------------------+-----+------+\n",
            "|name                  |languages         |state|gender|\n",
            "+----------------------+------------------+-----+------+\n",
            "|{James, , Smith}      |[Java, Scala, C++]|OH   |M     |\n",
            "|{Anna, Rose, }        |[Spark, Java, C++]|NY   |F     |\n",
            "|{Julia, , Williams}   |[CSharp, VB]      |OH   |F     |\n",
            "|{Maria, Anne, Jones}  |[CSharp, VB]      |NY   |M     |\n",
            "|{Jen, Mary, Brown}    |[CSharp, VB]      |NY   |M     |\n",
            "|{Mike, Mary, Williams}|[Python, VB]      |OH   |N     |\n",
            "|{sam, garu, }         |[scala, Go]       |FU   |N     |\n",
            "|{, Mary, Jane}        |[Swift, UK, Shell]|AP   |N     |\n",
            "+----------------------+------------------+-----+------+\n",
            "\n"
          ]
        }
      ]
    },
    {
      "cell_type": "code",
      "source": [
        "adf.select(adf.name.firstname,adf.name.lastname,adf.gender)\\\n",
        "   .filter(adf.name.firstname.like(\"%ia%\")).show()"
      ],
      "metadata": {
        "colab": {
          "base_uri": "https://localhost:8080/"
        },
        "id": "yN1w_rKy4iRB",
        "outputId": "32efbf5e-1248-4dc5-99a9-e89c62bc11da"
      },
      "execution_count": null,
      "outputs": [
        {
          "output_type": "stream",
          "name": "stdout",
          "text": [
            "+--------------+-------------+------+\n",
            "|name.firstname|name.lastname|gender|\n",
            "+--------------+-------------+------+\n",
            "|         Julia|     Williams|     F|\n",
            "|         Maria|        Jones|     M|\n",
            "+--------------+-------------+------+\n",
            "\n"
          ]
        }
      ]
    },
    {
      "cell_type": "code",
      "source": [
        "# mounting the google drive to colab\n",
        "from google.colab import drive\n",
        "drive.mount('/content/drive')"
      ],
      "metadata": {
        "colab": {
          "base_uri": "https://localhost:8080/"
        },
        "id": "oa1p1RInnEgj",
        "outputId": "a2ec66be-6a3a-412b-db7d-90d5dbac0fae"
      },
      "execution_count": null,
      "outputs": [
        {
          "output_type": "stream",
          "name": "stdout",
          "text": [
            "Mounted at /content/drive\n"
          ]
        }
      ]
    },
    {
      "cell_type": "code",
      "source": [],
      "metadata": {
        "id": "m_PzeyVsP5mN"
      },
      "execution_count": null,
      "outputs": []
    },
    {
      "cell_type": "markdown",
      "source": [
        "# adding new rows,data,isNull,isNotNull etc"
      ],
      "metadata": {
        "id": "YUScBre-_Yjy"
      }
    },
    {
      "cell_type": "code",
      "source": [
        "schema = StructType([\n",
        "     StructField('name', StructType([\n",
        "        StructField('firstname', StringType(), True),\n",
        "        StructField('middlename', StringType(), True),\n",
        "         StructField('lastname', StringType(), True)\n",
        "     ])),\n",
        "     StructField('languages', ArrayType(StringType()), True),\n",
        "     StructField('state', StringType(), True),\n",
        "     StructField('gender', StringType(), True)\n",
        " ])\n",
        "new_row = spark.createDataFrame \\\n",
        "    ([((\"Anna\",\"Rose\",\"\"),[\"Spark\",\"Java\",\"C++\"],\"NY\",\"F\"),\n",
        "    ((\"Julia\",\"\",\"Williams\"),[\"CSharp\",\"VB\"],\"OH\",\"F\"),\n",
        "    ((\"Maria\",\"Anne\",\"Jones\"),[\"CSharp\",\"VB\"],\"NY\",\"M\")],\n",
        "     schema=schema)"
      ],
      "metadata": {
        "id": "PrwOr4i9-Fa7"
      },
      "execution_count": null,
      "outputs": []
    },
    {
      "cell_type": "code",
      "source": [
        "# using union() & append() to add data to adf\n",
        "udf = adf.union(new_row)\n",
        "#udf = adf.append(new_row)"
      ],
      "metadata": {
        "id": "Tm9cfGz7ASpm"
      },
      "execution_count": null,
      "outputs": []
    },
    {
      "cell_type": "code",
      "source": [
        "udf.show(truncate=False)"
      ],
      "metadata": {
        "colab": {
          "base_uri": "https://localhost:8080/"
        },
        "id": "dASDtNtPBGAs",
        "outputId": "a18f821b-9e8b-4f7c-c209-991af983008f"
      },
      "execution_count": null,
      "outputs": [
        {
          "output_type": "stream",
          "name": "stdout",
          "text": [
            "+----------------------+------------------+-----+------+\n",
            "|name                  |languages         |state|gender|\n",
            "+----------------------+------------------+-----+------+\n",
            "|{James, , Smith}      |[Java, Scala, C++]|OH   |M     |\n",
            "|{Anna, Rose, }        |[Spark, Java, C++]|NY   |F     |\n",
            "|{Julia, , Williams}   |[CSharp, VB]      |OH   |F     |\n",
            "|{Maria, Anne, Jones}  |[CSharp, VB]      |NY   |M     |\n",
            "|{Jen, Mary, Brown}    |[CSharp, VB]      |NY   |M     |\n",
            "|{Mike, Mary, Williams}|[Python, VB]      |OH   |N     |\n",
            "|{sam, garu, }         |[scala, Go]       |FU   |N     |\n",
            "|{, Mary, Jane}        |[Swift, UK, Shell]|AP   |N     |\n",
            "|{Anna, Rose, }        |[Spark, Java, C++]|NY   |F     |\n",
            "|{Julia, , Williams}   |[CSharp, VB]      |OH   |F     |\n",
            "|{Maria, Anne, Jones}  |[CSharp, VB]      |NY   |M     |\n",
            "+----------------------+------------------+-----+------+\n",
            "\n"
          ]
        }
      ]
    },
    {
      "cell_type": "code",
      "source": [
        "udf.filter(\"state is Not NULL\").show()\n",
        "# Filtering  NULL rows\n",
        "# df.filter(\"NOT state is NULL\").show()\n",
        "# df.filter(df.state.isNull()).show()\n",
        "# df.filter(col(\"state\").isNull()).show()\n",
        "# ---\n",
        "# Filtering on multiple Columns\n",
        "df.filter(\"state IS NULL AND gender IS NULL\").show()\n",
        "df.filter(df.state.isNull() & df.gender.isNull()).show()"
      ],
      "metadata": {
        "colab": {
          "base_uri": "https://localhost:8080/"
        },
        "id": "7_AUnrfEDTnQ",
        "outputId": "1e30d794-fb51-4750-ef45-8eb60ad6fbf2"
      },
      "execution_count": null,
      "outputs": [
        {
          "output_type": "stream",
          "name": "stdout",
          "text": [
            "+--------------------+------------------+-----+------+\n",
            "|                name|         languages|state|gender|\n",
            "+--------------------+------------------+-----+------+\n",
            "|    {James, , Smith}|[Java, Scala, C++]|   OH|     M|\n",
            "|      {Anna, Rose, }|[Spark, Java, C++]|   NY|     F|\n",
            "| {Julia, , Williams}|      [CSharp, VB]|   OH|     F|\n",
            "|{Maria, Anne, Jones}|      [CSharp, VB]|   NY|     M|\n",
            "|  {Jen, Mary, Brown}|      [CSharp, VB]|   NY|     M|\n",
            "|{Mike, Mary, Will...|      [Python, VB]|   OH|     N|\n",
            "|       {sam, garu, }|       [scala, Go]|   FU|     N|\n",
            "|      {, Mary, Jane}|[Swift, UK, Shell]|   AP|     N|\n",
            "|      {Anna, Rose, }|[Spark, Java, C++]|   NY|     F|\n",
            "| {Julia, , Williams}|      [CSharp, VB]|   OH|     F|\n",
            "|{Maria, Anne, Jones}|      [CSharp, VB]|   NY|     M|\n",
            "+--------------------+------------------+-----+------+\n",
            "\n"
          ]
        }
      ]
    },
    {
      "cell_type": "code",
      "source": [
        "dataa = [\n",
        "    (\"James\",None,\"M\"),\n",
        "    (\"Anna\",\"NY\",\"F\"),\n",
        "    (\"Julia\",None,None)\n",
        "]\n",
        "\n",
        "columns = [\"name\",\"state\",\"gender\"]\n",
        "ndf =spark.createDataFrame(dataa,columns)\n",
        "\n",
        "ndf.printSchema()\n",
        "ndf.show()"
      ],
      "metadata": {
        "colab": {
          "base_uri": "https://localhost:8080/"
        },
        "id": "E9AQ4PMbDl_m",
        "outputId": "3bf2379a-f259-4a26-f5b1-575c2c361c61"
      },
      "execution_count": null,
      "outputs": [
        {
          "output_type": "stream",
          "name": "stdout",
          "text": [
            "root\n",
            " |-- name: string (nullable = true)\n",
            " |-- state: string (nullable = true)\n",
            " |-- gender: string (nullable = true)\n",
            "\n",
            "+-----+-----+------+\n",
            "| name|state|gender|\n",
            "+-----+-----+------+\n",
            "|James| null|     M|\n",
            "| Anna|   NY|     F|\n",
            "|Julia| null|  null|\n",
            "+-----+-----+------+\n",
            "\n"
          ]
        }
      ]
    },
    {
      "cell_type": "code",
      "source": [
        "print(ndf.filter(ndf.state.isNull()).count())"
      ],
      "metadata": {
        "colab": {
          "base_uri": "https://localhost:8080/"
        },
        "id": "agEnLOZXEJTH",
        "outputId": "17de91a2-65b4-43d8-b9a4-cd7f7fc50665"
      },
      "execution_count": null,
      "outputs": [
        {
          "output_type": "stream",
          "name": "stdout",
          "text": [
            "2\n"
          ]
        }
      ]
    },
    {
      "cell_type": "code",
      "source": [],
      "metadata": {
        "id": "t4sR_LI0QIFC"
      },
      "execution_count": null,
      "outputs": []
    },
    {
      "cell_type": "markdown",
      "source": [
        "# count on null non-null"
      ],
      "metadata": {
        "id": "vkLs5dzoFpPQ"
      }
    },
    {
      "cell_type": "code",
      "source": [
        "from pyspark.sql.functions import when, count, col\n",
        "\n",
        "ndf.select(count(ndf.state).alias('statecount'),count(ndf.name).alias('namecount')).show()"
      ],
      "metadata": {
        "colab": {
          "base_uri": "https://localhost:8080/"
        },
        "id": "L1psQYqkFdpW",
        "outputId": "580768c6-3e97-4662-8792-6afa0ed31907"
      },
      "execution_count": null,
      "outputs": [
        {
          "output_type": "stream",
          "name": "stdout",
          "text": [
            "+----------+---------+\n",
            "|statecount|namecount|\n",
            "+----------+---------+\n",
            "|         1|        3|\n",
            "+----------+---------+\n",
            "\n"
          ]
        }
      ]
    },
    {
      "cell_type": "code",
      "source": [],
      "metadata": {
        "id": "wS7L0CgGHSTP"
      },
      "execution_count": null,
      "outputs": []
    },
    {
      "cell_type": "markdown",
      "source": [
        "# withColumn, withColumnRenamed"
      ],
      "metadata": {
        "id": "8xMvBXvUMv2v"
      }
    },
    {
      "cell_type": "code",
      "source": [
        "data = [('James','','Smith','1991-04-01','M',3000),\n",
        "  ('Michael','Rose','','2000-05-19','M',4000),\n",
        "  ('Robert','','Williams','1978-09-05','M',4000),\n",
        "  ('Maria','Anne','Jones','1967-12-01','F',4000),\n",
        "  ('Jen','Mary','Brown','1980-02-17','F',-1)\n",
        "]\n",
        "\n",
        "columns = [\"firstname\",\"middlename\",\"lastname\",\"dob\",\"gender\",\"salary\"]\n",
        "\n",
        "wdf = spark.createDataFrame(data=data,schema=columns)\n",
        "wdf.printSchema()"
      ],
      "metadata": {
        "colab": {
          "base_uri": "https://localhost:8080/"
        },
        "id": "m07_zVb_M6e0",
        "outputId": "bcf68edb-0ea8-4d9b-8a19-ff7af8ad06b5"
      },
      "execution_count": null,
      "outputs": [
        {
          "output_type": "stream",
          "name": "stdout",
          "text": [
            "root\n",
            " |-- firstname: string (nullable = true)\n",
            " |-- middlename: string (nullable = true)\n",
            " |-- lastname: string (nullable = true)\n",
            " |-- dob: string (nullable = true)\n",
            " |-- gender: string (nullable = true)\n",
            " |-- salary: long (nullable = true)\n",
            "\n"
          ]
        }
      ]
    },
    {
      "cell_type": "code",
      "source": [
        "\n",
        "from pyspark.sql.types import DateType\n",
        "#changing datatype with cast()\n",
        "wdf = wdf.withColumn('salary',col('salary').cast('Integer')) \\\n",
        "         .withColumn('dob',col('dob').cast(DateType()))\n",
        "wdf.dtypes"
      ],
      "metadata": {
        "colab": {
          "base_uri": "https://localhost:8080/"
        },
        "id": "ZPjROGwyNpOg",
        "outputId": "a4814c4a-4ed5-47b2-82d1-a1d15bd8e4f1"
      },
      "execution_count": null,
      "outputs": [
        {
          "output_type": "execute_result",
          "data": {
            "text/plain": [
              "[('firstname', 'string'),\n",
              " ('middlename', 'string'),\n",
              " ('lastname', 'string'),\n",
              " ('dob', 'date'),\n",
              " ('gender', 'string'),\n",
              " ('salary', 'int')]"
            ]
          },
          "metadata": {},
          "execution_count": 78
        }
      ]
    },
    {
      "cell_type": "code",
      "source": [
        "h = wdf.withColumn('hike_salary',col('salary')*3)\n",
        "h.show()"
      ],
      "metadata": {
        "colab": {
          "base_uri": "https://localhost:8080/"
        },
        "id": "oZPKSXWQOKCx",
        "outputId": "ada61d57-2796-4a4b-b2dc-7aa8d957a842"
      },
      "execution_count": null,
      "outputs": [
        {
          "output_type": "stream",
          "name": "stdout",
          "text": [
            "+---------+----------+--------+----------+------+------+-----------+\n",
            "|firstname|middlename|lastname|       dob|gender|salary|hike_salary|\n",
            "+---------+----------+--------+----------+------+------+-----------+\n",
            "|    James|          |   Smith|1991-04-01|     M|  3000|       9000|\n",
            "|  Michael|      Rose|        |2000-05-19|     M|  4000|      12000|\n",
            "|   Robert|          |Williams|1978-09-05|     M|  4000|      12000|\n",
            "|    Maria|      Anne|   Jones|1967-12-01|     F|  4000|      12000|\n",
            "|      Jen|      Mary|   Brown|1980-02-17|     F|    -1|         -3|\n",
            "+---------+----------+--------+----------+------+------+-----------+\n",
            "\n"
          ]
        }
      ]
    },
    {
      "cell_type": "code",
      "source": [
        "#adding new cols with constant data with lit()\n",
        "from pyspark.sql.functions import lit\n",
        "ldf = wdf.withColumn('country',lit(\"JKS\")) \\\n",
        "         .withColumn('state',lit(\"stateless\"))\n",
        "\n",
        "ldf.show()"
      ],
      "metadata": {
        "colab": {
          "base_uri": "https://localhost:8080/"
        },
        "id": "obkBnzUsPaoe",
        "outputId": "71b2f6f1-6609-4d10-f55d-b26406f153eb"
      },
      "execution_count": null,
      "outputs": [
        {
          "output_type": "stream",
          "name": "stdout",
          "text": [
            "+---------+----------+--------+----------+------+------+-------+---------+\n",
            "|firstname|middlename|lastname|       dob|gender|salary|country|    state|\n",
            "+---------+----------+--------+----------+------+------+-------+---------+\n",
            "|    James|          |   Smith|1991-04-01|     M|  3000|    JKS|stateless|\n",
            "|  Michael|      Rose|        |2000-05-19|     M|  4000|    JKS|stateless|\n",
            "|   Robert|          |Williams|1978-09-05|     M|  4000|    JKS|stateless|\n",
            "|    Maria|      Anne|   Jones|1967-12-01|     F|  4000|    JKS|stateless|\n",
            "|      Jen|      Mary|   Brown|1980-02-17|     F|    -1|    JKS|stateless|\n",
            "+---------+----------+--------+----------+------+------+-------+---------+\n",
            "\n"
          ]
        }
      ]
    },
    {
      "cell_type": "code",
      "source": [
        "wdf.withColumnRenamed(\"salary\",\"oldsalary\").show()"
      ],
      "metadata": {
        "colab": {
          "base_uri": "https://localhost:8080/"
        },
        "id": "aaxWpLIgSw3M",
        "outputId": "c8953807-0606-475a-ebcb-80c04eaba6c5"
      },
      "execution_count": null,
      "outputs": [
        {
          "output_type": "stream",
          "name": "stdout",
          "text": [
            "+---------+----------+--------+----------+------+---------+\n",
            "|firstname|middlename|lastname|       dob|gender|oldsalary|\n",
            "+---------+----------+--------+----------+------+---------+\n",
            "|    James|          |   Smith|1991-04-01|     M|     3000|\n",
            "|  Michael|      Rose|        |2000-05-19|     M|     4000|\n",
            "|   Robert|          |Williams|1978-09-05|     M|     4000|\n",
            "|    Maria|      Anne|   Jones|1967-12-01|     F|     4000|\n",
            "|      Jen|      Mary|   Brown|1980-02-17|     F|       -1|\n",
            "+---------+----------+--------+----------+------+---------+\n",
            "\n"
          ]
        }
      ]
    },
    {
      "cell_type": "code",
      "source": [],
      "metadata": {
        "id": "olDOi2tAQfUu"
      },
      "execution_count": null,
      "outputs": []
    },
    {
      "cell_type": "markdown",
      "source": [
        "# case when with expr()"
      ],
      "metadata": {
        "id": "agDcQjk2KRsE"
      }
    },
    {
      "cell_type": "code",
      "source": [
        "from pyspark.sql.functions import expr\n",
        "data = [(\"James\",\"M\"),(\"Michael\",\"F\"),(\"Jen\",\"\"),\n",
        "        (\"boda\",\"N\"),(\"hellen\",\"F\"),(\"kaira\",\"\")]\n",
        "columns = [\"name\",\"gender\"]\n",
        "df = spark.createDataFrame(data = data, schema = columns)\n",
        "df.show()"
      ],
      "metadata": {
        "id": "5_LooSXcUwZi",
        "colab": {
          "base_uri": "https://localhost:8080/"
        },
        "outputId": "11ed7de4-3140-4379-f652-360e33ec59e6"
      },
      "execution_count": null,
      "outputs": [
        {
          "output_type": "stream",
          "name": "stdout",
          "text": [
            "+-------+------+\n",
            "|   name|gender|\n",
            "+-------+------+\n",
            "|  James|     M|\n",
            "|Michael|     F|\n",
            "|    Jen|      |\n",
            "|   boda|     N|\n",
            "| hellen|     F|\n",
            "|  kaira|      |\n",
            "+-------+------+\n",
            "\n"
          ]
        }
      ]
    },
    {
      "cell_type": "code",
      "source": [
        "df1= df.withColumn(\"gender\",expr(\"case when gender ='M' then 'Male'\"\n",
        "                    + \"when gender ='F' then 'Female'\"\n",
        "                    + \"when  gender='N' then 'Neutral'\"\n",
        "                    + \" else 'Gay' End\"))\n",
        "\n",
        "df1.show()"
      ],
      "metadata": {
        "colab": {
          "base_uri": "https://localhost:8080/"
        },
        "id": "WWdOVMNvLOgn",
        "outputId": "3aa47984-34cb-4bcf-985b-d78569493629"
      },
      "execution_count": null,
      "outputs": [
        {
          "output_type": "stream",
          "name": "stdout",
          "text": [
            "+-------+-------+\n",
            "|   name| gender|\n",
            "+-------+-------+\n",
            "|  James|   Male|\n",
            "|Michael| Female|\n",
            "|    Jen|    Gay|\n",
            "|   boda|Neutral|\n",
            "| hellen| Female|\n",
            "|  kaira|    Gay|\n",
            "+-------+-------+\n",
            "\n"
          ]
        }
      ]
    },
    {
      "cell_type": "code",
      "source": [
        "df1 = df1.withColumnRenamed('gender','sex')\n",
        "df1.show()"
      ],
      "metadata": {
        "id": "XoIDDU65L28k"
      },
      "execution_count": null,
      "outputs": []
    },
    {
      "cell_type": "code",
      "source": [
        "df1.withColumn('age',expr(\"case when name like '%e%' then 25\"\n",
        "                +\"when name like '%a%' then 45 else End\"))\n",
        "\n",
        "df1.show()"
      ],
      "metadata": {
        "id": "ZbhkhJ2dMhAp"
      },
      "execution_count": null,
      "outputs": []
    },
    {
      "cell_type": "code",
      "source": [
        "display(df1)"
      ],
      "metadata": {
        "colab": {
          "base_uri": "https://localhost:8080/",
          "height": 35
        },
        "id": "jHf65sTQQ-Nn",
        "outputId": "b5478eee-ab2d-4c2f-cdfc-506b9352addf"
      },
      "execution_count": null,
      "outputs": [
        {
          "output_type": "display_data",
          "data": {
            "text/plain": [
              "DataFrame[name: string, sex: string]"
            ]
          },
          "metadata": {}
        }
      ]
    },
    {
      "cell_type": "code",
      "source": [],
      "metadata": {
        "id": "2xlAO1SNVMUc"
      },
      "execution_count": null,
      "outputs": []
    },
    {
      "cell_type": "markdown",
      "source": [
        "# DataFrame JOINS\n"
      ],
      "metadata": {
        "id": "s2T3MYYoNLJ8"
      }
    },
    {
      "cell_type": "code",
      "source": [
        "from pyspark.sql import Row\n",
        "from pyspark.sql.functions import desc\n",
        "df1 = spark.createDataFrame([(2, \"Alice\"), (5, \"Bob\")]).toDF(\"age\", \"name\")\n",
        "df2 = spark.createDataFrame([Row(height=80, name=\"Tom\"), Row(height=85, name=\"Bob\")])\n",
        "df3 = spark.createDataFrame([Row(age=2, name=\"Alice\"), Row(age=5, name=\"Bob\")])\n",
        "df4 = spark.createDataFrame([\n",
        "    Row(age=10, height=80, name=\"Alice\"),\n",
        "    Row(age=5, height=None, name=\"Bob\"),\n",
        "    Row(age=None, height=None, name=\"Tom\"),\n",
        "    Row(age=None, height=None, name=None),\n",
        "])"
      ],
      "metadata": {
        "id": "DGn6bMmEM54i"
      },
      "execution_count": null,
      "outputs": []
    },
    {
      "cell_type": "code",
      "source": [
        "df1.show()\n",
        "df2.show()\n",
        "df4.show()"
      ],
      "metadata": {
        "colab": {
          "base_uri": "https://localhost:8080/"
        },
        "id": "F7voV-JFNZSr",
        "outputId": "9e19307c-0bea-4782-a202-a2c9fcb4de80"
      },
      "execution_count": null,
      "outputs": [
        {
          "output_type": "stream",
          "name": "stdout",
          "text": [
            "+---+-----+\n",
            "|age| name|\n",
            "+---+-----+\n",
            "|  2|Alice|\n",
            "|  5|  Bob|\n",
            "+---+-----+\n",
            "\n",
            "+------+----+\n",
            "|height|name|\n",
            "+------+----+\n",
            "|    80| Tom|\n",
            "|    85| Bob|\n",
            "+------+----+\n",
            "\n",
            "+----+------+-----+\n",
            "| age|height| name|\n",
            "+----+------+-----+\n",
            "|  10|    80|Alice|\n",
            "|   5|  null|  Bob|\n",
            "|null|  null|  Tom|\n",
            "|null|  null| null|\n",
            "+----+------+-----+\n",
            "\n"
          ]
        }
      ]
    },
    {
      "cell_type": "code",
      "source": [
        "df1.join(df2,'name').show()\n",
        "df3.join(df1,df1.age==df3.age).select(df1.age,df3.name).show()"
      ],
      "metadata": {
        "colab": {
          "base_uri": "https://localhost:8080/"
        },
        "id": "RyZgK2r7Nj80",
        "outputId": "1e973071-1a6d-400b-9442-07293c5a1e0a"
      },
      "execution_count": null,
      "outputs": [
        {
          "output_type": "stream",
          "name": "stdout",
          "text": [
            "+----+---+------+\n",
            "|name|age|height|\n",
            "+----+---+------+\n",
            "| Bob|  5|    85|\n",
            "+----+---+------+\n",
            "\n",
            "+---+-----+\n",
            "|age| name|\n",
            "+---+-----+\n",
            "|  5|  Bob|\n",
            "|  2|Alice|\n",
            "+---+-----+\n",
            "\n"
          ]
        }
      ]
    },
    {
      "cell_type": "code",
      "source": [
        "df1.join(df2,df1.name==df2.name,'outer').sort(desc(df1.age)).show()\n",
        "#outer join for name col"
      ],
      "metadata": {
        "colab": {
          "base_uri": "https://localhost:8080/"
        },
        "id": "kQInMTRMN8r1",
        "outputId": "bd3157d5-4b80-49fd-fd8c-0744f3f59299"
      },
      "execution_count": null,
      "outputs": [
        {
          "output_type": "stream",
          "name": "stdout",
          "text": [
            "+----+-----+------+----+\n",
            "| age| name|height|name|\n",
            "+----+-----+------+----+\n",
            "|   5|  Bob|    85| Bob|\n",
            "|   2|Alice|  null|null|\n",
            "|null| null|    80| Tom|\n",
            "+----+-----+------+----+\n",
            "\n"
          ]
        }
      ]
    },
    {
      "cell_type": "code",
      "source": [
        "mulcol_df =df1.join(df4,\n",
        "         [df1.name==df4.name,\n",
        "          df1.age==df4.name], 'outer')\\\n",
        "    .sort(df1.name)\\\n",
        "    .show()"
      ],
      "metadata": {
        "colab": {
          "base_uri": "https://localhost:8080/"
        },
        "id": "ShhtEUIbPkyX",
        "outputId": "469f610b-6ce9-49dc-b4e1-909e9444f587"
      },
      "execution_count": null,
      "outputs": [
        {
          "output_type": "stream",
          "name": "stdout",
          "text": [
            "+----+-----+----+------+-----+\n",
            "| age| name| age|height| name|\n",
            "+----+-----+----+------+-----+\n",
            "|null| null|null|  null|  Tom|\n",
            "|null| null|null|  null| null|\n",
            "|null| null|   5|  null|  Bob|\n",
            "|null| null|  10|    80|Alice|\n",
            "|   2|Alice|null|  null| null|\n",
            "|   5|  Bob|null|  null| null|\n",
            "+----+-----+----+------+-----+\n",
            "\n"
          ]
        }
      ]
    },
    {
      "cell_type": "code",
      "source": [],
      "metadata": {
        "id": "6fkMoNf-UMim"
      },
      "execution_count": null,
      "outputs": []
    },
    {
      "cell_type": "markdown",
      "source": [
        "# SQL emp"
      ],
      "metadata": {
        "id": "PIJtBtYk0ZWl"
      }
    },
    {
      "cell_type": "code",
      "source": [
        "!wget -q https://gist.github.com/kevin336/acbb2271e66c10a5b73aacf82ca82784/archive/e38afe62e088394d61ed30884dd50a6826eee0a8.zip"
      ],
      "metadata": {
        "id": "Jh1VljGRYq5G"
      },
      "execution_count": null,
      "outputs": []
    },
    {
      "cell_type": "code",
      "source": [
        "!unzip /content/e38afe62e088394d61ed30884dd50a6826eee0a8.zip"
      ],
      "metadata": {
        "colab": {
          "base_uri": "https://localhost:8080/"
        },
        "id": "zlz-IgkZZ1Iw",
        "outputId": "678615e5-db25-420d-e7dc-80358e2af86e"
      },
      "execution_count": null,
      "outputs": [
        {
          "output_type": "stream",
          "name": "stdout",
          "text": [
            "Archive:  /content/e38afe62e088394d61ed30884dd50a6826eee0a8.zip\n",
            "e38afe62e088394d61ed30884dd50a6826eee0a8\n",
            "   creating: acbb2271e66c10a5b73aacf82ca82784-e38afe62e088394d61ed30884dd50a6826eee0a8/\n",
            "  inflating: acbb2271e66c10a5b73aacf82ca82784-e38afe62e088394d61ed30884dd50a6826eee0a8/employees.csv  \n"
          ]
        }
      ]
    },
    {
      "cell_type": "code",
      "source": [
        "dff = spark.read.format(\"csv\")\\\n",
        "           .option(\"inferSchema\",'true')\\\n",
        "           .option('header','true')\\\n",
        "           .load('/content/acbb2271e66c10a5b73aacf82ca82784-e38afe62e088394d61ed30884dd50a6826eee0a8/employees.csv')\n",
        "dff.show(4)"
      ],
      "metadata": {
        "colab": {
          "base_uri": "https://localhost:8080/"
        },
        "id": "UHhy2EI0aNRk",
        "outputId": "97060902-81d0-427e-b47b-7f02516a9056"
      },
      "execution_count": null,
      "outputs": [
        {
          "output_type": "stream",
          "name": "stdout",
          "text": [
            "+-----------+----------+---------+--------+------------+---------+--------+------+--------------+----------+-------------+\n",
            "|EMPLOYEE_ID|FIRST_NAME|LAST_NAME|   EMAIL|PHONE_NUMBER|HIRE_DATE|  JOB_ID|SALARY|COMMISSION_PCT|MANAGER_ID|DEPARTMENT_ID|\n",
            "+-----------+----------+---------+--------+------------+---------+--------+------+--------------+----------+-------------+\n",
            "|        198|    Donald| OConnell|DOCONNEL|650.507.9833|21-JUN-07|SH_CLERK|  2600|            - |       124|           50|\n",
            "|        199|   Douglas|    Grant|  DGRANT|650.507.9844|13-JAN-08|SH_CLERK|  2600|            - |       124|           50|\n",
            "|        200|  Jennifer|   Whalen| JWHALEN|515.123.4444|17-SEP-03| AD_ASST|  4400|            - |       101|           10|\n",
            "|        201|   Michael|Hartstein|MHARTSTE|515.123.5555|17-FEB-04|  MK_MAN| 13000|            - |       100|           20|\n",
            "+-----------+----------+---------+--------+------------+---------+--------+------+--------------+----------+-------------+\n",
            "only showing top 4 rows\n",
            "\n"
          ]
        }
      ]
    },
    {
      "cell_type": "code",
      "source": [
        "dff.printSchema()"
      ],
      "metadata": {
        "colab": {
          "base_uri": "https://localhost:8080/"
        },
        "id": "3sr42kWqat5_",
        "outputId": "74005b13-0199-4768-f2f1-596bc8f84578"
      },
      "execution_count": null,
      "outputs": [
        {
          "output_type": "stream",
          "name": "stdout",
          "text": [
            "root\n",
            " |-- EMPLOYEE_ID: integer (nullable = true)\n",
            " |-- FIRST_NAME: string (nullable = true)\n",
            " |-- LAST_NAME: string (nullable = true)\n",
            " |-- EMAIL: string (nullable = true)\n",
            " |-- PHONE_NUMBER: string (nullable = true)\n",
            " |-- HIRE_DATE: string (nullable = true)\n",
            " |-- JOB_ID: string (nullable = true)\n",
            " |-- SALARY: integer (nullable = true)\n",
            " |-- COMMISSION_PCT: string (nullable = true)\n",
            " |-- MANAGER_ID: string (nullable = true)\n",
            " |-- DEPARTMENT_ID: integer (nullable = true)\n",
            "\n"
          ]
        }
      ]
    },
    {
      "cell_type": "code",
      "source": [
        "\n",
        "dff =dff.withColumn('manager_id',dff['manager_id'].cast(IntegerType()))\n",
        "dff = dff.withColumn('hire_date',to_date('hire_date','MM-dd-yyyy'))"
      ],
      "metadata": {
        "id": "_TaX7R-FbBJm"
      },
      "execution_count": null,
      "outputs": []
    },
    {
      "cell_type": "code",
      "source": [
        "dff.withColumn()"
      ],
      "metadata": {
        "colab": {
          "base_uri": "https://localhost:8080/"
        },
        "id": "2kC1uxLOcLzS",
        "outputId": "044790f3-daa9-44f0-f206-9fac64214d4f"
      },
      "execution_count": null,
      "outputs": [
        {
          "output_type": "stream",
          "name": "stdout",
          "text": [
            "root\n",
            " |-- EMPLOYEE_ID: integer (nullable = true)\n",
            " |-- FIRST_NAME: string (nullable = true)\n",
            " |-- LAST_NAME: string (nullable = true)\n",
            " |-- EMAIL: string (nullable = true)\n",
            " |-- PHONE_NUMBER: string (nullable = true)\n",
            " |-- hire_date: date (nullable = true)\n",
            " |-- JOB_ID: string (nullable = true)\n",
            " |-- SALARY: integer (nullable = true)\n",
            " |-- COMMISSION_PCT: string (nullable = true)\n",
            " |-- manager_id: integer (nullable = true)\n",
            " |-- DEPARTMENT_ID: integer (nullable = true)\n",
            "\n"
          ]
        }
      ]
    },
    {
      "cell_type": "code",
      "source": [
        "dff.show(3)"
      ],
      "metadata": {
        "colab": {
          "base_uri": "https://localhost:8080/"
        },
        "id": "FNH7KeDKdXXB",
        "outputId": "de7fd850-8f15-4bf2-8519-a7aa55032fe6"
      },
      "execution_count": null,
      "outputs": [
        {
          "output_type": "stream",
          "name": "stdout",
          "text": [
            "+-----------+----------+---------+--------+------------+---------+--------+------+--------------+----------+-------------+\n",
            "|EMPLOYEE_ID|FIRST_NAME|LAST_NAME|   EMAIL|PHONE_NUMBER|hire_date|  JOB_ID|SALARY|COMMISSION_PCT|manager_id|DEPARTMENT_ID|\n",
            "+-----------+----------+---------+--------+------------+---------+--------+------+--------------+----------+-------------+\n",
            "|        198|    Donald| OConnell|DOCONNEL|650.507.9833|     null|SH_CLERK|  2600|            - |       124|           50|\n",
            "|        199|   Douglas|    Grant|  DGRANT|650.507.9844|     null|SH_CLERK|  2600|            - |       124|           50|\n",
            "|        200|  Jennifer|   Whalen| JWHALEN|515.123.4444|     null| AD_ASST|  4400|            - |       101|           10|\n",
            "+-----------+----------+---------+--------+------------+---------+--------+------+--------------+----------+-------------+\n",
            "only showing top 3 rows\n",
            "\n"
          ]
        }
      ]
    },
    {
      "cell_type": "code",
      "source": [
        "dft = dff.createOrReplaceGlobalTempView(\"temp\")"
      ],
      "metadata": {
        "id": "qjWfR_ZweubS"
      },
      "execution_count": null,
      "outputs": []
    },
    {
      "cell_type": "code",
      "source": [
        "spark.sql(\"select * from global_temp.temp limit 5\").show()"
      ],
      "metadata": {
        "colab": {
          "base_uri": "https://localhost:8080/"
        },
        "id": "YQxy7znIdnLz",
        "outputId": "6523a1bf-3147-4acc-8592-7475f4181a61"
      },
      "execution_count": null,
      "outputs": [
        {
          "output_type": "stream",
          "name": "stdout",
          "text": [
            "+-----------+----------+---------+--------+------------+---------+--------+------+--------------+----------+-------------+\n",
            "|EMPLOYEE_ID|FIRST_NAME|LAST_NAME|   EMAIL|PHONE_NUMBER|hire_date|  JOB_ID|SALARY|COMMISSION_PCT|manager_id|DEPARTMENT_ID|\n",
            "+-----------+----------+---------+--------+------------+---------+--------+------+--------------+----------+-------------+\n",
            "|        198|    Donald| OConnell|DOCONNEL|650.507.9833|     null|SH_CLERK|  2600|            - |       124|           50|\n",
            "|        199|   Douglas|    Grant|  DGRANT|650.507.9844|     null|SH_CLERK|  2600|            - |       124|           50|\n",
            "|        200|  Jennifer|   Whalen| JWHALEN|515.123.4444|     null| AD_ASST|  4400|            - |       101|           10|\n",
            "|        201|   Michael|Hartstein|MHARTSTE|515.123.5555|     null|  MK_MAN| 13000|            - |       100|           20|\n",
            "|        202|       Pat|      Fay|    PFAY|603.123.6666|     null|  MK_REP|  6000|            - |       201|           20|\n",
            "+-----------+----------+---------+--------+------------+---------+--------+------+--------------+----------+-------------+\n",
            "\n"
          ]
        }
      ]
    },
    {
      "cell_type": "code",
      "source": [
        "spark.sql(\"select e.employee_id, e.first_name as emp_name, m.employee_id as mgr_id, m.first_name as mgr_name from global_temp.temp m join global_temp.temp e on e.manager_id = m.employee_id order by e.employee_id desc\").show()\n",
        "# empid = managerid"
      ],
      "metadata": {
        "colab": {
          "base_uri": "https://localhost:8080/"
        },
        "id": "5xcIZ7g0qu9R",
        "outputId": "948e931c-bad8-457b-9fce-93072a879cb2"
      },
      "execution_count": null,
      "outputs": [
        {
          "output_type": "stream",
          "name": "stdout",
          "text": [
            "+-----------+--------+------+--------+\n",
            "|employee_id|emp_name|mgr_id|mgr_name|\n",
            "+-----------+--------+------+--------+\n",
            "|        206| William|   205| Shelley|\n",
            "|        205| Shelley|   101|   Neena|\n",
            "|        204| Hermann|   101|   Neena|\n",
            "|        203|   Susan|   101|   Neena|\n",
            "|        202|     Pat|   201| Michael|\n",
            "|        201| Michael|   100|  Steven|\n",
            "|        200|Jennifer|   101|   Neena|\n",
            "|        199| Douglas|   124|   Kevin|\n",
            "|        198|  Donald|   124|   Kevin|\n",
            "|        140|  Joshua|   123|  Shanta|\n",
            "|        139|    John|   123|  Shanta|\n",
            "|        138| Stephen|   123|  Shanta|\n",
            "|        137|  Renske|   123|  Shanta|\n",
            "|        136|   Hazel|   122|   Payam|\n",
            "|        135|      Ki|   122|   Payam|\n",
            "|        134| Michael|   122|   Payam|\n",
            "|        133|   Jason|   122|   Payam|\n",
            "|        132|      TJ|   121|    Adam|\n",
            "|        131|   James|   121|    Adam|\n",
            "|        130|   Mozhe|   121|    Adam|\n",
            "+-----------+--------+------+--------+\n",
            "only showing top 20 rows\n",
            "\n"
          ]
        }
      ]
    },
    {
      "cell_type": "code",
      "source": [
        "spark.sql(\"select manager_id , avg(salary) as avg_salary from global_temp.temp group by manager_id order by avg_salary desc\").show()"
      ],
      "metadata": {
        "colab": {
          "base_uri": "https://localhost:8080/"
        },
        "id": "9MM54UcOn7h9",
        "outputId": "37fdae2f-897a-4c5c-be6f-4f59e27af6dc"
      },
      "execution_count": null,
      "outputs": [
        {
          "output_type": "stream",
          "name": "stdout",
          "text": [
            "+----------+------------------+\n",
            "|manager_id|        avg_salary|\n",
            "+----------+------------------+\n",
            "|      null|           24000.0|\n",
            "|       100|10488.888888888889|\n",
            "|       102|            9000.0|\n",
            "|       101|            8983.2|\n",
            "|       205|            8300.0|\n",
            "|       108|            7920.0|\n",
            "|       201|            6000.0|\n",
            "|       103|            4950.0|\n",
            "|       123|            3000.0|\n",
            "|       114|            2780.0|\n",
            "|       122|            2700.0|\n",
            "|       121|            2675.0|\n",
            "|       120|            2625.0|\n",
            "|       124|            2600.0|\n",
            "+----------+------------------+\n",
            "\n"
          ]
        }
      ]
    },
    {
      "cell_type": "code",
      "source": [
        "spark.sql(\"select job_id,count(*) as emp_count from global_temp.temp group by job_id order by emp_count\").show()"
      ],
      "metadata": {
        "colab": {
          "base_uri": "https://localhost:8080/"
        },
        "id": "SHuAuQYHkSyz",
        "outputId": "ecae54bf-815f-4d32-cc54-eed55e316a53"
      },
      "execution_count": null,
      "outputs": [
        {
          "output_type": "stream",
          "name": "stdout",
          "text": [
            "+----------+---------+\n",
            "|    job_id|emp_count|\n",
            "+----------+---------+\n",
            "|    FI_MGR|        1|\n",
            "|    MK_MAN|        1|\n",
            "|AC_ACCOUNT|        1|\n",
            "|    PR_REP|        1|\n",
            "|    MK_REP|        1|\n",
            "|    PU_MAN|        1|\n",
            "|   AD_PRES|        1|\n",
            "|    HR_REP|        1|\n",
            "|   AD_ASST|        1|\n",
            "|    AC_MGR|        1|\n",
            "|     AD_VP|        2|\n",
            "|  SH_CLERK|        2|\n",
            "|    ST_MAN|        5|\n",
            "|FI_ACCOUNT|        5|\n",
            "|  PU_CLERK|        5|\n",
            "|   IT_PROG|        5|\n",
            "|  ST_CLERK|       16|\n",
            "+----------+---------+\n",
            "\n"
          ]
        }
      ]
    },
    {
      "cell_type": "code",
      "source": [
        "spark.sql(\"select * from global_temp.temp order by salary asc limit 1\").show()"
      ],
      "metadata": {
        "colab": {
          "base_uri": "https://localhost:8080/"
        },
        "id": "5rLAf6Oejtvy",
        "outputId": "6737c665-ab7e-409c-da76-eb964ece9976"
      },
      "execution_count": null,
      "outputs": [
        {
          "output_type": "stream",
          "name": "stdout",
          "text": [
            "+-----------+----------+---------+-------+------------+---------+--------+------+--------------+----------+-------------+\n",
            "|EMPLOYEE_ID|FIRST_NAME|LAST_NAME|  EMAIL|PHONE_NUMBER|hire_date|  JOB_ID|SALARY|COMMISSION_PCT|manager_id|DEPARTMENT_ID|\n",
            "+-----------+----------+---------+-------+------------+---------+--------+------+--------------+----------+-------------+\n",
            "|        132|        TJ|    Olson|TJOLSON|650.124.8234|     null|ST_CLERK|  2100|            - |       121|           50|\n",
            "+-----------+----------+---------+-------+------------+---------+--------+------+--------------+----------+-------------+\n",
            "\n"
          ]
        }
      ]
    },
    {
      "cell_type": "code",
      "source": [
        "spark.sql(\"select department_id,sum(salary) as total_salary from global_temp.temp group by department_id order by total_salary asc \").show()"
      ],
      "metadata": {
        "colab": {
          "base_uri": "https://localhost:8080/"
        },
        "id": "BZ9VchyJdsWD",
        "outputId": "041ba132-3c29-46f9-9fa4-0b0af452d46b"
      },
      "execution_count": null,
      "outputs": [
        {
          "output_type": "stream",
          "name": "stdout",
          "text": [
            "+-------------+------------+\n",
            "|department_id|total_salary|\n",
            "+-------------+------------+\n",
            "|           10|        4400|\n",
            "|           40|        6500|\n",
            "|           70|       10000|\n",
            "|           20|       19000|\n",
            "|          110|       20308|\n",
            "|           30|       24900|\n",
            "|           60|       28800|\n",
            "|          100|       51608|\n",
            "|           90|       58000|\n",
            "|           50|       85600|\n",
            "+-------------+------------+\n",
            "\n"
          ]
        }
      ]
    },
    {
      "cell_type": "code",
      "source": [
        "spark.sql(\"select first_name,last_name,salary, avg(salary) over(partition by department_id) as dept_avg from global_temp.temp  order by dept_avg\").show()"
      ],
      "metadata": {
        "colab": {
          "base_uri": "https://localhost:8080/"
        },
        "id": "8LFRcGcAf_qo",
        "outputId": "853b63a7-6105-4e08-dcf5-95d6c24a1202"
      },
      "execution_count": null,
      "outputs": [
        {
          "output_type": "stream",
          "name": "stdout",
          "text": [
            "+----------+-----------+------+------------------+\n",
            "|first_name|  last_name|salary|          dept_avg|\n",
            "+----------+-----------+------+------------------+\n",
            "|    Renske|     Ladwig|  3600|3721.7391304347825|\n",
            "|     Hazel| Philtanker|  2200|3721.7391304347825|\n",
            "|   Michael|     Rogers|  2900|3721.7391304347825|\n",
            "|     James|     Marlow|  2500|3721.7391304347825|\n",
            "|        Ki|        Gee|  2400|3721.7391304347825|\n",
            "|        TJ|      Olson|  2100|3721.7391304347825|\n",
            "|     Jason|     Mallin|  3300|3721.7391304347825|\n",
            "|     Laura|     Bissot|  3300|3721.7391304347825|\n",
            "|    Steven|     Markle|  2200|3721.7391304347825|\n",
            "|     Mozhe|   Atkinson|  2800|3721.7391304347825|\n",
            "|    Donald|   OConnell|  2600|3721.7391304347825|\n",
            "|   Douglas|      Grant|  2600|3721.7391304347825|\n",
            "|   Matthew|      Weiss|  8000|3721.7391304347825|\n",
            "|      Adam|      Fripp|  8200|3721.7391304347825|\n",
            "|     Payam|   Kaufling|  7900|3721.7391304347825|\n",
            "|    Shanta|    Vollman|  6500|3721.7391304347825|\n",
            "|     Kevin|    Mourgos|  5800|3721.7391304347825|\n",
            "|     Julia|      Nayer|  3200|3721.7391304347825|\n",
            "|     Irene|Mikkilineni|  2700|3721.7391304347825|\n",
            "|     James|     Landry|  2400|3721.7391304347825|\n",
            "+----------+-----------+------+------------------+\n",
            "only showing top 20 rows\n",
            "\n"
          ]
        }
      ]
    },
    {
      "cell_type": "code",
      "source": [],
      "metadata": {
        "id": "HAsNXhJsUgzX"
      },
      "execution_count": null,
      "outputs": []
    },
    {
      "cell_type": "markdown",
      "source": [
        "# filter-regex-where-withCol-cast-"
      ],
      "metadata": {
        "id": "-Mlq6gUi0fon"
      }
    },
    {
      "cell_type": "code",
      "source": [
        "!kaggle datasets download -d guavocado/pokemon-stats-1025-pokemons"
      ],
      "metadata": {
        "colab": {
          "base_uri": "https://localhost:8080/"
        },
        "id": "sqX99HLZhiNv",
        "outputId": "a2cb2b8d-6c45-4875-c1f4-944293f72910"
      },
      "execution_count": null,
      "outputs": [
        {
          "output_type": "execute_result",
          "data": {
            "text/plain": [
              "['Dataset URL: https://www.kaggle.com/datasets/guavocado/pokemon-stats-1025-pokemons',\n",
              " 'License(s): CC0-1.0',\n",
              " 'Downloading pokemon-stats-1025-pokemons.zip to /content',\n",
              " '',\n",
              " '  0% 0.00/43.8k [00:00<?, ?B/s]',\n",
              " '',\n",
              " '100% 43.8k/43.8k [00:00<00:00, 58.0MB/s]']"
            ]
          },
          "metadata": {},
          "execution_count": 73
        }
      ]
    },
    {
      "cell_type": "code",
      "source": [
        "!unzip /content/pokemon-stats-1025-pokemons.zip"
      ],
      "metadata": {
        "colab": {
          "base_uri": "https://localhost:8080/"
        },
        "id": "MONng--jwu2T",
        "outputId": "eecb67ba-5325-4329-97bb-7077453acc65"
      },
      "execution_count": null,
      "outputs": [
        {
          "output_type": "stream",
          "name": "stdout",
          "text": [
            "Archive:  /content/pokemon-stats-1025-pokemons.zip\n",
            "  inflating: pokemon_data.csv        \n",
            "mv: cannot stat '/content/pokemon-stats-1025-pokemons.csv': No such file or directory\n"
          ]
        }
      ]
    },
    {
      "cell_type": "code",
      "source": [
        "!mv /content/pokemon_data.csv pk.csv"
      ],
      "metadata": {
        "id": "6vwjRQrpw7X1"
      },
      "execution_count": null,
      "outputs": []
    },
    {
      "cell_type": "markdown",
      "source": [
        "**PySpark filter()** function is used to create a new DataFrame by filtering the elements from an existing DataFrame based on the given condition or SQL expression. It is similar to Python’s filter() function but operates on distributed datasets. It is analogous to the SQL WHERE clause and allows you to apply filtering criteria to DataFrame rows."
      ],
      "metadata": {
        "id": "Iy3D7xzy1TOu"
      }
    },
    {
      "cell_type": "code",
      "source": [
        "pkdf = spark.read.format(\"csv\").option('inferSchema','true').option('header','true').load('/content/pk.csv')\n",
        "pkdf.show(4,truncate=False)"
      ],
      "metadata": {
        "colab": {
          "base_uri": "https://localhost:8080/"
        },
        "id": "VGO5JXmByjom",
        "outputId": "05154601-58ad-48c9-b23d-a53876a53632"
      },
      "execution_count": null,
      "outputs": [
        {
          "output_type": "stream",
          "name": "stdout",
          "text": [
            "+------+----------+----------+-----+------+--------------+------+------+--------+-----------+--------------+---+------+-------+------+------+-----+-----+--------------------+----------+---------------+--------+-----------+----------+----------+------------+--------------+----------+-------------+\n",
            "|dexnum|name      |generation|type1|type2 |species       |height|weight|ability1|ability2   |hidden_ability|hp |attack|defense|sp_atk|sp_def|speed|total|ev_yield            |catch_rate|base_friendship|base_exp|growth_rate|egg_group1|egg_group2|percent_male|percent_female|egg_cycles|special_group|\n",
            "+------+----------+----------+-----+------+--------------+------+------+--------+-----------+--------------+---+------+-------+------+------+-----+-----+--------------------+----------+---------------+--------+-----------+----------+----------+------------+--------------+----------+-------------+\n",
            "|1     |Bulbasaur |1         |Grass|Poison|Seed Pokémon  |0.7   |6.9   |Overgrow|Chlorophyll|null          |45 |49    |49     |65    |65    |45   |318  |1 Sp. Atk           |45        |50             |64      |Medium Slow|Grass     |Monster   |87.5        |12.5          |20        |Ordinary     |\n",
            "|2     |Ivysaur   |1         |Grass|Poison|Seed Pokémon  |1.0   |13.0  |Overgrow|Chlorophyll|null          |60 |62    |63     |80    |80    |60   |405  |1 Sp. Atk, 1 Sp. Def|45        |50             |142     |Medium Slow|Grass     |Monster   |87.5        |12.5          |20        |Ordinary     |\n",
            "|3     |Venusaur  |1         |Grass|Poison|Seed Pokémon  |2.0   |100.0 |Overgrow|Chlorophyll|null          |80 |82    |83     |100   |100   |80   |525  |2 Sp. Atk, 1 Sp. Def|45        |50             |236     |Medium Slow|Grass     |Monster   |87.5        |12.5          |20        |Ordinary     |\n",
            "|4     |Charmander|1         |Fire |null  |Lizard Pokémon|0.6   |8.5   |Blaze   |Solar Power|null          |39 |52    |43     |60    |50    |65   |309  |1 Speed             |45        |50             |62      |Medium Slow|Dragon    |Monster   |87.5        |12.5          |20        |Ordinary     |\n",
            "+------+----------+----------+-----+------+--------------+------+------+--------+-----------+--------------+---+------+-------+------+------+-----+-----+--------------------+----------+---------------+--------+-----------+----------+----------+------------+--------------+----------+-------------+\n",
            "only showing top 4 rows\n",
            "\n"
          ]
        }
      ]
    },
    {
      "cell_type": "code",
      "source": [
        "#collect_list() function returns all values from an input column with duplicates.\n",
        "pkdf.select(collect_list('species')).show(truncate=False)"
      ],
      "metadata": {
        "colab": {
          "base_uri": "https://localhost:8080/"
        },
        "id": "C4-In_iP6754",
        "outputId": "8545153c-4543-4295-ab52-a9b304933ace"
      },
      "execution_count": null,
      "outputs": [
        {
          "output_type": "stream",
          "name": "stdout",
          "text": [
            "+---------------------------------------------------------------------------------------------------------------------------------------------------------------------------------------------------------------------------------------------------------------------------------------------------------------------------------------------------------------------------------------------------------------------------------------------------------------------------------------------------------------------------------------------------------------------------------------------------------------------------------------------------------------------------------------------------------------------------------------------------------------------------------------------------------------------------------------------------------------------------------------------------------------------------------------------------------------------------------------------------------------------------------------------------------------------------------------------------------------------------------------------------------------------------------------------------------------------------------------------------------------------------------------------------------------------------------------------------------------------------------------------------------------------------------------------------------------------------------------------------------------------------------------------------------------------------------------------------------------------------------------------------------------------------------------------------------------------------------------------------------------------------------------------------------------------------------------------------------------------------------------------------------------------------------------------------------------------------------------------------------------------------------------------------------------------------------------------------------------------------------------------------------------------------------------------------------------------------------------------------------------------------------------------------------------------------------------------------------------------------------------------------------------------------------------------------------------------------------------------------------------------------------------------------------------------------------------------------------------------------------------------------------------------------------------------------------------------------------------------------------------------------------------------------------------------------------------------------------------------------------------------------------------------------------------------------------------------------------------------------------------------------------------------------------------------------------------------------------------------------------------------------------------------------------------------------------------------------------------------------------------------------------------------------------------------------------------------------------------------------------------------------------------------------------------------------------------------------------------------------------------------------------------------------------------------------------------------------------------------------------------------------------------------------------------------------------------------------------------------------------------------------------------------------------------------------------------------------------------------------------------------------------------------------------------------------------------------------------------------------------------------------------------------------------------------------------------------------------------------------------------------------------------------------------------------------------------------------------------------------------------------------------------------------------------------------------------------------------------------------------------------------------------------------------------------------------------------------------------------------------------------------------------------------------------------------------------------------------------------------------------------------------------------------------------------------------------------------------------------------------------------------------------------------------------------------------------------------------------------------------------------------------------------------------------------------------------------------------------------------------------------------------------------------------------------------------------------------------------------------------------------------------------------------------------------------------------------------------------------------------------------------------------------------------------------------------------------------------------------------------------------------------------------------------------------------------------------------------------------------------------------------------------------------------------------------------------------------------------------------------------------------------------------------------------------------------------------------------------------------------------------------------------------------------------------------------------------------------------------------------------------------------------------------------------------------------------------------------------------------------------------------------------------------------------------------------------------------------------------------------------------------------------------------------------------------------------------------------------------------------------------------------------------------------------------------------------------------------------------------------------------------------------------------------------------------------------------------------------------------------------------------------------------------------------------------------------------------------------------------------------------------------------------------------------------------------------------------------------------------------------------------------------------------------------------------------------------------------------------------------------------------------------------------------------------------------------------------------------------------------------------------------------------------------------------------------------------------------------------------------------------------------------------------------------------------------------------------------------------------------------------------------------------------------------------------------------------------------------------------------------------------------------------------------------------------------------------------------------------------------------------------------------------------------------------------------------------------------------------------------------------------------------------------------------------------------------------------------------------------------------------------------------------------------------------------------------------------------------------------------------------------------------------------------------------------------------------------------------------------------------------------------------------------------------------------------------------------------------------------------------------------------------------------------------------------------------------------------------------------------------------------------------------------------------------------------------------------------------------------------------------------------------------------------------------------------------------------------------------------------------------------------------------------------------------------------------------------------------------------------------------------------------------------------------------------------------------------------------------------------------------------------------------------------------------------------------------------------------------------------------------------------------------------------------------------------------------------------------------------------------------------------------------------------------------------------------------------------------------------------------------------------------------------------------------------------------------------------------------------------------------------------------------------------------------------------------------------------------------------------------------------------------------------------------------------------------------------------------------------------------------------------------------------------------------------------------------------------------------------------------------------------------------------------------------------------------------------------------------------------------------------------------------------------------------------------------------------------------------------------------------------------------------------------------------------------------------------------------------------------------------------------------------------------------------------------------------------------------------------------------------------------------------------------------------------------------------------------------------------------------------------------------------------------------------------------------------------------------------------------------------------------------------------------------------------------------------------------------------------------------------------------------------------------------------------------------------------------------------------------------------------------------------------------------------------------------------------------------------------------------------------------------------------------------------------------------------------------------------------------------------------------------------------------------------------------------------------------------------------------------------------------------------------------------------------------------------------------------------------------------------------------------------------------------------------------------------------------------------------------------------------------------------------------------------------------------------------------------------------------------------------------------------------------------------------------------------------------------------------------------------------------------------------------------------------------------------------------------------------------------------------------------------------------------------------------------------------------------------------------------------------------------------------------------------------------------------------------------------------------------------------------------------------------------------------------------------------------------------------------------------------------------------------------------------------------------------------------------------------------------------------------------------------------------------------------------------------------------------------------------------------------------------------------------------------------------------------------------------------------------------------------------------------------------------------------------------------------------------------------------------------------------------------------------------------------------------------------------------------------------------------------------------------------------------------------------------------------------------------------------------------------------------------------------------------------------------------------------------------------------------------------------------------------------------------------------------------------------------------------------------------------------------------------------------------------------------------------------------------------------------------------------------------------------------------------------------------------------------------------------------------------------------------------------------------------------------------------------------------------------------------------------------------------------------------------------------------------------------------------------------------------------------------------------------------------------------------------------------------------------------------------------------------------------------------------------------------------------------------------------------------------------------------------------------------------------------------------------------------------------------------------------------------------------------------------------------------------------------------------------------------------------------------------------------------------------------------------------------------------------------------------------------------------------------------------------------------------------------------------------------------------------------------------------------------------------------------------------------------------------------------------------------------------------------------------------------------------------------------------------------------------------------------------------------------------------------------------------------------------------------------------------------------------------------------------------------------------------------------------------------------------------------------------------------------------------------------------------------------------------------------------------------------------------------------------------------------------------------------------------------------------------------------------------------------------------------------------------------------------------------------------------------------------------------------------------------------------------------------------------------------------------------------------------------------------------------------------------------------------------------------------------------------------------------------------------------------------------------------------------------------------------------------------------------------------------------------------------------------------------------------------------------------------------------------------------------------------------------------------------------------------------------------------------------------------------------------------------------------------------------------------------------------------------------------------------------------------------------------------------------------------------------------------------------------------------------------------------------------------------------------------------------------------------------------------------------------------------------------------------------------------------------------------------------------------------------------------------------------------------------------------------------------------------------------------------------------------------------------------------------------------------------------------------------------------------------------------------------------------------------------------------------------------------------------------------------------------------------------------------------------------------------------------------------------------------------------------------------------------------------------------------------------------------------------------------------------------------------------------------------------------------------------------------------------------------------------------------------------------------------------------------------------------------------------------------------------------------------------------------------------------------------------------------------------------------------------------------------------------------------------------------------------------------------------------------------------------------------------------------------------------------------------------------------------------------------------------------------------------------------------------------------------------------------------------------------------------------------------------------------------------------------------------------------------------------------------------------------------------------------------------------------------------------------------------------------------------------------------------------------------------------------------------------------------------------------------------------------------------------------------------------------------------------------------------------------------------------------------------------------------------------------------------------------------------------------------------------------------------------------------------------------------------------------------------------------------------------------------------------------------------------------------------------------------------------------------------------------------------------------------------------------------------------------------------------------------------------------------------+\n",
            "|collect_list(species)                                                                                                                                                                                                                                                                                                                                                                                                                                                                                                                                                                                                                                                                                                                                                                                                                                                                                                                                                                                                                                                                                                                                                                                                                                                                                                                                                                                                                                                                                                                                                                                                                                                                                                                                                                                                                                                                                                                                                                                                                                                                                                                                                                                                                                                                                                                                                                                                                                                                                                                                                                                                                                                                                                                                                                                                                                                                                                                                                                                                                                                                                                                                                                                                                                                                                                                                                                                                                                                                                                                                                                                                                                                                                                                                                                                                                                                                                                                                                                                                                                                                                                                                                                                                                                                                                                                                                                                                                                                                                                                                                                                                                                                                                                                                                                                                                                                                                                                                                                                                                                                                                                                                                                                                                                                                                                                                                                                                                                                                                                                                                                                                                                                                                                                                                                                                                                                                                                                                                                                                                                                                                                                                                                                                                                                                                                                                                                                                                                                                                                                                                                                                                                                                                                                                                                                                                                                                                                                                                                                                                                                                                                                                                                                                                                                                                                                                                                                                                                                                                                                                                                                                                                                                                                                                                                                                                                                                                                                                                                                                                                                                                                                                                                                                                                                                                                                                                                                                                                                                                                                                                                                                                                                                                                                                                                                                                                                                                                                                                                                                                                                                                                                                                                                                                                                                                                                                                                                                                                                                                                                                                                                                                                                                                                                                                                                                                                                                                                                                                                                                                                                                                                                                                                                                                                                                                                                                                                                                                                                                                                                                                                                                                                                                                                                                                                                                                                                                                                                                                                                                                                                                                                                                                                                                                                                                                                                                                                                                                                                                                                                                                                                                                                                                                                                                                                                                                                                                                                                                                                                                                                                                                                                                                                                                                                                                                                                                                                                                                                                                                                                                                                                                                                                                                                                                                                                                                                                                                                                                                                                                                                                                                                                                                                                                                                                                                                                                                                                                                                                                                                                                                                                                                                                                                                                                                                                                                                                                                                                                                                                                                                                                                                                                                                                                                                                                                                                                                                                                                                                                                                                                                                                                                                                                                                                                                                                                                                                                                                                                                                                                                                                                                                                                                                                                                                                                                                                                                                                                                                                                                                                                                                                                                                                                                                                                                                                                                                                                                                                                                                                                                                                                                                                                                                                                                                                                                                                                                                                                                                                                                                                                                                                                                                                                                                                                                                                                                                                                                                                                                                                                                                                                                                                                                                                                                                                                                                                                                                                                                                                                                                                                                                                                                                                                                                                                                                                                                                                                                                                                                                                                                                                                                                                                                                                                                                                                                                                                                                                                                                                                                                                                                                                                                                                                                                                                    |\n",
            "+---------------------------------------------------------------------------------------------------------------------------------------------------------------------------------------------------------------------------------------------------------------------------------------------------------------------------------------------------------------------------------------------------------------------------------------------------------------------------------------------------------------------------------------------------------------------------------------------------------------------------------------------------------------------------------------------------------------------------------------------------------------------------------------------------------------------------------------------------------------------------------------------------------------------------------------------------------------------------------------------------------------------------------------------------------------------------------------------------------------------------------------------------------------------------------------------------------------------------------------------------------------------------------------------------------------------------------------------------------------------------------------------------------------------------------------------------------------------------------------------------------------------------------------------------------------------------------------------------------------------------------------------------------------------------------------------------------------------------------------------------------------------------------------------------------------------------------------------------------------------------------------------------------------------------------------------------------------------------------------------------------------------------------------------------------------------------------------------------------------------------------------------------------------------------------------------------------------------------------------------------------------------------------------------------------------------------------------------------------------------------------------------------------------------------------------------------------------------------------------------------------------------------------------------------------------------------------------------------------------------------------------------------------------------------------------------------------------------------------------------------------------------------------------------------------------------------------------------------------------------------------------------------------------------------------------------------------------------------------------------------------------------------------------------------------------------------------------------------------------------------------------------------------------------------------------------------------------------------------------------------------------------------------------------------------------------------------------------------------------------------------------------------------------------------------------------------------------------------------------------------------------------------------------------------------------------------------------------------------------------------------------------------------------------------------------------------------------------------------------------------------------------------------------------------------------------------------------------------------------------------------------------------------------------------------------------------------------------------------------------------------------------------------------------------------------------------------------------------------------------------------------------------------------------------------------------------------------------------------------------------------------------------------------------------------------------------------------------------------------------------------------------------------------------------------------------------------------------------------------------------------------------------------------------------------------------------------------------------------------------------------------------------------------------------------------------------------------------------------------------------------------------------------------------------------------------------------------------------------------------------------------------------------------------------------------------------------------------------------------------------------------------------------------------------------------------------------------------------------------------------------------------------------------------------------------------------------------------------------------------------------------------------------------------------------------------------------------------------------------------------------------------------------------------------------------------------------------------------------------------------------------------------------------------------------------------------------------------------------------------------------------------------------------------------------------------------------------------------------------------------------------------------------------------------------------------------------------------------------------------------------------------------------------------------------------------------------------------------------------------------------------------------------------------------------------------------------------------------------------------------------------------------------------------------------------------------------------------------------------------------------------------------------------------------------------------------------------------------------------------------------------------------------------------------------------------------------------------------------------------------------------------------------------------------------------------------------------------------------------------------------------------------------------------------------------------------------------------------------------------------------------------------------------------------------------------------------------------------------------------------------------------------------------------------------------------------------------------------------------------------------------------------------------------------------------------------------------------------------------------------------------------------------------------------------------------------------------------------------------------------------------------------------------------------------------------------------------------------------------------------------------------------------------------------------------------------------------------------------------------------------------------------------------------------------------------------------------------------------------------------------------------------------------------------------------------------------------------------------------------------------------------------------------------------------------------------------------------------------------------------------------------------------------------------------------------------------------------------------------------------------------------------------------------------------------------------------------------------------------------------------------------------------------------------------------------------------------------------------------------------------------------------------------------------------------------------------------------------------------------------------------------------------------------------------------------------------------------------------------------------------------------------------------------------------------------------------------------------------------------------------------------------------------------------------------------------------------------------------------------------------------------------------------------------------------------------------------------------------------------------------------------------------------------------------------------------------------------------------------------------------------------------------------------------------------------------------------------------------------------------------------------------------------------------------------------------------------------------------------------------------------------------------------------------------------------------------------------------------------------------------------------------------------------------------------------------------------------------------------------------------------------------------------------------------------------------------------------------------------------------------------------------------------------------------------------------------------------------------------------------------------------------------------------------------------------------------------------------------------------------------------------------------------------------------------------------------------------------------------------------------------------------------------------------------------------------------------------------------------------------------------------------------------------------------------------------------------------------------------------------------------------------------------------------------------------------------------------------------------------------------------------------------------------------------------------------------------------------------------------------------------------------------------------------------------------------------------------------------------------------------------------------------------------------------------------------------------------------------------------------------------------------------------------------------------------------------------------------------------------------------------------------------------------------------------------------------------------------------------------------------------------------------------------------------------------------------------------------------------------------------------------------------------------------------------------------------------------------------------------------------------------------------------------------------------------------------------------------------------------------------------------------------------------------------------------------------------------------------------------------------------------------------------------------------------------------------------------------------------------------------------------------------------------------------------------------------------------------------------------------------------------------------------------------------------------------------------------------------------------------------------------------------------------------------------------------------------------------------------------------------------------------------------------------------------------------------------------------------------------------------------------------------------------------------------------------------------------------------------------------------------------------------------------------------------------------------------------------------------------------------------------------------------------------------------------------------------------------------------------------------------------------------------------------------------------------------------------------------------------------------------------------------------------------------------------------------------------------------------------------------------------------------------------------------------------------------------------------------------------------------------------------------------------------------------------------------------------------------------------------------------------------------------------------------------------------------------------------------------------------------------------------------------------------------------------------------------------------------------------------------------------------------------------------------------------------------------------------------------------------------------------------------------------------------------------------------------------------------------------------------------------------------------------------------------------------------------------------------------------------------------------------------------------------------------------------------------------------------------------------------------------------------------------------------------------------------------------------------------------------------------------------------------------------------------------------------------------------------------------------------------------------------------------------------------------------------------------------------------------------------------------------------------------------------------------------------------------------------------------------------------------------------------------------------------------------------------------------------------------------------------------------------------------------------------------------------------------------------------------------------------------------------------------------------------------------------------------------------------------------------------------------------------------------------------------------------------------------------------------------------------------------------------------------------------------------------------------------------------------------------------------------------------------------------------------------------------------------------------------------------------------------------------------------------------------------------------------------------------------------------------------------------------------------------------------------------------------------------------------------------------------------------------------------------------------------------------------------------------------------------------------------------------------------------------------------------------------------------------------------------------------------------------------------------------------------------------------------------------------------------------------------------------------------------------------------------------------------------------------------------------------------------------------------------------------------------------------------------------------------------------------------------------------------------------------------------------------------------------------------------------------------------------------------------------------------------------------------------------------------------------------------------------------------------------------------------------------------------------------------------------------------------------------------------------------------------------------------------------------------------------------------------------------------------------------------------------------------------------------------------------------------------------------------------------------------------------------------------------------------------------------------------------------------------------------------------------------------------------------------------------------------------------------------------------------------------------------------------------------------------------------------------------------------------------------------------------------------------------------------------------------------------------------------------------------------------------------------------------------------------------------------------------------------------------------------------------------------------------------------------------------------------------------------------------------------------------------------------------------------------------------------------------------------------------------------------------------------------------------------------------------------------------------------------------------------------------------------------------------------------------------------------------------------------------------------------------------------------------------------------------------------------------------------------------------------------------------------------------------------------------------------------------------------------------------------------------------------------------------------------------------------------------------------------------------------------------------------------------------------------------------------------------------------------------------------------------------------------------------------------------------------------------------------------------------------------------------------------------------------------------------------------------------------------------------------------------------------------------------------------------------------------------------------------------------------------------------------------------------------------------------------------------------------------------------------------------------------------------------------------+\n",
            "|[Seed Pokémon, Seed Pokémon, Seed Pokémon, Lizard Pokémon, Flame Pokémon, Flame Pokémon, Tiny Turtle Pokémon, Turtle Pokémon, Shellfish Pokémon, Worm Pokémon, Cocoon Pokémon, Butterfly Pokémon, Hairy Bug Pokémon, Cocoon Pokémon, Poison Bee Pokémon, Tiny Bird Pokémon, Bird Pokémon, Bird Pokémon, Mouse Pokémon, Mouse Pokémon, Tiny Bird Pokémon, Beak Pokémon, Snake Pokémon, Cobra Pokémon, Mouse Pokémon, Mouse Pokémon, Mouse Pokémon, Mouse Pokémon, Poison Pin Pokémon, Poison Pin Pokémon, Drill Pokémon, Poison Pin Pokémon, Poison Pin Pokémon, Drill Pokémon, Fairy Pokémon, Fairy Pokémon, Fox Pokémon, Fox Pokémon, Balloon Pokémon, Balloon Pokémon, Bat Pokémon, Bat Pokémon, Weed Pokémon, Weed Pokémon, Flower Pokémon, Mushroom Pokémon, Mushroom Pokémon, Insect Pokémon, Poison Moth Pokémon, Mole Pokémon, Mole Pokémon, Scratch Cat Pokémon, Classy Cat Pokémon, Duck Pokémon, Duck Pokémon, Pig Monkey Pokémon, Pig Monkey Pokémon, Puppy Pokémon, Legendary Pokémon, Tadpole Pokémon, Tadpole Pokémon, Tadpole Pokémon, Psi Pokémon, Psi Pokémon, Psi Pokémon, Superpower Pokémon, Superpower Pokémon, Superpower Pokémon, Flower Pokémon, Flycatcher Pokémon, Flycatcher Pokémon, Jellyfish Pokémon, Jellyfish Pokémon, Rock Pokémon, Rock Pokémon, Megaton Pokémon, Fire Horse Pokémon, Fire Horse Pokémon, Dopey Pokémon, Hermit Crab Pokémon, Magnet Pokémon, Magnet Pokémon, Wild Duck Pokémon, Twin Bird Pokémon, Triple Bird Pokémon, Sea Lion Pokémon, Sea Lion Pokémon, Sludge Pokémon, Sludge Pokémon, Bivalve Pokémon, Bivalve Pokémon, Gas Pokémon, Gas Pokémon, Shadow Pokémon, Rock Snake Pokémon, Hypnosis Pokémon, Hypnosis Pokémon, River Crab Pokémon, Pincer Pokémon, Ball Pokémon, Ball Pokémon, Egg Pokémon, Coconut Pokémon, Lonely Pokémon, Bone Keeper Pokémon, Kicking Pokémon, Punching Pokémon, Licking Pokémon, Poison Gas Pokémon, Poison Gas Pokémon, Spikes Pokémon, Drill Pokémon, Egg Pokémon, Vine Pokémon, Parent Pokémon, Dragon Pokémon, Dragon Pokémon, Goldfish Pokémon, Goldfish Pokémon, Star Shape Pokémon, Mysterious Pokémon, Barrier Pokémon, Mantis Pokémon, Human Shape Pokémon, Electric Pokémon, Spitfire Pokémon, Stag Beetle Pokémon, Wild Bull Pokémon, Fish Pokémon, Atrocious Pokémon, Transport Pokémon, Transform Pokémon, Evolution Pokémon, Bubble Jet Pokémon, Lightning Pokémon, Flame Pokémon, Virtual Pokémon, Spiral Pokémon, Spiral Pokémon, Shellfish Pokémon, Shellfish Pokémon, Fossil Pokémon, Sleeping Pokémon, Freeze Pokémon, Electric Pokémon, Flame Pokémon, Dragon Pokémon, Dragon Pokémon, Dragon Pokémon, Genetic Pokémon, New Species Pokémon, Leaf Pokémon, Leaf Pokémon, Herb Pokémon, Fire Mouse Pokémon, Volcano Pokémon, Volcano Pokémon, Big Jaw Pokémon, Big Jaw Pokémon, Big Jaw Pokémon, Scout Pokémon, Long Body Pokémon, Owl Pokémon, Owl Pokémon, Five Star Pokémon, Five Star Pokémon, String Spit Pokémon, Long Leg Pokémon, Bat Pokémon, Angler Pokémon, Light Pokémon, Tiny Mouse Pokémon, Star Shape Pokémon, Balloon Pokémon, Spike Ball Pokémon, Happiness Pokémon, Tiny Bird Pokémon, Mystic Pokémon, Wool Pokémon, Wool Pokémon, Light Pokémon, Flower Pokémon, Aqua Mouse Pokémon, Aqua Rabbit Pokémon, Imitation Pokémon, Frog Pokémon, Cottonweed Pokémon, Cottonweed Pokémon, Cottonweed Pokémon, Long Tail Pokémon, Seed Pokémon, Sun Pokémon, Clear Wing Pokémon, Water Fish Pokémon, Water Fish Pokémon, Sun Pokémon, Moonlight Pokémon, Darkness Pokémon, Royal Pokémon, Screech Pokémon, Symbol Pokémon, Patient Pokémon, Long Neck Pokémon, Bagworm Pokémon, Bagworm Pokémon, Land Snake Pokémon, FlyScorpion Pokémon, Iron Snake Pokémon, Fairy Pokémon, Fairy Pokémon, Balloon Pokémon, Pincer Pokémon, Mold Pokémon, Single Horn Pokémon, Sharp Claw Pokémon, Little Bear Pokémon, Hibernator Pokémon, Lava Pokémon, Lava Pokémon, Pig Pokémon, Swine Pokémon, Coral Pokémon, Jet Pokémon, Jet Pokémon, Delivery Pokémon, Kite Pokémon, Armor Bird Pokémon, Dark Pokémon, Dark Pokémon, Dragon Pokémon, Long Nose Pokémon, Armor Pokémon, Virtual Pokémon, Big Horn Pokémon, Painter Pokémon, Scuffle Pokémon, Handstand Pokémon, Kiss Pokémon, Electric Pokémon, Live Coal Pokémon, Milk Cow Pokémon, Happiness Pokémon, Thunder Pokémon, Volcano Pokémon, Aurora Pokémon, Rock Skin Pokémon, Hard Shell Pokémon, Armor Pokémon, Diving Pokémon, Rainbow Pokémon, Time Travel Pokémon, Wood Gecko Pokémon, Wood Gecko Pokémon, Forest Pokémon, Chick Pokémon, Young Fowl Pokémon, Blaze Pokémon, Mud Fish Pokémon, Mud Fish Pokémon, Mud Fish Pokémon, Bite Pokémon, Bite Pokémon, TinyRaccoon Pokémon, Rushing Pokémon, Worm Pokémon, Cocoon Pokémon, Butterfly Pokémon, Cocoon Pokémon, Poison Moth Pokémon, Water Weed Pokémon, Jolly Pokémon, Carefree Pokémon, Acorn Pokémon, Wily Pokémon, Wicked Pokémon, TinySwallow Pokémon, Swallow Pokémon, Seagull Pokémon, Water Bird Pokémon, Feeling Pokémon, Emotion Pokémon, Embrace Pokémon, Pond Skater Pokémon, Eyeball Pokémon, Mushroom Pokémon, Mushroom Pokémon, Slacker Pokémon, Wild Monkey Pokémon, Lazy Pokémon, Trainee Pokémon, Ninja Pokémon, Shed Pokémon, Whisper Pokémon, Big Voice Pokémon, Loud Noise Pokémon, Guts Pokémon, Arm Thrust Pokémon, Polka Dot Pokémon, Compass Pokémon, Kitten Pokémon, Prim Pokémon, Darkness Pokémon, Deceiver Pokémon, Iron Armor Pokémon, Iron Armor Pokémon, Iron Armor Pokémon, Meditate Pokémon, Meditate Pokémon, Lightning Pokémon, Discharge Pokémon, Cheering Pokémon, Cheering Pokémon, Firefly Pokémon, Firefly Pokémon, Thorn Pokémon, Stomach Pokémon, Poison Bag Pokémon, Savage Pokémon, Brutal Pokémon, Ball Whale Pokémon, Float Whale Pokémon, Numb Pokémon, Eruption Pokémon, Coal Pokémon, Bounce Pokémon, Manipulate Pokémon, Spot Panda Pokémon, Ant Pit Pokémon, Vibration Pokémon, Mystic Pokémon, Cactus Pokémon, Scarecrow Pokémon, Cotton Bird Pokémon, Humming Pokémon, Cat Ferret Pokémon, Fang Snake Pokémon, Meteorite Pokémon, Meteorite Pokémon, Whiskers Pokémon, Whiskers Pokémon, Ruffian Pokémon, Rogue Pokémon, Clay Doll Pokémon, Clay Doll Pokémon, Sea Lily Pokémon, Barnacle Pokémon, Old Shrimp Pokémon, Plate Pokémon, Fish Pokémon, Tender Pokémon, Weather Pokémon, Color Swap Pokémon, Puppet Pokémon, Marionette Pokémon, Requiem Pokémon, Beckon Pokémon, Fruit Pokémon, Wind Chime Pokémon, Disaster Pokémon, Bright Pokémon, Snow Hat Pokémon, Face Pokémon, Clap Pokémon, Ball Roll Pokémon, Ice Break Pokémon, Bivalve Pokémon, Deep Sea Pokémon, South Sea Pokémon, Longevity Pokémon, Rendezvous Pokémon, Rock Head Pokémon, Endurance Pokémon, Dragon Pokémon, Iron Ball Pokémon, Iron Claw Pokémon, Iron Leg Pokémon, Rock Peak Pokémon, Iceberg Pokémon, Iron Pokémon, Eon Pokémon, Eon Pokémon, Sea Basin Pokémon, Continent Pokémon, Sky High Pokémon, Wish Pokémon, DNA Pokémon, Tiny Leaf Pokémon, Grove Pokémon, Continent Pokémon, Chimp Pokémon, Playful Pokémon, Flame Pokémon, Penguin Pokémon, Penguin Pokémon, Emperor Pokémon, Starling Pokémon, Starling Pokémon, Predator Pokémon, Plump Mouse Pokémon, Beaver Pokémon, Cricket Pokémon, Cricket Pokémon, Flash Pokémon, Spark Pokémon, Gleam Eyes Pokémon, Bud Pokémon, Bouquet Pokémon, Head Butt Pokémon, Head Butt Pokémon, Shield Pokémon, Shield Pokémon, Bagworm Pokémon, Bagworm Pokémon, Moth Pokémon, Tiny Bee Pokémon, Beehive Pokémon, EleSquirrel Pokémon, Sea Weasel Pokémon, Sea Weasel Pokémon, Cherry Pokémon, Blossom Pokémon, Sea Slug Pokémon, Sea Slug Pokémon, Long Tail Pokémon, Balloon Pokémon, Blimp Pokémon, Rabbit Pokémon, Rabbit Pokémon, Magical Pokémon, Big Boss Pokémon, Catty Pokémon, Tiger Cat Pokémon, Bell Pokémon, Skunk Pokémon, Skunk Pokémon, Bronze Pokémon, Bronze Bell Pokémon, Bonsai Pokémon, Mime Pokémon, Playhouse Pokémon, Music Note Pokémon, Forbidden Pokémon, Land Shark Pokémon, Cave Pokémon, Mach Pokémon, Big Eater Pokémon, Emanation Pokémon, Aura Pokémon, Hippo Pokémon, Heavyweight Pokémon, Scorpion Pokémon, Ogre Scorp Pokémon, Toxic Mouth Pokémon, Toxic Mouth Pokémon, Bug Catcher Pokémon, Wing Fish Pokémon, Neon Pokémon, Kite Pokémon, Frost Tree Pokémon, Frost Tree Pokémon, Sharp Claw Pokémon, Magnet Area Pokémon, Licking Pokémon, Drill Pokémon, Vine Pokémon, Thunderbolt Pokémon, Blast Pokémon, Jubilee Pokémon, Ogre Darner Pokémon, Verdant Pokémon, Fresh Snow Pokémon, Fang Scorp Pokémon, Twin Tusk Pokémon, Virtual Pokémon, Blade Pokémon, Compass Pokémon, Gripper Pokémon, Snow Land Pokémon, Plasma Pokémon, Knowledge Pokémon, Emotion Pokémon, Willpower Pokémon, Temporal Pokémon, Spatial Pokémon, Lava Dome Pokémon, Colossal Pokémon, Renegade Pokémon, Lunar Pokémon, Sea Drifter Pokémon, Seafaring Pokémon, Pitch-Black Pokémon, Gratitude Pokémon, Alpha Pokémon, Victory Pokémon, Grass Snake Pokémon, Grass Snake Pokémon, Regal Pokémon, Fire Pig Pokémon, Fire Pig Pokémon, Mega Fire Pig Pokémon, Sea Otter Pokémon, Discipline Pokémon, Formidable Pokémon, Scout Pokémon, Lookout Pokémon, Puppy Pokémon, Loyal Dog Pokémon, Big-Hearted Pokémon, Devious Pokémon, Cruel Pokémon, Grass Monkey Pokémon, Thorn Monkey Pokémon, High Temp Pokémon, Ember Pokémon, Spray Pokémon, Geyser Pokémon, Dream Eater Pokémon, Drowsing Pokémon, Tiny Pigeon Pokémon, Wild Pigeon Pokémon, Proud Pokémon, Electrified Pokémon, Thunderbolt Pokémon, Mantle Pokémon, Ore Pokémon, Compressed Pokémon, Bat Pokémon, Courting Pokémon, Mole Pokémon, Subterrene Pokémon, Hearing Pokémon, Muscular Pokémon, Muscular Pokémon, Muscular Pokémon, Tadpole Pokémon, Vibration Pokémon, Vibration Pokémon, Judo Pokémon, Karate Pokémon, Sewing Pokémon, Leaf-Wrapped Pokémon, Nurturing Pokémon, Centipede Pokémon, Curlipede Pokémon, Megapede Pokémon, Cotton Puff Pokémon, Windveiled Pokémon, Bulb Pokémon, Flowering Pokémon, Hostile Pokémon, Desert Croc Pokémon, Desert Croc Pokémon, Intimidation Pokémon, Zen Charm Pokémon, Blazing Pokémon, Cactus Pokémon, Rock Inn Pokémon, Stone Home Pokémon, Shedding Pokémon, Hoodlum Pokémon, Avianoid Pokémon, Spirit Pokémon, Coffin Pokémon, Prototurtle Pokémon, Prototurtle Pokémon, First Bird Pokémon, First Bird Pokémon, Trash Bag Pokémon, Trash Heap Pokémon, Tricky Fox Pokémon, Illusion Fox Pokémon, Chinchilla Pokémon, Scarf Pokémon, Fixation Pokémon, Manipulate Pokémon, Astral Body Pokémon, Cell Pokémon, Mitosis Pokémon, Multiplying Pokémon, Water Bird Pokémon, White Bird Pokémon, Fresh Snow Pokémon, Icy Snow Pokémon, Snowstorm Pokémon, Season Pokémon, Season Pokémon, Sky Squirrel Pokémon, Clamping Pokémon, Cavalry Pokémon, Mushroom Pokémon, Mushroom Pokémon, Floating Pokémon, Floating Pokémon, Caring Pokémon, Attaching Pokémon, EleSpider Pokémon, Thorn Seed Pokémon, Thorn Pod Pokémon, Gear Pokémon, Gear Pokémon, Gear Pokémon, EleFish Pokémon, EleFish Pokémon, EleFish Pokémon, Cerebral Pokémon, Cerebral Pokémon, Candle Pokémon, Lamp Pokémon, Luring Pokémon, Tusk Pokémon, Axe Jaw Pokémon, Axe Jaw Pokémon, Chill Pokémon, Freezing Pokémon, Crystallizing Pokémon, Snail Pokémon, Shell Out Pokémon, Trap Pokémon, Martial Arts Pokémon, Martial Arts Pokémon, Cave Pokémon, Automaton Pokémon, Automaton Pokémon, Sharp Blade Pokémon, Sword Blade Pokémon, Bash Buffalo Pokémon, Eaglet Pokémon, Valiant Pokémon, Diapered Pokémon, Bone Vulture Pokémon, Anteater Pokémon, Iron Ant Pokémon, Irate Pokémon, Hostile Pokémon, Brutal Pokémon, Torch Pokémon, Sun Pokémon, Iron Will Pokémon, Cavern Pokémon, Grassland Pokémon, Cyclone Pokémon, Bolt Strike Pokémon, Vast White Pokémon, Deep Black Pokémon, Abundance Pokémon, Boundary Pokémon, Colt Pokémon, Melody Pokémon, Paleozoic Pokémon, Spiny Nut Pokémon, Spiny Armor Pokémon, Spiny Armor Pokémon, Fox Pokémon, Fox Pokémon, Fox Pokémon, Bubble Frog Pokémon, Bubble Frog Pokémon, Ninja Pokémon, Digging Pokémon, Digging Pokémon, Tiny Robin Pokémon, Ember Pokémon, Scorching Pokémon, Scatterdust Pokémon, Scatterdust Pokémon, Scale Pokémon, Lion Cub Pokémon, Royal Pokémon, Single Bloom Pokémon, Single Bloom Pokémon, Garden Pokémon, Mount Pokémon, Mount Pokémon, Playful Pokémon, Daunting Pokémon, Poodle Pokémon, Restraint Pokémon, Constraint Pokémon, Sword Pokémon, Sword Pokémon, Royal Sword Pokémon, Perfume Pokémon, Fragrance Pokémon, Cotton Candy Pokémon, Meringue Pokémon, Revolving Pokémon, Overturning Pokémon, Two-Handed Pokémon, Collective Pokémon, Mock Kelp Pokémon, Mock Kelp Pokémon, Water Gun Pokémon, Howitzer Pokémon, Generator Pokémon, Generator Pokémon, Royal Heir Pokémon, Despot Pokémon, Tundra Pokémon, Tundra Pokémon, Intertwining Pokémon, Wrestling Pokémon, Antenna Pokémon, Jewel Pokémon, Soft Tissue Pokémon, Soft Tissue Pokémon, Dragon Pokémon, Key Ring Pokémon, Stump Pokémon, Elder Tree Pokémon, Pumpkin Pokémon, Pumpkin Pokémon, Ice Chunk Pokémon, Iceberg Pokémon, Sound Wave Pokémon, Sound Wave Pokémon, Life Pokémon, Destruction Pokémon, Order Pokémon, Jewel Pokémon, Mischief Pokémon, Steam Pokémon, Grass Quill Pokémon, Blade Quill Pokémon, Arrow Quill Pokémon, Fire Cat Pokémon, Fire Cat Pokémon, Heel Pokémon, Sea Lion Pokémon, Pop Star Pokémon, Soloist Pokémon, Woodpecker Pokémon, Bugle Beak Pokémon, Cannon Pokémon, Loitering Pokémon, Stakeout Pokémon, Larva Pokémon, Battery Pokémon, Stag Beetle Pokémon, Boxing Pokémon, Woolly Crab Pokémon, Dancing Pokémon, Bee Fly Pokémon, Bee Fly Pokémon, Puppy Pokémon, Wolf Pokémon, Small Fry Pokémon, Brutal Star Pokémon, Brutal Star Pokémon, Donkey Pokémon, Draft Horse Pokémon, Water Bubble Pokémon, Water Bubble Pokémon, Sickle Grass Pokémon, Bloom Sickle Pokémon, Illuminating Pokémon, Illuminating Pokémon, Toxic Lizard Pokémon, Toxic Lizard Pokémon, Flailing Pokémon, Strong Arm Pokémon, Fruit Pokémon, Fruit Pokémon, Fruit Pokémon, Posy Picker Pokémon, Sage Pokémon, Teamwork Pokémon, Turn Tail Pokémon, Hard Scale Pokémon, Sand Heap Pokémon, Sand Castle Pokémon, Sea Cucumber Pokémon, Synthetic Pokémon, Synthetic Pokémon, Meteor Pokémon, Drowsing Pokémon, Blast Turtle Pokémon, Roly-Poly Pokémon, Disguise Pokémon, Gnash Teeth Pokémon, Placid Pokémon, Sea Creeper Pokémon, Scaly Pokémon, Scaly Pokémon, Scaly Pokémon, Land Spirit Pokémon, Land Spirit Pokémon, Land Spirit Pokémon, Land Spirit Pokémon, Nebula Pokémon, Protostar Pokémon, Sunne Pokémon, Moone Pokémon, Parasite Pokémon, Swollen Pokémon, Lissome Pokémon, Glowing Pokémon, Launch Pokémon, Drawn Sword Pokémon, Junkivore Pokémon, Prism Pokémon, Artificial Pokémon, Gloomdweller Pokémon, Poison Pin Pokémon, Poison Pin Pokémon, Rampart Pokémon, Fireworks Pokémon, Thunderclap Pokémon, Hex Nut Pokémon, Hex Nut Pokémon, Chimp Pokémon, Beat Pokémon, Drummer Pokémon, Rabbit Pokémon, Rabbit Pokémon, Striker Pokémon, Water Lizard Pokémon, Water lizard Pokémon, Secret Agent Pokémon, Cheeky Pokémon, Greedy Pokémon, Tiny Bird Pokémon, Raven Pokémon, Raven Pokémon, Larva Pokémon, Radome Pokémon, Seven Spot Pokémon, Fox Pokémon, Fox Pokémon, Flowering Pokémon, Cotton Bloom Pokémon, Sheep Pokémon, Sheep Pokémon, Snapping Pokémon, Bite Pokémon, Puppy Pokémon, Dog Pokémon, Coal Pokémon, Coal Pokémon, Coal Pokémon, Apple Core Pokémon, Apple Wing Pokémon, Apple Nectar Pokémon, Sand Snake Pokémon, Sand Snake Pokémon, Gulp Pokémon, Rush Pokémon, Skewer Pokémon, Baby Pokémon, Punk Pokémon, Radiator Pokémon, Radiator Pokémon, Tantrum Pokémon, Tantrum Pokémon, Black Tea Pokémon, Black Tea Pokémon, Calm Pokémon, Serene Pokémon, Silent Pokémon, Wily Pokémon, Devious Pokémon, Bulk Up Pokémon, Blocking Pokémon, Viking Pokémon, Coral Pokémon, Wild Duck Pokémon, Comedian Pokémon, Grudge Pokémon, Cream Pokémon, Cream Pokémon, Formation Pokémon, Sea Urchin Pokémon, Worm Pokémon, Frost Moth Pokémon, Big Rock Pokémon, Penguin Pokémon, Emotion Pokémon, Two-Sided Pokémon, Copperderm Pokémon, Copperderm Pokémon, Fossil Pokémon, Fossil Pokémon, Fossil Pokémon, Fossil Pokémon, Alloy Pokémon, Lingering Pokémon, Caretaker Pokémon, Stealth Pokémon, Warrior Pokémon, Warrior Pokémon, Gigantic Pokémon, Wushu Pokémon, Wushu Pokémon, Rogue Monkey Pokémon, Electron Pokémon, Dragon Orb Pokémon, Wild Horse Pokémon, Swift Horse Pokémon, King Pokémon, Big Horn Pokémon, Axe Pokémon, Peat Pokémon, Big Fish Pokémon, Free Climb Pokémon, Pin Cluster Pokémon, Love-Hate Pokémon, Grass Cat Pokémon, Grass Cat Pokémon, Magician Pokémon, Fire Croc Pokémon, Fire Croc Pokémon, Singer Pokémon, Duckling Pokémon, Practicing Pokémon, Dancer Pokémon, Hog Pokémon, Hog Pokémon, String Ball Pokémon, Trap Pokémon, Grasshopper Pokémon, Grasshopper Pokémon, Mouse Pokémon, Mouse Pokémon, Hands-On Pokémon, Couple Pokémon, Family Pokémon, Puppy Pokémon, Dog Pokémon, Olive Pokémon, Olive Pokémon, Olive Pokémon, Parrot Pokémon, Rock Salt Pokémon, Rock Salt Pokémon, Rock Salt Pokémon, Fire Child Pokémon, Fire Warrior Pokémon, Fire Blades Pokémon, EleTadpole Pokémon, EleFrog Pokémon, Storm Petrel Pokémon, Frigatebird Pokémon, Rascal Pokémon, Boss Pokémon, Toxic Mouse Pokémon, Toxic Monkey Pokémon, Tumbleweed Pokémon, Tumbleweed Pokémon, Woodear Pokémon, Woodear Pokémon, Ambush Pokémon, Spicy Pepper Pokémon, Spicy Pepper Pokémon, Rolling Pokémon, Rolling Pokémon, Frill Pokémon, Ostrich Pokémon, Metalsmith Pokémon, Hammer Pokémon, Hammer Pokémon, Garden Eel Pokémon, Garden Eel Pokémon, Item Drop Pokémon, Dolphin Pokémon, Dolphin Pokémon, Single-Cyl Pokémon, Multi-Cyl Pokémon, Mount Pokémon, Earthworm Pokémon, Ore Pokémon, Ore Pokémon, Ghost Dog Pokémon, Ghost Dog Pokémon, Synchronize Pokémon, Terra Whale Pokémon, Terra Whale Pokémon, Jettison Pokémon, Big Catfish Pokémon, Mimicry Pokémon, Rage Monkey Pokémon, Spiny Fish Pokémon, Long Neck Pokémon, Land Snake Pokémon, Big Blade Pokémon, Paradox Pokémon, Paradox Pokémon, Paradox Pokémon, Paradox Pokémon, Paradox Pokémon, Paradox Pokémon, Paradox Pokémon, Paradox Pokémon, Paradox Pokémon, Paradox Pokémon, Paradox Pokémon, Paradox Pokémon, Ice Fin Pokémon, Ice Fin Pokémon, Ice Dragon Pokémon, Coin Chest Pokémon, Coin Entity Pokémon, Ruinous Pokémon, Ruinous Pokémon, Ruinous Pokémon, Ruinous Pokémon, Paradox Pokémon, Paradox Pokémon, Paradox Pokémon, Paradox Pokémon, Paradox Pokémon, Paradox Pokémon, Candy Apple Pokémon, Matcha Pokémon, Matcha Pokémon, Retainer Pokémon, Retainer Pokémon, Retainer Pokémon, Mask Pokémon, Alloy Pokémon, —, Paradox Pokémon, Paradox Pokémon, Paradox Pokémon, Paradox Pokémon, Tera Pokémon, Subjugation Pokémon]|\n",
            "+---------------------------------------------------------------------------------------------------------------------------------------------------------------------------------------------------------------------------------------------------------------------------------------------------------------------------------------------------------------------------------------------------------------------------------------------------------------------------------------------------------------------------------------------------------------------------------------------------------------------------------------------------------------------------------------------------------------------------------------------------------------------------------------------------------------------------------------------------------------------------------------------------------------------------------------------------------------------------------------------------------------------------------------------------------------------------------------------------------------------------------------------------------------------------------------------------------------------------------------------------------------------------------------------------------------------------------------------------------------------------------------------------------------------------------------------------------------------------------------------------------------------------------------------------------------------------------------------------------------------------------------------------------------------------------------------------------------------------------------------------------------------------------------------------------------------------------------------------------------------------------------------------------------------------------------------------------------------------------------------------------------------------------------------------------------------------------------------------------------------------------------------------------------------------------------------------------------------------------------------------------------------------------------------------------------------------------------------------------------------------------------------------------------------------------------------------------------------------------------------------------------------------------------------------------------------------------------------------------------------------------------------------------------------------------------------------------------------------------------------------------------------------------------------------------------------------------------------------------------------------------------------------------------------------------------------------------------------------------------------------------------------------------------------------------------------------------------------------------------------------------------------------------------------------------------------------------------------------------------------------------------------------------------------------------------------------------------------------------------------------------------------------------------------------------------------------------------------------------------------------------------------------------------------------------------------------------------------------------------------------------------------------------------------------------------------------------------------------------------------------------------------------------------------------------------------------------------------------------------------------------------------------------------------------------------------------------------------------------------------------------------------------------------------------------------------------------------------------------------------------------------------------------------------------------------------------------------------------------------------------------------------------------------------------------------------------------------------------------------------------------------------------------------------------------------------------------------------------------------------------------------------------------------------------------------------------------------------------------------------------------------------------------------------------------------------------------------------------------------------------------------------------------------------------------------------------------------------------------------------------------------------------------------------------------------------------------------------------------------------------------------------------------------------------------------------------------------------------------------------------------------------------------------------------------------------------------------------------------------------------------------------------------------------------------------------------------------------------------------------------------------------------------------------------------------------------------------------------------------------------------------------------------------------------------------------------------------------------------------------------------------------------------------------------------------------------------------------------------------------------------------------------------------------------------------------------------------------------------------------------------------------------------------------------------------------------------------------------------------------------------------------------------------------------------------------------------------------------------------------------------------------------------------------------------------------------------------------------------------------------------------------------------------------------------------------------------------------------------------------------------------------------------------------------------------------------------------------------------------------------------------------------------------------------------------------------------------------------------------------------------------------------------------------------------------------------------------------------------------------------------------------------------------------------------------------------------------------------------------------------------------------------------------------------------------------------------------------------------------------------------------------------------------------------------------------------------------------------------------------------------------------------------------------------------------------------------------------------------------------------------------------------------------------------------------------------------------------------------------------------------------------------------------------------------------------------------------------------------------------------------------------------------------------------------------------------------------------------------------------------------------------------------------------------------------------------------------------------------------------------------------------------------------------------------------------------------------------------------------------------------------------------------------------------------------------------------------------------------------------------------------------------------------------------------------------------------------------------------------------------------------------------------------------------------------------------------------------------------------------------------------------------------------------------------------------------------------------------------------------------------------------------------------------------------------------------------------------------------------------------------------------------------------------------------------------------------------------------------------------------------------------------------------------------------------------------------------------------------------------------------------------------------------------------------------------------------------------------------------------------------------------------------------------------------------------------------------------------------------------------------------------------------------------------------------------------------------------------------------------------------------------------------------------------------------------------------------------------------------------------------------------------------------------------------------------------------------------------------------------------------------------------------------------------------------------------------------------------------------------------------------------------------------------------------------------------------------------------------------------------------------------------------------------------------------------------------------------------------------------------------------------------------------------------------------------------------------------------------------------------------------------------------------------------------------------------------------------------------------------------------------------------------------------------------------------------------------------------------------------------------------------------------------------------------------------------------------------------------------------------------------------------------------------------------------------------------------------------------------------------------------------------------------------------------------------------------------------------------------------------------------------------------------------------------------------------------------------------------------------------------------------------------------------------------------------------------------------------------------------------------------------------------------------------------------------------------------------------------------------------------------------------------------------------------------------------------------------------------------------------------------------------------------------------------------------------------------------------------------------------------------------------------------------------------------------------------------------------------------------------------------------------------------------------------------------------------------------------------------------------------------------------------------------------------------------------------------------------------------------------------------------------------------------------------------------------------------------------------------------------------------------------------------------------------------------------------------------------------------------------------------------------------------------------------------------------------------------------------------------------------------------------------------------------------------------------------------------------------------------------------------------------------------------------------------------------------------------------------------------------------------------------------------------------------------------------------------------------------------------------------------------------------------------------------------------------------------------------------------------------------------------------------------------------------------------------------------------------------------------------------------------------------------------------------------------------------------------------------------------------------------------------------------------------------------------------------------------------------------------------------------------------------------------------------------------------------------------------------------------------------------------------------------------------------------------------------------------------------------------------------------------------------------------------------------------------------------------------------------------------------------------------------------------------------------------------------------------------------------------------------------------------------------------------------------------------------------------------------------------------------------------------------------------------------------------------------------------------------------------------------------------------------------------------------------------------------------------------------------------------------------------------------------------------------------------------------------------------------------------------------------------------------------------------------------------------------------------------------------------------------------------------------------------------------------------------------------------------------------------------------------------------------------------------------------------------------------------------------------------------------------------------------------------------------------------------------------------------------------------------------------------------------------------------------------------------------------------------------------------------------------------------------------------------------------------------------------------------------------------------------------------------------------------------------------------------------------------------------------------------------------------------------------------------------------------------------------------------------------------------------------------------------------------------------------------------------------------------------------------------------------------------------------------------------------------------------------------------------------------------------------------------------------------------------------------------------------------------------------------------------------------------------------------------------------------------------------------------------------------------------------------------------------------------------------------------------------------------------------------------------------------------------------------------------------------------------------------------------------------------------------------------------------------------------------------------------------------------------------------------------------------------------------------------------------------------------------------------------------------------------------------------------------------------------------------------------------------------------------------------------------------------------------------------------------------------------------------------------------------------------------------------------------------------------------------------------------------------------------------------------------------------------------------------------------------------------------------------------------------------------------------------------------------------------------------------------------------------------------------------------------------------------------------------------------------------------------------------------------------------------------------------------------------------------------------------------------------------------------------------------------------------------------------------------------------------------------------------------------------------------------------------------------------------------------------------------------------------------------------------------------------------------------------------------------------------------------------------------------------------------------------------------------------------------------------------------------------------------------------------------------------------------------------------------------------------------------------------------------------------------------------------------------------------------------------------------------------------------------------------------------------------------------------------------------------------------------------------------------------------------------------------------------------------------------------------------------------------------------------------------------------------------------------------------------------------------------------------------------------------------------------------------------------------------------------------------------------------------------------------------------------------------------------------------------------------------------------------------------------------------------------------------------------------------------------------------------------------------------------------------------------------------------------------------------------------------------------------------------------------------------------------------------------------------------------------------------------------------------------------------------------------------------------------------------------------------------------------------------------------------------------------------------------------------------------------------------------------------------------------------------------------------------------------------------------------------------------------------------------------------+\n",
            "\n"
          ]
        }
      ]
    },
    {
      "cell_type": "markdown",
      "source": [
        "** collect_set() function returns all values from an input column with duplicate values eliminated.**"
      ],
      "metadata": {
        "id": "Mjoi_I2N7VQ8"
      }
    },
    {
      "cell_type": "code",
      "source": [
        "pkdf.distinct().select('type1').count()"
      ],
      "metadata": {
        "colab": {
          "base_uri": "https://localhost:8080/"
        },
        "id": "Wyg5n-251Wdj",
        "outputId": "b85ed1d3-ac55-43b4-f367-8c74f3b80dfc"
      },
      "execution_count": null,
      "outputs": [
        {
          "output_type": "execute_result",
          "data": {
            "text/plain": [
              "1025"
            ]
          },
          "metadata": {},
          "execution_count": 97
        }
      ]
    },
    {
      "cell_type": "code",
      "source": [
        "#filter\n",
        "pkdf.filter(pkdf.attack > 75).select('attack','name','type1').orderBy(pkdf.attack).show()"
      ],
      "metadata": {
        "id": "nKNVstIH4tEN"
      },
      "execution_count": null,
      "outputs": []
    },
    {
      "cell_type": "code",
      "source": [
        "#where\n",
        "from pyspark.sql.functions import desc\n",
        "pkdf.where(~(pkdf['speed'] == 50)).select('speed','name','hp').orderBy(desc('speed')).show()"
      ],
      "metadata": {
        "colab": {
          "base_uri": "https://localhost:8080/"
        },
        "id": "HoDAtveu5WOA",
        "outputId": "3d27fc59-fc8c-4269-cdc1-9e597ed20963"
      },
      "execution_count": null,
      "outputs": [
        {
          "output_type": "stream",
          "name": "stdout",
          "text": [
            "+-----+------------+---+\n",
            "|speed|        name| hp|\n",
            "+-----+------------+---+\n",
            "|  200|   Regieleki| 80|\n",
            "|  160|     Ninjask| 61|\n",
            "|  151|   Pheromosa| 71|\n",
            "|  150|   Electrode| 60|\n",
            "|  150|      Deoxys| 50|\n",
            "|  145|    Accelgor| 80|\n",
            "|  143|     Zeraora| 88|\n",
            "|  142|   Dragapult| 88|\n",
            "|  138|      Zacian| 92|\n",
            "|  138|   Zamazenta| 92|\n",
            "|  136| Iron Bundle| 56|\n",
            "|  136| Barraskewda| 61|\n",
            "|  135|   Chien-Pao| 80|\n",
            "|  135|    Koraidon|100|\n",
            "|  135|Flutter Mane| 55|\n",
            "|  135|    Miraidon|100|\n",
            "|  130|     Jolteon| 65|\n",
            "|  130|  Aerodactyl| 80|\n",
            "|  130|      Mewtwo|106|\n",
            "|  130|      Crobat| 85|\n",
            "+-----+------------+---+\n",
            "only showing top 20 rows\n",
            "\n"
          ]
        }
      ]
    },
    {
      "cell_type": "code",
      "source": [
        "pkdf.printSchema()"
      ],
      "metadata": {
        "colab": {
          "base_uri": "https://localhost:8080/"
        },
        "id": "T543VB9czgUG",
        "outputId": "712822d6-7aa3-4002-b957-f5f99527667e"
      },
      "execution_count": null,
      "outputs": [
        {
          "output_type": "stream",
          "name": "stdout",
          "text": [
            "root\n",
            " |-- dexnum: integer (nullable = true)\n",
            " |-- name: string (nullable = true)\n",
            " |-- generation: integer (nullable = true)\n",
            " |-- type1: string (nullable = true)\n",
            " |-- type2: string (nullable = true)\n",
            " |-- species: string (nullable = true)\n",
            " |-- height: double (nullable = true)\n",
            " |-- weight: double (nullable = true)\n",
            " |-- ability1: string (nullable = true)\n",
            " |-- ability2: string (nullable = true)\n",
            " |-- hidden_ability: string (nullable = true)\n",
            " |-- hp: integer (nullable = true)\n",
            " |-- attack: integer (nullable = true)\n",
            " |-- defense: integer (nullable = true)\n",
            " |-- sp_atk: integer (nullable = true)\n",
            " |-- sp_def: integer (nullable = true)\n",
            " |-- speed: integer (nullable = true)\n",
            " |-- total: integer (nullable = true)\n",
            " |-- ev_yield: string (nullable = true)\n",
            " |-- catch_rate: integer (nullable = true)\n",
            " |-- base_friendship: string (nullable = true)\n",
            " |-- base_exp: string (nullable = true)\n",
            " |-- growth_rate: string (nullable = true)\n",
            " |-- egg_group1: string (nullable = true)\n",
            " |-- egg_group2: string (nullable = true)\n",
            " |-- percent_male: double (nullable = true)\n",
            " |-- percent_female: double (nullable = true)\n",
            " |-- egg_cycles: string (nullable = true)\n",
            " |-- special_group: string (nullable = true)\n",
            "\n"
          ]
        }
      ]
    },
    {
      "cell_type": "code",
      "source": [
        "#countDistinct() function returns the number of distinct elements in a columns\n",
        "pkdf.select(countDistinct(\"species\",\"type1\")).show()\n"
      ],
      "metadata": {
        "colab": {
          "base_uri": "https://localhost:8080/"
        },
        "id": "5Ak5xDsazv9g",
        "outputId": "ef64fc01-9985-4dab-e820-d623b90de40c"
      },
      "execution_count": null,
      "outputs": [
        {
          "output_type": "stream",
          "name": "stdout",
          "text": [
            "+------------------------------+\n",
            "|count(DISTINCT species, type1)|\n",
            "+------------------------------+\n",
            "|                           779|\n",
            "+------------------------------+\n",
            "\n"
          ]
        }
      ]
    },
    {
      "cell_type": "markdown",
      "source": [
        "**Agg Func**"
      ],
      "metadata": {
        "id": "IOxPnU3x8xiU"
      }
    },
    {
      "cell_type": "code",
      "source": [
        "pkdf.select(min('weight'),max('weight'),mean('weight'),sum('weight').alias('tot_weight')).show()"
      ],
      "metadata": {
        "colab": {
          "base_uri": "https://localhost:8080/"
        },
        "id": "CLq_WSRbz209",
        "outputId": "190cf319-2f9c-4813-e26c-bccf744404e2"
      },
      "execution_count": null,
      "outputs": [
        {
          "output_type": "stream",
          "name": "stdout",
          "text": [
            "+-----------+-----------+-----------------+-----------------+\n",
            "|min(weight)|max(weight)|      avg(weight)|       tot_weight|\n",
            "+-----------+-----------+-----------------+-----------------+\n",
            "|        0.1|      999.9|66.98165853658533|68656.19999999997|\n",
            "+-----------+-----------+-----------------+-----------------+\n",
            "\n"
          ]
        }
      ]
    },
    {
      "cell_type": "markdown",
      "source": [
        "**gBy()-Agg**"
      ],
      "metadata": {
        "id": "sdio9Be--NIs"
      }
    },
    {
      "cell_type": "code",
      "source": [
        "pkdf.groupBy('type2').agg(sum('attack').alias('tot_att_pwr')).show()\n",
        "#must use agg() to alias the col name."
      ],
      "metadata": {
        "colab": {
          "base_uri": "https://localhost:8080/"
        },
        "id": "xAfyAKFq9NI3",
        "outputId": "19905a4e-a028-42f6-fcaa-37a90b7fba7f"
      },
      "execution_count": null,
      "outputs": [
        {
          "output_type": "stream",
          "name": "stdout",
          "text": [
            "+--------+-----------+\n",
            "|   type2|tot_att_pwr|\n",
            "+--------+-----------+\n",
            "|   Water|       1408|\n",
            "|  Poison|       2766|\n",
            "|   Steel|       2729|\n",
            "|    Rock|       1436|\n",
            "|     Ice|       1642|\n",
            "|    null|      36761|\n",
            "|   Ghost|       2630|\n",
            "|   Fairy|       2202|\n",
            "| Psychic|       3084|\n",
            "|  Dragon|       2918|\n",
            "|  Flying|       7638|\n",
            "|     Bug|        650|\n",
            "|Electric|        862|\n",
            "|    Fire|       1076|\n",
            "|  Ground|       2897|\n",
            "|    Dark|       2498|\n",
            "|Fighting|       3508|\n",
            "|   Grass|       1837|\n",
            "|  Normal|        918|\n",
            "+--------+-----------+\n",
            "\n"
          ]
        }
      ]
    },
    {
      "cell_type": "code",
      "source": [],
      "metadata": {
        "id": "cvHMY9sn-cP3"
      },
      "execution_count": null,
      "outputs": []
    }
  ]
}