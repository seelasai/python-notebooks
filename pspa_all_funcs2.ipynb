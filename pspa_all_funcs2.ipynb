{
  "nbformat": 4,
  "nbformat_minor": 0,
  "metadata": {
    "colab": {
      "provenance": [],
      "collapsed_sections": [
        "lXn7xE9_rCZM",
        "Igk2jokP3mJs",
        "aeGFbS8GwNZ2",
        "KY6va42B9J3c",
        "V0mT3qEiThMc",
        "GgRqPpiGA-X9",
        "s5AHrE2JFG0B"
      ],
      "toc_visible": true
    },
    "kernelspec": {
      "name": "python3",
      "display_name": "Python 3"
    },
    "language_info": {
      "name": "python"
    }
  },
  "cells": [
    {
      "cell_type": "markdown",
      "source": [
        "# Inspecting a DATAFRAME"
      ],
      "metadata": {
        "id": "lXn7xE9_rCZM"
      }
    },
    {
      "cell_type": "code",
      "execution_count": null,
      "metadata": {
        "colab": {
          "base_uri": "https://localhost:8080/",
          "height": 221
        },
        "id": "XpP6JyQHq48v",
        "outputId": "3399b807-3818-443a-9c63-2c0f15b6d6b9"
      },
      "outputs": [
        {
          "output_type": "execute_result",
          "data": {
            "text/plain": [
              "<pyspark.sql.session.SparkSession at 0x7cda080aa020>"
            ],
            "text/html": [
              "\n",
              "            <div>\n",
              "                <p><b>SparkSession - in-memory</b></p>\n",
              "                \n",
              "        <div>\n",
              "            <p><b>SparkContext</b></p>\n",
              "\n",
              "            <p><a href=\"http://eb4eb56ab45b:4040\">Spark UI</a></p>\n",
              "\n",
              "            <dl>\n",
              "              <dt>Version</dt>\n",
              "                <dd><code>v3.1.1</code></dd>\n",
              "              <dt>Master</dt>\n",
              "                <dd><code>local[*]</code></dd>\n",
              "              <dt>AppName</dt>\n",
              "                <dd><code>Basics</code></dd>\n",
              "            </dl>\n",
              "        </div>\n",
              "        \n",
              "            </div>\n",
              "        "
            ]
          },
          "metadata": {},
          "execution_count": 2
        }
      ],
      "source": [
        "!apt-get install openjdk-8-jdk-headless -qq > /dev/null\n",
        "!wget -q http://archive.apache.org/dist/spark/spark-3.1.1/spark-3.1.1-bin-hadoop3.2.tgz\n",
        "!tar xf spark-3.1.1-bin-hadoop3.2.tgz\n",
        "!pip install -q findspark\n",
        "import os\n",
        "os.environ[\"JAVA_HOME\"] = \"/usr/lib/jvm/java-8-openjdk-amd64\"\n",
        "os.environ[\"SPARK_HOME\"] = \"/content/spark-3.1.1-bin-hadoop3.2\"\n",
        "import findspark\n",
        "findspark.init()\n",
        "from pyspark.sql import SparkSession\n",
        "spark = SparkSession.builder.appName(\"Basics\").getOrCreate()\n",
        "spark"
      ]
    },
    {
      "cell_type": "code",
      "source": [
        "# mounting the google drive to colab\n",
        "from google.colab import drive\n",
        "drive.mount('/content/drive')"
      ],
      "metadata": {
        "id": "C6IRtViMsBu0",
        "colab": {
          "base_uri": "https://localhost:8080/"
        },
        "outputId": "9808e0dd-789f-416b-916c-db908401a03e"
      },
      "execution_count": null,
      "outputs": [
        {
          "output_type": "stream",
          "name": "stdout",
          "text": [
            "Drive already mounted at /content/drive; to attempt to forcibly remount, call drive.mount(\"/content/drive\", force_remount=True).\n"
          ]
        }
      ]
    },
    {
      "cell_type": "code",
      "source": [
        "# loading the file to sparksession\n",
        "mdf=spark.read.csv('original.csv',header=True)\n",
        "mdf.show(1)"
      ],
      "metadata": {
        "colab": {
          "base_uri": "https://localhost:8080/"
        },
        "id": "1wLffPb1rYf9",
        "outputId": "e804fe66-2791-4c80-a573-6b7abd378cba"
      },
      "execution_count": null,
      "outputs": [
        {
          "output_type": "stream",
          "name": "stdout",
          "text": [
            "+---+----------+---------+------+---------+-------------------+---------+----------+----------+\n",
            "| id|first_name|last_name|gender|     City|           JobTitle|   Salary|  Latitude| Longitude|\n",
            "+---+----------+---------+------+---------+-------------------+---------+----------+----------+\n",
            "|  1|   Melinde|Shilburne|Female|Nowa Ruda|Assistant Professor|$57438.18|50.5774075|16.4967184|\n",
            "+---+----------+---------+------+---------+-------------------+---------+----------+----------+\n",
            "only showing top 1 row\n",
            "\n"
          ]
        }
      ]
    },
    {
      "cell_type": "code",
      "source": [
        "mdf.dtypes"
      ],
      "metadata": {
        "colab": {
          "base_uri": "https://localhost:8080/"
        },
        "id": "LqlnE-ilsZxc",
        "outputId": "c664a131-af50-4e71-d03b-43c5c55909b4"
      },
      "execution_count": null,
      "outputs": [
        {
          "output_type": "execute_result",
          "data": {
            "text/plain": [
              "[('id', 'string'),\n",
              " ('first_name', 'string'),\n",
              " ('last_name', 'string'),\n",
              " ('gender', 'string'),\n",
              " ('City', 'string'),\n",
              " ('JobTitle', 'string'),\n",
              " ('Salary', 'string'),\n",
              " ('Latitude', 'string'),\n",
              " ('Longitude', 'string')]"
            ]
          },
          "metadata": {},
          "execution_count": 5
        }
      ]
    },
    {
      "cell_type": "code",
      "source": [
        "#changing the col datatypes\n",
        "from pyspark.sql.types import *\n",
        "from pyspark.sql.types import StringType, DateType, FloatType"
      ],
      "metadata": {
        "id": "ZAt4-fIvsxRH"
      },
      "execution_count": null,
      "outputs": []
    },
    {
      "cell_type": "code",
      "source": [
        "\"\"\"#changing the col datatypes\n",
        "mdf.withColumn('id',mdf['id'].cast('integer')) \\\n",
        "  .withColumn('Latitude',mdf['Latitude'].cast('FloatType')) \\\n",
        "  .withColumn('Longitude',mdf['Longitude'].cast('FloatType'))\"\"\""
      ],
      "metadata": {
        "id": "V-qlAXM0tD1W"
      },
      "execution_count": null,
      "outputs": []
    },
    {
      "cell_type": "code",
      "source": [
        "from pyspark.sql.types import *\n",
        "# creating my own schema\n",
        "myschema=StructType([\n",
        "  StructField('id', IntegerType()),\n",
        " StructField('first_name', StringType()),\n",
        " StructField('last_name', StringType()),\n",
        " StructField('gender', StringType()),\n",
        " StructField('City', StringType()),\n",
        " StructField('JobTitle', StringType()),\n",
        " StructField('Salary', StringType()),\n",
        " StructField('Latitude', FloatType()),\n",
        " StructField('Longitude', FloatType())])\n",
        " #\n",
        "odf=spark.read.csv('original.csv',header=True,schema=myschema)"
      ],
      "metadata": {
        "id": "CFlDkMcptq0V"
      },
      "execution_count": null,
      "outputs": []
    },
    {
      "cell_type": "code",
      "source": [
        "odf.dtypes #checking datatype changed\n",
        "odf.show(10)"
      ],
      "metadata": {
        "colab": {
          "base_uri": "https://localhost:8080/"
        },
        "id": "54KdOlY7uOVa",
        "outputId": "f8641f7f-f8e3-4fb6-a77d-86db6a22a056"
      },
      "execution_count": null,
      "outputs": [
        {
          "output_type": "stream",
          "name": "stdout",
          "text": [
            "+---+----------+----------+------+---------------+--------------------+---------+---------+----------+\n",
            "| id|first_name| last_name|gender|           City|            JobTitle|   Salary| Latitude| Longitude|\n",
            "+---+----------+----------+------+---------------+--------------------+---------+---------+----------+\n",
            "|  1|   Melinde| Shilburne|Female|      Nowa Ruda| Assistant Professor|$57438.18|50.577408| 16.496717|\n",
            "|  2|  Kimberly|Von Welden|Female|         Bulgan|       Programmer II|$62846.60| 48.82316| 103.52182|\n",
            "|  3|    Alvera|  Di Boldi|Female|           null|                null|$57576.52|39.994747|116.339775|\n",
            "|  4|   Shannon| O'Griffin|  Male|  Divnomorskoye|Budget/Accounting...|$61489.23|44.504723| 38.130016|\n",
            "|  5|  Sherwood|   Macieja|  Male|      Mytishchi|            VP Sales|$63863.09|     null| 37.648994|\n",
            "|  6|     Maris|      Folk|Female|Kinsealy-Drinan|      Civil Engineer|$30101.16|53.426613|-6.1644998|\n",
            "|  7|     Masha|    Divers|Female|         Dachun|                null|$25090.87|24.879416|118.930115|\n",
            "|  8|   Goddart|     Flear|  Male|      Trélissac|Desktop Support T...|$46116.36|45.190517| 0.7423124|\n",
            "|  9|      Roth|O'Cannavan|  Male|         Heitan|VP Product Manage...|$73697.10|32.027935| 106.65711|\n",
            "| 10|      Bran|   Trahear|  Male|       Arbeláez|Mechanical System...|$68098.42| 4.272793|-74.416016|\n",
            "+---+----------+----------+------+---------------+--------------------+---------+---------+----------+\n",
            "only showing top 10 rows\n",
            "\n"
          ]
        }
      ]
    },
    {
      "cell_type": "code",
      "source": [
        "odf.head(3)"
      ],
      "metadata": {
        "colab": {
          "base_uri": "https://localhost:8080/"
        },
        "id": "skuhVmc6xmPV",
        "outputId": "dfe7de6a-38ba-4168-cf6d-9735b1b08468"
      },
      "execution_count": null,
      "outputs": [
        {
          "output_type": "execute_result",
          "data": {
            "text/plain": [
              "[Row(id=1, first_name='Melinde', last_name='Shilburne', gender='Female', City='Nowa Ruda', JobTitle='Assistant Professor', Salary='$57438.18', Latitude=50.57740783691406, Longitude=16.49671745300293),\n",
              " Row(id=2, first_name='Kimberly', last_name='Von Welden', gender='Female', City='Bulgan', JobTitle='Programmer II', Salary='$62846.60', Latitude=48.823158264160156, Longitude=103.52182006835938),\n",
              " Row(id=3, first_name='Alvera', last_name='Di Boldi', gender='Female', City=None, JobTitle=None, Salary='$57576.52', Latitude=39.994747161865234, Longitude=116.33977508544922)]"
            ]
          },
          "metadata": {},
          "execution_count": 23
        }
      ]
    },
    {
      "cell_type": "code",
      "source": [
        "odf.first() # gets first row data"
      ],
      "metadata": {
        "colab": {
          "base_uri": "https://localhost:8080/"
        },
        "id": "LB4FNajqxz3_",
        "outputId": "739cc446-f591-4cb2-9dac-c3e75ba1247a"
      },
      "execution_count": null,
      "outputs": [
        {
          "output_type": "execute_result",
          "data": {
            "text/plain": [
              "Row(id=1, first_name='Melinde', last_name='Shilburne', gender='Female', City='Nowa Ruda', JobTitle='Assistant Professor', Salary='$57438.18', Latitude=50.57740783691406, Longitude=16.49671745300293)"
            ]
          },
          "metadata": {},
          "execution_count": 5
        }
      ]
    },
    {
      "cell_type": "code",
      "source": [
        "odf.describe().show()"
      ],
      "metadata": {
        "colab": {
          "base_uri": "https://localhost:8080/"
        },
        "id": "b86DSeNWx3cg",
        "outputId": "057137cc-f9d3-4507-d66b-288fc63c5903"
      },
      "execution_count": null,
      "outputs": [
        {
          "output_type": "stream",
          "name": "stdout",
          "text": [
            "+-------+-----------------+----------+---------+------+-------------------+-------------------+---------+------------------+-----------------+\n",
            "|summary|               id|first_name|last_name|gender|               City|           JobTitle|   Salary|          Latitude|        Longitude|\n",
            "+-------+-----------------+----------+---------+------+-------------------+-------------------+---------+------------------+-----------------+\n",
            "|  count|             1000|      1000|     1000|  1000|                999|                998|     1000|               999|             1000|\n",
            "|   mean|            500.5|      null|     null|  null|               null|               null|     null| 25.43151724702484|43.33756460386515|\n",
            "| stddev|288.8194360957494|      null|     null|  null|               null|               null|     null|24.579082550156635| 69.4206453674681|\n",
            "|    min|                1|   Abagail|    Abbay|Female|             Abéché|Account Coordinator|$10101.92|         -54.28115|       -123.04196|\n",
            "|    max|             1000|    Zulema| de Marco|  Male|‘Aşīrah al Qiblīyah|   Web Developer IV|$99948.28|          69.63186|        175.28227|\n",
            "+-------+-----------------+----------+---------+------+-------------------+-------------------+---------+------------------+-----------------+\n",
            "\n"
          ]
        }
      ]
    },
    {
      "cell_type": "code",
      "source": [
        "odf.columns"
      ],
      "metadata": {
        "colab": {
          "base_uri": "https://localhost:8080/"
        },
        "id": "7rlXZHaXx8Z7",
        "outputId": "fcf8b749-747c-41c6-faaf-b810c5cb122d"
      },
      "execution_count": null,
      "outputs": [
        {
          "output_type": "execute_result",
          "data": {
            "text/plain": [
              "['id',\n",
              " 'first_name',\n",
              " 'last_name',\n",
              " 'gender',\n",
              " 'City',\n",
              " 'JobTitle',\n",
              " 'Salary',\n",
              " 'Latitude',\n",
              " 'Longitude']"
            ]
          },
          "metadata": {},
          "execution_count": 6
        }
      ]
    },
    {
      "cell_type": "markdown",
      "source": [
        "# Handling the Data and Null values"
      ],
      "metadata": {
        "id": "KM__j1z_zLov"
      }
    },
    {
      "cell_type": "code",
      "source": [
        "odf.count() # gets total no. of rows in the df"
      ],
      "metadata": {
        "colab": {
          "base_uri": "https://localhost:8080/"
        },
        "id": "CludhNrKyGJd",
        "outputId": "c3845717-996d-40df-f985-0ab838efafb3"
      },
      "execution_count": null,
      "outputs": [
        {
          "output_type": "execute_result",
          "data": {
            "text/plain": [
              "1000"
            ]
          },
          "metadata": {},
          "execution_count": 27
        }
      ]
    },
    {
      "cell_type": "code",
      "source": [
        "#dropping the null values in all rows\n",
        "df_drped = odf.na.drop()\n",
        "df_drped.show()"
      ],
      "metadata": {
        "id": "FRPrwgcMyIvE"
      },
      "execution_count": null,
      "outputs": []
    },
    {
      "cell_type": "code",
      "source": [
        "# or we do only for specific cols like 'JobTitle' col\n",
        "dfnull = odf.filter(odf.JobTitle.isNotNull())\n",
        "dfnull.show()"
      ],
      "metadata": {
        "id": "BzCccwXay_vV"
      },
      "execution_count": null,
      "outputs": []
    },
    {
      "cell_type": "code",
      "source": [
        "# creating a new col 'clean city' where if city = null where 'unknown', else same data\n",
        "from pyspark.sql.functions import *\n",
        "dfhand = odf.withColumn('clean city',when(odf.City.isNull(),'Unkown').otherwise(odf.City))\n",
        "dfhand.show()"
      ],
      "metadata": {
        "colab": {
          "base_uri": "https://localhost:8080/"
        },
        "id": "Kky9s_sWz7X2",
        "outputId": "0662d1ed-1632-44b6-fc9d-a0e1265f31c7"
      },
      "execution_count": null,
      "outputs": [
        {
          "output_type": "stream",
          "name": "stdout",
          "text": [
            "+---+----------+----------+------+---------------+--------------------+---------+----------+----------+---------------+\n",
            "| id|first_name| last_name|gender|           City|            JobTitle|   Salary|  Latitude| Longitude|     clean city|\n",
            "+---+----------+----------+------+---------------+--------------------+---------+----------+----------+---------------+\n",
            "|  1|   Melinde| Shilburne|Female|      Nowa Ruda| Assistant Professor|$57438.18| 50.577408| 16.496717|      Nowa Ruda|\n",
            "|  2|  Kimberly|Von Welden|Female|         Bulgan|       Programmer II|$62846.60|  48.82316| 103.52182|         Bulgan|\n",
            "|  3|    Alvera|  Di Boldi|Female|           null|                null|$57576.52| 39.994747|116.339775|         Unkown|\n",
            "|  4|   Shannon| O'Griffin|  Male|  Divnomorskoye|Budget/Accounting...|$61489.23| 44.504723| 38.130016|  Divnomorskoye|\n",
            "|  5|  Sherwood|   Macieja|  Male|      Mytishchi|            VP Sales|$63863.09|      null| 37.648994|      Mytishchi|\n",
            "|  6|     Maris|      Folk|Female|Kinsealy-Drinan|      Civil Engineer|$30101.16| 53.426613|-6.1644998|Kinsealy-Drinan|\n",
            "|  7|     Masha|    Divers|Female|         Dachun|                null|$25090.87| 24.879416|118.930115|         Dachun|\n",
            "|  8|   Goddart|     Flear|  Male|      Trélissac|Desktop Support T...|$46116.36| 45.190517| 0.7423124|      Trélissac|\n",
            "|  9|      Roth|O'Cannavan|  Male|         Heitan|VP Product Manage...|$73697.10| 32.027935| 106.65711|         Heitan|\n",
            "| 10|      Bran|   Trahear|  Male|       Arbeláez|Mechanical System...|$68098.42|  4.272793|-74.416016|       Arbeláez|\n",
            "| 11|    Kylynn|   Lockart|Female|       El Cardo|Nuclear Power Eng...|$13604.63|     -5.85| -79.88333|       El Cardo|\n",
            "| 12|       Rey|    Meharg|Female|    Wangqingtuo|Systems Administr...|$73423.70|  39.17238| 116.93161|    Wangqingtuo|\n",
            "| 13|      Kerr|    Braden|  Male|      Sułkowice|Compensation Analyst|$33432.99|  49.81518| 19.377174|      Sułkowice|\n",
            "| 14|    Mickie| Whanstall|  Male|    Springfield|Assistant Media P...|$50838.53|  42.10148|-72.576675|    Springfield|\n",
            "| 15|    Kaspar|     Pally|  Male|         Chrást|  Analyst Programmer|$40163.03|  49.79233| 13.491532|         Chrást|\n",
            "| 16|    Norbie|    Gwyllt|  Male|         Xijiao|              Editor|$32492.73| 43.494576|  5.897802|         Xijiao|\n",
            "| 17|    Claude|    Briant|Female|      Mieścisko|Research Assistan...|$51862.48| 52.744167| 17.327864|      Mieścisko|\n",
            "| 18|     Thain|    Habbon|  Male| Foros do Trapo|     Design Engineer|$42135.67| 38.696247| -8.709834| Foros do Trapo|\n",
            "| 19|  Tiffanie|  Pattison|Female|    Jabungsisir|Senior Financial ...|$91925.08|-7.7232566| 113.46868|    Jabungsisir|\n",
            "| 20|    Ettore|  Gerriets|  Male|          Pedra| Staff Accountant IV|$73921.33| 40.717205|-8.3625145|          Pedra|\n",
            "+---+----------+----------+------+---------------+--------------------+---------+----------+----------+---------------+\n",
            "only showing top 20 rows\n",
            "\n"
          ]
        }
      ]
    },
    {
      "cell_type": "code",
      "source": [
        "dfhand.show(4)"
      ],
      "metadata": {
        "id": "92Gr40Vo1Lct"
      },
      "execution_count": null,
      "outputs": []
    },
    {
      "cell_type": "code",
      "source": [
        "dfnodupli = odf.dropDuplicates()\n",
        "dfnodupli.show() # drops all duplicate data/rows"
      ],
      "metadata": {
        "colab": {
          "base_uri": "https://localhost:8080/"
        },
        "id": "2cVkwpn519a1",
        "outputId": "f94a6248-a6ee-4979-84c8-40f052c99d89"
      },
      "execution_count": null,
      "outputs": [
        {
          "output_type": "stream",
          "name": "stdout",
          "text": [
            "+---+----------+-------------+------+--------------------+--------------------+---------+----------+----------+\n",
            "| id|first_name|    last_name|gender|                City|            JobTitle|   Salary|  Latitude| Longitude|\n",
            "+---+----------+-------------+------+--------------------+--------------------+---------+----------+----------+\n",
            "|372|     Lyman|      Burfitt|  Male|             Guiping|Community Outreac...|$28755.53| 23.394325| 110.07938|\n",
            "|391|     Verge|     Hefferan|  Male|          Cocachacra|Community Outreac...|$90391.71|-17.091843| -71.77114|\n",
            "|428|   Pernell|      Fossitt|  Male|           Wangchang|    Graphic Designer|$36927.53| 40.401047|  117.9989|\n",
            "|526|  Garfield|    Benadette|  Male|              Shiren|   Marketing Manager|$56867.78| 28.651703| 117.90413|\n",
            "|731|     Legra|        Manns|Female|               Nîmes|  Research Associate|$42246.87| 43.844727| 4.3520436|\n",
            "|809|       Jed|       Shires|  Male|            Goubétto|     Design Engineer|$64130.79| 11.423197| 43.002483|\n",
            "|107|    Rhodia|     Glazzard|Female|            Predavac|             Actuary|$42166.97|  45.93808| 16.780666|\n",
            "|206|    Penrod|      Aukland|  Male|                Maru|    Junior Executive|$88916.91| 11.366184|  6.322607|\n",
            "|271|    Cyndie|       Docker|Female|        Sanshengyuan|     Legal Assistant|$28926.95| 38.284946| 114.44385|\n",
            "|519|  Marchall|       Gaskal|  Male|              Buawan|Research Assistan...|$40183.50|  14.64239|120.957565|\n",
            "|673|  Reinaldo|        Wiles|  Male|         Spas-Zaulok|Human Resources M...|$41604.67| 56.476814| 36.575226|\n",
            "|255|   Jameson|      Gaiford|  Male|             Dahuang|   Marketing Manager|$27207.16| 40.142128| 94.661964|\n",
            "|792|   Morgana|          Kew|Female|              Duozhu|        Engineer III|$71416.86| 23.027798| 114.95018|\n",
            "|294|   Quintus|    Potticary|  Male|São Mamede de Inf...|       Senior Editor|$55111.06|  41.18463| -8.598522|\n",
            "|422|  Giuditta|Thundercliffe|Female|             Xinying| Geological Engineer|$83766.35| 39.983112| -75.11504|\n",
            "|859|    Willyt|      Suttaby|Female|           Haykashen|Human Resources A...|$76556.57| 40.072536|  44.30513|\n",
            "|864|    Bertie|        Bewsy|  Male|         Poncokusumo|Software Test Eng...|$25446.48| -8.051573| 112.83438|\n",
            "|918|  Merralee|     Brockley|Female|          Karabanovo|  Nurse Practicioner|$45568.92|  56.30725| 38.701054|\n",
            "|163| Valentino|       Loxley|  Male|               Taifu| Software Consultant|$87708.40|  41.46429| -74.36236|\n",
            "|297|    Marlie|       Angelo|Female|            Cértegui|  Speech Pathologist|$21951.41|   5.40004| -76.60003|\n",
            "+---+----------+-------------+------+--------------------+--------------------+---------+----------+----------+\n",
            "only showing top 20 rows\n",
            "\n"
          ]
        }
      ]
    },
    {
      "cell_type": "code",
      "source": [],
      "metadata": {
        "id": "hYgUCRXz2Y9K"
      },
      "execution_count": null,
      "outputs": []
    },
    {
      "cell_type": "markdown",
      "source": [
        "# Selecting and Filtering Data"
      ],
      "metadata": {
        "id": "Igk2jokP3mJs"
      }
    },
    {
      "cell_type": "markdown",
      "source": [
        "\n",
        "\n",
        "*   SELECT() -> for substr(), alias() and few more to find.\n",
        "*   FILTER() -> for isin(), like(), between(), startswith(), endswith(), comparing operators (>,<,==, etc), and so on yet to find.\n",
        "\n"
      ],
      "metadata": {
        "id": "6pgkK6Nj7YOq"
      }
    },
    {
      "cell_type": "code",
      "source": [
        "odf.select('*').show()"
      ],
      "metadata": {
        "id": "TAK6tlL6KIlv"
      },
      "execution_count": null,
      "outputs": []
    },
    {
      "cell_type": "code",
      "source": [
        "odf.select('first_name','last_name').show(5)"
      ],
      "metadata": {
        "id": "TcixNbTgKXhh"
      },
      "execution_count": null,
      "outputs": []
    },
    {
      "cell_type": "code",
      "source": [
        "odf.select(odf.JobTitle[10:20]).show(8) # substring"
      ],
      "metadata": {
        "colab": {
          "base_uri": "https://localhost:8080/"
        },
        "id": "h0LqHtI2KkJ-",
        "outputId": "17cbcc35-ceb5-4748-b19a-1aa6b4fef8ca"
      },
      "execution_count": null,
      "outputs": [
        {
          "output_type": "stream",
          "name": "stdout",
          "text": [
            "+---------------------------+\n",
            "|substring(JobTitle, 10, 20)|\n",
            "+---------------------------+\n",
            "|                  Professor|\n",
            "|                       r II|\n",
            "|                       null|\n",
            "|        counting Analyst II|\n",
            "|                           |\n",
            "|                      ineer|\n",
            "|                       null|\n",
            "|          upport Technician|\n",
            "+---------------------------+\n",
            "only showing top 8 rows\n",
            "\n"
          ]
        }
      ]
    },
    {
      "cell_type": "code",
      "source": [
        "# selecting the data\n",
        "dfselect = odf.select(\"first_name\",'last_name')\n",
        "dfselect.show(4)"
      ],
      "metadata": {
        "colab": {
          "base_uri": "https://localhost:8080/"
        },
        "id": "m6WuNBKx23H3",
        "outputId": "1f524c9f-739e-4d0d-dab9-9a2f98386ced"
      },
      "execution_count": null,
      "outputs": [
        {
          "output_type": "stream",
          "name": "stdout",
          "text": [
            "+----------+----------+\n",
            "|first_name| last_name|\n",
            "+----------+----------+\n",
            "|   Melinde| Shilburne|\n",
            "|  Kimberly|Von Welden|\n",
            "|    Alvera|  Di Boldi|\n",
            "|   Shannon| O'Griffin|\n",
            "+----------+----------+\n",
            "only showing top 4 rows\n",
            "\n"
          ]
        }
      ]
    },
    {
      "cell_type": "code",
      "source": [
        "# renaming the df\n",
        "df_renamed = odf.withColumnRenamed('first_name','fn')\n",
        "df_renamed.show(1)"
      ],
      "metadata": {
        "colab": {
          "base_uri": "https://localhost:8080/"
        },
        "id": "pEzbFFqr4Td5",
        "outputId": "72811664-fb45-4c77-ea04-24858a1ccf1d"
      },
      "execution_count": null,
      "outputs": [
        {
          "output_type": "stream",
          "name": "stdout",
          "text": [
            "+---+-------+---------+------+---------+-------------------+---------+---------+---------+\n",
            "| id|     fn|last_name|gender|     City|           JobTitle|   Salary| Latitude|Longitude|\n",
            "+---+-------+---------+------+---------+-------------------+---------+---------+---------+\n",
            "|  1|Melinde|Shilburne|Female|Nowa Ruda|Assistant Professor|$57438.18|50.577408|16.496717|\n",
            "+---+-------+---------+------+---------+-------------------+---------+---------+---------+\n",
            "only showing top 1 row\n",
            "\n"
          ]
        }
      ]
    },
    {
      "cell_type": "code",
      "source": [
        "odf.show(1)"
      ],
      "metadata": {
        "colab": {
          "base_uri": "https://localhost:8080/"
        },
        "id": "JNzIChXg4qd1",
        "outputId": "ee76a5a1-80eb-47fe-a21d-a0620a2a9391"
      },
      "execution_count": null,
      "outputs": [
        {
          "output_type": "stream",
          "name": "stdout",
          "text": [
            "+---+----------+---------+------+---------+-------------------+---------+---------+---------+\n",
            "| id|first_name|last_name|gender|     City|           JobTitle|   Salary| Latitude|Longitude|\n",
            "+---+----------+---------+------+---------+-------------------+---------+---------+---------+\n",
            "|  1|   Melinde|Shilburne|Female|Nowa Ruda|Assistant Professor|$57438.18|50.577408|16.496717|\n",
            "+---+----------+---------+------+---------+-------------------+---------+---------+---------+\n",
            "only showing top 1 row\n",
            "\n"
          ]
        }
      ]
    },
    {
      "cell_type": "code",
      "source": [],
      "metadata": {
        "id": "x_izp76OQYq1"
      },
      "execution_count": null,
      "outputs": []
    },
    {
      "cell_type": "code",
      "source": [
        "# performing a filter func to get fname = Alvera\n",
        "df_filter = odf.filter(odf.first_name == 'Alvera')\n",
        "df_filter.show()"
      ],
      "metadata": {
        "colab": {
          "base_uri": "https://localhost:8080/"
        },
        "id": "FEMCE_y-4vtV",
        "outputId": "37472384-2df0-4756-8e00-070a85595b43"
      },
      "execution_count": null,
      "outputs": [
        {
          "output_type": "stream",
          "name": "stdout",
          "text": [
            "+---+----------+---------+------+----+--------+---------+---------+----------+\n",
            "| id|first_name|last_name|gender|City|JobTitle|   Salary| Latitude| Longitude|\n",
            "+---+----------+---------+------+----+--------+---------+---------+----------+\n",
            "|  3|    Alvera| Di Boldi|Female|null|    null|$57576.52|39.994747|116.339775|\n",
            "+---+----------+---------+------+----+--------+---------+---------+----------+\n",
            "\n"
          ]
        }
      ]
    },
    {
      "cell_type": "code",
      "source": [
        "df_filter=odf.filter(odf.first_name.like(\"%oh%\"))\n",
        "df_filter.show()"
      ],
      "metadata": {
        "colab": {
          "base_uri": "https://localhost:8080/"
        },
        "id": "B-jqE_Rb5Fux",
        "outputId": "bfce598a-6b71-4725-909a-a0b2a1b46a38"
      },
      "execution_count": null,
      "outputs": [
        {
          "output_type": "stream",
          "name": "stdout",
          "text": [
            "+---+----------+---------+------+-------------+--------------------+---------+---------+----------+\n",
            "| id|first_name|last_name|gender|         City|            JobTitle|   Salary| Latitude| Longitude|\n",
            "+---+----------+---------+------+-------------+--------------------+---------+---------+----------+\n",
            "|209|     Johan|Alishoner|  Male|        Banxi|            VP Sales|$95523.91| 41.48698| 123.68514|\n",
            "|235|   Johanna|   Oiseau|Female|       Sanzao|     General Manager|$70049.47|22.008072| 113.37859|\n",
            "|431| Johnathan| Spriggin|  Male|Dayr as Sūdān|Senior Financial ...|$78187.65| 32.03213|  35.14844|\n",
            "|496|    Johann|    Foxon|  Male|       Pasian| Associate Professor|$99421.34|14.634726| 121.01122|\n",
            "|749|  Mohammed|  Kasting|  Male|     Xiaozhai|Chief Design Engi...|$36990.61| 33.21927|112.528206|\n",
            "+---+----------+---------+------+-------------+--------------------+---------+---------+----------+\n",
            "\n"
          ]
        }
      ]
    },
    {
      "cell_type": "code",
      "source": [
        "df_filter = odf.filter((odf.first_name.endswith('ala')))\n",
        "df_filter.show() # .endswith('something')"
      ],
      "metadata": {
        "colab": {
          "base_uri": "https://localhost:8080/"
        },
        "id": "GbOLMbBa5epc",
        "outputId": "ac64f2f5-6f73-4a55-88da-5240fc04730a"
      },
      "execution_count": null,
      "outputs": [
        {
          "output_type": "stream",
          "name": "stdout",
          "text": [
            "+---+----------+---------+------+--------------------+----------------+---------+---------+----------+\n",
            "| id|first_name|last_name|gender|                City|        JobTitle|   Salary| Latitude| Longitude|\n",
            "+---+----------+---------+------+--------------------+----------------+---------+---------+----------+\n",
            "|955|     Neala| Harcombe|Female|Figueira Castelo ...|Dental Hygienist|$27831.09|40.894623|-6.9635615|\n",
            "+---+----------+---------+------+--------------------+----------------+---------+---------+----------+\n",
            "\n"
          ]
        }
      ]
    },
    {
      "cell_type": "code",
      "source": [
        "odf.createOrReplaceTempView('odf')\n",
        "ci = spark.sql('select substring(City,-20) as small_city from odf where City like \"Figueira%\" ')\n",
        "ci.show()"
      ],
      "metadata": {
        "colab": {
          "base_uri": "https://localhost:8080/"
        },
        "id": "1inlRTnh6SGN",
        "outputId": "89b9b492-06f1-4d39-d4e5-43567f07b70c"
      },
      "execution_count": null,
      "outputs": [
        {
          "output_type": "stream",
          "name": "stdout",
          "text": [
            "+--------------------+\n",
            "|          small_city|\n",
            "+--------------------+\n",
            "|eira Castelo Rodrigo|\n",
            "+--------------------+\n",
            "\n"
          ]
        }
      ]
    },
    {
      "cell_type": "code",
      "source": [
        "# finding a JobTitle where startswith 'Senior'\n",
        "starts = odf.filter(odf.JobTitle.startswith('Senior'))\n",
        "starts.show()"
      ],
      "metadata": {
        "id": "f85-LuDe7oz5"
      },
      "execution_count": null,
      "outputs": []
    },
    {
      "cell_type": "code",
      "source": [
        "en_df = odf.filter(odf.JobTitle.endswith(\"Engineer\"))\n",
        "en_df.show(5)"
      ],
      "metadata": {
        "id": "IhYAfPMV9qnS"
      },
      "execution_count": null,
      "outputs": []
    },
    {
      "cell_type": "code",
      "source": [
        "ch = odf.filter(odf.City.like('Banxi'))\n",
        "ch.show()"
      ],
      "metadata": {
        "colab": {
          "base_uri": "https://localhost:8080/"
        },
        "id": "va41u7Az-GQq",
        "outputId": "0d1e705b-57e2-4042-a83f-b758285b1e92"
      },
      "execution_count": null,
      "outputs": [
        {
          "output_type": "stream",
          "name": "stdout",
          "text": [
            "+---+----------+---------+------+-----+--------+---------+--------+---------+\n",
            "| id|first_name|last_name|gender| City|JobTitle|   Salary|Latitude|Longitude|\n",
            "+---+----------+---------+------+-----+--------+---------+--------+---------+\n",
            "|209|     Johan|Alishoner|  Male|Banxi|VP Sales|$95523.91|41.48698|123.68514|\n",
            "+---+----------+---------+------+-----+--------+---------+--------+---------+\n",
            "\n"
          ]
        }
      ]
    },
    {
      "cell_type": "code",
      "source": [
        "odf.printSchema()"
      ],
      "metadata": {
        "id": "OMMz2KmAsOn5"
      },
      "execution_count": null,
      "outputs": []
    },
    {
      "cell_type": "code",
      "source": [
        "# getting rows from 1 to 5 using id and 'between' funcs\n",
        "df_btw = odf.filter((odf.id.between(1,5)))\n",
        "df_btw.select('id','last_name').show()"
      ],
      "metadata": {
        "id": "-8vaq-oq-gB_",
        "colab": {
          "base_uri": "https://localhost:8080/"
        },
        "outputId": "184e6cee-534d-4cd5-9579-8c41ca500378"
      },
      "execution_count": null,
      "outputs": [
        {
          "output_type": "stream",
          "name": "stdout",
          "text": [
            "+---+----------+\n",
            "| id| last_name|\n",
            "+---+----------+\n",
            "|  1| Shilburne|\n",
            "|  2|Von Welden|\n",
            "|  3|  Di Boldi|\n",
            "|  4| O'Griffin|\n",
            "|  5|   Macieja|\n",
            "+---+----------+\n",
            "\n"
          ]
        }
      ]
    },
    {
      "cell_type": "code",
      "source": [
        "df_btw2 = odf.filter((odf.first_name.between('johana','johana')))\n",
        "df_btw2.show()"
      ],
      "metadata": {
        "colab": {
          "base_uri": "https://localhost:8080/"
        },
        "id": "GyfkDlovr2py",
        "outputId": "c1f794f1-814b-493e-a7aa-87bd684830e8"
      },
      "execution_count": null,
      "outputs": [
        {
          "output_type": "stream",
          "name": "stdout",
          "text": [
            "+---+----------+---------+------+----+--------+------+--------+---------+\n",
            "| id|first_name|last_name|gender|City|JobTitle|Salary|Latitude|Longitude|\n",
            "+---+----------+---------+------+----+--------+------+--------+---------+\n",
            "+---+----------+---------+------+----+--------+------+--------+---------+\n",
            "\n"
          ]
        }
      ]
    },
    {
      "cell_type": "code",
      "source": [
        "# gettting specific fnames using 'isin' on fname col,\n",
        "df_btw = odf.filter((odf.first_name.isin('Aldin','Velma','Alvera')))\n",
        "df_btw.show()"
      ],
      "metadata": {
        "colab": {
          "base_uri": "https://localhost:8080/"
        },
        "id": "Z6A_CNQeqBdT",
        "outputId": "74c0928c-f5cf-4021-a990-4690cffe1395"
      },
      "execution_count": null,
      "outputs": [
        {
          "output_type": "stream",
          "name": "stdout",
          "text": [
            "+---+----------+-------------+------+-----------+---------------+---------+----------+----------+\n",
            "| id|first_name|    last_name|gender|       City|       JobTitle|   Salary|  Latitude| Longitude|\n",
            "+---+----------+-------------+------+-----------+---------------+---------+----------+----------+\n",
            "|  3|    Alvera|     Di Boldi|Female|       null|           null|$57576.52| 39.994747|116.339775|\n",
            "|885|     Velma|  Shackleford|Female|Ambelókipoi|Data Coordiator|$16676.56| 37.758293| 20.872854|\n",
            "|901|     Aldin|Matuszkiewicz|  Male|East London|       Operator|$41468.83|-32.954933| 27.931913|\n",
            "+---+----------+-------------+------+-----------+---------------+---------+----------+----------+\n",
            "\n"
          ]
        }
      ]
    },
    {
      "cell_type": "code",
      "source": [
        "# using substring to get fnames cols\n",
        "df_sbstr = odf.select(odf.first_name,odf.first_name.substr(1,6).alias('short name'))\n",
        "df_sbstr.show(5)"
      ],
      "metadata": {
        "id": "_wAlWAFcqmEb"
      },
      "execution_count": null,
      "outputs": []
    },
    {
      "cell_type": "code",
      "source": [
        "dfstr= odf.select(odf.JobTitle,odf.JobTitle.substr(1,2).alias('abbreviation'),odf.first_name)\n",
        "dfstr.show()"
      ],
      "metadata": {
        "id": "lUc343Vkrs4I"
      },
      "execution_count": null,
      "outputs": []
    },
    {
      "cell_type": "code",
      "source": [
        "dfc=odf.select(odf.JobTitle,odf.JobTitle.substr(5,10).alias('abbre'),odf.Salary,odf.id) \\\n",
        "       .filter(odf.id.between(10,20)) \\\n",
        "       .filter(odf.JobTitle.like(\"Senior%\"))\n",
        "dfc.show() #tried something new and it worked"
      ],
      "metadata": {
        "id": "T4GeIMQUtIDQ",
        "colab": {
          "base_uri": "https://localhost:8080/"
        },
        "outputId": "2c1e5658-2941-4e60-c21b-bd702c656bb6"
      },
      "execution_count": null,
      "outputs": [
        {
          "output_type": "stream",
          "name": "stdout",
          "text": [
            "+--------------------+----------+---------+---+\n",
            "|            JobTitle|     abbre|   Salary| id|\n",
            "+--------------------+----------+---------+---+\n",
            "|Senior Financial ...|or Financi|$91925.08| 19|\n",
            "+--------------------+----------+---------+---+\n",
            "\n"
          ]
        }
      ]
    },
    {
      "cell_type": "code",
      "source": [
        "from pyspark.sql import Column\n",
        "from pyspark.sql.functions import upper,sum, desc,col"
      ],
      "metadata": {
        "id": "IfEVZDFSt8ov"
      },
      "execution_count": null,
      "outputs": []
    },
    {
      "cell_type": "markdown",
      "source": [
        "# Applying Multiple Filters"
      ],
      "metadata": {
        "id": "aeGFbS8GwNZ2"
      }
    },
    {
      "cell_type": "markdown",
      "source": [
        "**we can apply multiple FILTERS by using filter((func1) & (func2))**"
      ],
      "metadata": {
        "id": "qRzFOeg88wPX"
      }
    },
    {
      "cell_type": "code",
      "source": [
        "# now applying multiple filters on df\n",
        "dfmf = odf.filter((odf.first_name.isin('Aldin','Thain')) & (odf.last_name.like(\"%bb%\"))) \\\n",
        "          .select(odf.first_name,odf.last_name,odf.id)\n",
        "dfmf.show()"
      ],
      "metadata": {
        "id": "Li_uimIvwRvU",
        "colab": {
          "base_uri": "https://localhost:8080/"
        },
        "outputId": "8d59c0ff-b6f6-4d99-9b16-570ca1537af0"
      },
      "execution_count": null,
      "outputs": [
        {
          "output_type": "stream",
          "name": "stdout",
          "text": [
            "+----------+---------+---+\n",
            "|first_name|last_name| id|\n",
            "+----------+---------+---+\n",
            "|     Thain|   Habbon| 18|\n",
            "+----------+---------+---+\n",
            "\n"
          ]
        }
      ]
    },
    {
      "cell_type": "code",
      "source": [
        "# we must apply 1st select() func then 2nd filter() !!!!\n",
        "dfmf= odf.select(odf.JobTitle,odf.last_name) \\\n",
        "         .filter((odf.JobTitle.like(\"%Engineer%\")) & (odf.last_name.isin('Lockart','Habbon')))\n",
        "dfmf.show()"
      ],
      "metadata": {
        "colab": {
          "base_uri": "https://localhost:8080/"
        },
        "id": "eeFluS2CxR6j",
        "outputId": "43bad7d1-9acd-4e55-ed80-4abbd22b6b9a"
      },
      "execution_count": null,
      "outputs": [
        {
          "output_type": "stream",
          "name": "stdout",
          "text": [
            "+--------------------+---------+\n",
            "|            JobTitle|last_name|\n",
            "+--------------------+---------+\n",
            "|Nuclear Power Eng...|  Lockart|\n",
            "|     Design Engineer|   Habbon|\n",
            "+--------------------+---------+\n",
            "\n"
          ]
        }
      ]
    },
    {
      "cell_type": "code",
      "source": [
        "df_filter = odf.filter((odf.id > 10) & (odf.id < 20))\n",
        "df_filter.show()"
      ],
      "metadata": {
        "colab": {
          "base_uri": "https://localhost:8080/"
        },
        "id": "3L3SuizO01Tv",
        "outputId": "53f015ef-42c3-4d3d-9666-2588bc9827d3"
      },
      "execution_count": null,
      "outputs": [
        {
          "output_type": "execute_result",
          "data": {
            "text/plain": [
              "9"
            ]
          },
          "metadata": {},
          "execution_count": 65
        }
      ]
    },
    {
      "cell_type": "code",
      "source": [
        "dfs =  odf.select(odf.first_name.substr(0,10).alias('simple'),odf.first_name,odf.last_name)\n",
        "dfs.show()"
      ],
      "metadata": {
        "colab": {
          "base_uri": "https://localhost:8080/"
        },
        "id": "yvSHpbtS25jm",
        "outputId": "360e2f56-5163-45ca-aba5-6c81a7e499a3"
      },
      "execution_count": null,
      "outputs": [
        {
          "output_type": "stream",
          "name": "stdout",
          "text": [
            "+--------+----------+----------+\n",
            "|  simple|first_name| last_name|\n",
            "+--------+----------+----------+\n",
            "| Melinde|   Melinde| Shilburne|\n",
            "|Kimberly|  Kimberly|Von Welden|\n",
            "|  Alvera|    Alvera|  Di Boldi|\n",
            "| Shannon|   Shannon| O'Griffin|\n",
            "|Sherwood|  Sherwood|   Macieja|\n",
            "|   Maris|     Maris|      Folk|\n",
            "|   Masha|     Masha|    Divers|\n",
            "| Goddart|   Goddart|     Flear|\n",
            "|    Roth|      Roth|O'Cannavan|\n",
            "|    Bran|      Bran|   Trahear|\n",
            "|  Kylynn|    Kylynn|   Lockart|\n",
            "|     Rey|       Rey|    Meharg|\n",
            "|    Kerr|      Kerr|    Braden|\n",
            "|  Mickie|    Mickie| Whanstall|\n",
            "|  Kaspar|    Kaspar|     Pally|\n",
            "|  Norbie|    Norbie|    Gwyllt|\n",
            "|  Claude|    Claude|    Briant|\n",
            "|   Thain|     Thain|    Habbon|\n",
            "|Tiffanie|  Tiffanie|  Pattison|\n",
            "|  Ettore|    Ettore|  Gerriets|\n",
            "+--------+----------+----------+\n",
            "only showing top 20 rows\n",
            "\n"
          ]
        }
      ]
    },
    {
      "cell_type": "code",
      "source": [],
      "metadata": {
        "id": "xigoNhJB6Msg"
      },
      "execution_count": null,
      "outputs": []
    },
    {
      "cell_type": "markdown",
      "source": [
        "# *Running SQL on DF*\n"
      ],
      "metadata": {
        "id": "KY6va42B9J3c"
      }
    },
    {
      "cell_type": "code",
      "source": [
        "# registering a temperory table\n",
        "odf.registerTempTable('ori')"
      ],
      "metadata": {
        "id": "AwGGGOV_9VTf"
      },
      "execution_count": null,
      "outputs": []
    },
    {
      "cell_type": "code",
      "source": [
        "# a simple sql query\n",
        "q = spark.sql('select * from ori limit 10')\n",
        "q.show()"
      ],
      "metadata": {
        "id": "aaVaUAMU-mQp"
      },
      "execution_count": null,
      "outputs": []
    },
    {
      "cell_type": "code",
      "source": [
        "# some queries\n",
        "q =spark.sql('select * from ori where first_name like \"%ana%\"')\n",
        "q.show()"
      ],
      "metadata": {
        "colab": {
          "base_uri": "https://localhost:8080/"
        },
        "id": "9XW-RNys-2P0",
        "outputId": "c3acf3fe-9a0a-4864-8675-8c3020dd2a66"
      },
      "execution_count": null,
      "outputs": [
        {
          "output_type": "stream",
          "name": "stdout",
          "text": [
            "+---+----------+----------+------+-----------+--------------------+---------+----------+---------+\n",
            "| id|first_name| last_name|gender|       City|            JobTitle|   Salary|  Latitude|Longitude|\n",
            "+---+----------+----------+------+-----------+--------------------+---------+----------+---------+\n",
            "|110| Annadiana|    Keward|Female|     Jiashi|           Paralegal|$23456.67| 39.488182| 76.72372|\n",
            "|118|      Jana|  Corinton|Female|   Hongmiao|Desktop Support T...|$40968.05| 31.933973|118.67034|\n",
            "|266|   Stevana|    Tawton|Female|  Salvacion|            VP Sales|$90210.70|   12.6151|  125.039|\n",
            "|454|    Shanan|  Baudasso|  Male|      Mörön|      Tax Accountant|$77940.08|  49.64289|100.17719|\n",
            "|738|     Shana|Hanselmann|Female|Lodan Wetan|Senior Cost Accou...|$84370.64|-6.7967067|111.62135|\n",
            "|754|    Janaya|    Oulner|Female|      Lobuk|  Nurse Practicioner|$12908.38| -8.650979|116.32494|\n",
            "|792|   Morgana|       Kew|Female|     Duozhu|        Engineer III|$71416.86| 23.027798|114.95018|\n",
            "+---+----------+----------+------+-----------+--------------------+---------+----------+---------+\n",
            "\n"
          ]
        }
      ]
    },
    {
      "cell_type": "code",
      "source": [
        "q = spark.sql('select City,JobTitle, Gender from ori where Gender = \"Male\" order by id ')\n",
        "q.show()"
      ],
      "metadata": {
        "id": "vOCidFzj_EUG"
      },
      "execution_count": null,
      "outputs": []
    },
    {
      "cell_type": "code",
      "source": [
        "q2 = spark.sql('select concat(first_name,\" \",last_name) as full_name, Gender,JobTitle from ori where JobTitle like \"%ccountant%\" order by id')\n",
        "q2.show()"
      ],
      "metadata": {
        "id": "CkTlvADzAId5"
      },
      "execution_count": null,
      "outputs": []
    },
    {
      "cell_type": "code",
      "source": [
        "er = spark.sql('select * from ori where Latitude = (select sum(Latitude) from ori)')\n",
        "er.show()"
      ],
      "metadata": {
        "colab": {
          "base_uri": "https://localhost:8080/"
        },
        "id": "ttpqyvYsBsL4",
        "outputId": "e939713b-3cc1-4934-f7d3-54a1723c0783"
      },
      "execution_count": null,
      "outputs": [
        {
          "output_type": "stream",
          "name": "stdout",
          "text": [
            "+---+----------+---------+------+----+--------+------+--------+---------+\n",
            "| id|first_name|last_name|gender|City|JobTitle|Salary|Latitude|Longitude|\n",
            "+---+----------+---------+------+----+--------+------+--------+---------+\n",
            "+---+----------+---------+------+----+--------+------+--------+---------+\n",
            "\n"
          ]
        }
      ]
    },
    {
      "cell_type": "code",
      "source": [],
      "metadata": {
        "id": "jRwTL0q6TCsT"
      },
      "execution_count": null,
      "outputs": []
    },
    {
      "cell_type": "markdown",
      "source": [
        "# Adding Calculated Columns"
      ],
      "metadata": {
        "id": "V0mT3qEiThMc"
      }
    },
    {
      "cell_type": "markdown",
      "source": [
        "**withColumn('new_colname',col_func())**"
      ],
      "metadata": {
        "id": "7SZXvorjVxTZ"
      }
    },
    {
      "cell_type": "code",
      "source": [
        "from pyspark.sql.functions import *\n",
        "# removing $ symbol on salary col and changind datatype ot 'float'\n",
        "odf = odf.withColumn('clean_salary',odf.Salary.substr(2,100).cast('float'))\n",
        "odf.show()"
      ],
      "metadata": {
        "colab": {
          "base_uri": "https://localhost:8080/"
        },
        "id": "3gp04dMuUH5J",
        "outputId": "f59e3145-c3cf-4c24-82cf-b1a3b13c1b29"
      },
      "execution_count": null,
      "outputs": [
        {
          "output_type": "stream",
          "name": "stdout",
          "text": [
            "+---+----------+----------+------+---------------+--------------------+---------+----------+----------+------------+\n",
            "| id|first_name| last_name|gender|           City|            JobTitle|   Salary|  Latitude| Longitude|clean_salary|\n",
            "+---+----------+----------+------+---------------+--------------------+---------+----------+----------+------------+\n",
            "|  1|   Melinde| Shilburne|Female|      Nowa Ruda| Assistant Professor|$57438.18| 50.577408| 16.496717|    57438.18|\n",
            "|  2|  Kimberly|Von Welden|Female|         Bulgan|       Programmer II|$62846.60|  48.82316| 103.52182|     62846.6|\n",
            "|  3|    Alvera|  Di Boldi|Female|           null|                null|$57576.52| 39.994747|116.339775|    57576.52|\n",
            "|  4|   Shannon| O'Griffin|  Male|  Divnomorskoye|Budget/Accounting...|$61489.23| 44.504723| 38.130016|    61489.23|\n",
            "|  5|  Sherwood|   Macieja|  Male|      Mytishchi|            VP Sales|$63863.09|      null| 37.648994|    63863.09|\n",
            "|  6|     Maris|      Folk|Female|Kinsealy-Drinan|      Civil Engineer|$30101.16| 53.426613|-6.1644998|    30101.16|\n",
            "|  7|     Masha|    Divers|Female|         Dachun|                null|$25090.87| 24.879416|118.930115|    25090.87|\n",
            "|  8|   Goddart|     Flear|  Male|      Trélissac|Desktop Support T...|$46116.36| 45.190517| 0.7423124|    46116.36|\n",
            "|  9|      Roth|O'Cannavan|  Male|         Heitan|VP Product Manage...|$73697.10| 32.027935| 106.65711|     73697.1|\n",
            "| 10|      Bran|   Trahear|  Male|       Arbeláez|Mechanical System...|$68098.42|  4.272793|-74.416016|    68098.42|\n",
            "| 11|    Kylynn|   Lockart|Female|       El Cardo|Nuclear Power Eng...|$13604.63|     -5.85| -79.88333|    13604.63|\n",
            "| 12|       Rey|    Meharg|Female|    Wangqingtuo|Systems Administr...|$73423.70|  39.17238| 116.93161|     73423.7|\n",
            "| 13|      Kerr|    Braden|  Male|      Sułkowice|Compensation Analyst|$33432.99|  49.81518| 19.377174|    33432.99|\n",
            "| 14|    Mickie| Whanstall|  Male|    Springfield|Assistant Media P...|$50838.53|  42.10148|-72.576675|    50838.53|\n",
            "| 15|    Kaspar|     Pally|  Male|         Chrást|  Analyst Programmer|$40163.03|  49.79233| 13.491532|    40163.03|\n",
            "| 16|    Norbie|    Gwyllt|  Male|         Xijiao|              Editor|$32492.73| 43.494576|  5.897802|    32492.73|\n",
            "| 17|    Claude|    Briant|Female|      Mieścisko|Research Assistan...|$51862.48| 52.744167| 17.327864|    51862.48|\n",
            "| 18|     Thain|    Habbon|  Male| Foros do Trapo|     Design Engineer|$42135.67| 38.696247| -8.709834|    42135.67|\n",
            "| 19|  Tiffanie|  Pattison|Female|    Jabungsisir|Senior Financial ...|$91925.08|-7.7232566| 113.46868|    91925.08|\n",
            "| 20|    Ettore|  Gerriets|  Male|          Pedra| Staff Accountant IV|$73921.33| 40.717205|-8.3625145|    73921.33|\n",
            "+---+----------+----------+------+---------------+--------------------+---------+----------+----------+------------+\n",
            "only showing top 20 rows\n",
            "\n"
          ]
        }
      ]
    },
    {
      "cell_type": "code",
      "source": [
        "odf = odf.withColumn('monthly_sal',odf.clean_salary/12)\n",
        "# getting mnthly salary of each employee on a new col\n",
        "odf.show()"
      ],
      "metadata": {
        "colab": {
          "base_uri": "https://localhost:8080/"
        },
        "id": "C_JrMAVtUvfX",
        "outputId": "abc05e00-10ae-4a2f-bcd7-b94e27ff13a9"
      },
      "execution_count": null,
      "outputs": [
        {
          "output_type": "stream",
          "name": "stdout",
          "text": [
            "+---+----------+----------+------+---------------+--------------------+---------+----------+----------+------------+------------------+\n",
            "| id|first_name| last_name|gender|           City|            JobTitle|   Salary|  Latitude| Longitude|clean_salary|       monthly_sal|\n",
            "+---+----------+----------+------+---------------+--------------------+---------+----------+----------+------------+------------------+\n",
            "|  1|   Melinde| Shilburne|Female|      Nowa Ruda| Assistant Professor|$57438.18| 50.577408| 16.496717|    57438.18| 4786.514973958333|\n",
            "|  2|  Kimberly|Von Welden|Female|         Bulgan|       Programmer II|$62846.60|  48.82316| 103.52182|     62846.6|    5237.216796875|\n",
            "|  3|    Alvera|  Di Boldi|Female|           null|                null|$57576.52| 39.994747|116.339775|    57576.52| 4798.043294270833|\n",
            "|  4|   Shannon| O'Griffin|  Male|  Divnomorskoye|Budget/Accounting...|$61489.23| 44.504723| 38.130016|    61489.23|   5124.1025390625|\n",
            "|  5|  Sherwood|   Macieja|  Male|      Mytishchi|            VP Sales|$63863.09|      null| 37.648994|    63863.09| 5321.924153645833|\n",
            "|  6|     Maris|      Folk|Female|Kinsealy-Drinan|      Civil Engineer|$30101.16| 53.426613|-6.1644998|    30101.16|2508.4300130208335|\n",
            "|  7|     Masha|    Divers|Female|         Dachun|                null|$25090.87| 24.879416|118.930115|    25090.87|  2090.90576171875|\n",
            "|  8|   Goddart|     Flear|  Male|      Trélissac|Desktop Support T...|$46116.36| 45.190517| 0.7423124|    46116.36|3843.0299479166665|\n",
            "|  9|      Roth|O'Cannavan|  Male|         Heitan|VP Product Manage...|$73697.10| 32.027935| 106.65711|     73697.1| 6141.425130208333|\n",
            "| 10|      Bran|   Trahear|  Male|       Arbeláez|Mechanical System...|$68098.42|  4.272793|-74.416016|    68098.42| 5674.868489583333|\n",
            "| 11|    Kylynn|   Lockart|Female|       El Cardo|Nuclear Power Eng...|$13604.63|     -5.85| -79.88333|    13604.63|1133.7191569010417|\n",
            "| 12|       Rey|    Meharg|Female|    Wangqingtuo|Systems Administr...|$73423.70|  39.17238| 116.93161|     73423.7| 6118.641927083333|\n",
            "| 13|      Kerr|    Braden|  Male|      Sułkowice|Compensation Analyst|$33432.99|  49.81518| 19.377174|    33432.99|2786.0823567708335|\n",
            "| 14|    Mickie| Whanstall|  Male|    Springfield|Assistant Media P...|$50838.53|  42.10148|-72.576675|    50838.53| 4236.544270833333|\n",
            "| 15|    Kaspar|     Pally|  Male|         Chrást|  Analyst Programmer|$40163.03|  49.79233| 13.491532|    40163.03|3346.9192708333335|\n",
            "| 16|    Norbie|    Gwyllt|  Male|         Xijiao|              Editor|$32492.73| 43.494576|  5.897802|    32492.73|   2707.7275390625|\n",
            "| 17|    Claude|    Briant|Female|      Mieścisko|Research Assistan...|$51862.48| 52.744167| 17.327864|    51862.48| 4321.873372395833|\n",
            "| 18|     Thain|    Habbon|  Male| Foros do Trapo|     Design Engineer|$42135.67| 38.696247| -8.709834|    42135.67|3511.3059895833335|\n",
            "| 19|  Tiffanie|  Pattison|Female|    Jabungsisir|Senior Financial ...|$91925.08|-7.7232566| 113.46868|    91925.08| 7660.423177083333|\n",
            "| 20|    Ettore|  Gerriets|  Male|          Pedra| Staff Accountant IV|$73921.33| 40.717205|-8.3625145|    73921.33| 6160.110677083333|\n",
            "+---+----------+----------+------+---------------+--------------------+---------+----------+----------+------------+------------------+\n",
            "only showing top 20 rows\n",
            "\n"
          ]
        }
      ]
    },
    {
      "cell_type": "code",
      "source": [
        "odf = odf.withColumn('are_they_female',when(odf.gender =='Female','Yes').otherwise('No'))\n",
        "odf.show()"
      ],
      "metadata": {
        "id": "02OXOUotViv5"
      },
      "execution_count": null,
      "outputs": []
    },
    {
      "cell_type": "code",
      "source": [
        "odf= odf.withColumn('professor',when(odf.JobTitle == 'Assistant Professor', 'He is a Guru').otherwise(\"Not a gurroo\"))\n",
        "guru= odf.filter(odf.professor.like(\"%is a%\"))\n",
        "guru.show()"
      ],
      "metadata": {
        "colab": {
          "base_uri": "https://localhost:8080/"
        },
        "id": "KV1i5EV3WUal",
        "outputId": "6c9da438-bb6d-4c9d-84fc-b3a4f8258240"
      },
      "execution_count": null,
      "outputs": [
        {
          "output_type": "stream",
          "name": "stdout",
          "text": [
            "+---+------------+---------+------+------------+-------------------+---------+---------+----------+------------+------------------+---------------+------------+\n",
            "| id|  first_name|last_name|gender|        City|           JobTitle|   Salary| Latitude| Longitude|clean_salary|       monthly_sal|are_they_female|   professor|\n",
            "+---+------------+---------+------+------------+-------------------+---------+---------+----------+------------+------------------+---------------+------------+\n",
            "|  1|     Melinde|Shilburne|Female|   Nowa Ruda|Assistant Professor|$57438.18|50.577408| 16.496717|    57438.18| 4786.514973958333|            Yes|He is a Guru|\n",
            "| 39|      Valida| Salzberg|Female| Pangnirtung|Assistant Professor|$94224.48| 66.14511| -65.71252|    94224.48| 7852.039713541667|            Yes|He is a Guru|\n",
            "|102|      Olivia| Tregidgo|Female|       Dahua|Assistant Professor|$28120.01|23.736458|107.998146|    28120.01|2343.3341471354165|            Yes|He is a Guru|\n",
            "|130|         Bee| Lacrouts|Female|    Pećigrad|Assistant Professor|$19415.08|45.054535| 15.896662|    19415.08|  1617.92333984375|            Yes|He is a Guru|\n",
            "|152|     Barnabe|   Milius|  Male|      Guohua|Assistant Professor|$48229.48|22.775791|  108.3179|    48229.48|4019.1233723958335|             No|He is a Guru|\n",
            "|261|       Ranee|  Mathers|Female|  Bantardawa|Assistant Professor|$22561.79| -7.44161| 108.62053|    22561.79|1880.1490885416667|            Yes|He is a Guru|\n",
            "|434|     Quintus|  Baumert|  Male|     Dobrica|Assistant Professor|$59318.89| 45.20759|  20.85073|    59318.89| 4943.240885416667|             No|He is a Guru|\n",
            "|908|Massimiliano|  Cuncarr|  Male|      Viļaka|Assistant Professor|$39894.26|57.187958| 27.682503|    39894.26|3324.5218098958335|             No|He is a Guru|\n",
            "|928|        Arny|   Barson|  Male|  Madjeouéni|Assistant Professor|$52651.87|-11.82167|  43.27806|    52651.87| 4387.655924479167|             No|He is a Guru|\n",
            "|976|     Stavros|    Glynn|  Male|Panggungrejo|Assistant Professor|$69033.20|-7.638503| 112.91482|     69033.2| 5752.766927083333|             No|He is a Guru|\n",
            "+---+------------+---------+------+------------+-------------------+---------+---------+----------+------------+------------------+---------------+------------+\n",
            "\n"
          ]
        }
      ]
    },
    {
      "cell_type": "code",
      "source": [
        "import pyspark.sql.functions as sqlfunc"
      ],
      "metadata": {
        "id": "_e_q3Nq4XfYX"
      },
      "execution_count": null,
      "outputs": []
    },
    {
      "cell_type": "markdown",
      "source": [
        "**groupBy()** func"
      ],
      "metadata": {
        "id": "WBwO4lU7Y4RX"
      }
    },
    {
      "cell_type": "code",
      "source": [
        "gfg = odf.groupBy('JobTitle').agg(sqlfunc.sum('clean_salary'))\n",
        "gfg.show()"
      ],
      "metadata": {
        "colab": {
          "base_uri": "https://localhost:8080/"
        },
        "id": "gJ3qqrRDYWCd",
        "outputId": "28145f36-398d-412e-b870-5d26cd448b0c"
      },
      "execution_count": null,
      "outputs": [
        {
          "output_type": "stream",
          "name": "stdout",
          "text": [
            "+--------------------+-----------------+\n",
            "|            JobTitle|sum(clean_salary)|\n",
            "+--------------------+-----------------+\n",
            "|Systems Administr...|  264525.69921875|\n",
            "|   Media Manager III|   140905.0703125|\n",
            "|  Recruiting Manager| 367391.685546875|\n",
            "|       Geologist III|  133739.40234375|\n",
            "|        Geologist II|   86587.73046875|\n",
            "|Database Administ...|    52018.4609375|\n",
            "|   Financial Analyst|  629598.33203125|\n",
            "|  Analyst Programmer|    374490.921875|\n",
            "|Software Engineer II|     74782.640625|\n",
            "|       Accountant IV|  165464.49609375|\n",
            "|    Product Engineer|   622904.2734375|\n",
            "|Software Test Eng...| 356046.427734375|\n",
            "|Safety Technician...|  29421.529296875|\n",
            "|    Junior Executive|   391575.3046875|\n",
            "|Systems Administr...|      154118.4375|\n",
            "|Human Resources A...| 162527.759765625|\n",
            "|        VP Marketing| 364954.279296875|\n",
            "|  Environmental Tech| 356207.224609375|\n",
            "|Mechanical System...|         908308.5|\n",
            "| Assistant Professor|   490887.2421875|\n",
            "+--------------------+-----------------+\n",
            "only showing top 20 rows\n",
            "\n"
          ]
        }
      ]
    },
    {
      "cell_type": "code",
      "source": [
        "https://colab.research.google.com/drive/13leHpMye6h3pDZX0jTQ2KiNuSyjQjprF#scrollTo=gJ3qqrRDYWCd&line=2&uniqifier=1"
      ],
      "metadata": {
        "id": "noxvH3uGZgXB"
      },
      "execution_count": null,
      "outputs": []
    },
    {
      "cell_type": "code",
      "source": [
        "#finding avg,total,min,max salaries both genders using groupBy()\n",
        "gdf = odf.groupBy('gender').agg(sqlfunc.sum('clean_salary').alias('total'),\n",
        "                                sqlfunc.avg('clean_salary').alias('average'),\n",
        "                                sqlfunc.min('clean_salary').alias('min'),\n",
        "                                sqlfunc.max('clean_salary').alias('max'))\n",
        "gdf.show()"
      ],
      "metadata": {
        "colab": {
          "base_uri": "https://localhost:8080/"
        },
        "id": "qkpRdlYV_N_7",
        "outputId": "51687eaa-3203-435c-8b2b-3ac30ceb0eae"
      },
      "execution_count": null,
      "outputs": [
        {
          "output_type": "stream",
          "name": "stdout",
          "text": [
            "+------+--------------------+-----------------+--------+--------+\n",
            "|gender|               total|          average|     min|     max|\n",
            "+------+--------------------+-----------------+--------+--------+\n",
            "|Female|2.7364519950195312E7|55618.94298820185|10616.44|99948.28|\n",
            "|  Male|2.8123435678710938E7|55361.09385573019|10101.92|99942.92|\n",
            "+------+--------------------+-----------------+--------+--------+\n",
            "\n"
          ]
        }
      ]
    },
    {
      "cell_type": "code",
      "source": [
        "gdf = odf.groupBy('gender','city').agg(sqlfunc.sum('clean_salary').alias('total'),\n",
        "                                sqlfunc.avg('clean_salary').alias('average'),\n",
        "                                sqlfunc.min('clean_salary').alias('min'),\n",
        "                                sqlfunc.max('clean_salary').alias('max'))\n",
        "gdf.show()"
      ],
      "metadata": {
        "id": "WgYCKYzJ_7wf"
      },
      "execution_count": null,
      "outputs": []
    },
    {
      "cell_type": "markdown",
      "source": [
        "# Writing DataFrames to Files ;-"
      ],
      "metadata": {
        "id": "GgRqPpiGA-X9"
      }
    },
    {
      "cell_type": "code",
      "source": [
        "# we can write DF to files like [df.write.file_format('file_name)]\n",
        "\"\"\"\n",
        "gdf.write.csv('gdf.csv')\n",
        "gdf.write.json('gdf.json')\n",
        "gdf.write.parquet('gdf.parquet')\"\"\""
      ],
      "metadata": {
        "colab": {
          "base_uri": "https://localhost:8080/",
          "height": 36
        },
        "id": "U894YQ-KATOq",
        "outputId": "5ce78742-eed8-4d25-f199-dfe047bd50d3"
      },
      "execution_count": null,
      "outputs": [
        {
          "output_type": "execute_result",
          "data": {
            "text/plain": [
              "\"\\ngdf.write.csv('gdf.csv')\\ngdf.write.json('gdf.json')\\ngdf.write.parquet('gdf.parquet')\""
            ],
            "application/vnd.google.colaboratory.intrinsic+json": {
              "type": "string"
            }
          },
          "metadata": {},
          "execution_count": 16
        }
      ]
    },
    {
      "cell_type": "code",
      "source": [
        "gfg.write.json('gfj.json')"
      ],
      "metadata": {
        "id": "TGyECy52BeHQ"
      },
      "execution_count": null,
      "outputs": []
    },
    {
      "cell_type": "code",
      "source": [
        "/content/gfj.json/.part-00000-3bd9a76e-addf-4e37-8e81-1d4153884027-c000.json"
      ],
      "metadata": {
        "id": "tudFPMSbDHEu"
      },
      "execution_count": null,
      "outputs": []
    },
    {
      "cell_type": "markdown",
      "source": [
        "# a CHALLENGE"
      ],
      "metadata": {
        "id": "s5AHrE2JFG0B"
      }
    },
    {
      "cell_type": "code",
      "source": [
        "cdf = spark.read.csv('challenge.csv',header=True,schema=mschema)\n",
        "cdf.show()"
      ],
      "metadata": {
        "colab": {
          "base_uri": "https://localhost:8080/"
        },
        "id": "uvUEqhmmFJG1",
        "outputId": "442c3adb-645d-44a8-d75b-2ddf906727a9"
      },
      "execution_count": null,
      "outputs": [
        {
          "output_type": "stream",
          "name": "stdout",
          "text": [
            "+---------------+--------------+-----------------+---------+\n",
            "|             ip|       country|       domainname|bytesused|\n",
            "+---------------+--------------+-----------------+---------+\n",
            "|  52.81.192.172|         China| odnoklassniki.ru|      463|\n",
            "| 119.239.207.13|         China|         youtu.be|       51|\n",
            "|  68.69.217.210|         China|        adobe.com|       10|\n",
            "|   7.191.21.223|      Bulgaria|     linkedin.com|      853|\n",
            "|   211.13.10.68|     Indonesia|          hud.gov|       29|\n",
            "|   239.80.21.97|      Suriname|       smh.com.au|      218|\n",
            "|106.214.106.233|       Jamaica|    amazonaws.com|       95|\n",
            "| 127.242.24.138|         China| surveymonkey.com|      123|\n",
            "|     99.2.6.139|Czech Republic|     geocities.jp|      322|\n",
            "|   237.54.11.63|         China|       amazon.com|       83|\n",
            "| 252.141.157.25|         Japan|      cornell.edu|      374|\n",
            "|185.220.128.248|       Belgium|       weebly.com|      389|\n",
            "|   151.77.19.45|   Afghanistan|independent.co.uk|      282|\n",
            "|  9.161.158.225|     Indonesia|    bloglines.com|      726|\n",
            "| 156.144.61.155|Czech Republic|   slideshare.net|      657|\n",
            "|   8.96.188.151|     Indonesia|          ibm.com|      517|\n",
            "|      5.72.7.65|        Mexico|         youtu.be|      877|\n",
            "|227.110.112.144|       Croatia|         ehow.com|      287|\n",
            "|    81.71.28.97|      Thailand|          last.fm|      588|\n",
            "|  9.255.129.184|      Thailand|          mtv.com|      114|\n",
            "+---------------+--------------+-----------------+---------+\n",
            "only showing top 20 rows\n",
            "\n"
          ]
        }
      ]
    },
    {
      "cell_type": "code",
      "source": [
        "cdf.printSchema()"
      ],
      "metadata": {
        "colab": {
          "base_uri": "https://localhost:8080/"
        },
        "id": "HUAeHTqUFstC",
        "outputId": "2c7569ea-67fe-410f-9181-0267a284ef54"
      },
      "execution_count": null,
      "outputs": [
        {
          "output_type": "stream",
          "name": "stdout",
          "text": [
            "root\n",
            " |-- ip_address: string (nullable = true)\n",
            " |-- Country: string (nullable = true)\n",
            " |-- Domain Name: string (nullable = true)\n",
            " |-- Bytes_used: string (nullable = true)\n",
            "\n"
          ]
        }
      ]
    },
    {
      "cell_type": "code",
      "source": [
        "mschema=StructType([\n",
        "  StructField('ip', StringType()),\n",
        " StructField('country', StringType()),\n",
        " StructField('domainname', StringType()),\n",
        " StructField('bytesused', IntegerType())])\n",
        "# file loading,df and schema creation complete\n"
      ],
      "metadata": {
        "id": "hlh0ehPaF5b_"
      },
      "execution_count": null,
      "outputs": []
    },
    {
      "cell_type": "code",
      "source": [
        "# 1 task: add a column to say yes or no to whether the country is Mexico\n",
        "cd1 = cdf.withColumn('mexico',when(cdf.country == 'Mexico','Yes').otherwise('Nope'))\n",
        "cd1.show()"
      ],
      "metadata": {
        "id": "CUulsyDoGxTk"
      },
      "execution_count": null,
      "outputs": []
    },
    {
      "cell_type": "code",
      "source": [
        "# task 2 : group by the new column and sum bytesused\n",
        "cd =cdf.groupBy('mexico').agg(sqlfunc.sum('bytesused').alias('byte_count'))\n",
        "cd.show()"
      ],
      "metadata": {
        "id": "7tiCBsX0Ht2L"
      },
      "execution_count": null,
      "outputs": []
    },
    {
      "cell_type": "code",
      "source": [
        "# task 3 : gourp by country and use the sqlfunc.countDistinct func to calculate no of ip addresses seen in each country\n",
        "cd2 = cdf.groupBy('country').agg(sqlfunc.countDistinct('ip').alias('count ips'))\n",
        "cd2.sort(col(\"count ips\").desc()).show()"
      ],
      "metadata": {
        "colab": {
          "base_uri": "https://localhost:8080/"
        },
        "id": "6XRsn-BlKjsw",
        "outputId": "620d14e4-2257-48da-9559-51ace61939b3"
      },
      "execution_count": null,
      "outputs": [
        {
          "output_type": "stream",
          "name": "stdout",
          "text": [
            "+--------------+---------+\n",
            "|       country|count ips|\n",
            "+--------------+---------+\n",
            "|         China|      172|\n",
            "|     Indonesia|      114|\n",
            "|   Philippines|       65|\n",
            "|        Russia|       56|\n",
            "|        Brazil|       35|\n",
            "|        Poland|       31|\n",
            "|        Sweden|       28|\n",
            "|         Japan|       25|\n",
            "|Czech Republic|       23|\n",
            "|      Portugal|       23|\n",
            "|        France|       21|\n",
            "|          Peru|       19|\n",
            "|      Colombia|       17|\n",
            "| United States|       15|\n",
            "|     Argentina|       14|\n",
            "|       Ukraine|       14|\n",
            "|        Mexico|       13|\n",
            "|      Thailand|       12|\n",
            "|       Nigeria|       11|\n",
            "|        Canada|       11|\n",
            "+--------------+---------+\n",
            "only showing top 20 rows\n",
            "\n"
          ]
        }
      ]
    },
    {
      "cell_type": "code",
      "source": [],
      "metadata": {
        "id": "irzl6ETvLnRQ"
      },
      "execution_count": null,
      "outputs": []
    }
  ]
}