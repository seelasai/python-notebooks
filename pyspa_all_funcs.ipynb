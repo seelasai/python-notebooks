{
  "nbformat": 4,
  "nbformat_minor": 0,
  "metadata": {
    "colab": {
      "provenance": [],
      "toc_visible": true
    },
    "kernelspec": {
      "name": "python3",
      "display_name": "Python 3"
    },
    "language_info": {
      "name": "python"
    }
  },
  "cells": [
    {
      "cell_type": "markdown",
      "source": [
        "# 1-createDataFrame()\n",
        "- a df is a distributed collection of data organized into named columns.\n",
        "- It is equivalent to a table in a relational database."
      ],
      "metadata": {
        "id": "G1Iiq2Ggy3lY"
      }
    },
    {
      "cell_type": "code",
      "execution_count": 8,
      "metadata": {
        "id": "AdTvbFH8kIR2",
        "colab": {
          "base_uri": "https://localhost:8080/",
          "height": 219
        },
        "outputId": "eac2b541-d569-4a8a-d31d-67348bc41d78"
      },
      "outputs": [
        {
          "output_type": "execute_result",
          "data": {
            "text/plain": [
              "<pyspark.sql.session.SparkSession at 0x7d52002750d0>"
            ],
            "text/html": [
              "\n",
              "            <div>\n",
              "                <p><b>SparkSession - in-memory</b></p>\n",
              "                \n",
              "        <div>\n",
              "            <p><b>SparkContext</b></p>\n",
              "\n",
              "            <p><a href=\"http://9ea70742e13e:4040\">Spark UI</a></p>\n",
              "\n",
              "            <dl>\n",
              "              <dt>Version</dt>\n",
              "                <dd><code>v3.1.1</code></dd>\n",
              "              <dt>Master</dt>\n",
              "                <dd><code>local[*]</code></dd>\n",
              "              <dt>AppName</dt>\n",
              "                <dd><code>read_write</code></dd>\n",
              "            </dl>\n",
              "        </div>\n",
              "        \n",
              "            </div>\n",
              "        "
            ]
          },
          "metadata": {},
          "execution_count": 8
        }
      ],
      "source": [
        "!apt-get install openjdk-8-jdk-headless -qq > /dev/null\n",
        "!wget -q http://archive.apache.org/dist/spark/spark-3.1.1/spark-3.1.1-bin-hadoop3.2.tgz\n",
        "!tar xf spark-3.1.1-bin-hadoop3.2.tgz\n",
        "!pip install -q findspark\n",
        "import os\n",
        "os.environ[\"JAVA_HOME\"] = \"/usr/lib/jvm/java-8-openjdk-amd64\"\n",
        "os.environ[\"SPARK_HOME\"] = \"/content/spark-3.1.1-bin-hadoop3.2\"\n",
        "import findspark\n",
        "findspark.init()\n",
        "from pyspark.sql import SparkSession\n",
        "spark = SparkSession.builder.appName(\"read_write\").getOrCreate()\n",
        "spark\n",
        "# some csv files, uncomment to download\n",
        "#!wget -q https://sample-videos.com/csv/Sample-Spreadsheet-1000-rows.csv\n",
        "#!wget -q https://www.stats.govt.nz/assets/Uploads/Business-operations-survey/Business-operations-survey-2022/Download-data/business-operations-survey-2022-information-and-communications-technology.csv"
      ]
    },
    {
      "cell_type": "code",
      "source": [
        "spark.version"
      ],
      "metadata": {
        "colab": {
          "base_uri": "https://localhost:8080/",
          "height": 35
        },
        "id": "gVe6M89VMo1B",
        "outputId": "a43d8314-a3d0-4e11-cc10-2c09874c4974"
      },
      "execution_count": 9,
      "outputs": [
        {
          "output_type": "execute_result",
          "data": {
            "text/plain": [
              "'3.1.1'"
            ],
            "application/vnd.google.colaboratory.intrinsic+json": {
              "type": "string"
            }
          },
          "metadata": {},
          "execution_count": 9
        }
      ]
    },
    {
      "cell_type": "code",
      "source": [
        "#/content/drive/MyDrive/ff.csv\n",
        "spark.version"
      ],
      "metadata": {
        "id": "_RwDgNUuy7YY",
        "colab": {
          "base_uri": "https://localhost:8080/",
          "height": 35
        },
        "outputId": "8fc69ec6-6890-4bac-9581-daed124ffecc"
      },
      "execution_count": 5,
      "outputs": [
        {
          "output_type": "execute_result",
          "data": {
            "text/plain": [
              "'3.1.1'"
            ],
            "application/vnd.google.colaboratory.intrinsic+json": {
              "type": "string"
            }
          },
          "metadata": {},
          "execution_count": 5
        }
      ]
    },
    {
      "cell_type": "code",
      "source": [
        "import datetime\n",
        "print(datetime)"
      ],
      "metadata": {
        "id": "3OA7oNIGKwAT"
      },
      "execution_count": null,
      "outputs": []
    },
    {
      "cell_type": "code",
      "source": [
        "from pyspark.sql import SparkSession\n",
        "from pyspark.sql.types import *\n",
        "from pyspark.sql.functions import *\n",
        "import pyspark.sql.functions as func"
      ],
      "metadata": {
        "id": "Etjn0GP9zigF"
      },
      "execution_count": null,
      "outputs": []
    },
    {
      "cell_type": "code",
      "source": [
        "#type(spark)   #pyspark.sql.session.SparkSession\n",
        "#dir(spark)  # 'dir' shows all the things we can do with spark.\n",
        "#type(spark.createDataFrame) # a method\n",
        "help(spark.createDataFrame) # use help to get info about keywords"
      ],
      "metadata": {
        "id": "wpMGCxZnN-t-"
      },
      "execution_count": null,
      "outputs": []
    },
    {
      "cell_type": "code",
      "source": [
        "!wget -q https://sample-videos.com/csv/Sample-Spreadsheet-1000-rows.csv\n",
        "!mv Sample-Spreadsheet-1000-rows.csv unk.csv # renaming it"
      ],
      "metadata": {
        "id": "cJ26bELNOizy"
      },
      "execution_count": null,
      "outputs": []
    },
    {
      "cell_type": "code",
      "source": [],
      "metadata": {
        "id": "54gt3YHoq-4j"
      },
      "execution_count": null,
      "outputs": []
    },
    {
      "cell_type": "markdown",
      "source": [
        "/content/unk.csv"
      ],
      "metadata": {
        "id": "7x9E8NMfN2Ia"
      }
    },
    {
      "cell_type": "code",
      "source": [
        "# method ((1))\n",
        "data =[(1,'hero',4.5),(2,'villain',5.0),(3,'cam',3.4)]\n",
        "schema = ['id','job','level']\n",
        "hdf = spark.createDataFrame(data=data,schema=schema)\n",
        "hdf.show()\n",
        "hdf.printSchema()"
      ],
      "metadata": {
        "colab": {
          "base_uri": "https://localhost:8080/"
        },
        "id": "jIY9A6x0SjUb",
        "outputId": "41c6c60d-3b80-49ce-9fd8-14ac7976674b"
      },
      "execution_count": null,
      "outputs": [
        {
          "output_type": "stream",
          "name": "stdout",
          "text": [
            "+---+-------+-----+\n",
            "| id|    job|level|\n",
            "+---+-------+-----+\n",
            "|  1|   hero|  4.5|\n",
            "|  2|villain|  5.0|\n",
            "|  3|    cam|  3.4|\n",
            "+---+-------+-----+\n",
            "\n",
            "root\n",
            " |-- id: long (nullable = true)\n",
            " |-- job: string (nullable = true)\n",
            " |-- level: double (nullable = true)\n",
            "\n"
          ]
        }
      ]
    },
    {
      "cell_type": "code",
      "source": [
        "# method ((2))\n",
        "dat = [\n",
        "      {'id':1,'name':'sai'},\n",
        "      {'id':2,'name':'julia'},\n",
        "      {'id':3,'name':'roani'}\n",
        "]\n",
        "ddf = spark.createDataFrame(data=dat)\n",
        "ddf.show()\n",
        "ddf.printSchema()"
      ],
      "metadata": {
        "colab": {
          "base_uri": "https://localhost:8080/"
        },
        "id": "MYrHBURvT4As",
        "outputId": "9a170563-b9c6-4689-a852-359ff76337ee"
      },
      "execution_count": null,
      "outputs": [
        {
          "output_type": "stream",
          "name": "stdout",
          "text": [
            "+---+-----+\n",
            "| id| name|\n",
            "+---+-----+\n",
            "|  1|  sai|\n",
            "|  2|julia|\n",
            "|  3|roani|\n",
            "+---+-----+\n",
            "\n",
            "root\n",
            " |-- id: long (nullable = true)\n",
            " |-- name: string (nullable = true)\n",
            "\n"
          ]
        }
      ]
    },
    {
      "cell_type": "markdown",
      "source": [
        "# read-writing data to csv file"
      ],
      "metadata": {
        "id": "Jd52sfd6ZCS-"
      }
    },
    {
      "cell_type": "code",
      "source": [
        "# method ((3))\n",
        "# creating schema (another way)\n",
        "# to use StrucType, we must import pyspark.sql.types library\n",
        "mysc = StructType([\\\n",
        "                   StructField('userid',IntegerType(),True),\n",
        "                   StructField('name',StringType(),True),\n",
        "                   StructField('age',IntegerType(),True),\n",
        "                   StructField('friends',StringType(),True),\n",
        "                   ])"
      ],
      "metadata": {
        "id": "WU65p2J60DS4"
      },
      "execution_count": null,
      "outputs": []
    },
    {
      "cell_type": "code",
      "source": [
        "# reading data from a csv file\n",
        "people = spark.read.format('csv')\\\n",
        "              .schema(mysc)\\\n",
        "              .option('path','/content/ff.csv').load()\n",
        "#or\n",
        "#peop = spark.read.csv('/content/ff.csv',header=False)\n"
      ],
      "metadata": {
        "id": "4uE4NTm31CuT"
      },
      "execution_count": null,
      "outputs": []
    },
    {
      "cell_type": "code",
      "source": [
        "p = people"
      ],
      "metadata": {
        "id": "j2beEtg51W2u"
      },
      "execution_count": null,
      "outputs": []
    },
    {
      "cell_type": "code",
      "source": [
        "o = people.select(p.userid,p.name,p.age,p.friends)\\\n",
        "          .where(p.age > 30).withColumn('insertstmp',func.current_timestamp())\\\n",
        "          .orderBy(p.userid).cache()"
      ],
      "metadata": {
        "id": "bmuLciNd1aw5"
      },
      "execution_count": null,
      "outputs": []
    },
    {
      "cell_type": "code",
      "source": [
        "o.show(6)"
      ],
      "metadata": {
        "colab": {
          "base_uri": "https://localhost:8080/"
        },
        "id": "WlpqCHSG1_od",
        "outputId": "6f56de65-d14c-44d0-b311-f4cbf4212ff3"
      },
      "execution_count": null,
      "outputs": [
        {
          "output_type": "stream",
          "name": "stdout",
          "text": [
            "+------+------+---+-------+--------------------+\n",
            "|userid|  name|age|friends|          insertstmp|\n",
            "+------+------+---+-------+--------------------+\n",
            "|     0|  Will| 33|    385|2023-10-14 11:00:...|\n",
            "|     2|  Hugh| 55|    221|2023-10-14 11:00:...|\n",
            "|     3|Deanna| 40|    465|2023-10-14 11:00:...|\n",
            "|     4| Quark| 68|     21|2023-10-14 11:00:...|\n",
            "|     5|Weyoun| 59|    318|2023-10-14 11:00:...|\n",
            "|     6|Gowron| 37|    220|2023-10-14 11:00:...|\n",
            "+------+------+---+-------+--------------------+\n",
            "only showing top 6 rows\n",
            "\n"
          ]
        }
      ]
    },
    {
      "cell_type": "code",
      "source": [
        "# now write data and creates data partition based on age for optimization\n",
        "o.write.format('orc').mode('overwrite')\\\n",
        "       .option('path','file:///content/xxyz')\\\n",
        "       .partitionBy('age').save()"
      ],
      "metadata": {
        "id": "ur9B9jsI2EXC"
      },
      "execution_count": null,
      "outputs": []
    },
    {
      "cell_type": "code",
      "source": [
        "p.createOrReplaceTempView('pp')"
      ],
      "metadata": {
        "id": "62xkT6Ln2mMC"
      },
      "execution_count": null,
      "outputs": []
    },
    {
      "cell_type": "code",
      "source": [
        "spark.sql('''select * from pp where age between 65 and 69 order by friends desc''').show()"
      ],
      "metadata": {
        "colab": {
          "base_uri": "https://localhost:8080/"
        },
        "id": "Pqt9Vs0H3JOo",
        "outputId": "3722b424-ebd7-4f40-d3c1-d3c182dcd267"
      },
      "execution_count": null,
      "outputs": [
        {
          "output_type": "stream",
          "name": "stdout",
          "text": [
            "+------+--------+---+-------+\n",
            "|userid|    name|age|friends|\n",
            "+------+--------+---+-------+\n",
            "|    62|   Keiko| 69|      9|\n",
            "|   254|    Ezri| 67|     79|\n",
            "|   116|     Ben| 69|     75|\n",
            "|   233|  Gowron| 67|     70|\n",
            "|   266|Jean-Luc| 66|    496|\n",
            "|    99|   Keiko| 69|    491|\n",
            "|   170|Jean-Luc| 68|    490|\n",
            "|   232|    Worf| 68|    481|\n",
            "|   397|   Quark| 69|    470|\n",
            "|    80|   Dukat| 67|    445|\n",
            "|   283|   Dukat| 65|    443|\n",
            "|   159|  Kasidy| 67|    438|\n",
            "|   487|   Brunt| 69|    431|\n",
            "|   365|   Brunt| 65|    430|\n",
            "|   428| Lwaxana| 68|    423|\n",
            "|   249|   Nerys| 66|     41|\n",
            "|    85|   Quark| 66|    383|\n",
            "|   396|   Keiko| 67|     38|\n",
            "|    97|   Nerys| 69|    361|\n",
            "|   384|  Martok| 67|    355|\n",
            "+------+--------+---+-------+\n",
            "only showing top 20 rows\n",
            "\n"
          ]
        }
      ]
    },
    {
      "cell_type": "markdown",
      "source": [
        "# 2-creating DataFrames\n",
        "- with explicit schema\n",
        "- wiht RDD\n",
        "- with CSV file"
      ],
      "metadata": {
        "id": "LVwwRxoeJqgk"
      }
    },
    {
      "cell_type": "code",
      "source": [
        "from datetime import datetime, date\n",
        "import pandas as pd\n",
        "from pyspark.sql import Row"
      ],
      "metadata": {
        "id": "O8m0rKQRKEPm"
      },
      "execution_count": null,
      "outputs": []
    },
    {
      "cell_type": "code",
      "source": [
        "# method ((3))\n",
        "# creating df with explicit schema and data\n",
        "edf = spark.createDataFrame([\n",
        "    (1,'sai',23,'M',date(2001,3,8),26199.23),\n",
        "    (2,'joyboy',19,'M',date(2000,9,9),1000.99),\n",
        "    (3,'sanji',28,\"M\",date(1999,8,7),16000.22)\n",
        "], schema = 'id long,name string,age long,gender string,dob date,bounty double')"
      ],
      "metadata": {
        "id": "4bQtPmPv3UlW"
      },
      "execution_count": null,
      "outputs": []
    },
    {
      "cell_type": "code",
      "source": [
        "edf.show()"
      ],
      "metadata": {
        "colab": {
          "base_uri": "https://localhost:8080/"
        },
        "id": "ox4YAAzULREj",
        "outputId": "bd6afad9-2507-406e-a53a-7dd11cc6588c"
      },
      "execution_count": null,
      "outputs": [
        {
          "output_type": "stream",
          "name": "stdout",
          "text": [
            "+---+------+---+------+----------+--------+\n",
            "| id|  name|age|gender|       dob|  bounty|\n",
            "+---+------+---+------+----------+--------+\n",
            "|  1|   sai| 23|     M|2001-03-08|26199.23|\n",
            "|  2|joyboy| 19|     M|2000-09-09| 1000.99|\n",
            "|  3| sanji| 28|     M|1999-08-07|16000.22|\n",
            "+---+------+---+------+----------+--------+\n",
            "\n"
          ]
        }
      ]
    },
    {
      "cell_type": "code",
      "source": [
        "edf.printSchema() # to see the schema structure"
      ],
      "metadata": {
        "colab": {
          "base_uri": "https://localhost:8080/"
        },
        "id": "uwkwoGCiLnYD",
        "outputId": "da97c1e0-d6e8-41bf-fd43-d40bf3ec5f05"
      },
      "execution_count": null,
      "outputs": [
        {
          "output_type": "stream",
          "name": "stdout",
          "text": [
            "root\n",
            " |-- id: long (nullable = true)\n",
            " |-- name: string (nullable = true)\n",
            " |-- age: long (nullable = true)\n",
            " |-- gender: string (nullable = true)\n",
            " |-- dob: date (nullable = true)\n",
            " |-- bounty: double (nullable = true)\n",
            "\n"
          ]
        }
      ]
    },
    {
      "cell_type": "code",
      "source": [
        "edf.dtypes # gives cols and it's datatypes"
      ],
      "metadata": {
        "colab": {
          "base_uri": "https://localhost:8080/"
        },
        "id": "MeLclJHPNXZR",
        "outputId": "78114d94-2a0e-414c-9b95-e5beee30a9fc"
      },
      "execution_count": null,
      "outputs": [
        {
          "output_type": "execute_result",
          "data": {
            "text/plain": [
              "[('id', 'int'),\n",
              " ('name', 'string'),\n",
              " ('age', 'int'),\n",
              " ('gender', 'string'),\n",
              " ('dob', 'date'),\n",
              " ('bounty', 'float')]"
            ]
          },
          "metadata": {},
          "execution_count": 41
        }
      ]
    },
    {
      "cell_type": "code",
      "source": [
        "# trying to change bigint type to int and double to floattype\n",
        "# using withColumn\n",
        "edf = edf\\\n",
        "          .withColumn('id',edf['id'].cast('integer'))\\\n",
        "          .withColumn('age',edf['age'].cast('integer'))\\\n",
        "          .withColumn('bounty',edf['bounty'].cast('float'))\\\n",
        "          .withColumn('gender',edf['gender'].cast('boolean'))\n",
        "edf.dtypes # for multiple cols and single cols\n"
      ],
      "metadata": {
        "colab": {
          "base_uri": "https://localhost:8080/"
        },
        "id": "lH8-sZtrNuBZ",
        "outputId": "63a2816d-419d-4637-ab1e-5c935b39a37b"
      },
      "execution_count": null,
      "outputs": [
        {
          "output_type": "execute_result",
          "data": {
            "text/plain": [
              "[('id', 'int'),\n",
              " ('name', 'string'),\n",
              " ('age', 'int'),\n",
              " ('gender', 'boolean'),\n",
              " ('dob', 'date'),\n",
              " ('bounty', 'float')]"
            ]
          },
          "metadata": {},
          "execution_count": 45
        }
      ]
    },
    {
      "cell_type": "code",
      "source": [
        "edf.printSchema()"
      ],
      "metadata": {
        "colab": {
          "base_uri": "https://localhost:8080/"
        },
        "id": "S1RwhnYgUtJF",
        "outputId": "736d047c-c2c5-4801-b689-e23d232ccfef"
      },
      "execution_count": null,
      "outputs": [
        {
          "output_type": "stream",
          "name": "stdout",
          "text": [
            "root\n",
            " |-- id: integer (nullable = true)\n",
            " |-- name: string (nullable = true)\n",
            " |-- age: integer (nullable = true)\n",
            " |-- gender: boolean (nullable = true)\n",
            " |-- dob: date (nullable = true)\n",
            " |-- bounty: float (nullable = true)\n",
            "\n"
          ]
        }
      ]
    },
    {
      "cell_type": "code",
      "source": [
        "edf.select('id','name').show(2)"
      ],
      "metadata": {
        "colab": {
          "base_uri": "https://localhost:8080/"
        },
        "id": "w78av3nlL7l3",
        "outputId": "40f024e4-ecdd-4561-81b9-da3e6d2019c6"
      },
      "execution_count": null,
      "outputs": [
        {
          "output_type": "stream",
          "name": "stdout",
          "text": [
            "+---+------+\n",
            "| id|  name|\n",
            "+---+------+\n",
            "|  1|   sai|\n",
            "|  2|joyboy|\n",
            "+---+------+\n",
            "only showing top 2 rows\n",
            "\n"
          ]
        }
      ]
    },
    {
      "cell_type": "code",
      "source": [
        "#- WITH RDD\n",
        "rdd = spark.sparkContext.parallelize([\n",
        "    (1, 4., 'GFG1', date(2000, 8, 1), datetime(2000, 8, 1, 12, 0)),\n",
        "    (2, 8., 'GFG2', date(2000, 6, 2), datetime(2000, 6, 2, 12, 0)),\n",
        "    (3, 5., 'GFG3', date(2000, 5, 3), datetime(2000, 5, 3, 12, 0))\n",
        "])\n",
        "rdf = spark.createDataFrame(rdd, schema=['a', 'b', 'c', 'd', 'e'])\n",
        "rdf.printSchema()"
      ],
      "metadata": {
        "colab": {
          "base_uri": "https://localhost:8080/"
        },
        "id": "VXG-Liv0MGJR",
        "outputId": "b34b2a36-d5ff-46f9-c3cf-2f180af5e1d9"
      },
      "execution_count": null,
      "outputs": [
        {
          "output_type": "stream",
          "name": "stdout",
          "text": [
            "root\n",
            " |-- a: long (nullable = true)\n",
            " |-- b: double (nullable = true)\n",
            " |-- c: string (nullable = true)\n",
            " |-- d: date (nullable = true)\n",
            " |-- e: timestamp (nullable = true)\n",
            "\n"
          ]
        }
      ]
    },
    {
      "cell_type": "code",
      "source": [
        "rdf = rdf.withColumn('b',rdf['b'].cast('float'))\\\n",
        "         .withColumn('a',rdf['a'].cast('integer'))\n",
        "rdf.printSchema()"
      ],
      "metadata": {
        "colab": {
          "base_uri": "https://localhost:8080/"
        },
        "id": "mahKjvS-MT2E",
        "outputId": "27fd946f-2763-44ec-c639-53e744d1828a"
      },
      "execution_count": null,
      "outputs": [
        {
          "output_type": "stream",
          "name": "stdout",
          "text": [
            "root\n",
            " |-- a: integer (nullable = true)\n",
            " |-- b: float (nullable = true)\n",
            " |-- c: string (nullable = true)\n",
            " |-- d: date (nullable = true)\n",
            " |-- e: timestamp (nullable = true)\n",
            "\n"
          ]
        }
      ]
    },
    {
      "cell_type": "code",
      "source": [
        "rdf.show(2)"
      ],
      "metadata": {
        "colab": {
          "base_uri": "https://localhost:8080/"
        },
        "id": "lC6CIhPanS1A",
        "outputId": "70169cb1-6828-4e03-d7d2-f89acda51d9f"
      },
      "execution_count": null,
      "outputs": [
        {
          "output_type": "stream",
          "name": "stdout",
          "text": [
            "+---+---+----+----------+-------------------+\n",
            "|  a|  b|   c|         d|                  e|\n",
            "+---+---+----+----------+-------------------+\n",
            "|  1|4.0|GFG1|2000-08-01|2000-08-01 12:00:00|\n",
            "|  2|8.0|GFG2|2000-06-02|2000-06-02 12:00:00|\n",
            "+---+---+----+----------+-------------------+\n",
            "only showing top 2 rows\n",
            "\n"
          ]
        }
      ]
    },
    {
      "cell_type": "markdown",
      "source": [
        " - with csv file creating a DF"
      ],
      "metadata": {
        "id": "Ob8EeUORYObJ"
      }
    },
    {
      "cell_type": "code",
      "source": [
        "# using sampledata provided by spark itself\n",
        "# file path - /content/sample_data/california_housing_train.csv"
      ],
      "metadata": {
        "colab": {
          "base_uri": "https://localhost:8080/"
        },
        "id": "X6JWHH9fMavG",
        "outputId": "0cc524fd-a21d-467a-d028-c37351ef8180"
      },
      "execution_count": null,
      "outputs": [
        {
          "output_type": "execute_result",
          "data": {
            "text/plain": [
              "Column<'id'>"
            ]
          },
          "metadata": {},
          "execution_count": 15
        }
      ]
    },
    {
      "cell_type": "code",
      "source": [
        "cdf = spark.createDataFrame(pd.read_csv('/content/sample_data/california_housing_train.csv'))\n",
        "cdf.printSchema()"
      ],
      "metadata": {
        "colab": {
          "base_uri": "https://localhost:8080/"
        },
        "id": "Tyv1HAE6MgNy",
        "outputId": "3262370e-1b11-4acc-a987-57857e937286"
      },
      "execution_count": null,
      "outputs": [
        {
          "output_type": "stream",
          "name": "stderr",
          "text": [
            "/content/spark-3.1.1-bin-hadoop3.2/python/pyspark/sql/pandas/conversion.py:331: FutureWarning: iteritems is deprecated and will be removed in a future version. Use .items instead.\n",
            "  for column, series in pdf.iteritems():\n"
          ]
        },
        {
          "output_type": "stream",
          "name": "stdout",
          "text": [
            "root\n",
            " |-- longitude: double (nullable = true)\n",
            " |-- latitude: double (nullable = true)\n",
            " |-- housing_median_age: double (nullable = true)\n",
            " |-- total_rooms: double (nullable = true)\n",
            " |-- total_bedrooms: double (nullable = true)\n",
            " |-- population: double (nullable = true)\n",
            " |-- households: double (nullable = true)\n",
            " |-- median_income: double (nullable = true)\n",
            " |-- median_house_value: double (nullable = true)\n",
            "\n"
          ]
        }
      ]
    },
    {
      "cell_type": "code",
      "source": [
        "cdf.show(2)"
      ],
      "metadata": {
        "colab": {
          "base_uri": "https://localhost:8080/"
        },
        "id": "EuUnjlVqY0DU",
        "outputId": "0d7744b9-4e05-4b18-f941-5f47e60fd6b7"
      },
      "execution_count": null,
      "outputs": [
        {
          "output_type": "stream",
          "name": "stdout",
          "text": [
            "+---------+--------+------------------+-----------+--------------+----------+----------+-------------+------------------+\n",
            "|longitude|latitude|housing_median_age|total_rooms|total_bedrooms|population|households|median_income|median_house_value|\n",
            "+---------+--------+------------------+-----------+--------------+----------+----------+-------------+------------------+\n",
            "|  -114.31|   34.19|              15.0|     5612.0|        1283.0|    1015.0|     472.0|       1.4936|           66900.0|\n",
            "|  -114.47|    34.4|              19.0|     7650.0|        1901.0|    1129.0|     463.0|         1.82|           80100.0|\n",
            "+---------+--------+------------------+-----------+--------------+----------+----------+-------------+------------------+\n",
            "only showing top 2 rows\n",
            "\n"
          ]
        }
      ]
    },
    {
      "cell_type": "markdown",
      "source": [
        "-  another way of reading csv files and creating a DF"
      ],
      "metadata": {
        "id": "sc3rmrPXZ06d"
      }
    },
    {
      "cell_type": "code",
      "source": [
        "ccdf = spark.read.csv('/content/sample_data/mnist_train_small.csv',header = True)\n",
        "ccdf.printSchema()"
      ],
      "metadata": {
        "id": "bFiYsszVZ38B"
      },
      "execution_count": null,
      "outputs": []
    },
    {
      "cell_type": "code",
      "source": [],
      "metadata": {
        "id": "fHg2TqUSbQkc"
      },
      "execution_count": null,
      "outputs": []
    },
    {
      "cell_type": "markdown",
      "source": [
        "# withColumn\n"
      ],
      "metadata": {
        "id": "lXXsEnQvrvVe"
      }
    },
    {
      "cell_type": "code",
      "source": [
        "# from google.colab import drive\n",
        "# drive.mount('/content/drive')"
      ],
      "metadata": {
        "id": "OESmkUlUryoS"
      },
      "execution_count": null,
      "outputs": []
    },
    {
      "cell_type": "code",
      "source": [
        "sc = ('id integer, name string, age integer, frnds integer')"
      ],
      "metadata": {
        "id": "3P-zA_1RsSIK"
      },
      "execution_count": null,
      "outputs": []
    },
    {
      "cell_type": "code",
      "source": [
        "dff = spark.read.csv('/content/drive/MyDrive/ocsv/ff.csv',schema = sc)"
      ],
      "metadata": {
        "id": "8v7RiCJ0r-yX"
      },
      "execution_count": null,
      "outputs": []
    },
    {
      "cell_type": "code",
      "source": [
        "dff.dtypes"
      ],
      "metadata": {
        "colab": {
          "base_uri": "https://localhost:8080/"
        },
        "id": "PNs2W3lrsrVp",
        "outputId": "52a14db2-988b-451a-8e38-3768c93e0f98"
      },
      "execution_count": null,
      "outputs": [
        {
          "output_type": "execute_result",
          "data": {
            "text/plain": [
              "[('id', 'int'), ('name', 'string'), ('age', 'int'), ('frnds', 'int')]"
            ]
          },
          "metadata": {},
          "execution_count": 70
        }
      ]
    },
    {
      "cell_type": "code",
      "source": [
        "dff.printSchema()\n",
        "dff.show(2)"
      ],
      "metadata": {
        "colab": {
          "base_uri": "https://localhost:8080/"
        },
        "id": "otaNIrmsstnQ",
        "outputId": "4895d082-2e20-453f-d359-1c239026da7d"
      },
      "execution_count": null,
      "outputs": [
        {
          "output_type": "stream",
          "name": "stdout",
          "text": [
            "root\n",
            " |-- id: integer (nullable = true)\n",
            " |-- name: string (nullable = true)\n",
            " |-- age: integer (nullable = true)\n",
            " |-- frnds: integer (nullable = true)\n",
            "\n",
            "+---+--------+---+-----+\n",
            "| id|    name|age|frnds|\n",
            "+---+--------+---+-----+\n",
            "|  0|    Will| 33|  385|\n",
            "|  1|Jean-Luc| 26|    2|\n",
            "+---+--------+---+-----+\n",
            "only showing top 2 rows\n",
            "\n"
          ]
        }
      ]
    },
    {
      "cell_type": "code",
      "source": [
        "# col renaming\n",
        "df1 = dff.withColumnRenamed('frnds','fcirlce')"
      ],
      "metadata": {
        "id": "FGE40X3nsxR5"
      },
      "execution_count": null,
      "outputs": []
    },
    {
      "cell_type": "code",
      "source": [
        "df1.printSchema()"
      ],
      "metadata": {
        "colab": {
          "base_uri": "https://localhost:8080/"
        },
        "id": "sF2GPz8otGv8",
        "outputId": "4f618b6e-5d8f-45fd-e528-bdea3aed0781"
      },
      "execution_count": null,
      "outputs": [
        {
          "output_type": "stream",
          "name": "stdout",
          "text": [
            "root\n",
            " |-- id: integer (nullable = true)\n",
            " |-- name: string (nullable = true)\n",
            " |-- age: integer (nullable = true)\n",
            " |-- fcirlce: integer (nullable = true)\n",
            "\n"
          ]
        }
      ]
    },
    {
      "cell_type": "code",
      "source": [
        "# adding a new column with hardcoded data into cols\n",
        "from pyspark.sql.functions import lit # lit is must\n",
        "dfu = df1.withColumn('state',lit(\"AP\"))\n",
        "dfu.show(5)"
      ],
      "metadata": {
        "colab": {
          "base_uri": "https://localhost:8080/"
        },
        "id": "wKQ2O55ytJnt",
        "outputId": "dc9deebc-6489-4351-989f-85104f1cb9f2"
      },
      "execution_count": null,
      "outputs": [
        {
          "output_type": "stream",
          "name": "stdout",
          "text": [
            "+---+--------+---+-------+-----+\n",
            "| id|    name|age|fcirlce|state|\n",
            "+---+--------+---+-------+-----+\n",
            "|  0|    Will| 33|    385|   AP|\n",
            "|  1|Jean-Luc| 26|      2|   AP|\n",
            "|  2|    Hugh| 55|    221|   AP|\n",
            "|  3|  Deanna| 40|    465|   AP|\n",
            "|  4|   Quark| 68|     21|   AP|\n",
            "+---+--------+---+-------+-----+\n",
            "only showing top 5 rows\n",
            "\n"
          ]
        }
      ]
    },
    {
      "cell_type": "code",
      "source": [
        "# creating a copied col with new data\n",
        "dfc = df1.withColumn('age_af_3yrs',col('age')+ 3)"
      ],
      "metadata": {
        "id": "gJ-aQObBt_wO"
      },
      "execution_count": null,
      "outputs": []
    },
    {
      "cell_type": "code",
      "source": [
        "print('after')\n",
        "dfc.show(2)"
      ],
      "metadata": {
        "colab": {
          "base_uri": "https://localhost:8080/"
        },
        "id": "ommetXT5vC8l",
        "outputId": "34a559d0-5395-41b6-f4fe-cdc54f76fbb8"
      },
      "execution_count": null,
      "outputs": [
        {
          "output_type": "stream",
          "name": "stdout",
          "text": [
            "after\n",
            "+---+--------+---+-------+-----------+\n",
            "| id|    name|age|fcirlce|age_af_3yrs|\n",
            "+---+--------+---+-------+-----------+\n",
            "|  0|    Will| 33|    385|         36|\n",
            "|  1|Jean-Luc| 26|      2|         29|\n",
            "+---+--------+---+-------+-----------+\n",
            "only showing top 2 rows\n",
            "\n"
          ]
        }
      ]
    },
    {
      "cell_type": "code",
      "source": [
        "#now dropping that ageaf3yrs col\n",
        "dfc = dfc.drop('age_af_3yrs')\n",
        "dfc.show(3)"
      ],
      "metadata": {
        "colab": {
          "base_uri": "https://localhost:8080/"
        },
        "id": "tjcJHx8SznM8",
        "outputId": "e1cef8fb-8e24-4e7c-cb39-e7b570bc6e83"
      },
      "execution_count": null,
      "outputs": [
        {
          "output_type": "stream",
          "name": "stdout",
          "text": [
            "+---+--------+---+-------+\n",
            "| id|    name|age|fcirlce|\n",
            "+---+--------+---+-------+\n",
            "|  0|    Will| 33|    385|\n",
            "|  1|Jean-Luc| 26|      2|\n",
            "|  2|    Hugh| 55|    221|\n",
            "+---+--------+---+-------+\n",
            "only showing top 3 rows\n",
            "\n"
          ]
        }
      ]
    },
    {
      "cell_type": "markdown",
      "source": [
        "# expression withColumn"
      ],
      "metadata": {
        "id": "HmWFiieI0Nu1"
      }
    },
    {
      "cell_type": "code",
      "source": [
        "dfc.show(5)"
      ],
      "metadata": {
        "colab": {
          "base_uri": "https://localhost:8080/"
        },
        "id": "PjWjQzRj0Sit",
        "outputId": "53c9ba46-fdd4-48eb-c78c-677bd1d1aae4"
      },
      "execution_count": null,
      "outputs": [
        {
          "output_type": "stream",
          "name": "stdout",
          "text": [
            "+---+--------+---+-------+\n",
            "| id|    name|age|fcirlce|\n",
            "+---+--------+---+-------+\n",
            "|  0|    Will| 33|    385|\n",
            "|  1|Jean-Luc| 26|      2|\n",
            "|  2|    Hugh| 55|    221|\n",
            "|  3|  Deanna| 40|    465|\n",
            "|  4|   Quark| 68|     21|\n",
            "+---+--------+---+-------+\n",
            "only showing top 5 rows\n",
            "\n"
          ]
        }
      ]
    },
    {
      "cell_type": "code",
      "source": [
        "dfj =dfc.withColumn('age*fcircle',expr('age * 2'))\n",
        "dfj.show(5)"
      ],
      "metadata": {
        "id": "104jRlpg0Vd7"
      },
      "execution_count": null,
      "outputs": []
    },
    {
      "cell_type": "code",
      "source": [
        "dfc = dfc.withColumn('bg',when(col('fcircle') >= 150))"
      ],
      "metadata": {
        "id": "9KGLkozO1F45"
      },
      "execution_count": null,
      "outputs": []
    },
    {
      "cell_type": "markdown",
      "source": [
        "- reading a json file"
      ],
      "metadata": {
        "id": "obIcbJ0exw1C"
      }
    },
    {
      "cell_type": "code",
      "source": [
        "jdf = spark.read.json('/content/sample_data/anscombe.json',multiLine=True)\n",
        "jdf.show(6)\n",
        "jdf.printSchema()"
      ],
      "metadata": {
        "id": "XBVNv1XvwlId"
      },
      "execution_count": null,
      "outputs": []
    },
    {
      "cell_type": "code",
      "source": [
        "jdf.withColumn('both')"
      ],
      "metadata": {
        "id": "zIn0iPRaxlWr"
      },
      "execution_count": null,
      "outputs": []
    },
    {
      "cell_type": "markdown",
      "source": [
        "# practice"
      ],
      "metadata": {
        "id": "-Tus9f1CaVHk"
      }
    },
    {
      "cell_type": "code",
      "source": [
        "# reading a csv\n",
        "# some csv files, uncomment to download\n",
        "#!wget -q https://sample-videos.com/csv/Sample-Spreadsheet-1000-rows.csv\n",
        "#!wget -q https://www.stats.govt.nz/assets/Uploads/Business-operations-survey/Business-operations-survey-2022/Download-data/business-operations-survey-2022-information-and-communications-technology.csv\n",
        "\n",
        "mysc = StructType([\\\n",
        "                   StructField('id',IntegerType(),True),\n",
        "                   StructField('product',StringType(),True),\n",
        "                   StructField('uname',StringType(),True),\n",
        "                   StructField('price',IntegerType(),True),\n",
        "                   StructField('raw_price',FloatType(),True),\n",
        "                   StructField('tax',FloatType(),True),\n",
        "                   StructField('city',StringType(),True),\n",
        "                   StructField('product_type',StringType(),True),\n",
        "                   StructField('sar_value',DoubleType(),True),\n",
        "                   ])"
      ],
      "metadata": {
        "id": "CzS-Hy5taWgK"
      },
      "execution_count": null,
      "outputs": []
    },
    {
      "cell_type": "code",
      "source": [
        "#mschema = schema = ['id','products','user','price','raw price','tax','city','type','sar value']\n",
        "\n",
        "sdf = spark.read.csv('/content/unk.csv',schema=mysc,header=False)\n",
        "sdf.show(n=5,truncate=False)\n",
        "sdf.printSchema()"
      ],
      "metadata": {
        "colab": {
          "base_uri": "https://localhost:8080/"
        },
        "id": "ao5lxQ6odqKU",
        "outputId": "aa85bc2b-6371-4799-e3d1-607883e883ba"
      },
      "execution_count": null,
      "outputs": [
        {
          "output_type": "stream",
          "name": "stdout",
          "text": [
            "+---+------------------------------------------------------+------------------+-----+---------+------+-----+------------+---------+\n",
            "|id |product                                               |uname             |price|raw_price|tax   |city |product_type|sar_value|\n",
            "+---+------------------------------------------------------+------------------+-----+---------+------+-----+------------+---------+\n",
            "|1  |Eldon Base for stackable storage shelf, platinum      |Muhammed MacIntyre|3    |-213.25  |38.94 |35   |Nunavut     |null     |\n",
            "|2  |\"1.7 Cubic Foot Compact \"\"Cube\"\" Office Refrigerators\"|Barry French      |293  |457.81   |208.16|68.02|Nunavut     |null     |\n",
            "|3  |Cardinal Slant-D� Ring Binder, Heavy Gauge Vinyl      |Barry French      |293  |46.71    |8.69  |2.99 |Nunavut     |null     |\n",
            "|4  |R380                                                  |Clay Rozendal     |483  |1198.97  |195.99|3.99 |Nunavut     |null     |\n",
            "|5  |Holmes HEPA Air Purifier                              |Carlos Soltero    |515  |30.94    |21.78 |5.94 |Nunavut     |null     |\n",
            "+---+------------------------------------------------------+------------------+-----+---------+------+-----+------------+---------+\n",
            "only showing top 5 rows\n",
            "\n",
            "root\n",
            " |-- id: integer (nullable = true)\n",
            " |-- product: string (nullable = true)\n",
            " |-- uname: string (nullable = true)\n",
            " |-- price: integer (nullable = true)\n",
            " |-- raw_price: float (nullable = true)\n",
            " |-- tax: float (nullable = true)\n",
            " |-- city: string (nullable = true)\n",
            " |-- product_type: string (nullable = true)\n",
            " |-- sar_value: double (nullable = true)\n",
            "\n"
          ]
        }
      ]
    },
    {
      "cell_type": "code",
      "source": [
        "dd=sdf.drop('sar_value')"
      ],
      "metadata": {
        "id": "LT_798wAarfP"
      },
      "execution_count": null,
      "outputs": []
    },
    {
      "cell_type": "code",
      "source": [
        "dd.printSchema()"
      ],
      "metadata": {
        "id": "FUMu5ck_cRuD"
      },
      "execution_count": null,
      "outputs": []
    },
    {
      "cell_type": "code",
      "source": [
        "dd = dd.withColumn('non_taxable',when(dd['raw_price'] < 250, \"NO tax\").otherwise('TAXABLE'))\n",
        "dd.show(n=8,truncate=False)"
      ],
      "metadata": {
        "colab": {
          "base_uri": "https://localhost:8080/"
        },
        "id": "NVq_5bzPsRKf",
        "outputId": "d4d04107-eb50-4b52-890d-466c2435b5ec"
      },
      "execution_count": null,
      "outputs": [
        {
          "output_type": "stream",
          "name": "stdout",
          "text": [
            "+---+------------------------------------------------------+------------------+-----+---------+------+-----+------------+-----------+\n",
            "|id |product                                               |uname             |price|raw_price|tax   |city |product_type|non_taxable|\n",
            "+---+------------------------------------------------------+------------------+-----+---------+------+-----+------------+-----------+\n",
            "|1  |Eldon Base for stackable storage shelf, platinum      |Muhammed MacIntyre|3    |-213.25  |38.94 |35   |Nunavut     |NO tax     |\n",
            "|2  |\"1.7 Cubic Foot Compact \"\"Cube\"\" Office Refrigerators\"|Barry French      |293  |457.81   |208.16|68.02|Nunavut     |TAXABLE    |\n",
            "|3  |Cardinal Slant-D� Ring Binder, Heavy Gauge Vinyl      |Barry French      |293  |46.71    |8.69  |2.99 |Nunavut     |NO tax     |\n",
            "|4  |R380                                                  |Clay Rozendal     |483  |1198.97  |195.99|3.99 |Nunavut     |TAXABLE    |\n",
            "|5  |Holmes HEPA Air Purifier                              |Carlos Soltero    |515  |30.94    |21.78 |5.94 |Nunavut     |NO tax     |\n",
            "|6  |G.E. Longer-Life Indoor Recessed Floodlight Bulbs     |Carlos Soltero    |515  |4.43     |6.64  |4.95 |Nunavut     |NO tax     |\n",
            "|7  |Angle-D Binders with Locking Rings, Label Holders     |Carl Jackson      |613  |-54.04   |7.3   |7.72 |Nunavut     |NO tax     |\n",
            "|8  |SAFCO Mobile Desk Side File, Wire Frame               |Carl Jackson      |613  |127.7    |42.76 |6.22 |Nunavut     |NO tax     |\n",
            "+---+------------------------------------------------------+------------------+-----+---------+------+-----+------------+-----------+\n",
            "only showing top 8 rows\n",
            "\n"
          ]
        }
      ]
    },
    {
      "cell_type": "code",
      "source": [
        "dd = dd.drop('city','product_type')"
      ],
      "metadata": {
        "id": "ujVuGb_jtveQ"
      },
      "execution_count": null,
      "outputs": []
    },
    {
      "cell_type": "code",
      "source": [
        "ds = dd.withColumn('wholeprice',dd['price'] + dd['raw_price'])\n",
        "ds.show(5)"
      ],
      "metadata": {
        "colab": {
          "base_uri": "https://localhost:8080/"
        },
        "id": "VTB3CSFFt5kk",
        "outputId": "4c5d01a6-09e5-4b24-ab00-0d9514fa80fe"
      },
      "execution_count": null,
      "outputs": [
        {
          "output_type": "stream",
          "name": "stdout",
          "text": [
            "+---+--------------------+------------------+-----+---------+------+-----------+----------+\n",
            "| id|             product|             uname|price|raw_price|   tax|non_taxable|wholeprice|\n",
            "+---+--------------------+------------------+-----+---------+------+-----------+----------+\n",
            "|  1|Eldon Base for st...|Muhammed MacIntyre|    3|  -213.25| 38.94|     NO tax|   -210.25|\n",
            "|  2|\"1.7 Cubic Foot C...|      Barry French|  293|   457.81|208.16|    TAXABLE|    750.81|\n",
            "|  3|Cardinal Slant-D�...|      Barry French|  293|    46.71|  8.69|     NO tax|    339.71|\n",
            "|  4|                R380|     Clay Rozendal|  483|  1198.97|195.99|    TAXABLE|   1681.97|\n",
            "|  5|Holmes HEPA Air P...|    Carlos Soltero|  515|    30.94| 21.78|     NO tax|    545.94|\n",
            "+---+--------------------+------------------+-----+---------+------+-----------+----------+\n",
            "only showing top 5 rows\n",
            "\n"
          ]
        }
      ]
    },
    {
      "cell_type": "code",
      "source": [
        "# removing negative raw_price from df\n",
        "ds = ds.filter(col('raw_price') >= 0)\n",
        "ds.count()\n",
        "ds.show(4)"
      ],
      "metadata": {
        "colab": {
          "base_uri": "https://localhost:8080/"
        },
        "id": "MjClLYYFvf7L",
        "outputId": "ef6ab1d2-45a7-42ac-83d9-8c723cfaab92"
      },
      "execution_count": null,
      "outputs": [
        {
          "output_type": "stream",
          "name": "stdout",
          "text": [
            "+---+--------------------+--------------+-----+---------+------+-----------+----------+\n",
            "| id|             product|         uname|price|raw_price|   tax|non_taxable|wholeprice|\n",
            "+---+--------------------+--------------+-----+---------+------+-----------+----------+\n",
            "|  2|\"1.7 Cubic Foot C...|  Barry French|  293|   457.81|208.16|    TAXABLE|    750.81|\n",
            "|  3|Cardinal Slant-D�...|  Barry French|  293|    46.71|  8.69|     NO tax|    339.71|\n",
            "|  4|                R380| Clay Rozendal|  483|  1198.97|195.99|    TAXABLE|   1681.97|\n",
            "|  5|Holmes HEPA Air P...|Carlos Soltero|  515|    30.94| 21.78|     NO tax|    545.94|\n",
            "+---+--------------------+--------------+-----+---------+------+-----------+----------+\n",
            "only showing top 4 rows\n",
            "\n"
          ]
        }
      ]
    },
    {
      "cell_type": "code",
      "source": [
        "# adding new tax col to df\n",
        "ds = ds.withColumn('newTax',\\\n",
        "                   when(col('raw_price') > 200, col('raw_price') * 1.2)\\\n",
        "                   .when(col('raw_price') > 120, col('raw_price') * 0.8)\\\n",
        "                   .when(col('raw_price') > 50,col('raw_price') * 0.2)\\\n",
        "                   .otherwise(col('raw_price')))\n",
        "ds.show(10)"
      ],
      "metadata": {
        "colab": {
          "base_uri": "https://localhost:8080/"
        },
        "id": "1gx8Nuncv7qF",
        "outputId": "71c8ae96-fa89-4fe4-b6f7-6d69d7e3665b"
      },
      "execution_count": null,
      "outputs": [
        {
          "output_type": "stream",
          "name": "stdout",
          "text": [
            "+---+--------------------+----------------+-----+---------+------+-----------+----------+------------------+\n",
            "| id|             product|           uname|price|raw_price|   tax|non_taxable|wholeprice|            newTax|\n",
            "+---+--------------------+----------------+-----+---------+------+-----------+----------+------------------+\n",
            "|  2|\"1.7 Cubic Foot C...|    Barry French|  293|   457.81|208.16|    TAXABLE|    750.81| 549.3719970703124|\n",
            "|  3|Cardinal Slant-D�...|    Barry French|  293|    46.71|  8.69|     NO tax|    339.71|46.709999084472656|\n",
            "|  4|                R380|   Clay Rozendal|  483|  1198.97|195.99|    TAXABLE|   1681.97|  1438.76396484375|\n",
            "|  5|Holmes HEPA Air P...|  Carlos Soltero|  515|    30.94| 21.78|     NO tax|    545.94|30.940000534057617|\n",
            "|  6|G.E. Longer-Life ...|  Carlos Soltero|  515|     4.43|  6.64|     NO tax|    519.43| 4.429999828338623|\n",
            "|  8|SAFCO Mobile Desk...|    Carl Jackson|  613|    127.7| 42.76|     NO tax|     740.7|102.15999755859376|\n",
            "| 13|Holmes HEPA Air P...|     Carlos Daly|  868|   134.72| 21.78|     NO tax|   1002.72| 107.7760009765625|\n",
            "| 14|DS/HD IBM Formatt...|     Carlos Daly|  868|   114.46| 47.98|     NO tax|    982.46|22.891999816894533|\n",
            "| 16|Ultra Commercial ...| Neola Schneider|  995|   782.91| 39.89|    TAXABLE| 1777.9099| 939.4919677734374|\n",
            "| 17|\"#10-4 1/8\"\" x 9 ...|Allen Rosenblatt|  998|     93.8| 15.74|     NO tax|    1091.8|18.760000610351565|\n",
            "+---+--------------------+----------------+-----+---------+------+-----------+----------+------------------+\n",
            "only showing top 10 rows\n",
            "\n"
          ]
        }
      ]
    },
    {
      "cell_type": "code",
      "source": [
        "ds = ds.drop('price','tax')"
      ],
      "metadata": {
        "id": "0TMQQRErzZCO"
      },
      "execution_count": null,
      "outputs": []
    },
    {
      "cell_type": "code",
      "source": [
        "daa = ds.withColumn('newTax',substring(col('newTax'),1,8))\n",
        "daa.show(5)"
      ],
      "metadata": {
        "colab": {
          "base_uri": "https://localhost:8080/"
        },
        "id": "IwAHXb7szphd",
        "outputId": "d35523ab-fc16-4a2d-c63b-2029fb0ccd6c"
      },
      "execution_count": null,
      "outputs": [
        {
          "output_type": "stream",
          "name": "stdout",
          "text": [
            "+---+--------------------+--------------+---------+-----------+----------+--------+\n",
            "| id|             product|         uname|raw_price|non_taxable|wholeprice|  newTax|\n",
            "+---+--------------------+--------------+---------+-----------+----------+--------+\n",
            "|  2|\"1.7 Cubic Foot C...|  Barry French|   457.81|    TAXABLE|    750.81|549.3719|\n",
            "|  3|Cardinal Slant-D�...|  Barry French|    46.71|     NO tax|    339.71|46.70999|\n",
            "|  4|                R380| Clay Rozendal|  1198.97|    TAXABLE|   1681.97|1438.763|\n",
            "|  5|Holmes HEPA Air P...|Carlos Soltero|    30.94|     NO tax|    545.94|30.94000|\n",
            "|  6|G.E. Longer-Life ...|Carlos Soltero|     4.43|     NO tax|    519.43|4.429999|\n",
            "+---+--------------------+--------------+---------+-----------+----------+--------+\n",
            "only showing top 5 rows\n",
            "\n"
          ]
        }
      ]
    },
    {
      "cell_type": "code",
      "source": [
        "# pattern finding with 'like'"
      ],
      "metadata": {
        "id": "LKG2eYV60n3M"
      },
      "execution_count": null,
      "outputs": []
    },
    {
      "cell_type": "markdown",
      "source": [
        "# user defined StructType"
      ],
      "metadata": {
        "id": "eqXcoTAwjf14"
      }
    },
    {
      "cell_type": "code",
      "source": [
        "# creating user defined to structtype to store\n",
        "# name ->(fname,lname)\n",
        "data = [(1,('roronoa','zoro'),100000),\n",
        "        (2,('monkey D','Luffy'),400000)]\n",
        "\n",
        "#name structtype\n",
        "StructName=StructType([\n",
        "                       StructField('fname',StringType()),\n",
        "                       StructField('lname',StringType())])\n",
        "schema = StructType([\n",
        "                      StructField('id',IntegerType()),\n",
        "                      StructField('name',StructName),\n",
        "                      StructField('bounty',IntegerType())\n",
        "])"
      ],
      "metadata": {
        "id": "1EInK2rbfoCE"
      },
      "execution_count": null,
      "outputs": []
    },
    {
      "cell_type": "code",
      "source": [
        "usdf=spark.createDataFrame(data=data,schema=schema)\n",
        "usdf.show()\n",
        "usdf.printSchema()"
      ],
      "metadata": {
        "colab": {
          "base_uri": "https://localhost:8080/"
        },
        "id": "5__Ywh0SlUec",
        "outputId": "ffa57cf8-ffeb-469a-9b92-1fec4e7cf483"
      },
      "execution_count": null,
      "outputs": [
        {
          "output_type": "stream",
          "name": "stdout",
          "text": [
            "+---+-----------------+------+\n",
            "| id|             name|bounty|\n",
            "+---+-----------------+------+\n",
            "|  1|  {roronoa, zoro}|100000|\n",
            "|  2|{monkey D, Luffy}|400000|\n",
            "+---+-----------------+------+\n",
            "\n",
            "root\n",
            " |-- id: integer (nullable = true)\n",
            " |-- name: struct (nullable = true)\n",
            " |    |-- fname: string (nullable = true)\n",
            " |    |-- lname: string (nullable = true)\n",
            " |-- bounty: integer (nullable = true)\n",
            "\n"
          ]
        }
      ]
    },
    {
      "cell_type": "code",
      "source": [
        "print(200)"
      ],
      "metadata": {
        "colab": {
          "base_uri": "https://localhost:8080/"
        },
        "id": "mTR5wkr8lnOo",
        "outputId": "2b8cf114-48c0-4765-9f05-b285c212c430"
      },
      "execution_count": null,
      "outputs": [
        {
          "output_type": "stream",
          "name": "stdout",
          "text": [
            "200\n"
          ]
        }
      ]
    },
    {
      "cell_type": "code",
      "source": [],
      "metadata": {
        "id": "fesbz0nLqpnn"
      },
      "execution_count": null,
      "outputs": []
    },
    {
      "cell_type": "markdown",
      "source": [
        "# filter() function\n",
        "- In PySpark, you can use the filter() function to filter rows from a DataFrame based on a given condition.\n",
        "- The condition is defined using various functions and operators available in PySpark."
      ],
      "metadata": {
        "id": "CblJrTsSpxuI"
      }
    },
    {
      "cell_type": "code",
      "source": [
        "fdf = spark.read.csv('/content/od.csv',header=True)\n",
        "fdf.show(3)\n",
        "fdf.printSchema()"
      ],
      "metadata": {
        "colab": {
          "base_uri": "https://localhost:8080/"
        },
        "id": "dywqraFFsxIn",
        "outputId": "532325ed-9fed-4ec9-8221-22caeb6a8e7d"
      },
      "execution_count": null,
      "outputs": [
        {
          "output_type": "stream",
          "name": "stdout",
          "text": [
            "+---+-----+-----+---+--------+-------------------+\n",
            "| id| name|float|age|    time|          timestamp|\n",
            "+---+-----+-----+---+--------+-------------------+\n",
            "|  1| John|23.45| 30|12:45:00|2023-10-13 08:30:45|\n",
            "|  2|Alice|45.67| 25|09:15:00|2023-10-12 14:20:30|\n",
            "|  3|  Bob|12.34| 35|15:30:00|2023-10-11 20:15:00|\n",
            "+---+-----+-----+---+--------+-------------------+\n",
            "only showing top 3 rows\n",
            "\n",
            "root\n",
            " |-- id: string (nullable = true)\n",
            " |-- name: string (nullable = true)\n",
            " |-- float: string (nullable = true)\n",
            " |-- age: string (nullable = true)\n",
            " |-- time: string (nullable = true)\n",
            " |-- timestamp: string (nullable = true)\n",
            "\n"
          ]
        }
      ]
    },
    {
      "cell_type": "code",
      "source": [
        "fdf=fdf.withColumn('id',fdf['id'].cast('integer'))\\\n",
        "       .withColumn('age',fdf['age'].cast('integer'))\\\n",
        "       .withColumn('live_age',fdf['float'].cast('float'))\\\n",
        "       .withColumn('timestamp',fdf['timestamp'].cast('timestamp'))\n",
        "fdf.printSchema() #couldn't change time datatype since time hasn't have a datatype"
      ],
      "metadata": {
        "colab": {
          "base_uri": "https://localhost:8080/"
        },
        "id": "JYZe02u7tB9v",
        "outputId": "0b20b748-27a6-4ffb-a91e-c944a8edb63a"
      },
      "execution_count": null,
      "outputs": [
        {
          "output_type": "stream",
          "name": "stdout",
          "text": [
            "root\n",
            " |-- id: integer (nullable = true)\n",
            " |-- name: string (nullable = true)\n",
            " |-- float: string (nullable = true)\n",
            " |-- age: integer (nullable = true)\n",
            " |-- time: string (nullable = true)\n",
            " |-- timestamp: timestamp (nullable = true)\n",
            " |-- live_age: float (nullable = true)\n",
            "\n"
          ]
        }
      ]
    },
    {
      "cell_type": "code",
      "source": [
        "fdf.show(5)"
      ],
      "metadata": {
        "colab": {
          "base_uri": "https://localhost:8080/"
        },
        "id": "BYxkKe_7tm5q",
        "outputId": "6e6fa85d-5ac5-4a36-93af-2ab895fdc3aa"
      },
      "execution_count": null,
      "outputs": [
        {
          "output_type": "stream",
          "name": "stdout",
          "text": [
            "+---+-----+-----+---+--------+-------------------+--------+\n",
            "| id| name|float|age|    time|          timestamp|live_age|\n",
            "+---+-----+-----+---+--------+-------------------+--------+\n",
            "|  1| John|23.45| 30|12:45:00|2023-10-13 08:30:45|   23.45|\n",
            "|  2|Alice|45.67| 25|09:15:00|2023-10-12 14:20:30|   45.67|\n",
            "|  3|  Bob|12.34| 35|15:30:00|2023-10-11 20:15:00|   12.34|\n",
            "|  4| Ella|56.78| 42|14:20:00|2023-10-10 10:45:15|   56.78|\n",
            "|  5|David|34.56| 28|11:05:00|2023-10-09 17:10:45|   34.56|\n",
            "+---+-----+-----+---+--------+-------------------+--------+\n",
            "only showing top 5 rows\n",
            "\n"
          ]
        }
      ]
    },
    {
      "cell_type": "code",
      "source": [
        "fdf = fdf.drop('float','time')"
      ],
      "metadata": {
        "id": "T-wAFGyCvW4m"
      },
      "execution_count": null,
      "outputs": []
    },
    {
      "cell_type": "code",
      "source": [
        "fdf.show(3)"
      ],
      "metadata": {
        "colab": {
          "base_uri": "https://localhost:8080/"
        },
        "id": "ZFxyL9OOv5pk",
        "outputId": "67f8c437-7f73-495d-8cfd-c89eff711478"
      },
      "execution_count": null,
      "outputs": [
        {
          "output_type": "stream",
          "name": "stdout",
          "text": [
            "+---+-----+---+-------------------+--------+\n",
            "| id| name|age|          timestamp|live_age|\n",
            "+---+-----+---+-------------------+--------+\n",
            "|  1| John| 30|2023-10-13 08:30:45|   23.45|\n",
            "|  2|Alice| 25|2023-10-12 14:20:30|   45.67|\n",
            "|  3|  Bob| 35|2023-10-11 20:15:00|   12.34|\n",
            "+---+-----+---+-------------------+--------+\n",
            "only showing top 3 rows\n",
            "\n"
          ]
        }
      ]
    },
    {
      "cell_type": "code",
      "source": [
        "# filter -> age >=35 AND timestamp < '2023-10-11 20:15:00'\n",
        "age_df = fdf.filter((fdf['age'] >= 35) & (fdf['timestamp'] < '2023-10-11 20:15:00'))\n",
        "age_df.show()"
      ],
      "metadata": {
        "colab": {
          "base_uri": "https://localhost:8080/"
        },
        "id": "xUDQ7i13v7o3",
        "outputId": "81465542-11c5-4a0e-a3d6-e86963019e81"
      },
      "execution_count": null,
      "outputs": [
        {
          "output_type": "stream",
          "name": "stdout",
          "text": [
            "+---+-------+---+-------------------+--------+\n",
            "| id|   name|age|          timestamp|live_age|\n",
            "+---+-------+---+-------------------+--------+\n",
            "|  4|   Ella| 42|2023-10-10 10:45:15|   56.78|\n",
            "|  6|  Sarah| 55|2023-10-08 12:05:30|    78.9|\n",
            "|  8| Olivia| 39|2023-10-06 16:40:45|   67.43|\n",
            "| 12|William| 48|2023-10-02 09:20:30|   42.12|\n",
            "| 14|  James| 41|2023-09-30 21:10:45|   50.98|\n",
            "| 16| Samuel| 36|2023-09-28 07:40:00|    61.8|\n",
            "| 18| Oliver| 45|2023-09-26 19:35:45|   53.76|\n",
            "+---+-------+---+-------------------+--------+\n",
            "\n"
          ]
        }
      ]
    },
    {
      "cell_type": "code",
      "source": [
        "# now filtering with string operators\n",
        "ssdf = fdf.filter(col('name').contains('li'))\n",
        "ssdf.show()"
      ],
      "metadata": {
        "colab": {
          "base_uri": "https://localhost:8080/"
        },
        "id": "ZWKvNdGxwneA",
        "outputId": "cae9cc32-ed45-41e0-c5e4-05bb89489cf0"
      },
      "execution_count": null,
      "outputs": [
        {
          "output_type": "stream",
          "name": "stdout",
          "text": [
            "+---+-------+---+-------------------+--------+\n",
            "| id|   name|age|          timestamp|live_age|\n",
            "+---+-------+---+-------------------+--------+\n",
            "|  2|  Alice| 25|2023-10-12 14:20:30|   45.67|\n",
            "|  8| Olivia| 39|2023-10-06 16:40:45|   67.43|\n",
            "| 12|William| 48|2023-10-02 09:20:30|   42.12|\n",
            "| 18| Oliver| 45|2023-09-26 19:35:45|   53.76|\n",
            "+---+-------+---+-------------------+--------+\n",
            "\n"
          ]
        }
      ]
    },
    {
      "cell_type": "code",
      "source": [
        "# substring\n",
        "ssdf = ssdf.withColumn('odate',substring(ssdf['timestamp'],1,11))\n",
        "ssdf.show()"
      ],
      "metadata": {
        "colab": {
          "base_uri": "https://localhost:8080/"
        },
        "id": "EbBKdZy0yg12",
        "outputId": "8cdfe905-3909-46c3-f6ed-a9d8a4b25e3c"
      },
      "execution_count": null,
      "outputs": [
        {
          "output_type": "stream",
          "name": "stdout",
          "text": [
            "+---+-------+---+-------------------+--------+-----------+\n",
            "| id|   name|age|          timestamp|live_age|      odate|\n",
            "+---+-------+---+-------------------+--------+-----------+\n",
            "|  2|  Alice| 25|2023-10-12 14:20:30|   45.67|2023-10-12 |\n",
            "|  8| Olivia| 39|2023-10-06 16:40:45|   67.43|2023-10-06 |\n",
            "| 12|William| 48|2023-10-02 09:20:30|   42.12|2023-10-02 |\n",
            "| 18| Oliver| 45|2023-09-26 19:35:45|   53.76|2023-09-26 |\n",
            "+---+-------+---+-------------------+--------+-----------+\n",
            "\n"
          ]
        }
      ]
    },
    {
      "cell_type": "code",
      "source": [
        "ssdf = ssdf.withColumn('odate',ssdf['odate'].cast('date'))\n",
        "ssdf.printSchema()\n",
        "# now odate's datatype is 'date'"
      ],
      "metadata": {
        "colab": {
          "base_uri": "https://localhost:8080/"
        },
        "id": "_ppKQqR0z3Mq",
        "outputId": "5c0d22aa-a053-4362-86f1-41c91be147fd"
      },
      "execution_count": null,
      "outputs": [
        {
          "output_type": "stream",
          "name": "stdout",
          "text": [
            "root\n",
            " |-- id: integer (nullable = true)\n",
            " |-- name: string (nullable = true)\n",
            " |-- age: integer (nullable = true)\n",
            " |-- timestamp: timestamp (nullable = true)\n",
            " |-- live_age: float (nullable = true)\n",
            " |-- odate: date (nullable = true)\n",
            "\n"
          ]
        }
      ]
    },
    {
      "cell_type": "code",
      "source": [
        "ssdf.select('id','name','age').show()"
      ],
      "metadata": {
        "colab": {
          "base_uri": "https://localhost:8080/"
        },
        "id": "RMPQ58ijxzC3",
        "outputId": "a2dacd01-85c8-4147-8071-13cfe60847ab"
      },
      "execution_count": null,
      "outputs": [
        {
          "output_type": "stream",
          "name": "stdout",
          "text": [
            "+---+-------+---+\n",
            "| id|   name|age|\n",
            "+---+-------+---+\n",
            "|  2|  Alice| 25|\n",
            "|  8| Olivia| 39|\n",
            "| 12|William| 48|\n",
            "| 18| Oliver| 45|\n",
            "+---+-------+---+\n",
            "\n"
          ]
        }
      ]
    },
    {
      "cell_type": "code",
      "source": [
        "# using like and filter\n",
        "fdf = fdf.filter(col('name').like('%vi%'))\n",
        "fdf.show()"
      ],
      "metadata": {
        "colab": {
          "base_uri": "https://localhost:8080/"
        },
        "id": "PWY3bbWPx8p8",
        "outputId": "ab7a3002-3453-43da-aa19-d904cb1950cd"
      },
      "execution_count": null,
      "outputs": [
        {
          "output_type": "stream",
          "name": "stdout",
          "text": [
            "+---+------+---+-------------------+--------+\n",
            "| id|  name|age|          timestamp|live_age|\n",
            "+---+------+---+-------------------+--------+\n",
            "|  5| David| 28|2023-10-09 17:10:45|   34.56|\n",
            "|  8|Olivia| 39|2023-10-06 16:40:45|   67.43|\n",
            "+---+------+---+-------------------+--------+\n",
            "\n"
          ]
        }
      ]
    },
    {
      "cell_type": "code",
      "source": [
        "# another way of like and filter\n",
        "a_df = age_df.filter(age_df.name.like('%e%'))\n",
        "#a_df = age_df.filter(age_df['name'].like(\"%ce%\")) both works fine\n",
        "a_df.show()"
      ],
      "metadata": {
        "colab": {
          "base_uri": "https://localhost:8080/"
        },
        "id": "vcVVOZGw1Bzl",
        "outputId": "d4110e64-f6f5-4af7-d85b-69c87d9ff810"
      },
      "execution_count": null,
      "outputs": [
        {
          "output_type": "stream",
          "name": "stdout",
          "text": [
            "+---+------+---+-------------------+--------+\n",
            "| id|  name|age|          timestamp|live_age|\n",
            "+---+------+---+-------------------+--------+\n",
            "| 14| James| 41|2023-09-30 21:10:45|   50.98|\n",
            "| 16|Samuel| 36|2023-09-28 07:40:00|    61.8|\n",
            "| 18|Oliver| 45|2023-09-26 19:35:45|   53.76|\n",
            "+---+------+---+-------------------+--------+\n",
            "\n"
          ]
        }
      ]
    },
    {
      "cell_type": "code",
      "source": [],
      "metadata": {
        "id": "oUIyuHl91YDs"
      },
      "execution_count": null,
      "outputs": []
    },
    {
      "cell_type": "markdown",
      "source": [
        "# groupBy()\n",
        "-The groupBy() transformation in PySpark is used to group rows of a DataFrame based on one or more columns, allowing you to perform various aggregation and summary operations on each group."
      ],
      "metadata": {
        "id": "U2F7y8B-Xwm6"
      }
    },
    {
      "cell_type": "code",
      "source": [
        "!wget -q https://github.com/datablist/sample-csv-files/raw/main/files/people/people-100.csv\n",
        "!mv people-100.csv people.csv"
      ],
      "metadata": {
        "id": "NssGk0rLYXee"
      },
      "execution_count": null,
      "outputs": []
    },
    {
      "cell_type": "code",
      "source": [
        "#gdf = spark.read.csv('/content/people.csv',header=True)\n",
        "gdf.show(2,truncate=False)"
      ],
      "metadata": {
        "colab": {
          "base_uri": "https://localhost:8080/"
        },
        "id": "Ach4ho1kYhyZ",
        "outputId": "5664d3c4-bbee-4bf9-87d1-8f2829d577c0"
      },
      "execution_count": null,
      "outputs": [
        {
          "output_type": "stream",
          "name": "stdout",
          "text": [
            "+-----+---------------+----------+---------+------+---------------------+----------------------+-------------+---------------+\n",
            "|Index|User Id        |First Name|Last Name|Sex   |Email                |Phone                 |Date of birth|Job Title      |\n",
            "+-----+---------------+----------+---------+------+---------------------+----------------------+-------------+---------------+\n",
            "|1    |88F7B33d2bcf9f5|Shelby    |Terrell  |Male  |elijah57@example.net |001-084-906-7849x73518|1945-10-26   |Games developer|\n",
            "|2    |f90cD3E76f1A9b9|Phillip   |Summers  |Female|bethany14@example.com|214.112.6044x4913     |1910-03-24   |Phytotherapist |\n",
            "+-----+---------------+----------+---------+------+---------------------+----------------------+-------------+---------------+\n",
            "only showing top 2 rows\n",
            "\n"
          ]
        }
      ]
    },
    {
      "cell_type": "code",
      "source": [
        "gdf = gdf.withColumn('index',gdf['index'].cast('integer'))\\\n",
        "         .withColumn('date of birth',gdf['date of birth'].cast('date'))\n",
        "gdf.printSchema()"
      ],
      "metadata": {
        "colab": {
          "base_uri": "https://localhost:8080/"
        },
        "id": "uSmmMpZjbv7Q",
        "outputId": "78909b4d-ca88-4f48-f294-1d5404d8fc57"
      },
      "execution_count": null,
      "outputs": [
        {
          "output_type": "stream",
          "name": "stdout",
          "text": [
            "root\n",
            " |-- index: integer (nullable = true)\n",
            " |-- User Id: string (nullable = true)\n",
            " |-- First Name: string (nullable = true)\n",
            " |-- Last Name: string (nullable = true)\n",
            " |-- Sex: string (nullable = true)\n",
            " |-- Email: string (nullable = true)\n",
            " |-- Phone: string (nullable = true)\n",
            " |-- date of birth: date (nullable = true)\n",
            " |-- Job Title: string (nullable = true)\n",
            "\n"
          ]
        }
      ]
    },
    {
      "cell_type": "code",
      "source": [
        "# applying aggregation funcs to groups of rows, such as sum, count,avg,min,max\n",
        "\n",
        "godf = gdf.groupBy('sex')\n",
        "co = godf.count()\n",
        "co.show() # returns how many male and females\n"
      ],
      "metadata": {
        "colab": {
          "base_uri": "https://localhost:8080/"
        },
        "id": "qaMWjuwNYmig",
        "outputId": "65f9bbb0-7990-4f30-b9a0-036c192b2e31"
      },
      "execution_count": null,
      "outputs": [
        {
          "output_type": "stream",
          "name": "stdout",
          "text": [
            "+------+-----+\n",
            "|   sex|count|\n",
            "+------+-----+\n",
            "|Female|   53|\n",
            "|  Male|   47|\n",
            "+------+-----+\n",
            "\n"
          ]
        }
      ]
    },
    {
      "cell_type": "code",
      "source": [
        "# !mv /content/drive/MyDrive/ocsv/original.csv /content/ori.csv"
      ],
      "metadata": {
        "id": "r01Q-UvoiUed"
      },
      "execution_count": null,
      "outputs": []
    },
    {
      "cell_type": "code",
      "source": [
        "dodf = gdf.groupBy('date of birth')\n",
        "dateof = dodf.count()\n",
        "dateof.show() #no one has same dob :)"
      ],
      "metadata": {
        "id": "9piObDdWbtTP"
      },
      "execution_count": null,
      "outputs": []
    },
    {
      "cell_type": "code",
      "source": [
        "#sum\n",
        "sumdf = gdf.groupBy('job title')\n",
        "samejobs = sumdf.sum('index') # sums the index\n",
        "samejobs.show()"
      ],
      "metadata": {
        "colab": {
          "base_uri": "https://localhost:8080/"
        },
        "id": "Osn6hW_Rc6xk",
        "outputId": "2b7bcb2d-e1ef-49c5-8967-cf1dddc2802f"
      },
      "execution_count": null,
      "outputs": [
        {
          "output_type": "stream",
          "name": "stdout",
          "text": [
            "+--------------------+----------+\n",
            "|           job title|sum(index)|\n",
            "+--------------------+----------+\n",
            "|English as a seco...|        72|\n",
            "|  Petroleum engineer|        60|\n",
            "|Conservator, furn...|        92|\n",
            "|          Counsellor|        27|\n",
            "|      Hydrogeologist|         8|\n",
            "|      Police officer|        98|\n",
            "|IT sales professi...|       100|\n",
            "|Education officer...|        50|\n",
            "|Accountant, chart...|        84|\n",
            "|Accounting techni...|        42|\n",
            "|   Recycling officer|        28|\n",
            "|     Games developer|         1|\n",
            "|                Make|        44|\n",
            "|     Physiotherapist|        52|\n",
            "|       Archaeologist|        58|\n",
            "|Scientist, clinic...|        54|\n",
            "|        Neurosurgeon|        63|\n",
            "|Teacher, adult ed...|        19|\n",
            "|             Curator|        61|\n",
            "|              Lawyer|         9|\n",
            "+--------------------+----------+\n",
            "only showing top 20 rows\n",
            "\n"
          ]
        }
      ]
    },
    {
      "cell_type": "code",
      "source": [
        "# groupby multiple cols\n",
        "mgdf = gdf.groupBy('last name')\n",
        "cc = mgdf.count()\n",
        "cc.show()"
      ],
      "metadata": {
        "colab": {
          "base_uri": "https://localhost:8080/"
        },
        "id": "rTQcsBSSg1ZO",
        "outputId": "33f0f09c-ed83-486d-cc63-c9f25a4de39c"
      },
      "execution_count": null,
      "outputs": [
        {
          "output_type": "stream",
          "name": "stdout",
          "text": [
            "+----------+-----+\n",
            "| last name|count|\n",
            "+----------+-----+\n",
            "|      Rich|    1|\n",
            "|    Conway|    1|\n",
            "|     Rocha|    1|\n",
            "|     Brady|    1|\n",
            "|   Watkins|    1|\n",
            "|    Levine|    1|\n",
            "|   Sweeney|    1|\n",
            "|   Farrell|    1|\n",
            "|   Schmidt|    1|\n",
            "|      Hull|    1|\n",
            "|      Pugh|    1|\n",
            "|Cunningham|    1|\n",
            "|    Barnes|    2|\n",
            "|     Nixon|    1|\n",
            "|     Hardy|    1|\n",
            "|    Knight|    1|\n",
            "|    Briggs|    1|\n",
            "|     Haney|    1|\n",
            "|    Norton|    1|\n",
            "|   Bernard|    1|\n",
            "+----------+-----+\n",
            "only showing top 20 rows\n",
            "\n"
          ]
        }
      ]
    },
    {
      "cell_type": "markdown",
      "source": [
        "# groupBy() - part 2"
      ],
      "metadata": {
        "id": "pJdfGu1gji6o"
      }
    },
    {
      "cell_type": "code",
      "source": [
        "g2df = spark.read.csv('ori.csv',header=True)\n",
        "g2df.printSchema()\n",
        "g2df.show(n=5,truncate=False)"
      ],
      "metadata": {
        "colab": {
          "base_uri": "https://localhost:8080/"
        },
        "id": "QnW1aaPWhFg9",
        "outputId": "be6d7c12-b74f-422c-acd1-d0f40d013cbf"
      },
      "execution_count": null,
      "outputs": [
        {
          "output_type": "stream",
          "name": "stdout",
          "text": [
            "root\n",
            " |-- id: string (nullable = true)\n",
            " |-- first_name: string (nullable = true)\n",
            " |-- last_name: string (nullable = true)\n",
            " |-- gender: string (nullable = true)\n",
            " |-- City: string (nullable = true)\n",
            " |-- JobTitle: string (nullable = true)\n",
            " |-- Salary: string (nullable = true)\n",
            " |-- Latitude: string (nullable = true)\n",
            " |-- Longitude: string (nullable = true)\n",
            "\n",
            "+---+----------+----------+------+-------------+----------------------------+---------+----------+-----------+\n",
            "|id |first_name|last_name |gender|City         |JobTitle                    |Salary   |Latitude  |Longitude  |\n",
            "+---+----------+----------+------+-------------+----------------------------+---------+----------+-----------+\n",
            "|1  |Melinde   |Shilburne |Female|Nowa Ruda    |Assistant Professor         |$57438.18|50.5774075|16.4967184 |\n",
            "|2  |Kimberly  |Von Welden|Female|Bulgan       |Programmer II               |$62846.60|48.8231572|103.5218199|\n",
            "|3  |Alvera    |Di Boldi  |Female|null         |null                        |$57576.52|39.9947462|116.3397725|\n",
            "|4  |Shannon   |O'Griffin |Male  |Divnomorskoye|Budget/Accounting Analyst II|$61489.23|44.5047212|38.1300171 |\n",
            "|5  |Sherwood  |Macieja   |Male  |Mytishchi    |VP Sales                    |$63863.09|null      |37.6489954 |\n",
            "+---+----------+----------+------+-------------+----------------------------+---------+----------+-----------+\n",
            "only showing top 5 rows\n",
            "\n"
          ]
        }
      ]
    },
    {
      "cell_type": "code",
      "source": [
        "subs = g2df.withColumn('salary',substring(g2df['salary'], 2,9))\n",
        "subs.show() # removing $ symbol from salary col"
      ],
      "metadata": {
        "colab": {
          "base_uri": "https://localhost:8080/"
        },
        "id": "eNO4d4h8j185",
        "outputId": "759a6eab-4029-402c-d200-7c07db37d0a6"
      },
      "execution_count": null,
      "outputs": [
        {
          "output_type": "stream",
          "name": "stdout",
          "text": [
            "+---+----------+----------+------+---------------+--------------------+--------+----------+-----------+\n",
            "| id|first_name| last_name|gender|           City|            JobTitle|  salary|  Latitude|  Longitude|\n",
            "+---+----------+----------+------+---------------+--------------------+--------+----------+-----------+\n",
            "|  1|   Melinde| Shilburne|Female|      Nowa Ruda| Assistant Professor|57438.18|50.5774075| 16.4967184|\n",
            "|  2|  Kimberly|Von Welden|Female|         Bulgan|       Programmer II|62846.60|48.8231572|103.5218199|\n",
            "|  3|    Alvera|  Di Boldi|Female|           null|                null|57576.52|39.9947462|116.3397725|\n",
            "|  4|   Shannon| O'Griffin|  Male|  Divnomorskoye|Budget/Accounting...|61489.23|44.5047212| 38.1300171|\n",
            "|  5|  Sherwood|   Macieja|  Male|      Mytishchi|            VP Sales|63863.09|      null| 37.6489954|\n",
            "|  6|     Maris|      Folk|Female|Kinsealy-Drinan|      Civil Engineer|30101.16|53.4266145| -6.1644997|\n",
            "|  7|     Masha|    Divers|Female|         Dachun|                null|25090.87| 24.879416| 118.930111|\n",
            "|  8|   Goddart|     Flear|  Male|      Trélissac|Desktop Support T...|46116.36|45.1905186|  0.7423124|\n",
            "|  9|      Roth|O'Cannavan|  Male|         Heitan|VP Product Manage...|73697.10| 32.027934| 106.657113|\n",
            "| 10|      Bran|   Trahear|  Male|       Arbeláez|Mechanical System...|68098.42|  4.272793| -74.416014|\n",
            "| 11|    Kylynn|   Lockart|Female|       El Cardo|Nuclear Power Eng...|13604.63|     -5.85|-79.8833329|\n",
            "| 12|       Rey|    Meharg|Female|    Wangqingtuo|Systems Administr...|73423.70| 39.172378| 116.931607|\n",
            "| 13|      Kerr|    Braden|  Male|      Sułkowice|Compensation Analyst|33432.99|49.8151822| 19.3771749|\n",
            "| 14|    Mickie| Whanstall|  Male|    Springfield|Assistant Media P...|50838.53|42.1014803|-72.5766759|\n",
            "| 15|    Kaspar|     Pally|  Male|         Chrást|  Analyst Programmer|40163.03|49.7923299| 13.4915324|\n",
            "| 16|    Norbie|    Gwyllt|  Male|         Xijiao|              Editor|32492.73|43.4945737|  5.8978018|\n",
            "| 17|    Claude|    Briant|Female|      Mieścisko|Research Assistan...|51862.48|52.7441662| 17.3278637|\n",
            "| 18|     Thain|    Habbon|  Male| Foros do Trapo|     Design Engineer|42135.67| 38.696249| -8.7098337|\n",
            "| 19|  Tiffanie|  Pattison|Female|    Jabungsisir|Senior Financial ...|91925.08|-7.7232567|113.4686802|\n",
            "| 20|    Ettore|  Gerriets|  Male|          Pedra| Staff Accountant IV|73921.33|40.7172049| -8.3625148|\n",
            "+---+----------+----------+------+---------------+--------------------+--------+----------+-----------+\n",
            "only showing top 20 rows\n",
            "\n"
          ]
        }
      ]
    },
    {
      "cell_type": "code",
      "source": [
        "wrr = subs.write.csv('noriginal.csv')\n",
        "# creating new csv and writing clean data into it"
      ],
      "metadata": {
        "id": "eKUgDc1rkX3D"
      },
      "execution_count": null,
      "outputs": []
    },
    {
      "cell_type": "code",
      "source": [
        "# coping and renaming new csv file into drive/ocsv folder\n",
        "!cp /content/noriginal.csv/part-00000-53416394-42cc-4ba9-a847-d9cc38bfbdc3-c000.csv /content/drive/MyDrive/ocsv/noriginal.csv\n"
      ],
      "metadata": {
        "id": "3AvfLZ6ak0CO"
      },
      "execution_count": null,
      "outputs": []
    },
    {
      "cell_type": "code",
      "source": [
        "# reading csv file from drive and creating df\n",
        "subs = spark.read.csv('/content/drive/MyDrive/ocsv/noriginal.csv',header=True)\n",
        "subs.printSchema()"
      ],
      "metadata": {
        "colab": {
          "base_uri": "https://localhost:8080/"
        },
        "id": "TfKpQfqiarQ7",
        "outputId": "3eec4bc3-2404-4d0b-a955-792bead00841"
      },
      "execution_count": null,
      "outputs": [
        {
          "output_type": "stream",
          "name": "stdout",
          "text": [
            "root\n",
            " |-- id: string (nullable = true)\n",
            " |-- fname: string (nullable = true)\n",
            " |-- lname: string (nullable = true)\n",
            " |-- gender: string (nullable = true)\n",
            " |-- city: string (nullable = true)\n",
            " |-- jobtitle: string (nullable = true)\n",
            " |-- salary: string (nullable = true)\n",
            " |-- latitude: string (nullable = true)\n",
            " |-- longitude: string (nullable = true)\n",
            "\n"
          ]
        }
      ]
    },
    {
      "cell_type": "code",
      "source": [
        "subs = subs.withColumn('id',subs['id'].cast('integer'))\\\n",
        "           .withColumn('salary',subs['salary'].cast(\"float\"))\\\n",
        "           .withColumn('latitude',subs['latitude'].cast(\"float\"))\\\n",
        "           .withColumn('longitude',subs['longitude'].cast(\"float\"))\n",
        "subs.dtypes"
      ],
      "metadata": {
        "colab": {
          "base_uri": "https://localhost:8080/"
        },
        "id": "LsARSnPAmKnp",
        "outputId": "a6e7c703-13c4-46d9-8548-b467ef72b355"
      },
      "execution_count": null,
      "outputs": [
        {
          "output_type": "execute_result",
          "data": {
            "text/plain": [
              "[('id', 'int'),\n",
              " ('fname', 'string'),\n",
              " ('lname', 'string'),\n",
              " ('gender', 'string'),\n",
              " ('city', 'string'),\n",
              " ('jobtitle', 'string'),\n",
              " ('salary', 'float'),\n",
              " ('latitude', 'float'),\n",
              " ('longitude', 'float')]"
            ]
          },
          "metadata": {},
          "execution_count": 23
        }
      ]
    },
    {
      "cell_type": "code",
      "source": [
        "# # now using 'subs' df to work on groupBy()\n",
        "gsubs = subs.groupBy('jobtitle')\n",
        "gsum = gsubs.sum('salary')\n",
        "gsum.show(truncate=False) # sum of all their salaries grouped by jobtitles"
      ],
      "metadata": {
        "colab": {
          "base_uri": "https://localhost:8080/"
        },
        "id": "eD7G_NE-mXyG",
        "outputId": "b29734c1-5d1f-4168-b5a8-397eb197be70"
      },
      "execution_count": null,
      "outputs": [
        {
          "output_type": "stream",
          "name": "stdout",
          "text": [
            "+-----------------------------+----------------+\n",
            "|jobtitle                     |sum(salary)     |\n",
            "+-----------------------------+----------------+\n",
            "|Systems Administrator II     |264525.69921875 |\n",
            "|Media Manager III            |140905.0703125  |\n",
            "|Recruiting Manager           |367391.685546875|\n",
            "|Geologist III                |133739.40234375 |\n",
            "|Geologist II                 |86587.73046875  |\n",
            "|Database Administrator IV    |52018.4609375   |\n",
            "|Financial Analyst            |629598.33203125 |\n",
            "|Analyst Programmer           |374490.921875   |\n",
            "|Software Engineer II         |74782.640625    |\n",
            "|Accountant IV                |165464.49609375 |\n",
            "|Product Engineer             |622904.2734375  |\n",
            "|Software Test Engineer II    |356046.427734375|\n",
            "|Safety Technician III        |29421.529296875 |\n",
            "|Junior Executive             |391575.3046875  |\n",
            "|Systems Administrator III    |154118.4375     |\n",
            "|Human Resources Assistant III|162527.759765625|\n",
            "|VP Marketing                 |364954.279296875|\n",
            "|Environmental Tech           |356207.224609375|\n",
            "|Mechanical Systems Engineer  |908308.5        |\n",
            "|Assistant Professor          |490887.2421875  |\n",
            "+-----------------------------+----------------+\n",
            "only showing top 20 rows\n",
            "\n"
          ]
        }
      ]
    },
    {
      "cell_type": "code",
      "source": [
        "gcount = gsubs.count()\n",
        "gcount.show()"
      ],
      "metadata": {
        "id": "m2RLNJHzoGpX"
      },
      "execution_count": null,
      "outputs": []
    },
    {
      "cell_type": "code",
      "source": [
        "# finding avg sal of each jobtitle\n",
        "gavg = gsubs.avg('salary')\n",
        "gavg.show()"
      ],
      "metadata": {
        "id": "uRizNH_1pHR8"
      },
      "execution_count": null,
      "outputs": []
    },
    {
      "cell_type": "code",
      "source": [
        "#avg,max and min salary of each jobtitle\n",
        "masal = gsubs.max('salary')\n",
        "masal.show(truncate=False)\n",
        "#Systems Administrator II     94859.08"
      ],
      "metadata": {
        "id": "N0PtuVpZqIsH"
      },
      "execution_count": null,
      "outputs": []
    },
    {
      "cell_type": "code",
      "source": [
        "fsubs = subs.filter((subs['jobtitle'] == 'Systems Administrator II'))\n",
        "fsubs.show(truncate=False)"
      ],
      "metadata": {
        "colab": {
          "base_uri": "https://localhost:8080/"
        },
        "id": "zRaET4lRrpVV",
        "outputId": "ecfa93ed-cf22-4656-a4b2-cdc136c2f844"
      },
      "execution_count": null,
      "outputs": [
        {
          "output_type": "stream",
          "name": "stdout",
          "text": [
            "+---+----------+-----------+------+--------------+------------------------+--------+---------+-----------+\n",
            "|id |first_name|last_name  |gender|City          |JobTitle                |salary  |latitude |longitude  |\n",
            "+---+----------+-----------+------+--------------+------------------------+--------+---------+-----------+\n",
            "|185|Lezlie    |Tregea     |Female|El Salitre    |Systems Administrator II|94859.08|20.098057|-101.502785|\n",
            "|881|Frieda    |Castelluzzi|Female|Calebasses    |Systems Administrator II|77236.36|-20.11743|57.556107  |\n",
            "|956|Kinny     |Salmen     |Male  |Cergy-Pontoise|Systems Administrator II|62163.8 |49.039078|2.074954   |\n",
            "|961|Faun      |Jamieson   |Female|Bestala       |Systems Administrator II|30266.46|-8.245185|114.97245  |\n",
            "+---+----------+-----------+------+--------------+------------------------+--------+---------+-----------+\n",
            "\n"
          ]
        }
      ]
    },
    {
      "cell_type": "code",
      "source": [
        "# min salary\n",
        "minsal = gsubs.min('salary')\n",
        "minsal.show(truncate=False) # works fine"
      ],
      "metadata": {
        "id": "nG7tuxU9tdob"
      },
      "execution_count": null,
      "outputs": []
    },
    {
      "cell_type": "code",
      "source": [
        "# now finding all in 1 step\n",
        "gaggdf = gsubs.agg(max('salary'),min('salary'),avg('salary'),mean('salary'),sum('salary'))\n",
        "gaggdf.show()"
      ],
      "metadata": {
        "colab": {
          "base_uri": "https://localhost:8080/"
        },
        "id": "7yBeo4QXueck",
        "outputId": "f1879bbd-c061-47ad-8b9a-1489ee4262e1"
      },
      "execution_count": null,
      "outputs": [
        {
          "output_type": "stream",
          "name": "stdout",
          "text": [
            "+--------------------+-----------+-----------+------------------+------------------+----------------+\n",
            "|            jobtitle|max(salary)|min(salary)|       avg(salary)|       avg(salary)|     sum(salary)|\n",
            "+--------------------+-----------+-----------+------------------+------------------+----------------+\n",
            "|Systems Administr...|   94859.08|   30266.46|  66131.4248046875|  66131.4248046875| 264525.69921875|\n",
            "|   Media Manager III|   70306.29|   18453.02|46968.356770833336|46968.356770833336|  140905.0703125|\n",
            "|  Recruiting Manager|   97121.81|   31690.72|61231.947591145836|61231.947591145836|367391.685546875|\n",
            "|       Geologist III|   95247.14|   17134.96|    44579.80078125|    44579.80078125| 133739.40234375|\n",
            "|        Geologist II|   47990.34|   38597.39|   43293.865234375|   43293.865234375|  86587.73046875|\n",
            "|Database Administ...|   52018.46|   52018.46|     52018.4609375|     52018.4609375|   52018.4609375|\n",
            "|   Financial Analyst|   93817.51|   26980.55|   62959.833203125|   62959.833203125| 629598.33203125|\n",
            "|  Analyst Programmer|   74349.58|   16987.33|     37449.0921875|     37449.0921875|   374490.921875|\n",
            "|Software Engineer II|   74782.64|   74782.64|      74782.640625|      74782.640625|    74782.640625|\n",
            "|       Accountant IV|   99944.05|   65520.45|   82732.248046875|   82732.248046875| 165464.49609375|\n",
            "|    Product Engineer|   97140.86|   24608.84|    62290.42734375|    62290.42734375|  622904.2734375|\n",
            "|Software Test Eng...|   85459.88|   24315.72|  59341.0712890625|  59341.0712890625|356046.427734375|\n",
            "|Safety Technician...|   29421.53|   29421.53|   29421.529296875|   29421.529296875| 29421.529296875|\n",
            "|    Junior Executive|   94513.32|   34173.94|    65262.55078125|    65262.55078125|  391575.3046875|\n",
            "|Systems Administr...|   93902.37|   60216.07|       77059.21875|       77059.21875|     154118.4375|\n",
            "|Human Resources A...|   56333.77|   25091.42| 40631.93994140625| 40631.93994140625|162527.759765625|\n",
            "|        VP Marketing|   92910.72|   26039.31|60825.713216145836|60825.713216145836|364954.279296875|\n",
            "|  Environmental Tech|   94374.57|   11014.99|59367.870768229164|59367.870768229164|356207.224609375|\n",
            "|Mechanical System...|   95218.39|   42634.28|         75692.375|         75692.375|        908308.5|\n",
            "| Assistant Professor|   94224.48|   19415.08|    49088.72421875|    49088.72421875|  490887.2421875|\n",
            "+--------------------+-----------+-----------+------------------+------------------+----------------+\n",
            "only showing top 20 rows\n",
            "\n"
          ]
        }
      ]
    },
    {
      "cell_type": "code",
      "source": [
        "subs.show(5,truncate=False)"
      ],
      "metadata": {
        "colab": {
          "base_uri": "https://localhost:8080/"
        },
        "id": "jyWzbuRbu5ZW",
        "outputId": "8afbaa91-c44a-4b66-c249-f921d912750f"
      },
      "execution_count": null,
      "outputs": [
        {
          "output_type": "stream",
          "name": "stdout",
          "text": [
            "+---+--------+----------+------+-------------+----------------------------+--------+---------+----------+\n",
            "|id |fname   |lname     |gender|city         |jobtitle                    |salary  |latitude |longitude |\n",
            "+---+--------+----------+------+-------------+----------------------------+--------+---------+----------+\n",
            "|1  |Melinde |Shilburne |Female|Nowa Ruda    |Assistant Professor         |57438.18|50.577408|16.496717 |\n",
            "|2  |Kimberly|Von Welden|Female|Bulgan       |Programmer II               |62846.6 |48.82316 |103.52182 |\n",
            "|3  |Alvera  |Di Boldi  |Female|null         |null                        |57576.52|39.994747|116.339775|\n",
            "|4  |Shannon |O'Griffin |Male  |Divnomorskoye|Budget/Accounting Analyst II|61489.23|44.504723|38.130016 |\n",
            "|5  |Sherwood|Macieja   |Male  |Mytishchi    |VP Sales                    |63863.09|null     |37.648994 |\n",
            "+---+--------+----------+------+-------------+----------------------------+--------+---------+----------+\n",
            "only showing top 5 rows\n",
            "\n"
          ]
        }
      ]
    },
    {
      "cell_type": "code",
      "source": [
        "fsubs = subs.groupBy('jobtitle')\n",
        "sor = fsubs.count()\n",
        "sss = sor.sort('count',ascending=False)\n",
        "sss.show()"
      ],
      "metadata": {
        "colab": {
          "base_uri": "https://localhost:8080/"
        },
        "id": "i27CON5Kh7Zg",
        "outputId": "b8e57a82-1a76-4fb9-ba5d-eb45c353eedc"
      },
      "execution_count": null,
      "outputs": [
        {
          "output_type": "stream",
          "name": "stdout",
          "text": [
            "+--------------------+-----+\n",
            "|            jobtitle|count|\n",
            "+--------------------+-----+\n",
            "|Programmer Analyst I|    1|\n",
            "|Research Assistant I|    1|\n",
            "|Account Represent...|    1|\n",
            "|Database Administ...|    1|\n",
            "|         Engineer II|    1|\n",
            "|    Health Coach III|    1|\n",
            "|Budget/Accounting...|    1|\n",
            "|     Media Manager I|    1|\n",
            "|        Geologist IV|    1|\n",
            "|Office Assistant III|    1|\n",
            "|Programmer Analys...|    1|\n",
            "|Computer Systems ...|    1|\n",
            "|Safety Technician...|    1|\n",
            "|Safety Technician II|    1|\n",
            "|Database Administ...|    1|\n",
            "|Database Administ...|    1|\n",
            "| Safety Technician I|    1|\n",
            "|Software Test Eng...|    1|\n",
            "|      Statistician I|    1|\n",
            "|Software Engineer II|    1|\n",
            "+--------------------+-----+\n",
            "only showing top 20 rows\n",
            "\n"
          ]
        }
      ]
    },
    {
      "cell_type": "code",
      "source": [
        "# sorting a df based on salary range\n",
        "sortdf = subs.sort('salary',ascending=True)\n",
        "sortdf.show()"
      ],
      "metadata": {
        "id": "QY5cYKQUiyGp"
      },
      "execution_count": null,
      "outputs": []
    },
    {
      "cell_type": "code",
      "source": [
        "#using alias()\n",
        "fullname = subs.select(col('city').alias('ncity'))\n",
        "fullname.show()"
      ],
      "metadata": {
        "colab": {
          "base_uri": "https://localhost:8080/"
        },
        "id": "iPZ0vYf_jbLW",
        "outputId": "235cf209-2b4a-498b-b8cb-094bed70c67d"
      },
      "execution_count": null,
      "outputs": [
        {
          "output_type": "stream",
          "name": "stdout",
          "text": [
            "+---------------+\n",
            "|          ncity|\n",
            "+---------------+\n",
            "|      Nowa Ruda|\n",
            "|         Bulgan|\n",
            "|           null|\n",
            "|  Divnomorskoye|\n",
            "|      Mytishchi|\n",
            "|Kinsealy-Drinan|\n",
            "|         Dachun|\n",
            "|      Trélissac|\n",
            "|         Heitan|\n",
            "|       Arbeláez|\n",
            "|       El Cardo|\n",
            "|    Wangqingtuo|\n",
            "|      Sułkowice|\n",
            "|    Springfield|\n",
            "|         Chrást|\n",
            "|         Xijiao|\n",
            "|      Mieścisko|\n",
            "| Foros do Trapo|\n",
            "|    Jabungsisir|\n",
            "|          Pedra|\n",
            "+---------------+\n",
            "only showing top 20 rows\n",
            "\n"
          ]
        }
      ]
    },
    {
      "cell_type": "code",
      "source": [],
      "metadata": {
        "id": "IB3iml9hm-OW"
      },
      "execution_count": null,
      "outputs": []
    },
    {
      "cell_type": "markdown",
      "source": [
        "# YT df.na.drop()"
      ],
      "metadata": {
        "id": "A1Mi6LICCvlL"
      }
    },
    {
      "cell_type": "code",
      "source": [
        "ytdf = spark.read.csv('/content/drive/MyDrive/ocsv/nall.csv',header=True,inferSchema=True)\n",
        "ytdf.printSchema() #inferSchema"
      ],
      "metadata": {
        "colab": {
          "base_uri": "https://localhost:8080/"
        },
        "id": "O5DY473yC00p",
        "outputId": "ca79291d-85ac-41c4-9d29-e54e002a3c0d"
      },
      "execution_count": null,
      "outputs": [
        {
          "output_type": "stream",
          "name": "stdout",
          "text": [
            "root\n",
            " |-- id: integer (nullable = true)\n",
            " |-- name: string (nullable = true)\n",
            " |-- department: string (nullable = true)\n",
            " |-- salary: integer (nullable = true)\n",
            " |-- gender: string (nullable = true)\n",
            "\n"
          ]
        }
      ]
    },
    {
      "cell_type": "code",
      "source": [
        "ytdf.show()"
      ],
      "metadata": {
        "colab": {
          "base_uri": "https://localhost:8080/"
        },
        "id": "hjauF_72C9nH",
        "outputId": "bac2280c-1288-427b-b5de-0cead5293f4a"
      },
      "execution_count": null,
      "outputs": [
        {
          "output_type": "stream",
          "name": "stdout",
          "text": [
            "+---+-------+----------+------+------+\n",
            "| id|   name|department|salary|gender|\n",
            "+---+-------+----------+------+------+\n",
            "|  1|   John|       Doe| 50000|  Male|\n",
            "|  2|   Jane|     Smith|  null|Female|\n",
            "|  3| Robert|      null| 65000|  null|\n",
            "|  4|   Mary|   Johnson| 56000|Female|\n",
            "|  5|Michael|      null| 75000|  Male|\n",
            "|  6|  Susan|      null| 50000|Female|\n",
            "|  7|  David|    Miller|  null|  Male|\n",
            "|  8|  Linda|  Williams| 72000|  null|\n",
            "|  9|William|  Anderson|  null|  Male|\n",
            "| 10|  Emily|      null| 55000|Female|\n",
            "+---+-------+----------+------+------+\n",
            "\n"
          ]
        }
      ]
    },
    {
      "cell_type": "code",
      "source": [
        "# na.drop(how='any') -> If 'any', drop a row if it contains any nulls.\n",
        "# na.drop(how='all')If 'all', drop a row only if all its values are null.\n",
        "# thresh: int, optional\n",
        "nadf=ytdf.na.drop(how='any')\n",
        "nadf.show()"
      ],
      "metadata": {
        "colab": {
          "base_uri": "https://localhost:8080/"
        },
        "id": "jJlTtfU7DKJr",
        "outputId": "e73f4e64-844d-4bd5-905e-85975ed35b42"
      },
      "execution_count": null,
      "outputs": [
        {
          "output_type": "stream",
          "name": "stdout",
          "text": [
            "+---+----+----------+------+------+\n",
            "| id|name|department|salary|gender|\n",
            "+---+----+----------+------+------+\n",
            "|  1|John|       Doe| 50000|  Male|\n",
            "|  4|Mary|   Johnson| 56000|Female|\n",
            "+---+----+----------+------+------+\n",
            "\n"
          ]
        }
      ]
    },
    {
      "cell_type": "code",
      "source": [
        "nalldf = ytdf.na.drop(how='all')\n",
        "nalldf.show() #drops only if all row vals are null otherwise not effect"
      ],
      "metadata": {
        "colab": {
          "base_uri": "https://localhost:8080/"
        },
        "id": "fo1IS_bZIAYv",
        "outputId": "95e424e8-1c68-43ff-8a5b-98da058018a2"
      },
      "execution_count": null,
      "outputs": [
        {
          "output_type": "stream",
          "name": "stdout",
          "text": [
            "+---+-------+----------+------+------+\n",
            "| id|   name|department|salary|gender|\n",
            "+---+-------+----------+------+------+\n",
            "|  1|   John|       Doe| 50000|  Male|\n",
            "|  2|   Jane|     Smith|  null|Female|\n",
            "|  3| Robert|      null| 65000|  null|\n",
            "|  4|   Mary|   Johnson| 56000|Female|\n",
            "|  5|Michael|      null| 75000|  Male|\n",
            "|  6|  Susan|      null| 50000|Female|\n",
            "|  7|  David|    Miller|  null|  Male|\n",
            "|  8|  Linda|  Williams| 72000|  null|\n",
            "|  9|William|  Anderson|  null|  Male|\n",
            "| 10|  Emily|      null| 55000|Female|\n",
            "+---+-------+----------+------+------+\n",
            "\n"
          ]
        }
      ]
    },
    {
      "cell_type": "code",
      "source": [
        "nallth=nalldf.na.drop(how='any',thresh=3)\n",
        "nallth.show()"
      ],
      "metadata": {
        "colab": {
          "base_uri": "https://localhost:8080/"
        },
        "id": "FNYTFIClIRfn",
        "outputId": "9a7f316f-400f-44d5-adc7-08bca725d3ae"
      },
      "execution_count": null,
      "outputs": [
        {
          "output_type": "stream",
          "name": "stdout",
          "text": [
            "+---+-------+----------+------+------+\n",
            "| id|   name|department|salary|gender|\n",
            "+---+-------+----------+------+------+\n",
            "|  1|   John|       Doe| 50000|  Male|\n",
            "|  2|   Jane|     Smith|  null|Female|\n",
            "|  3| Robert|      null| 65000|  null|\n",
            "|  4|   Mary|   Johnson| 56000|Female|\n",
            "|  5|Michael|      null| 75000|  Male|\n",
            "|  6|  Susan|      null| 50000|Female|\n",
            "|  7|  David|    Miller|  null|  Male|\n",
            "|  8|  Linda|  Williams| 72000|  null|\n",
            "|  9|William|  Anderson|  null|  Male|\n",
            "| 10|  Emily|      null| 55000|Female|\n",
            "+---+-------+----------+------+------+\n",
            "\n"
          ]
        }
      ]
    },
    {
      "cell_type": "code",
      "source": [
        "#subset takes col name input and dels that row when col has null value\n",
        "nadsubs = ytdf.na.drop(how='any',subset=['department'])\n",
        "nadsubs.show() # returns null-less dept col"
      ],
      "metadata": {
        "colab": {
          "base_uri": "https://localhost:8080/"
        },
        "id": "2r-KUYdfJAi3",
        "outputId": "304b2e77-228c-44fd-fce3-c542dfe4b83d"
      },
      "execution_count": null,
      "outputs": [
        {
          "output_type": "stream",
          "name": "stdout",
          "text": [
            "+---+-------+----------+------+------+\n",
            "| id|   name|department|salary|gender|\n",
            "+---+-------+----------+------+------+\n",
            "|  1|   John|       Doe| 50000|  Male|\n",
            "|  2|   Jane|     Smith|  null|Female|\n",
            "|  4|   Mary|   Johnson| 56000|Female|\n",
            "|  7|  David|    Miller|  null|  Male|\n",
            "|  8|  Linda|  Williams| 72000|  null|\n",
            "|  9|William|  Anderson|  null|  Male|\n",
            "+---+-------+----------+------+------+\n",
            "\n"
          ]
        }
      ]
    },
    {
      "cell_type": "code",
      "source": [
        "# filling the null vals at all cols & rows\n",
        "alnulldf = ytdf.na.fill('no-null')\n",
        "alnulldf.show()"
      ],
      "metadata": {
        "colab": {
          "base_uri": "https://localhost:8080/"
        },
        "id": "IadvYwIsJxPl",
        "outputId": "850510bd-87c0-4428-9fc6-9b56568c5a53"
      },
      "execution_count": null,
      "outputs": [
        {
          "output_type": "stream",
          "name": "stdout",
          "text": [
            "+---+-------+----------+------+-------+\n",
            "| id|   name|department|salary| gender|\n",
            "+---+-------+----------+------+-------+\n",
            "|  1|   John|       Doe| 50000|   Male|\n",
            "|  2|   Jane|     Smith|  null| Female|\n",
            "|  3| Robert|   no-null| 65000|no-null|\n",
            "|  4|   Mary|   Johnson| 56000| Female|\n",
            "|  5|Michael|   no-null| 75000|   Male|\n",
            "|  6|  Susan|   no-null| 50000| Female|\n",
            "|  7|  David|    Miller|  null|   Male|\n",
            "|  8|  Linda|  Williams| 72000|no-null|\n",
            "|  9|William|  Anderson|  null|   Male|\n",
            "| 10|  Emily|   no-null| 55000| Female|\n",
            "+---+-------+----------+------+-------+\n",
            "\n"
          ]
        }
      ]
    },
    {
      "cell_type": "code",
      "source": [
        "# fill at specific cols\n",
        "spenuldf = ytdf.na.fill('NA',['gender'])\n",
        "spenuldf.show() # fills NA at gender nulls"
      ],
      "metadata": {
        "colab": {
          "base_uri": "https://localhost:8080/"
        },
        "id": "785ivKXQLX3v",
        "outputId": "9cdf44be-aa5a-49b8-9d58-bd65bf8e75a1"
      },
      "execution_count": null,
      "outputs": [
        {
          "output_type": "stream",
          "name": "stdout",
          "text": [
            "+---+-------+----------+------+------+\n",
            "| id|   name|department|salary|gender|\n",
            "+---+-------+----------+------+------+\n",
            "|  1|   John|       Doe| 50000|  Male|\n",
            "|  2|   Jane|     Smith|  null|Female|\n",
            "|  3| Robert|      null| 65000|    NA|\n",
            "|  4|   Mary|   Johnson| 56000|Female|\n",
            "|  5|Michael|      null| 75000|  Male|\n",
            "|  6|  Susan|      null| 50000|Female|\n",
            "|  7|  David|    Miller|  null|  Male|\n",
            "|  8|  Linda|  Williams| 72000|    NA|\n",
            "|  9|William|  Anderson|  null|  Male|\n",
            "| 10|  Emily|      null| 55000|Female|\n",
            "+---+-------+----------+------+------+\n",
            "\n"
          ]
        }
      ]
    },
    {
      "cell_type": "code",
      "source": [],
      "metadata": {
        "id": "M0P-o-spMQfZ"
      },
      "execution_count": null,
      "outputs": []
    }
  ]
}