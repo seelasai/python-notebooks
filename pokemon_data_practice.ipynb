{
  "nbformat": 4,
  "nbformat_minor": 0,
  "metadata": {
    "colab": {
      "provenance": [],
      "toc_visible": true
    },
    "kernelspec": {
      "name": "python3",
      "display_name": "Python 3"
    },
    "language_info": {
      "name": "python"
    }
  },
  "cells": [
    {
      "cell_type": "markdown",
      "source": [
        "## creating ENv and downloading csv files."
      ],
      "metadata": {
        "id": "BGKt4Ycg4wS0"
      }
    },
    {
      "cell_type": "code",
      "execution_count": null,
      "metadata": {
        "id": "7JTvogugyb0h"
      },
      "outputs": [],
      "source": [
        "!apt-get install openjdk-8-jdk-headless -qq > /dev/null\n",
        "!wget -q http://archive.apache.org/dist/spark/spark-3.1.2/spark-3.1.2-bin-hadoop3.2.tgz\n",
        "!tar xf spark-3.1.2-bin-hadoop3.2.tgz\n",
        "!pip install -q findspark\n",
        "import os\n",
        "os.environ[\"JAVA_HOME\"] = \"/usr/lib/jvm/java-8-openjdk-amd64\"\n",
        "os.environ[\"SPARK_HOME\"] = \"/content/spark-3.1.2-bin-hadoop3.2\"\n",
        "# some csv files, uncomment to download\n",
        "#!wget -q https://sample-videos.com/csv/Sample-Spreadsheet-1000-rows.csv\n",
        "#!wget -q https://www.stats.govt.nz/assets/Uploads/Business-operations-survey/Business-operations-survey-2022/Download-data/business-operations-survey-2022-information-and-communications-technology.csv\n",
        "import findspark\n",
        "findspark.init()\n",
        "from pyspark.sql import SparkSession\n",
        "spark = SparkSession.builder.appName(\"dataClean\").getOrCreate()\n",
        "spark"
      ]
    },
    {
      "cell_type": "code",
      "source": [
        "from pyspark.sql.types import *\n",
        "from pyspark.sql.functions import *"
      ],
      "metadata": {
        "id": "cSLrfy6bzHWb"
      },
      "execution_count": null,
      "outputs": []
    },
    {
      "cell_type": "code",
      "source": [
        "!mv /content/Sample-Spreadsheet-1000-rows.csv /content/ssmp.csv"
      ],
      "metadata": {
        "id": "GetyXUbf0DBi"
      },
      "execution_count": null,
      "outputs": []
    },
    {
      "cell_type": "code",
      "source": [
        "dfspark = spark.read\\\n",
        "          .format(\"csv\")\\\n",
        "          .option(\"header\",\"true\")\\\n",
        "          .option(\"inferSchema\",\"true\")\\\n",
        "          .load(\"/content/ssmp.csv\")\n",
        "\n",
        "dfspark.show(5)"
      ],
      "metadata": {
        "colab": {
          "base_uri": "https://localhost:8080/"
        },
        "id": "B7EHL4L10OG7",
        "outputId": "0c823387-9969-489b-de67-07c1e3750ba4"
      },
      "execution_count": null,
      "outputs": [
        {
          "output_type": "stream",
          "name": "stdout",
          "text": [
            "+---+------------------------------------------------+------------------+---+-------+------+-----+-------+----------------------+----+\n",
            "|  1|Eldon Base for stackable storage shelf, platinum|Muhammed MacIntyre|  3|-213.25| 38.94|   35|Nunavut|Storage & Organization| 0.8|\n",
            "+---+------------------------------------------------+------------------+---+-------+------+-----+-------+----------------------+----+\n",
            "|  2|                            \"1.7 Cubic Foot C...|      Barry French|293| 457.81|208.16|68.02|Nunavut|            Appliances|0.58|\n",
            "|  3|                            Cardinal Slant-D�...|      Barry French|293|  46.71|  8.69| 2.99|Nunavut|  Binders and Binde...|0.39|\n",
            "|  4|                                            R380|     Clay Rozendal|483|1198.97|195.99| 3.99|Nunavut|  Telephones and Co...|0.58|\n",
            "|  5|                            Holmes HEPA Air P...|    Carlos Soltero|515|  30.94| 21.78| 5.94|Nunavut|            Appliances| 0.5|\n",
            "|  6|                            G.E. Longer-Life ...|    Carlos Soltero|515|   4.43|  6.64| 4.95|Nunavut|    Office Furnishings|0.37|\n",
            "+---+------------------------------------------------+------------------+---+-------+------+-----+-------+----------------------+----+\n",
            "only showing top 5 rows\n",
            "\n"
          ]
        }
      ]
    },
    {
      "cell_type": "code",
      "source": [
        "!kaggle datasets download -d guavocado/pokemon-stats-1025-pokemons\n",
        "#works. to download pokemon data from site , UNZIP IT USING BELOW COMMANDS"
      ],
      "metadata": {
        "colab": {
          "base_uri": "https://localhost:8080/"
        },
        "id": "33fi6COk2DQJ",
        "outputId": "e3ffb339-8ef4-4dc5-c140-e68d77f8b8ca"
      },
      "execution_count": null,
      "outputs": [
        {
          "output_type": "stream",
          "name": "stdout",
          "text": [
            "Dataset URL: https://www.kaggle.com/datasets/guavocado/pokemon-stats-1025-pokemons\n",
            "License(s): CC0-1.0\n",
            "Downloading pokemon-stats-1025-pokemons.zip to /content\n",
            "  0% 0.00/43.8k [00:00<?, ?B/s]\n",
            "100% 43.8k/43.8k [00:00<00:00, 45.7MB/s]\n"
          ]
        }
      ]
    },
    {
      "cell_type": "code",
      "source": [
        "!mv /content/pokemon-stats-1025-pokemons.zip"
      ],
      "metadata": {
        "id": "usKAbc242dek"
      },
      "execution_count": null,
      "outputs": []
    },
    {
      "cell_type": "code",
      "source": [
        "!apt-get install unzip"
      ],
      "metadata": {
        "colab": {
          "base_uri": "https://localhost:8080/"
        },
        "id": "W79xQuyv3nWK",
        "outputId": "2b0122f1-cdf8-41d6-ff79-478b8a0313a1"
      },
      "execution_count": null,
      "outputs": [
        {
          "output_type": "stream",
          "name": "stdout",
          "text": [
            "Reading package lists... Done\n",
            "Building dependency tree... Done\n",
            "Reading state information... Done\n",
            "unzip is already the newest version (6.0-26ubuntu3.2).\n",
            "0 upgraded, 0 newly installed, 0 to remove and 45 not upgraded.\n"
          ]
        }
      ]
    },
    {
      "cell_type": "code",
      "source": [
        "!unzip /content/pokemon-stats-1025-pokemons.zip"
      ],
      "metadata": {
        "colab": {
          "base_uri": "https://localhost:8080/"
        },
        "id": "8OXSnxOc3pSe",
        "outputId": "a1888b8d-b3d5-4ee1-ed76-387245cf602c"
      },
      "execution_count": null,
      "outputs": [
        {
          "output_type": "stream",
          "name": "stdout",
          "text": [
            "Archive:  /content/pokemon-stats-1025-pokemons.zip\n",
            "  inflating: pokemon_data.csv        \n"
          ]
        }
      ]
    },
    {
      "cell_type": "code",
      "source": [
        "#deleting zip file\n",
        "!rm /content/pokemon-stats-1025-pokemons.zip"
      ],
      "metadata": {
        "id": "LMEhdDLJ3y84"
      },
      "execution_count": null,
      "outputs": []
    },
    {
      "cell_type": "markdown",
      "source": [
        "## reading data from a csv file (pokemon data file)"
      ],
      "metadata": {
        "id": "93RUsFCm465O"
      }
    },
    {
      "cell_type": "code",
      "source": [
        "dfs = spark.read\\\n",
        "          .format(\"csv\")\\\n",
        "          .option(\"inferSchema\",\"true\")\\\n",
        "          .option(\"header\",\"true\")\\\n",
        "          .load(\"/content/pokemon_data.csv\")\n",
        "dfs.show(6,truncate=False)"
      ],
      "metadata": {
        "colab": {
          "base_uri": "https://localhost:8080/"
        },
        "id": "2CILWDOe4EyZ",
        "outputId": "b3dc98d5-a51f-4f82-a516-3a106dc1fe38"
      },
      "execution_count": null,
      "outputs": [
        {
          "output_type": "stream",
          "name": "stdout",
          "text": [
            "+------+----------+----------+-----+------+--------------+------+------+--------+-----------+--------------+---+------+-------+------+------+-----+-----+--------------------+----------+---------------+--------+-----------+----------+----------+------------+--------------+----------+-------------+\n",
            "|dexnum|name      |generation|type1|type2 |species       |height|weight|ability1|ability2   |hidden_ability|hp |attack|defense|sp_atk|sp_def|speed|total|ev_yield            |catch_rate|base_friendship|base_exp|growth_rate|egg_group1|egg_group2|percent_male|percent_female|egg_cycles|special_group|\n",
            "+------+----------+----------+-----+------+--------------+------+------+--------+-----------+--------------+---+------+-------+------+------+-----+-----+--------------------+----------+---------------+--------+-----------+----------+----------+------------+--------------+----------+-------------+\n",
            "|1     |Bulbasaur |1         |Grass|Poison|Seed Pokémon  |0.7   |6.9   |Overgrow|Chlorophyll|null          |45 |49    |49     |65    |65    |45   |318  |1 Sp. Atk           |45        |50             |64      |Medium Slow|Grass     |Monster   |87.5        |12.5          |20        |Ordinary     |\n",
            "|2     |Ivysaur   |1         |Grass|Poison|Seed Pokémon  |1.0   |13.0  |Overgrow|Chlorophyll|null          |60 |62    |63     |80    |80    |60   |405  |1 Sp. Atk, 1 Sp. Def|45        |50             |142     |Medium Slow|Grass     |Monster   |87.5        |12.5          |20        |Ordinary     |\n",
            "|3     |Venusaur  |1         |Grass|Poison|Seed Pokémon  |2.0   |100.0 |Overgrow|Chlorophyll|null          |80 |82    |83     |100   |100   |80   |525  |2 Sp. Atk, 1 Sp. Def|45        |50             |236     |Medium Slow|Grass     |Monster   |87.5        |12.5          |20        |Ordinary     |\n",
            "|4     |Charmander|1         |Fire |null  |Lizard Pokémon|0.6   |8.5   |Blaze   |Solar Power|null          |39 |52    |43     |60    |50    |65   |309  |1 Speed             |45        |50             |62      |Medium Slow|Dragon    |Monster   |87.5        |12.5          |20        |Ordinary     |\n",
            "|5     |Charmeleon|1         |Fire |null  |Flame Pokémon |1.1   |19.0  |Blaze   |Solar Power|null          |58 |64    |58     |80    |65    |80   |405  |1 Sp. Atk, 1 Speed  |45        |50             |142     |Medium Slow|Dragon    |Monster   |87.5        |12.5          |20        |Ordinary     |\n",
            "|6     |Charizard |1         |Fire |Flying|Flame Pokémon |1.7   |90.5  |Blaze   |Solar Power|null          |78 |84    |78     |109   |85    |100  |534  |3 Sp. Atk           |45        |50             |267     |Medium Slow|Dragon    |Monster   |87.5        |12.5          |20        |Ordinary     |\n",
            "+------+----------+----------+-----+------+--------------+------+------+--------+-----------+--------------+---+------+-------+------+------+-----+-----+--------------------+----------+---------------+--------+-----------+----------+----------+------------+--------------+----------+-------------+\n",
            "only showing top 6 rows\n",
            "\n"
          ]
        }
      ]
    },
    {
      "cell_type": "code",
      "source": [
        "from pyspark.sql.functions import col\n",
        "dfs.filter(col('type1').like(\"Elec%\")).orderBy(\"attack\",ascending=False).show()"
      ],
      "metadata": {
        "colab": {
          "base_uri": "https://localhost:8080/"
        },
        "id": "764f-wzP8O7k",
        "outputId": "3160b668-9290-4a55-e2f0-c8419a9c052e"
      },
      "execution_count": null,
      "outputs": [
        {
          "output_type": "stream",
          "name": "stdout",
          "text": [
            "+------+----------+----------+--------+--------+-------------------+------+------+--------------+--------------+--------------+---+------+-------+------+------+-----+-----+------------------+----------+---------------+--------+-----------+------------+----------+------------+--------------+----------+-------------+\n",
            "|dexnum|      name|generation|   type1|   type2|            species|height|weight|      ability1|      ability2|hidden_ability| hp|attack|defense|sp_atk|sp_def|speed|total|          ev_yield|catch_rate|base_friendship|base_exp|growth_rate|  egg_group1|egg_group2|percent_male|percent_female|egg_cycles|special_group|\n",
            "+------+----------+----------+--------+--------+-------------------+------+------+--------------+--------------+--------------+---+------+-------+------+------+-----+-----+------------------+----------+---------------+--------+-----------+------------+----------+------------+--------------+----------+-------------+\n",
            "|   466|Electivire|         4|Electric|    null|Thunderbolt Pokémon|   1.8| 138.6|   Motor Drive|  Vital Spirit|          null| 75|   123|     67|    95|    85|   95|  540|          3 Attack|        30|             50|     243|Medium Fast|  Human-Like|      null|        75.0|          25.0|        25|     Ordinary|\n",
            "|   405|    Luxray|         4|Electric|    null| Gleam Eyes Pokémon|   1.4|  42.0|       Rivalry|    Intimidate|          Guts| 80|   120|     79|    95|    79|   70|  523|          3 Attack|        45|             50|     262|Medium Slow|       Field|      null|        50.0|          50.0|        20|     Ordinary|\n",
            "|   604|Eelektross|         5|Electric|    null|    EleFish Pokémon|   2.1|  80.5|      Levitate|          null|          null| 85|   115|     80|   105|    80|   50|  515|          3 Attack|        30|             50|     258|       Slow|   Amorphous|      null|        50.0|          50.0|        20|     Ordinary|\n",
            "|   923|    Pawmot|         9|Electric|Fighting|   Hands-On Pokémon|   0.9|  41.0|   Volt Absorb|  Natural Cure|     Iron Fist| 70|   115|     70|    70|    60|  105|  490|          3 Attack|        45|             50|     245|Medium Fast|       Field|      null|        50.0|          50.0|        15|     Ordinary|\n",
            "|   642| Thundurus|         5|Electric|  Flying|Bolt Strike Pokémon|   1.5|  61.0|     Prankster|       Defiant|          null| 79|   115|     70|   125|    80|  111|  580|          3 Attack|         3|             90|     290|       Slow|Undiscovered|      null|       100.0|           0.0|       120|    Legendary|\n",
            "|   785| Tapu Koko|         7|Electric|   Fairy|Land Spirit Pokémon|   1.8|  20.5|Electric Surge|     Telepathy|          null| 70|   115|     85|    95|    75|  130|  570|           3 Speed|         3|             50|     257|       Slow|Undiscovered|      null|        null|          null|        15|    Legendary|\n",
            "|   807|   Zeraora|         7|Electric|    null|Thunderclap Pokémon|   1.5|  44.5|   Volt Absorb|          null|          null| 88|   112|     75|   102|    80|  143|  600|           3 Speed|         3|              0|     270|       Slow|Undiscovered|      null|        null|          null|       120|     Mythical|\n",
            "|   871|Pincurchin|         8|Electric|    null| Sea Urchin Pokémon|   0.3|   1.0| Lightning Rod|Electric Surge|          null| 48|   101|     95|    91|    85|   15|  435|          2 Attack|        75|             50|     152|Medium Fast|  Amorphous |   Water 1|        50.0|          50.0|        20|     Ordinary|\n",
            "|   894| Regieleki|         8|Electric|    null|   Electron Pokémon|   1.2| 145.0|    Transistor|          null|          null| 80|   100|     50|   100|    50|  200|  580|           3 Speed|         3|             35|     290|       Slow|Undiscovered|      null|        null|          null|       120|    Legendary|\n",
            "|   880| Dracozolt|         8|Electric|  Dragon|     Fossil Pokémon|   1.8| 190.0|   Volt Absorb|        Hustle|     Sand Rush| 90|   100|     90|    80|    70|   75|  505|          2 Attack|        45|             50|     177|       Slow|Undiscovered|      null|        null|          null|        35|       Fossil|\n",
            "|   523| Zebstrika|         5|Electric|    null|Thunderbolt Pokémon|   1.6|  79.5| Lightning Rod|   Motor Drive|    Sap Sipper| 75|   100|     63|    80|    63|  116|  497|           2 Speed|        75|             50|     174|Medium Fast|       Field|      null|        50.0|          50.0|        20|     Ordinary|\n",
            "|   881| Arctozolt|         8|Electric|     Ice|     Fossil Pokémon|   2.3| 150.0|   Volt Absorb|        Static|    Slush Rush| 90|   100|     90|    90|    80|   55|  505|          2 Attack|        45|             50|     177|       Slow|Undiscovered|      null|        null|          null|        35|       Fossil|\n",
            "|   777|Togedemaru|         7|Electric|   Steel|  Roly-Poly Pokémon|   0.3|   3.3|    Iron Barbs| Lightning Rod|        Sturdy| 65|    98|     63|    40|    73|   96|  435|          2 Attack|       180|             50|     152|Medium Fast|      Fairy |     Field|        50.0|          50.0|        10|     Ordinary|\n",
            "|   849|Toxtricity|         8|Electric|  Poison|       Punk Pokémon|   1.6|  40.0|     Punk Rock|          Plus|    Technician| 75|    98|     70|   114|    70|   75|  502|         2 Sp. Atk|        45|             50|     176|Medium Slow|  Human-Like|      null|        50.0|          50.0|        25|     Ordinary|\n",
            "|   877|   Morpeko|         8|Electric|    Dark|  Two-Sided Pokémon|   0.3|   3.0| Hunger Switch|          null|          null| 58|    95|     58|    70|    58|   97|  436|           2 Speed|       180|             50|     153|Medium Fast|      Fairy |     Field|        50.0|          50.0|        10|     Ordinary|\n",
            "|    26|    Raichu|         1|Electric|    null|      Mouse Pokémon|   0.8|  30.0|        Static| Lightning Rod|          null| 60|    90|     55|    90|    80|  110|  485|           3 Speed|        75|             50|     243|Medium Fast|      Fairy |     Field|        50.0|          50.0|        10|     Ordinary|\n",
            "|   836|   Boltund|         8|Electric|    null|        Dog Pokémon|   1.0|  34.0|    Strong Jaw|   Competitive|          null| 69|    90|     60|    90|    60|  121|  490|           2 Speed|        45|             50|     172|       Fast|       Field|      null|        50.0|          50.0|        20|     Ordinary|\n",
            "|   145|    Zapdos|         1|Electric|  Flying|   Electric Pokémon|   1.6|  52.6|      Pressure|        Static|          null| 90|    90|     85|   125|    90|  100|  580|         3 Sp. Atk|         3|             35|     290|       Slow|Undiscovered|      null|        null|          null|        80|    Legendary|\n",
            "|   796| Xurkitree|         7|Electric|    null|    Glowing Pokémon|   3.8| 100.0|   Beast Boost|          null|          null| 83|    89|     71|   173|    71|   83|  570|         3 Sp. Atk|        45|              0|     257|       Slow|Undiscovered|      null|        null|          null|       120|  Ultra Beast|\n",
            "|   243|    Raikou|         2|Electric|    null|    Thunder Pokémon|   1.9| 178.0|      Pressure|   Inner Focus|          null| 90|    85|     75|   115|   100|  115|  580|1 Sp. Atk, 2 Speed|         3|             35|     261|       Slow|Undiscovered|      null|        null|          null|        80|    Legendary|\n",
            "+------+----------+----------+--------+--------+-------------------+------+------+--------------+--------------+--------------+---+------+-------+------+------+-----+-----+------------------+----------+---------------+--------+-----------+------------+----------+------------+--------------+----------+-------------+\n",
            "only showing top 20 rows\n",
            "\n"
          ]
        }
      ]
    },
    {
      "cell_type": "code",
      "source": [
        "dfs.groupBy('special_group').count().orderBy('special_group').show()"
      ],
      "metadata": {
        "colab": {
          "base_uri": "https://localhost:8080/"
        },
        "id": "RdHT9Y1mFlE_",
        "outputId": "73cb1e97-71d4-4bb2-8dec-0f1750a3a3c4"
      },
      "execution_count": null,
      "outputs": [
        {
          "output_type": "stream",
          "name": "stdout",
          "text": [
            "+---------------+-----+\n",
            "|  special_group|count|\n",
            "+---------------+-----+\n",
            "|Ancient Paradox|   10|\n",
            "|   Baby Pokemon|   19|\n",
            "|         Fossil|   25|\n",
            "| Future Paradox|   10|\n",
            "|      Legendary|   70|\n",
            "|       Mythical|   23|\n",
            "|       Ordinary|  857|\n",
            "|    Ultra Beast|   11|\n",
            "+---------------+-----+\n",
            "\n"
          ]
        }
      ]
    },
    {
      "cell_type": "code",
      "source": [
        "dfs.select('name','dexnum','type1','weight').filter('weight>=50.0')\\\n",
        ".orderBy('weight').show()"
      ],
      "metadata": {
        "colab": {
          "base_uri": "https://localhost:8080/"
        },
        "id": "_rsdilanEaNC",
        "outputId": "a9e8d1dc-c2c3-4bd5-d0fc-82018deda625"
      },
      "execution_count": null,
      "outputs": [
        {
          "output_type": "stream",
          "name": "stdout",
          "text": [
            "+----------+------+--------+------+\n",
            "|      name|dexnum|   type1|weight|\n",
            "+----------+------+--------+------+\n",
            "|  Zweilous|   634|    Dark|  50.0|\n",
            "| Dragapult|   887|  Dragon|  50.0|\n",
            "|Hitmonchan|   107|Fighting|  50.2|\n",
            "|  Skarmory|   227|   Steel|  50.5|\n",
            "|   Darkrai|   491|    Dark|  50.5|\n",
            "|    Snover|   459|   Grass|  50.5|\n",
            "|      Sawk|   539|Fighting|  51.0|\n",
            "|     Klang|   600|   Steel|  51.0|\n",
            "|    Cacnea|   331|   Grass|  51.3|\n",
            "|   Yanmega|   469|     Bug|  51.5|\n",
            "|   Gallade|   475| Psychic|  52.0|\n",
            "|  Blaziken|   257|    Fire|  52.0|\n",
            "|  Sceptile|   254|   Grass|  52.2|\n",
            "|  Clamperl|   366|   Water|  52.5|\n",
            "|   Seviper|   336|  Poison|  52.5|\n",
            "|    Zapdos|   145|Electric|  52.6|\n",
            "| Aegislash|   681|   Steel|  53.0|\n",
            "|   Lucario|   448|Fighting|  54.0|\n",
            "| Poliwrath|    62|   Water|  54.0|\n",
            "| Heracross|   214|     Bug|  54.0|\n",
            "+----------+------+--------+------+\n",
            "only showing top 20 rows\n",
            "\n"
          ]
        }
      ]
    },
    {
      "cell_type": "code",
      "source": [
        "lis=[\"Fighting\",\"Fire\",\"Steel\"]\n",
        "dfs.filter((dfs['generation']>5) & (dfs['type1'].isin(lis)) & (dfs['name'].like(\"%i%\"))).show()"
      ],
      "metadata": {
        "colab": {
          "base_uri": "https://localhost:8080/"
        },
        "id": "doFej9bpBptD",
        "outputId": "d395a678-fce5-4c2a-9a1c-249e367f65bb"
      },
      "execution_count": null,
      "outputs": [
        {
          "output_type": "stream",
          "name": "stdout",
          "text": [
            "+------+------------+----------+--------+------+-------------------+------+------+-------------+-----------+--------------+---+------+-------+------+------+-----+-----+--------------------+----------+---------------+--------+-----------+------------+----------+------------+--------------+----------+-------------+\n",
            "|dexnum|        name|generation|   type1| type2|            species|height|weight|     ability1|   ability2|hidden_ability| hp|attack|defense|sp_atk|sp_def|speed|total|            ev_yield|catch_rate|base_friendship|base_exp|growth_rate|  egg_group1|egg_group2|percent_male|percent_female|egg_cycles|special_group|\n",
            "+------+------------+----------+--------+------+-------------------+------+------+-------------+-----------+--------------+---+------+-------+------+------+-----+-----+--------------------+----------+---------------+--------+-----------+------------+----------+------------+--------------+----------+-------------+\n",
            "|   653|    Fennekin|         6|    Fire|  null|        Fox Pokémon|   0.4|   9.4|        Blaze|   Magician|          null| 40|    45|     40|    62|    60|   60|  307|           1 Sp. Atk|        45|             50|      61|Medium Slow|       Field|      null|        87.5|          12.5|        20|     Ordinary|\n",
            "|   654|     Braixen|         6|    Fire|  null|        Fox Pokémon|   1.0|  14.5|        Blaze|   Magician|          null| 59|    59|     58|    90|    70|   73|  409|           2 Sp. Atk|        45|             50|     143|Medium Slow|       Field|      null|        87.5|          12.5|        20|     Ordinary|\n",
            "|   662| Fletchinder|         6|    Fire|Flying|      Ember Pokémon|   0.7|  16.0|   Flame Body| Gale Wings|          null| 62|    73|     55|    56|    52|   84|  382|             2 Speed|       120|             50|     134|Medium Slow|      Flying|      null|        50.0|          50.0|        15|     Ordinary|\n",
            "|   667|      Litleo|         6|    Fire|Normal|   Lion Cub Pokémon|   0.6|  13.5|      Rivalry|    Unnerve|         Moxie| 62|    50|     58|    73|    54|   72|  369|           1 Sp. Atk|       220|             50|      74|Medium Slow|       Field|      null|        12.5|          87.5|        20|     Ordinary|\n",
            "|   681|   Aegislash|         6|   Steel| Ghost|Royal Sword Pokémon|   1.7|  53.0|Stance Change|       null|          null| 60|    50|    140|    50|   140|   60|  500|2 Defense, 1 Sp. Def|        45|             50|     234|Medium Fast|     Mineral|      null|        50.0|          50.0|        20|     Ordinary|\n",
            "|   707|      Klefki|         6|   Steel| Fairy|   Key Ring Pokémon|   0.2|   3.0|    Prankster|   Magician|          null| 57|    80|     91|    80|    87|   75|  470|           1 Defense|        75|             50|     165|       Fast|     Mineral|      null|        50.0|          50.0|        20|     Ordinary|\n",
            "|   721|   Volcanion|         6|    Fire| Water|      Steam Pokémon|   1.7| 195.0| Water Absorb|       null|          null| 80|   110|    120|   130|    90|   70|  600|           3 Sp. Atk|         3|            100|     300|       Slow|Undiscovered|      null|        null|          null|       120|     Mythical|\n",
            "|   725|      Litten|         7|    Fire|  null|   Fire Cat Pokémon|   0.4|   4.3|        Blaze| Intimidate|          null| 45|    65|     40|    60|    40|   70|  320|             1 Speed|        45|             50|      64|Medium Slow|       Field|      null|        87.5|          12.5|        15|     Ordinary|\n",
            "|   727|  Incineroar|         7|    Fire|  Dark|       Heel Pokémon|   1.8|  83.0|        Blaze| Intimidate|          null| 95|   115|     90|    80|    90|   60|  530|            3 Attack|        45|             50|     239|Medium Slow|       Field|      null|        87.5|          12.5|        15|     Ordinary|\n",
            "|   740|Crabominable|         7|Fighting|   Ice|Woolly Crab Pokémon|   1.7| 180.0| Hyper Cutter|  Iron Fist|   Anger Point| 97|   132|     77|    62|    67|   43|  478|            2 Attack|        60|             50|     167|Medium Fast|     Water 3|      null|        50.0|          50.0|        20|     Ordinary|\n",
            "|   741|    Oricorio|         7|    Fire|Flying|    Dancing Pokémon|   0.6|   3.4|       Dancer|       null|          null| 75|    70|     70|    98|    70|   93|  476|           2 Sp. Atk|        45|             50|     167|Medium Fast|      Flying|      null|        25.0|          75.0|        20|     Ordinary|\n",
            "|   766|   Passimian|         7|Fighting|  null|   Teamwork Pokémon|   2.0|  82.8|     Receiver|    Defiant|          null|100|   120|     90|    40|    60|   80|  490|            2 Attack|        45|             50|     172|       Slow|       Field|      null|        50.0|          50.0|        20|     Ordinary|\n",
            "|   815|   Cinderace|         8|    Fire|  null|    Striker Pokémon|   1.4|  33.0|        Blaze|     Libero|          null| 80|   116|     75|    65|    75|  119|  530|             3 Speed|        45|             50|     265|Medium Slow|      Field |Human-Like|        87.5|          12.5|        20|     Ordinary|\n",
            "|   850|  Sizzlipede|         8|    Fire|   Bug|   Radiator Pokémon|   0.7|   1.0|   Flash Fire|White Smoke|    Flame Body| 50|    65|     45|    50|    50|   45|  305|            1 Attack|       190|             50|      61|Medium Fast|         Bug|      null|        50.0|          50.0|        20|     Ordinary|\n",
            "|   851| Centiskorch|         8|    Fire|   Bug|   Radiator Pokémon|   3.0| 120.0|   Flash Fire|White Smoke|    Flame Body|100|   115|     65|    90|    90|   65|  525|            2 Attack|        75|             50|     184|Medium Fast|         Bug|      null|        50.0|          50.0|        20|     Ordinary|\n",
            "|   865|  Sirfetch'd|         8|Fighting|  null|  Wild Duck Pokémon|   0.8| 117.0|    Steadfast|    Scrappy|          null| 62|   135|     95|    68|    82|   65|  507|            2 Attack|        45|             50|     177|Medium Fast|      Field |    Flying|        50.0|          50.0|        20|     Ordinary|\n",
            "|   870|     Falinks|         8|Fighting|  null|  Formation Pokémon|   3.0|  62.0| Battle Armor|    Defiant|          null| 65|   100|    100|    70|    60|   75|  470| 2 Attack, 1 Sp. Def|        45|             50|     165|Medium Fast|      Fairy |   Mineral|        null|          null|        25|     Ordinary|\n",
            "|   892|     Urshifu|         8|Fighting|  Dark|      Wushu Pokémon|   1.9| 105.0|  Unseen Fist|       null|          null|100|   130|    100|    63|    60|   97|  550|            3 Attack|         3|             50|     275|       Slow|Undiscovered|      null|        87.5|          12.5|       120|    Legendary|\n",
            "|   911|  Skeledirge|         9|    Fire| Ghost|     Singer Pokémon|   1.6| 326.5|        Blaze|    Unaware|          null|104|    75|    100|   110|    75|   66|  530|           3 Sp. Atk|        45|             50|     265|Medium Slow|       Field|      null|        87.5|          12.5|        20|     Ordinary|\n",
            "|   979|  Annihilape|         9|Fighting| Ghost|Rage Monkey Pokémon|   1.2|  56.0| Vital Spirit|Inner Focus|       Defiant|110|   115|     80|    50|    90|   90|  535|            3 Attack|        45|             50|     268|Medium Fast|       Field|      null|        50.0|          50.0|        20|     Ordinary|\n",
            "+------+------------+----------+--------+------+-------------------+------+------+-------------+-----------+--------------+---+------+-------+------+------+-----+-----+--------------------+----------+---------------+--------+-----------+------------+----------+------------+--------------+----------+-------------+\n",
            "only showing top 20 rows\n",
            "\n"
          ]
        }
      ]
    },
    {
      "cell_type": "code",
      "source": [
        "dfs.groupBy('type1').sum('attack','defense','hp').orderBy('type1').show()"
      ],
      "metadata": {
        "colab": {
          "base_uri": "https://localhost:8080/"
        },
        "id": "vjuyoU88A8xb",
        "outputId": "357191e4-a7de-4b00-f713-d6c5a0419e7b"
      },
      "execution_count": null,
      "outputs": [
        {
          "output_type": "stream",
          "name": "stdout",
          "text": [
            "+--------+-----------+------------+-------+\n",
            "|   type1|sum(attack)|sum(defense)|sum(hp)|\n",
            "+--------+-----------+------------+-------+\n",
            "|     Bug|       5607|        5775|   4689|\n",
            "|    Dark|       3960|        3223|   3411|\n",
            "|  Dragon|       3662|        2783|   2945|\n",
            "|Electric|       4305|        3664|   3822|\n",
            "|   Fairy|       1938|        2058|   2070|\n",
            "|Fighting|       4108|        2894|   3043|\n",
            "|    Fire|       5452|        4411|   4609|\n",
            "|  Flying|        719|         594|    630|\n",
            "|   Ghost|       2401|        2642|   2163|\n",
            "|   Grass|       7658|        7302|   6774|\n",
            "|  Ground|       3736|        3436|   2979|\n",
            "|     Ice|       2307|        2288|   2347|\n",
            "|  Normal|       8777|        7063|   9148|\n",
            "|  Poison|       3173|        3059|   2964|\n",
            "| Psychic|       3780|        4021|   4307|\n",
            "|    Rock|       5015|        5690|   3962|\n",
            "|   Steel|       3168|        3999|   2580|\n",
            "|   Water|       9694|        9418|   9496|\n",
            "+--------+-----------+------------+-------+\n",
            "\n"
          ]
        }
      ]
    },
    {
      "cell_type": "code",
      "source": [
        "#to find the total attach power of all pokemons\n",
        "dfs.agg({'attack':'sum'}).show()"
      ],
      "metadata": {
        "colab": {
          "base_uri": "https://localhost:8080/"
        },
        "id": "QLv2w4fhAH5c",
        "outputId": "02280a7c-2a36-4e4a-e75a-cfd180d8319f"
      },
      "execution_count": null,
      "outputs": [
        {
          "output_type": "stream",
          "name": "stdout",
          "text": [
            "+-----------+\n",
            "|sum(attack)|\n",
            "+-----------+\n",
            "|      79460|\n",
            "+-----------+\n",
            "\n"
          ]
        }
      ]
    },
    {
      "cell_type": "code",
      "source": [
        "dfs.groupBy('type1').max().orderBy('type1').show()"
      ],
      "metadata": {
        "colab": {
          "base_uri": "https://localhost:8080/"
        },
        "id": "cihooIWw-Zv1",
        "outputId": "faa6eea2-1511-45d1-e171-1a7e2879ccc4"
      },
      "execution_count": null,
      "outputs": [
        {
          "output_type": "stream",
          "name": "stdout",
          "text": [
            "+--------+-----------+---------------+-----------+-----------+-------+-----------+------------+-----------+-----------+----------+----------+---------------+-----------------+-------------------+\n",
            "|   type1|max(dexnum)|max(generation)|max(height)|max(weight)|max(hp)|max(attack)|max(defense)|max(sp_atk)|max(sp_def)|max(speed)|max(total)|max(catch_rate)|max(percent_male)|max(percent_female)|\n",
            "+--------+-----------+---------------+-----------+-----------+-------+-----------+------------+-----------+-----------+----------+----------+---------------+-----------------+-------------------+\n",
            "|     Bug|        988|              9|        3.2|      333.6|    107|        139|         230|        145|        230|       160|       600|            255|            100.0|              100.0|\n",
            "|    Dark|       1004|              9|        5.8|      888.0|    223|        135|         125|        135|        135|       135|       680|            255|            100.0|              100.0|\n",
            "|  Dragon|       1005|              9|        7.0|      380.0|    200|        150|         125|        150|        150|       142|       680|            190|            100.0|              100.0|\n",
            "|Electric|       1021|              9|        5.2|      480.0|    125|        123|         115|        173|        115|       200|       670|            255|            100.0|               50.0|\n",
            "|   Fairy|       1006|              9|        3.0|      215.0|    126|        131|         115|        135|        154|       138|       680|            225|             87.5|              100.0|\n",
            "|Fighting|       1007|              9|        3.0|      380.7|    154|        140|         115|        115|        115|       138|       670|            225|            100.0|               50.0|\n",
            "|    Fire|       1020|              9|        3.8|      590.0|    115|        140|         140|        151|        154|       126|       680|            255|             87.5|               87.5|\n",
            "|  Flying|        973|              9|        2.2|       85.0|     98|        115|         105|        125|         95|       123|       580|            255|            100.0|               50.0|\n",
            "|   Ghost|        999|              9|        4.5|      750.0|    150|        131|         145|        145|        135|       135|       680|            225|             50.0|               75.0|\n",
            "|   Grass|       1019|              9|        3.3|      310.0|    123|        181|         131|        125|        129|       123|       600|            255|             87.5|              100.0|\n",
            "|  Ground|        990|              9|        3.8|      950.0|    130|        150|         145|        115|        120|       120|       670|            255|            100.0|               50.0|\n",
            "|     Ice|        991|              9|        4.5|      800.0|    170|        145|         184|        130|        200|       136|       580|            255|             87.5|              100.0|\n",
            "|  Normal|       1024|              9|        3.7|      460.0|    255|        160|         120|        135|        135|       125|       720|            255|            100.0|              100.0|\n",
            "|  Poison|       1025|              9|       20.0|      950.0|    140|        128|         160|        145|        142|       130|       690|            255|            100.0|              100.0|\n",
            "| Psychic|        956|              9|        5.2|      999.9|    190|        150|         131|        154|        154|       150|       680|            255|            100.0|              100.0|\n",
            "|    Rock|       1022|              9|        8.8|      820.0|    123|        165|         211|        130|        150|       130|       600|            255|             87.5|               50.0|\n",
            "|   Steel|       1023|              9|        9.2|      999.9|    135|        143|         200|        150|        150|       108|       680|            255|             50.0|               50.0|\n",
            "|   Water|       1009|              9|       14.5|      398.0|    170|        130|         180|        150|        140|       136|       680|            255|            100.0|               75.0|\n",
            "+--------+-----------+---------------+-----------+-----------+-------+-----------+------------+-----------+-----------+----------+----------+---------------+-----------------+-------------------+\n",
            "\n"
          ]
        }
      ]
    },
    {
      "cell_type": "code",
      "source": [
        "dfs.groupBy(\"type1\").count().orderBy(\"count\").show()"
      ],
      "metadata": {
        "colab": {
          "base_uri": "https://localhost:8080/"
        },
        "id": "lzgor3c47sMb",
        "outputId": "824c3909-b935-47c4-abf2-18ae1d0264b3"
      },
      "execution_count": null,
      "outputs": [
        {
          "output_type": "stream",
          "name": "stdout",
          "text": [
            "+--------+-----+\n",
            "|   type1|count|\n",
            "+--------+-----+\n",
            "|  Flying|    9|\n",
            "|   Fairy|   29|\n",
            "|     Ice|   31|\n",
            "|   Ghost|   35|\n",
            "|   Steel|   36|\n",
            "|  Dragon|   37|\n",
            "|  Ground|   40|\n",
            "|Fighting|   40|\n",
            "|  Poison|   42|\n",
            "|    Dark|   45|\n",
            "|    Rock|   58|\n",
            "|Electric|   59|\n",
            "| Psychic|   60|\n",
            "|    Fire|   66|\n",
            "|     Bug|   83|\n",
            "|   Grass|  103|\n",
            "|  Normal|  118|\n",
            "|   Water|  134|\n",
            "+--------+-----+\n",
            "\n"
          ]
        }
      ]
    },
    {
      "cell_type": "code",
      "source": [
        "dfs.select('name','type1','species','hp','attack').filter((dfs['hp']>=69) & (dfs['attack']>55)).orderBy('name').show()"
      ],
      "metadata": {
        "colab": {
          "base_uri": "https://localhost:8080/"
        },
        "id": "XyGdI9cA6kxb",
        "outputId": "2c097782-6571-459b-a843-63f348471c24"
      },
      "execution_count": null,
      "outputs": [
        {
          "output_type": "stream",
          "name": "stdout",
          "text": [
            "+----------+--------+--------------------+---+------+\n",
            "|      name|   type1|             species| hp|attack|\n",
            "+----------+--------+--------------------+---+------+\n",
            "| Abomasnow|   Grass|  Frost Tree Pokémon| 90|    92|\n",
            "|  Accelgor|     Bug|   Shell Out Pokémon| 80|    70|\n",
            "|Aerodactyl|    Rock|      Fossil Pokémon| 80|   105|\n",
            "|    Aggron|   Steel|  Iron Armor Pokémon| 70|   110|\n",
            "| Alomomola|   Water|      Caring Pokémon|165|    75|\n",
            "|   Altaria|  Dragon|     Humming Pokémon| 75|    70|\n",
            "|    Amaura|    Rock|      Tundra Pokémon| 77|    59|\n",
            "|   Ambipom|  Normal|   Long Tail Pokémon| 75|   100|\n",
            "| Amoonguss|   Grass|    Mushroom Pokémon|114|    85|\n",
            "|  Ampharos|Electric|       Light Pokémon| 90|    75|\n",
            "|Annihilape|Fighting| Rage Monkey Pokémon|110|   115|\n",
            "|  Appletun|   Grass|Apple Nectar Pokémon|110|    85|\n",
            "|  Arboliva|   Grass|       Olive Pokémon| 78|    69|\n",
            "|  Arcanine|    Fire|   Legendary Pokémon| 90|   110|\n",
            "|    Arceus|  Normal|       Alpha Pokémon|120|   120|\n",
            "|Archaludon|   Steel|       Alloy Pokémon| 90|   105|\n",
            "|  Archeops|    Rock|  First Bird Pokémon| 75|   140|\n",
            "|  Arctibax|  Dragon|     Ice Fin Pokémon| 90|    95|\n",
            "| Arctovish|   Water|      Fossil Pokémon| 90|    90|\n",
            "| Arctozolt|Electric|      Fossil Pokémon| 90|   100|\n",
            "+----------+--------+--------------------+---+------+\n",
            "only showing top 20 rows\n",
            "\n"
          ]
        }
      ]
    },
    {
      "cell_type": "code",
      "source": [
        "dfs.groupBy(\"type1\").sum().show()"
      ],
      "metadata": {
        "id": "CMI9rgvq4kgy"
      },
      "execution_count": null,
      "outputs": []
    },
    {
      "cell_type": "code",
      "source": [
        "dfs.printSchema()"
      ],
      "metadata": {
        "colab": {
          "base_uri": "https://localhost:8080/"
        },
        "id": "KFmcIxX45IwV",
        "outputId": "00e5a7e6-212a-41d9-ef40-d2a861061dd9"
      },
      "execution_count": null,
      "outputs": [
        {
          "output_type": "stream",
          "name": "stdout",
          "text": [
            "root\n",
            " |-- dexnum: integer (nullable = true)\n",
            " |-- name: string (nullable = true)\n",
            " |-- generation: integer (nullable = true)\n",
            " |-- type1: string (nullable = true)\n",
            " |-- type2: string (nullable = true)\n",
            " |-- species: string (nullable = true)\n",
            " |-- height: double (nullable = true)\n",
            " |-- weight: double (nullable = true)\n",
            " |-- ability1: string (nullable = true)\n",
            " |-- ability2: string (nullable = true)\n",
            " |-- hidden_ability: string (nullable = true)\n",
            " |-- hp: integer (nullable = true)\n",
            " |-- attack: integer (nullable = true)\n",
            " |-- defense: integer (nullable = true)\n",
            " |-- sp_atk: integer (nullable = true)\n",
            " |-- sp_def: integer (nullable = true)\n",
            " |-- speed: integer (nullable = true)\n",
            " |-- total: integer (nullable = true)\n",
            " |-- ev_yield: string (nullable = true)\n",
            " |-- catch_rate: integer (nullable = true)\n",
            " |-- base_friendship: string (nullable = true)\n",
            " |-- base_exp: string (nullable = true)\n",
            " |-- growth_rate: string (nullable = true)\n",
            " |-- egg_group1: string (nullable = true)\n",
            " |-- egg_group2: string (nullable = true)\n",
            " |-- percent_male: double (nullable = true)\n",
            " |-- percent_female: double (nullable = true)\n",
            " |-- egg_cycles: string (nullable = true)\n",
            " |-- special_group: string (nullable = true)\n",
            "\n"
          ]
        }
      ]
    },
    {
      "cell_type": "code",
      "source": [
        "!touch hello.sh"
      ],
      "metadata": {
        "id": "80x0OlkUbbhi"
      },
      "execution_count": null,
      "outputs": []
    },
    {
      "cell_type": "code",
      "source": [
        "!bash hello.sh"
      ],
      "metadata": {
        "colab": {
          "base_uri": "https://localhost:8080/"
        },
        "id": "QzQb-EfXbj0J",
        "outputId": "e8d9b0d4-59c6-44ea-a222-4fc6470c7c8c"
      },
      "execution_count": null,
      "outputs": [
        {
          "output_type": "stream",
          "name": "stdout",
          "text": [
            "hello World\r\n",
            "this is my bash code\n"
          ]
        }
      ]
    },
    {
      "cell_type": "code",
      "source": [],
      "metadata": {
        "id": "EWk0BIsLcS_4"
      },
      "execution_count": null,
      "outputs": []
    }
  ]
}